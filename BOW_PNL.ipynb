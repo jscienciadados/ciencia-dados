{
  "nbformat": 4,
  "nbformat_minor": 0,
  "metadata": {
    "colab": {
      "name": "BOW-PNL.ipynb",
      "provenance": [],
      "authorship_tag": "ABX9TyNqb21SmRhVtPTwwldV27g4",
      "include_colab_link": true
    },
    "kernelspec": {
      "name": "python3",
      "display_name": "Python 3"
    },
    "language_info": {
      "name": "python"
    }
  },
  "cells": [
    {
      "cell_type": "markdown",
      "metadata": {
        "id": "view-in-github",
        "colab_type": "text"
      },
      "source": [
        "<a href=\"https://colab.research.google.com/github/jscienciadados/ciencia-dados/blob/main/BOW_PNL.ipynb\" target=\"_parent\"><img src=\"https://colab.research.google.com/assets/colab-badge.svg\" alt=\"Open In Colab\"/></a>"
      ]
    },
    {
      "cell_type": "markdown",
      "metadata": {
        "id": "b2vVYGSq9Pid"
      },
      "source": [
        "#<font color=\"SlateBlue\">Processamento de Linguagem Natural</font>"
      ]
    },
    {
      "cell_type": "markdown",
      "metadata": {
        "id": "THl7vWSN9oWO"
      },
      "source": [
        "# Modelo de Classificação de Idiomas de Sentenças com Bag of Words e Pytorch"
      ]
    },
    {
      "cell_type": "code",
      "metadata": {
        "id": "Fx5tsL7O9NLL"
      },
      "source": [
        "# Imports\n",
        "import numpy as np\n",
        "import pandas as pd\n",
        "import matplotlib.pyplot as plt\n",
        "import torch\n",
        "import torch.nn.functional as F\n",
        "from torch import nn, optim\n"
      ],
      "execution_count": 1,
      "outputs": []
    },
    {
      "cell_type": "markdown",
      "metadata": {
        "id": "bZxWJE-M-asc"
      },
      "source": [
        "# Preparando os Dados"
      ]
    },
    {
      "cell_type": "code",
      "metadata": {
        "id": "eR2subDf-VBo"
      },
      "source": [
        "# Dados de treino\n",
        "dados_treino = [(\"Tenho vinte paginas de leitura\".lower().split(), \"Portuguese\"),\n",
        "                (\"I will visit the library\".lower().split(), \"English\"),\n",
        "                (\"I am reading a book\".lower().split(), \"English\"),\n",
        "                (\"This is my favourite chapter\".lower().split(), \"English\"),\n",
        "                (\"Estou na biblioteca lendo meu livro preferido\".lower().split(), \"Portuguese\"),\n",
        "                (\"Gosto de livros sobre viagens\".lower().split(), \"Portuguese\")]\n"
      ],
      "execution_count": 2,
      "outputs": []
    },
    {
      "cell_type": "code",
      "metadata": {
        "colab": {
          "base_uri": "https://localhost:8080/"
        },
        "id": "iu61opll-rt1",
        "outputId": "fb9775f5-0de9-4ea7-ac11-471ee4dc53bf"
      },
      "source": [
        "dados_treino"
      ],
      "execution_count": 3,
      "outputs": [
        {
          "output_type": "execute_result",
          "data": {
            "text/plain": [
              "[(['tenho', 'vinte', 'paginas', 'de', 'leitura'], 'Portuguese'),\n",
              " (['i', 'will', 'visit', 'the', 'library'], 'English'),\n",
              " (['i', 'am', 'reading', 'a', 'book'], 'English'),\n",
              " (['this', 'is', 'my', 'favourite', 'chapter'], 'English'),\n",
              " (['estou', 'na', 'biblioteca', 'lendo', 'meu', 'livro', 'preferido'],\n",
              "  'Portuguese'),\n",
              " (['gosto', 'de', 'livros', 'sobre', 'viagens'], 'Portuguese')]"
            ]
          },
          "metadata": {
            "tags": []
          },
          "execution_count": 3
        }
      ]
    },
    {
      "cell_type": "code",
      "metadata": {
        "id": "K62MdJku-vAw"
      },
      "source": [
        "# Dados de teste\n",
        "dados_teste = [(\"Estou lendo\".lower().split(), \"Portuguese\"),\n",
        "               (\"This is not my favourite book\".lower().split(), \"English\")]\n"
      ],
      "execution_count": 4,
      "outputs": []
    },
    {
      "cell_type": "code",
      "metadata": {
        "id": "H0Ax-yyt--Ny"
      },
      "source": [
        "# Prepara o dicionário do vocabulário\n",
        "\n",
        "# Dicionário para o vocabulário\n",
        "dict_vocab = {}\n",
        "\n",
        "# Contadoor\n",
        "i = 0\n",
        "\n",
        "# Loop pelos dados de treino e teste\n",
        "for palavras, idiomas in dados_treino + dados_teste:\n",
        "    for palavra in palavras:\n",
        "        if palavra not in dict_vocab:\n",
        "            dict_vocab[palavra] = i\n",
        "            i += 1\n"
      ],
      "execution_count": 5,
      "outputs": []
    },
    {
      "cell_type": "code",
      "metadata": {
        "colab": {
          "base_uri": "https://localhost:8080/"
        },
        "id": "iHekUzl7_MS9",
        "outputId": "39bf0b3c-5500-4e3e-dbca-08088b825104"
      },
      "source": [
        "# Visualiza p vocabulario\n",
        "print(dict_vocab)"
      ],
      "execution_count": 6,
      "outputs": [
        {
          "output_type": "stream",
          "text": [
            "{'tenho': 0, 'vinte': 1, 'paginas': 2, 'de': 3, 'leitura': 4, 'i': 5, 'will': 6, 'visit': 7, 'the': 8, 'library': 9, 'am': 10, 'reading': 11, 'a': 12, 'book': 13, 'this': 14, 'is': 15, 'my': 16, 'favourite': 17, 'chapter': 18, 'estou': 19, 'na': 20, 'biblioteca': 21, 'lendo': 22, 'meu': 23, 'livro': 24, 'preferido': 25, 'gosto': 26, 'livros': 27, 'sobre': 28, 'viagens': 29, 'not': 30}\n"
          ],
          "name": "stdout"
        }
      ]
    },
    {
      "cell_type": "code",
      "metadata": {
        "id": "0Z-GJcZH_V17"
      },
      "source": [
        "# Tamanho do corpus\n",
        "tamanho_corpus = len(dict_vocab)"
      ],
      "execution_count": 7,
      "outputs": []
    },
    {
      "cell_type": "code",
      "metadata": {
        "colab": {
          "base_uri": "https://localhost:8080/"
        },
        "id": "Qr31tZu5_ibL",
        "outputId": "ffa7d169-792a-4526-ff0d-766930c368db"
      },
      "source": [
        "tamanho_corpus"
      ],
      "execution_count": 8,
      "outputs": [
        {
          "output_type": "execute_result",
          "data": {
            "text/plain": [
              "31"
            ]
          },
          "metadata": {
            "tags": []
          },
          "execution_count": 8
        }
      ]
    },
    {
      "cell_type": "code",
      "metadata": {
        "id": "vJ6-KAoZ_j2o"
      },
      "source": [
        "# numero de idioma\n",
        "idiomas = 2\n",
        "# indice para os idiomas\n",
        "label_index = {\"Portuguese\": 0, \"English\": 1}"
      ],
      "execution_count": 18,
      "outputs": []
    },
    {
      "cell_type": "markdown",
      "metadata": {
        "id": "1aeI8q1t__ZN"
      },
      "source": [
        "#<font color=\"Goldenrod\">Construção do Modelo</font>"
      ]
    },
    {
      "cell_type": "code",
      "metadata": {
        "id": "1O_7WLqz_9Jq"
      },
      "source": [
        "# Classe para o modelo BOW de classificação\n",
        "class ModeloBOW(nn.Module):  \n",
        "\n",
        "    # Método construtor\n",
        "    def __init__(self, lista_idiomas, tamanho_do_corpus):\n",
        "        super(ModeloBOW, self).__init__()\n",
        "        self.linear = nn.Linear(tamanho_do_corpus, lista_idiomas)\n",
        "\n",
        "    # Feed Forward\n",
        "    def forward(self, bow_vec):\n",
        "        return F.log_softmax(self.linear(bow_vec), dim = 1)\n"
      ],
      "execution_count": 11,
      "outputs": []
    },
    {
      "cell_type": "code",
      "metadata": {
        "id": "fJ30hkuIAfA6"
      },
      "source": [
        "# Função para criar o vetor BOW necessário para o treinamento\n",
        "def cria_bow_vetor(sentence, word_index):\n",
        "    word_vec = torch.zeros(tamanho_corpus)\n",
        "    for word in sentence:\n",
        "        word_vec[dict_vocab[word]] += 1\n",
        "    return word_vec.view(1, -1)\n"
      ],
      "execution_count": 12,
      "outputs": []
    },
    {
      "cell_type": "code",
      "metadata": {
        "id": "sMzBtmsIAsAw"
      },
      "source": [
        "# Função para criar a variável target\n",
        "def cria_target(label, label_index):\n",
        "    return torch.LongTensor([label_index[label]])\n"
      ],
      "execution_count": 13,
      "outputs": []
    },
    {
      "cell_type": "code",
      "metadata": {
        "id": "_TY_eP8OA3nn"
      },
      "source": [
        "# Cria o modelo\n",
        "modelo = ModeloBOW(idiomas, tamanho_corpus)\n"
      ],
      "execution_count": 14,
      "outputs": []
    },
    {
      "cell_type": "code",
      "metadata": {
        "id": "ZkMibjknBD4O"
      },
      "source": [
        "# Função de perda (loss)\n",
        "loss_function = nn.NLLLoss()"
      ],
      "execution_count": 15,
      "outputs": []
    },
    {
      "cell_type": "code",
      "metadata": {
        "id": "ZKvSLX6HBT44"
      },
      "source": [
        "# Otimizador\n",
        "optimizer = optim.SGD(modelo.parameters(), lr = 0.1)\n"
      ],
      "execution_count": 16,
      "outputs": []
    },
    {
      "cell_type": "markdown",
      "metadata": {
        "id": "HYFgnzPQBhgT"
      },
      "source": [
        "#<font color=\"Crimson\">Treinamento do Modelo</font>"
      ]
    },
    {
      "cell_type": "code",
      "metadata": {
        "colab": {
          "base_uri": "https://localhost:8080/"
        },
        "id": "8G7udnAuBXrc",
        "outputId": "f38c4f36-be70-4f11-80ed-5fa47b220767"
      },
      "source": [
        "# Loop de treinamentoo\n",
        "for epoch in range(100):\n",
        "   \n",
        "    for sentence, label in dados_treino:\n",
        "\n",
        "        modelo.zero_grad()\n",
        "\n",
        "        bow_vec = cria_bow_vetor(sentence, dict_vocab)\n",
        "        target = cria_target(label, label_index)\n",
        "\n",
        "        log_probs = modelo(bow_vec)\n",
        "\n",
        "        loss = loss_function(log_probs, target)\n",
        "        loss.backward()\n",
        "        optimizer.step()\n",
        "       \n",
        "    if epoch % 10 == 0:\n",
        "        print('Epoch: ', str(epoch+1),', Loss: ' + str(loss.item()))\n"
      ],
      "execution_count": 19,
      "outputs": [
        {
          "output_type": "stream",
          "text": [
            "Epoch:  1 , Loss: 0.5234674215316772\n",
            "Epoch:  11 , Loss: 0.07969143986701965\n",
            "Epoch:  21 , Loss: 0.04177490994334221\n",
            "Epoch:  31 , Loss: 0.02820836752653122\n",
            "Epoch:  41 , Loss: 0.02127061039209366\n",
            "Epoch:  51 , Loss: 0.017064061015844345\n",
            "Epoch:  61 , Loss: 0.014243250712752342\n",
            "Epoch:  71 , Loss: 0.012220979668200016\n",
            "Epoch:  81 , Loss: 0.010700704529881477\n",
            "Epoch:  91 , Loss: 0.009516234509646893\n"
          ],
          "name": "stdout"
        }
      ]
    },
    {
      "cell_type": "markdown",
      "metadata": {
        "id": "ktUVj8PmCFMl"
      },
      "source": [
        "#<font color=\"OrangeRed\">Previsões e Avaliação do Modelo</font>"
      ]
    },
    {
      "cell_type": "code",
      "metadata": {
        "id": "5VuyTFBfB0Iw"
      },
      "source": [
        "# Função para previsões\n",
        "def faz_previsao(data):\n",
        "\n",
        "    with torch.no_grad():\n",
        "        sentence = data[0]\n",
        "        label = data[1]\n",
        "        bow_vec = cria_bow_vetor(sentence, dict_vocab)\n",
        "        log_probs = modelo(bow_vec)\n",
        "        print(sentence)\n",
        "        print('Probabilidade de ser o label: ' + label, 'é igual a: ',  np.exp(log_probs))\n"
      ],
      "execution_count": 20,
      "outputs": []
    },
    {
      "cell_type": "code",
      "metadata": {
        "colab": {
          "base_uri": "https://localhost:8080/"
        },
        "id": "gkimagjsChid",
        "outputId": "50ba2a47-1276-4944-d256-c09eebb7c87d"
      },
      "source": [
        "# Previsão com a primeira sentença\n",
        "faz_previsao(dados_teste[0])"
      ],
      "execution_count": 21,
      "outputs": [
        {
          "output_type": "stream",
          "text": [
            "['estou', 'lendo']\n",
            "Probabilidade de ser o label: Portuguese é igual a:  tensor([[0.7946, 0.2054]])\n"
          ],
          "name": "stdout"
        }
      ]
    },
    {
      "cell_type": "code",
      "metadata": {
        "colab": {
          "base_uri": "https://localhost:8080/"
        },
        "id": "sKBS47omCuQw",
        "outputId": "9a631def-cfd0-4748-e4a6-2bcc932f0cf1"
      },
      "source": [
        "dados_teste[0]"
      ],
      "execution_count": 22,
      "outputs": [
        {
          "output_type": "execute_result",
          "data": {
            "text/plain": [
              "(['estou', 'lendo'], 'Portuguese')"
            ]
          },
          "metadata": {
            "tags": []
          },
          "execution_count": 22
        }
      ]
    },
    {
      "cell_type": "code",
      "metadata": {
        "colab": {
          "base_uri": "https://localhost:8080/"
        },
        "id": "MXTyj_8oC1Io",
        "outputId": "76885e3e-c247-412a-bbaf-6aa2c1a0131f"
      },
      "source": [
        "# previsaão com a segunda setença\n",
        "faz_previsao(dados_teste[1])"
      ],
      "execution_count": 23,
      "outputs": [
        {
          "output_type": "stream",
          "text": [
            "['this', 'is', 'not', 'my', 'favourite', 'book']\n",
            "Probabilidade de ser o label: English é igual a:  tensor([[0.0103, 0.9897]])\n"
          ],
          "name": "stdout"
        }
      ]
    },
    {
      "cell_type": "markdown",
      "metadata": {
        "id": "1ilfvPruDEli"
      },
      "source": [
        "#<font color=\"Brown\">Previsões com Novas Frases</font>"
      ]
    },
    {
      "cell_type": "code",
      "metadata": {
        "id": "3MKfCXxXC_pQ"
      },
      "source": [
        "# Nova frase\n",
        "novas_frases = [(\"Tenho livros sobre viagens\".lower().split(), \"Portuguese\"),\n",
        "                (\"Estou escrevendo\".lower().split(), \"Portuguese\"),\n",
        "                (\"Gosto de biblioteca\".lower().split(), \"Portuguese\"),\n",
        "                (\"The Bible  book that inspires man the most\".lower().split(), \"English\")]\n"
      ],
      "execution_count": 32,
      "outputs": []
    },
    {
      "cell_type": "code",
      "metadata": {
        "colab": {
          "base_uri": "https://localhost:8080/"
        },
        "id": "IRNrvAi-DhRJ",
        "outputId": "76136a2d-ed28-4be6-f5dd-de948c565f38"
      },
      "source": [
        "novas_frases"
      ],
      "execution_count": 33,
      "outputs": [
        {
          "output_type": "execute_result",
          "data": {
            "text/plain": [
              "[(['tenho', 'livros', 'sobre', 'viagens'], 'Portuguese'),\n",
              " (['estou', 'escrevendo'], 'Portuguese'),\n",
              " (['gosto', 'de', 'biblioteca'], 'Portuguese'),\n",
              " (['the', 'bible', 'book', 'that', 'inspires', 'man', 'the', 'most'],\n",
              "  'English')]"
            ]
          },
          "metadata": {
            "tags": []
          },
          "execution_count": 33
        }
      ]
    },
    {
      "cell_type": "code",
      "metadata": {
        "colab": {
          "base_uri": "https://localhost:8080/"
        },
        "id": "XC70gjOIDjM8",
        "outputId": "e6c43a26-76c8-4654-86d7-30fb178dac18"
      },
      "source": [
        "faz_previsao(novas_frases[0])"
      ],
      "execution_count": 28,
      "outputs": [
        {
          "output_type": "stream",
          "text": [
            "['tenho', 'livros', 'sobre', 'viagens']\n",
            "Probabilidade de ser o label: Portuguese é igual a:  tensor([[0.9516, 0.0484]])\n"
          ],
          "name": "stdout"
        }
      ]
    },
    {
      "cell_type": "code",
      "metadata": {
        "colab": {
          "base_uri": "https://localhost:8080/"
        },
        "id": "NVcf8ev5EZGo",
        "outputId": "076efcbc-c03a-4f10-e906-0633a6a0138d"
      },
      "source": [
        "faz_previsao(novas_frases[2])\n"
      ],
      "execution_count": 31,
      "outputs": [
        {
          "output_type": "stream",
          "text": [
            "['gosto', 'de', 'biblioteca']\n",
            "Probabilidade de ser o label: Portuguese é igual a:  tensor([[0.9690, 0.0310]])\n"
          ],
          "name": "stdout"
        }
      ]
    },
    {
      "cell_type": "code",
      "metadata": {
        "id": "MIq_FlHvE--I"
      },
      "source": [
        ""
      ],
      "execution_count": null,
      "outputs": []
    }
  ]
}