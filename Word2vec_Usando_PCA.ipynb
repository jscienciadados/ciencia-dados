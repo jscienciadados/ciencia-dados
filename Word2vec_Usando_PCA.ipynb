{
  "nbformat": 4,
  "nbformat_minor": 0,
  "metadata": {
    "colab": {
      "name": "Word2vec - Usando PCA.ipynb",
      "provenance": [],
      "collapsed_sections": [],
      "authorship_tag": "ABX9TyP7nVs7m6CRi1L2BJgoLDet",
      "include_colab_link": true
    },
    "kernelspec": {
      "name": "python3",
      "display_name": "Python 3"
    },
    "language_info": {
      "name": "python"
    },
    "accelerator": "GPU"
  },
  "cells": [
    {
      "cell_type": "markdown",
      "metadata": {
        "id": "view-in-github",
        "colab_type": "text"
      },
      "source": [
        "<a href=\"https://colab.research.google.com/github/jscienciadados/ciencia-dados/blob/main/Word2vec_Usando_PCA.ipynb\" target=\"_parent\"><img src=\"https://colab.research.google.com/assets/colab-badge.svg\" alt=\"Open In Colab\"/></a>"
      ]
    },
    {
      "cell_type": "markdown",
      "metadata": {
        "id": "-6G66kmd6JMR"
      },
      "source": [
        "# <font color=\"DarkSlateBlue\">Machine Learning</font># \n",
        "\n",
        "#<font color=\"DarkSlateGray\">Processamento de Linguagem Natural</font>\n"
      ]
    },
    {
      "cell_type": "markdown",
      "metadata": {
        "id": "5qIWu2laBk9S"
      },
      "source": [
        "O Word2vec é uma rede neural de duas camadas que processa o texto “vetorizando” as\n",
        "palavras. Sua entrada é um corpus de texto e sua saída é um conjunto de vetores; vetores de\n",
        "recursos que representam palavras nesse corpus. Embora o Word2vec não seja uma rede\n",
        "neural profunda, ele transforma o texto em uma forma numérica que as redes neurais\n",
        "profundas podem entender.\n",
        "O Word2vec é um método de calcular representações vetoriais de palavras e foi\n",
        "desenvolvido por uma equipe de pesquisadores do Google liderada por Tomas Mikolov. O\n",
        "Google hospeda uma versão de código aberto do Word2vec lançada sob uma licença Apache\n",
        "2.0. Em 2014, Mikolov deixou o Google para o Facebook e, em maio de 2015, foi concedida ao\n",
        "Google uma patente para o método, que não revoga a licença do Apache sob a qual foi lançado.\n",
        "Aqui o paper original:\n",
        "https://arxiv.org/pdf/1301.3781.pdf\n"
      ]
    },
    {
      "cell_type": "markdown",
      "metadata": {
        "id": "2Ozt3sJMCBbJ"
      },
      "source": [
        "#<font color=\"Chocolate\">Estudo de Caso</font>\n",
        "\n",
        "#<font color=\"DarkMagenta\">Similaridade de Cosseno</font>\n",
        "Entre diferentes métricas de distância, a similaridade de cosseno é mais intuitiva e mais\n",
        "usada no Word2vec. É um produto normalizado de 2 vetores e essa relação define o ângulo\n",
        "entre eles. Dois vetores com a mesma orientação têm uma similaridade de cosseno de 1, dois\n",
        "vetores a 90 ° têm uma similaridade de 0 e dois vetores diametralmente opostos têm uma\n",
        "similaridade de -1, independentemente de sua magnitude.\n",
        "Uma vez que as palavras são representadas por vetores, a tarefa de encontrar palavras\n",
        "semelhantes ou diferentes torna-se mais fácil. Quaisquer combinações de vetores resultam em\n",
        "um novo vetor e as distâncias do cosseno ou outras medidas de similaridade podem ser usadas.\n",
        "É assim que resolvemos a famosa equação que define o Word2vec:\n",
        "'rei - homem + mulher = rainha'\n",
        "Com um modelo Word2vec, conseguimos associar palavras com base no seu contexto,\n",
        "usando nossa boa e velha Matemática.\n"
      ]
    },
    {
      "cell_type": "code",
      "metadata": {
        "colab": {
          "base_uri": "https://localhost:8080/"
        },
        "id": "lvDIh4kj5-S6",
        "outputId": "af8ef658-8720-4b80-ca60-c696507bc053"
      },
      "source": [
        "# Versão da Linguagem Python\n",
        "from platform import python_version\n",
        "print('Versão da Linguagem Python Usada Neste Jupyter Notebook:', python_version())\n"
      ],
      "execution_count": 1,
      "outputs": [
        {
          "output_type": "stream",
          "text": [
            "Versão da Linguagem Python Usada Neste Jupyter Notebook: 3.7.10\n"
          ],
          "name": "stdout"
        }
      ]
    },
    {
      "cell_type": "code",
      "metadata": {
        "id": "lo2pv8z0ClsC"
      },
      "source": [
        "!pip install -q -U watermark"
      ],
      "execution_count": 2,
      "outputs": []
    },
    {
      "cell_type": "code",
      "metadata": {
        "colab": {
          "base_uri": "https://localhost:8080/"
        },
        "id": "NYnpR4VTAPmL",
        "outputId": "cf673075-a515-4a2e-cc21-8e6f40e30be7"
      },
      "source": [
        "!pip install scikit-plot"
      ],
      "execution_count": 3,
      "outputs": [
        {
          "output_type": "stream",
          "text": [
            "Collecting scikit-plot\n",
            "  Downloading https://files.pythonhosted.org/packages/7c/47/32520e259340c140a4ad27c1b97050dd3254fdc517b1d59974d47037510e/scikit_plot-0.3.7-py3-none-any.whl\n",
            "Requirement already satisfied: joblib>=0.10 in /usr/local/lib/python3.7/dist-packages (from scikit-plot) (1.0.1)\n",
            "Requirement already satisfied: matplotlib>=1.4.0 in /usr/local/lib/python3.7/dist-packages (from scikit-plot) (3.2.2)\n",
            "Requirement already satisfied: scipy>=0.9 in /usr/local/lib/python3.7/dist-packages (from scikit-plot) (1.4.1)\n",
            "Requirement already satisfied: scikit-learn>=0.18 in /usr/local/lib/python3.7/dist-packages (from scikit-plot) (0.22.2.post1)\n",
            "Requirement already satisfied: numpy>=1.11 in /usr/local/lib/python3.7/dist-packages (from matplotlib>=1.4.0->scikit-plot) (1.19.5)\n",
            "Requirement already satisfied: kiwisolver>=1.0.1 in /usr/local/lib/python3.7/dist-packages (from matplotlib>=1.4.0->scikit-plot) (1.3.1)\n",
            "Requirement already satisfied: pyparsing!=2.0.4,!=2.1.2,!=2.1.6,>=2.0.1 in /usr/local/lib/python3.7/dist-packages (from matplotlib>=1.4.0->scikit-plot) (2.4.7)\n",
            "Requirement already satisfied: python-dateutil>=2.1 in /usr/local/lib/python3.7/dist-packages (from matplotlib>=1.4.0->scikit-plot) (2.8.1)\n",
            "Requirement already satisfied: cycler>=0.10 in /usr/local/lib/python3.7/dist-packages (from matplotlib>=1.4.0->scikit-plot) (0.10.0)\n",
            "Requirement already satisfied: six>=1.5 in /usr/local/lib/python3.7/dist-packages (from python-dateutil>=2.1->matplotlib>=1.4.0->scikit-plot) (1.15.0)\n",
            "Installing collected packages: scikit-plot\n",
            "Successfully installed scikit-plot-0.3.7\n"
          ],
          "name": "stdout"
        }
      ]
    },
    {
      "cell_type": "code",
      "metadata": {
        "id": "xiKuR7KR7Q6z"
      },
      "source": [
        "# Imports\n",
        "import torch\n",
        "import scipy\n",
        "import sklearn\n",
        "import scikitplot\n",
        "import numpy as np\n",
        "import torch.nn.functional as F\n",
        "from torch.optim import SGD\n",
        "from torch.autograd import Variable, profiler\n",
        "from sklearn.decomposition import PCA\n",
        "from scipy.spatial.distance import cosine\n",
        "from scikitplot.decomposition import plot_pca_2d_projection\n",
        "%matplotlib inline\n"
      ],
      "execution_count": 4,
      "outputs": []
    },
    {
      "cell_type": "code",
      "metadata": {
        "colab": {
          "base_uri": "https://localhost:8080/"
        },
        "id": "qLXQPA_9ALZL",
        "outputId": "e5737907-8881-462b-a069-028ebeb20255"
      },
      "source": [
        "# Versões dos pacotes usados neste jupyter notebook\n",
        "%reload_ext watermark\n",
        "%watermark -a \"Word2vec - PCA\" --iversions\n"
      ],
      "execution_count": 5,
      "outputs": [
        {
          "output_type": "stream",
          "text": [
            "Author: Word2vec - PCA\n",
            "\n",
            "IPython   : 5.5.0\n",
            "torch     : 1.8.1+cu101\n",
            "scikitplot: 0.3.7\n",
            "scipy     : 1.4.1\n",
            "numpy     : 1.19.5\n",
            "sklearn   : 0.0\n",
            "\n"
          ],
          "name": "stdout"
        }
      ]
    },
    {
      "cell_type": "markdown",
      "metadata": {
        "id": "6vDn-TIBDA6M"
      },
      "source": [
        "# Preparação dos Dados"
      ]
    },
    {
      "cell_type": "code",
      "metadata": {
        "id": "lb6pwfryC9ak"
      },
      "source": [
        "# Corpus\n",
        "corpus = ['ele é um rei',\n",
        "          'ela é uma rainha',\n",
        "          'ele é um homem',\n",
        "          'ela é uma mulher',\n",
        "          'Madrid é a capital da Espanha',\n",
        "          'Berlim é a capital da Alemanha',\n",
        "          'Lisboa é a capital de Portugal']\n"
      ],
      "execution_count": 6,
      "outputs": []
    },
    {
      "cell_type": "code",
      "metadata": {
        "id": "EoLxZWTdDmTt"
      },
      "source": [
        "# Construindo o vocabulário com tokenização\n",
        "palavras = []\n",
        "for sentence in corpus:\n",
        "    for palavra in sentence.split():\n",
        "         if palavra not in palavras:\n",
        "            palavras.append(palavra)\n"
      ],
      "execution_count": 7,
      "outputs": []
    },
    {
      "cell_type": "code",
      "metadata": {
        "colab": {
          "base_uri": "https://localhost:8080/"
        },
        "id": "BiSmOw-wDznX",
        "outputId": "1556ad5a-99d4-45e9-f1f3-d459071659b0"
      },
      "source": [
        "# visualiza\n",
        "palavras"
      ],
      "execution_count": 8,
      "outputs": [
        {
          "output_type": "execute_result",
          "data": {
            "text/plain": [
              "['ele',\n",
              " 'é',\n",
              " 'um',\n",
              " 'rei',\n",
              " 'ela',\n",
              " 'uma',\n",
              " 'rainha',\n",
              " 'homem',\n",
              " 'mulher',\n",
              " 'Madrid',\n",
              " 'a',\n",
              " 'capital',\n",
              " 'da',\n",
              " 'Espanha',\n",
              " 'Berlim',\n",
              " 'Alemanha',\n",
              " 'Lisboa',\n",
              " 'de',\n",
              " 'Portugal']"
            ]
          },
          "metadata": {
            "tags": []
          },
          "execution_count": 8
        }
      ]
    },
    {
      "cell_type": "code",
      "metadata": {
        "colab": {
          "base_uri": "https://localhost:8080/"
        },
        "id": "zYJqoO6bD58g",
        "outputId": "25fb9b63-7e9e-4a2e-c020-f0de1f686d2a"
      },
      "source": [
        "# Criamos o mapeamento palavra - índice  \n",
        "word2idx = {w:idx for (idx, w) in enumerate(palavras)}\n",
        "word2idx"
      ],
      "execution_count": 9,
      "outputs": [
        {
          "output_type": "execute_result",
          "data": {
            "text/plain": [
              "{'Alemanha': 15,\n",
              " 'Berlim': 14,\n",
              " 'Espanha': 13,\n",
              " 'Lisboa': 16,\n",
              " 'Madrid': 9,\n",
              " 'Portugal': 18,\n",
              " 'a': 10,\n",
              " 'capital': 11,\n",
              " 'da': 12,\n",
              " 'de': 17,\n",
              " 'ela': 4,\n",
              " 'ele': 0,\n",
              " 'homem': 7,\n",
              " 'mulher': 8,\n",
              " 'rainha': 6,\n",
              " 'rei': 3,\n",
              " 'um': 2,\n",
              " 'uma': 5,\n",
              " 'é': 1}"
            ]
          },
          "metadata": {
            "tags": []
          },
          "execution_count": 9
        }
      ]
    },
    {
      "cell_type": "code",
      "metadata": {
        "colab": {
          "base_uri": "https://localhost:8080/"
        },
        "id": "qSrwVmUUETEO",
        "outputId": "c1b0816f-3309-4b8b-c6b0-14017bed742b"
      },
      "source": [
        "# Criamos o mapeamento inverso índice - palavra\n",
        "idx2word = {idx:w for (idx, w) in enumerate(palavras)}\n",
        "idx2word"
      ],
      "execution_count": 10,
      "outputs": [
        {
          "output_type": "execute_result",
          "data": {
            "text/plain": [
              "{0: 'ele',\n",
              " 1: 'é',\n",
              " 2: 'um',\n",
              " 3: 'rei',\n",
              " 4: 'ela',\n",
              " 5: 'uma',\n",
              " 6: 'rainha',\n",
              " 7: 'homem',\n",
              " 8: 'mulher',\n",
              " 9: 'Madrid',\n",
              " 10: 'a',\n",
              " 11: 'capital',\n",
              " 12: 'da',\n",
              " 13: 'Espanha',\n",
              " 14: 'Berlim',\n",
              " 15: 'Alemanha',\n",
              " 16: 'Lisboa',\n",
              " 17: 'de',\n",
              " 18: 'Portugal'}"
            ]
          },
          "metadata": {
            "tags": []
          },
          "execution_count": 10
        }
      ]
    },
    {
      "cell_type": "code",
      "metadata": {
        "colab": {
          "base_uri": "https://localhost:8080/"
        },
        "id": "xMlGkuzXElsf",
        "outputId": "be27bc78-d22f-4c80-c903-5c54d993f759"
      },
      "source": [
        "# Tamanho do vocabulario\n",
        "tamanho_vocab = len(word2idx)\n",
        "tamanho_vocab"
      ],
      "execution_count": 11,
      "outputs": [
        {
          "output_type": "execute_result",
          "data": {
            "text/plain": [
              "19"
            ]
          },
          "metadata": {
            "tags": []
          },
          "execution_count": 11
        }
      ]
    },
    {
      "cell_type": "markdown",
      "metadata": {
        "id": "f99d70O3E0ws"
      },
      "source": [
        "#<font color=\"DarkOrange\">Construção do Modelo</font>"
      ]
    },
    {
      "cell_type": "code",
      "metadata": {
        "id": "mKkm8NPCEysH"
      },
      "source": [
        "# Função para gerar os embeddings\n",
        "def get_word_embedding(word):\n",
        "    word_vec_one_hot = np.zeros(tamanho_vocab)\n",
        "    word_vec_one_hot[word2idx[word]] = 1\n",
        "    return word_vec_one_hot"
      ],
      "execution_count": 12,
      "outputs": []
    },
    {
      "cell_type": "code",
      "metadata": {
        "id": "l9ESxOg9FPI7"
      },
      "source": [
        "# Função para gerar os vetores, da palavra central e do contexto\n",
        "def gera_vetores():\n",
        "    for sentence in corpus:\n",
        "        words = sentence.split()\n",
        "        indices = [word2idx[w] for w in words]\n",
        "       \n",
        "        # Loop pelo range de índices\n",
        "        # Aqui geramos o vetor da palavra central em i\n",
        "        # E geramos o vetor de contexto\n",
        "        for i in range(len(indices)):\n",
        "            for w in range(-window_size, window_size + 1):\n",
        "                context_idx = i + w\n",
        "                if context_idx < 0 or context_idx >= len(indices) or i == context_idx:\n",
        "                    continue\n",
        "                   \n",
        "                # Gera os vetores    \n",
        "                center_vec_one_hot = np.zeros(tamanho_vocab)\n",
        "                center_vec_one_hot[indices[i]] = 1\n",
        "                context_idx = indices[context_idx]\n",
        "                               \n",
        "                yield center_vec_one_hot, context_idx\n"
      ],
      "execution_count": 13,
      "outputs": []
    },
    {
      "cell_type": "code",
      "metadata": {
        "id": "huR4mWnAFekA"
      },
      "source": [
        "# Hiperparametros\n",
        "embedding_dims = 10\n",
        "window_size = 2"
      ],
      "execution_count": 14,
      "outputs": []
    },
    {
      "cell_type": "markdown",
      "metadata": {
        "id": "mo9f_kgtF5Oq"
      },
      "source": [
        "#Definição dos pesos da rede neural.\n",
        "\n",
        "W1 é uma matriz de pesos de dimensões embedding_dims x tamanho_vocab\n",
        "W2 é uma matriz de pesos de dimensões tamanho_vocab x embedding_dims\n",
        "Os pesos (ou coeficientes ou parâmetros) é aquilo que a rede aprende durante o treinamento. Como no início não sabemos qual o valor ideal de pesos (isso é o que queremos descobrir) iniciamos com valores randômicos usando torch.randn().\n",
        "\n",
        "Ao final do aprendizado, o modelo em si nada mais é do que os valores ideais de W1 e W2."
      ]
    },
    {
      "cell_type": "code",
      "metadata": {
        "id": "1d9SQeJeFsK_"
      },
      "source": [
        "# Definição dos pesos da rede neural\n",
        "W1 = Variable(torch.randn(embedding_dims, tamanho_vocab).float(), requires_grad = True)\n",
        "W2 = Variable(torch.randn(tamanho_vocab, embedding_dims).float(), requires_grad = True)"
      ],
      "execution_count": 15,
      "outputs": []
    },
    {
      "cell_type": "code",
      "metadata": {
        "colab": {
          "base_uri": "https://localhost:8080/"
        },
        "id": "F6D_bdrjGV5w",
        "outputId": "95685522-882e-4265-86b6-d534b033721d"
      },
      "source": [
        "# Treinamento\n",
        "print(\"\\nIniciando o Treinamento...\\n\")\n",
        "for epoch in range(1001):\n",
        "   \n",
        "    # Inicializa o erro médio da rede\n",
        "    avg_loss = 0\n",
        "   \n",
        "    # Inicializa o controle do número de amostras\n",
        "    samples = 0\n",
        "   \n",
        "    # Loop pelos dados (vetores de entrada)\n",
        "    for data, target in gera_vetores():\n",
        "       \n",
        "        # Coleta x (vetor da palavra central)\n",
        "        x = Variable(torch.from_numpy(data)).float()\n",
        "       \n",
        "        # Coleta y (vetor do contexto)\n",
        "        y_true = Variable(torch.from_numpy(np.array([target])).long())\n",
        "       \n",
        "        # Atualiza o número de amostras\n",
        "        samples += len(y_true)\n",
        "       \n",
        "        # Resultado da multiplicação entre os pesos e as primeiras camadas da rede\n",
        "        a1 = torch.matmul(W1, x)\n",
        "        a2 = torch.matmul(W2, a1)\n",
        "\n",
        "        # A função softmax entrega a probabilidade da previsão da rede\n",
        "        log_softmax = F.log_softmax(a2, dim = 0)\n",
        "\n",
        "        # Previsão da rede\n",
        "        network_pred_dist = F.softmax(log_softmax, dim = 0)\n",
        "       \n",
        "        # Calcula o erro, comparando a previsão da rede com o valor real\n",
        "        # (como fazemos em qualquer modelo de aprendizagem supervisionada)\n",
        "        loss = F.nll_loss(log_softmax.view(1,-1), y_true)\n",
        "       \n",
        "        # Erro médio\n",
        "        avg_loss += loss.item()\n",
        "       \n",
        "        # Inicia o backpropagation\n",
        "        loss.backward()\n",
        "\n",
        "        # Atualiza o valor dos pesos para a próxima passada\n",
        "        W1.data -= 0.002 * W1.grad.data\n",
        "        W2.data -= 0.002 * W2.grad.data\n",
        "\n",
        "        # Zera o valor do gradiente depois de atualizar os pesos\n",
        "        W1.grad.data.zero_()\n",
        "        W2.grad.data.zero_()\n",
        "       \n",
        "    # Imprime o erro da rede\n",
        "    if epoch % 10 == 0:\n",
        "        print('Erro de Treinamento:', avg_loss / samples)\n",
        "\n",
        "print(\"\\nTreinamento Concluído.\")\n"
      ],
      "execution_count": 16,
      "outputs": [
        {
          "output_type": "stream",
          "text": [
            "\n",
            "Iniciando o Treinamento...\n",
            "\n",
            "Erro de Treinamento: 7.25364737054135\n",
            "Erro de Treinamento: 5.297457513657022\n",
            "Erro de Treinamento: 4.332893113506601\n",
            "Erro de Treinamento: 3.753596453590596\n",
            "Erro de Treinamento: 3.3729032997755293\n",
            "Erro de Treinamento: 3.0980715824568525\n",
            "Erro de Treinamento: 2.8860293113170785\n",
            "Erro de Treinamento: 2.715951166729978\n",
            "Erro de Treinamento: 2.576224444235893\n",
            "Erro de Treinamento: 2.460086359147062\n",
            "Erro de Treinamento: 2.363352782390219\n",
            "Erro de Treinamento: 2.282710148774563\n",
            "Erro de Treinamento: 2.2149107140746525\n",
            "Erro de Treinamento: 2.156970256186546\n",
            "Erro de Treinamento: 2.1065735458693604\n",
            "Erro de Treinamento: 2.0621131149695273\n",
            "Erro de Treinamento: 2.022497070121004\n",
            "Erro de Treinamento: 1.986957165630574\n",
            "Erro de Treinamento: 1.9549212931318487\n",
            "Erro de Treinamento: 1.925938423009629\n",
            "Erro de Treinamento: 1.8996348441281217\n",
            "Erro de Treinamento: 1.8756930580798616\n",
            "Erro de Treinamento: 1.853839639019459\n",
            "Erro de Treinamento: 1.8338374761824912\n",
            "Erro de Treinamento: 1.815481260418892\n",
            "Erro de Treinamento: 1.7985919346200658\n",
            "Erro de Treinamento: 1.783012350505971\n",
            "Erro de Treinamento: 1.7686044424772263\n",
            "Erro de Treinamento: 1.7552469886363822\n",
            "Erro de Treinamento: 1.7428332250168983\n",
            "Erro de Treinamento: 1.7312708325842594\n",
            "Erro de Treinamento: 1.720479740741405\n",
            "Erro de Treinamento: 1.7103917611406205\n",
            "Erro de Treinamento: 1.700947753926541\n",
            "Erro de Treinamento: 1.692096195956494\n",
            "Erro de Treinamento: 1.6837916386888383\n",
            "Erro de Treinamento: 1.6759925763657753\n",
            "Erro de Treinamento: 1.6686603743979271\n",
            "Erro de Treinamento: 1.6617589034932725\n",
            "Erro de Treinamento: 1.6552536386124632\n",
            "Erro de Treinamento: 1.6491126177158761\n",
            "Erro de Treinamento: 1.643306425277223\n",
            "Erro de Treinamento: 1.6378085632273491\n",
            "Erro de Treinamento: 1.6325958567730925\n",
            "Erro de Treinamento: 1.6276481633490705\n",
            "Erro de Treinamento: 1.6229485812339377\n",
            "Erro de Treinamento: 1.6184832263500133\n",
            "Erro de Treinamento: 1.6142411637813487\n",
            "Erro de Treinamento: 1.610213022916875\n",
            "Erro de Treinamento: 1.6063920132657314\n",
            "Erro de Treinamento: 1.602772275818155\n",
            "Erro de Treinamento: 1.599348802515801\n",
            "Erro de Treinamento: 1.5961168268893628\n",
            "Erro de Treinamento: 1.593071312980449\n",
            "Erro de Treinamento: 1.5902066401978756\n",
            "Erro de Treinamento: 1.5875168138361992\n",
            "Erro de Treinamento: 1.5849946648516553\n",
            "Erro de Treinamento: 1.5826321941740968\n",
            "Erro de Treinamento: 1.5804211497306824\n",
            "Erro de Treinamento: 1.5783525128313836\n",
            "Erro de Treinamento: 1.5764172121565392\n",
            "Erro de Treinamento: 1.5746060381544398\n",
            "Erro de Treinamento: 1.5729101509489911\n",
            "Erro de Treinamento: 1.5713210518055774\n",
            "Erro de Treinamento: 1.569830650344808\n",
            "Erro de Treinamento: 1.5684312562993232\n",
            "Erro de Treinamento: 1.5671161723897813\n",
            "Erro de Treinamento: 1.5658787514301056\n",
            "Erro de Treinamento: 1.5647129682784384\n",
            "Erro de Treinamento: 1.5636134629553937\n",
            "Erro de Treinamento: 1.5625751056569688\n",
            "Erro de Treinamento: 1.5615934869076342\n",
            "Erro de Treinamento: 1.5606644223345087\n",
            "Erro de Treinamento: 1.5597842069382364\n",
            "Erro de Treinamento: 1.5589492435150958\n",
            "Erro de Treinamento: 1.55815648778956\n",
            "Erro de Treinamento: 1.5574030597159203\n",
            "Erro de Treinamento: 1.556686059591618\n",
            "Erro de Treinamento: 1.5560031330331843\n",
            "Erro de Treinamento: 1.5553520613528313\n",
            "Erro de Treinamento: 1.5547308370153954\n",
            "Erro de Treinamento: 1.5541374340970466\n",
            "Erro de Treinamento: 1.5535702255178006\n",
            "Erro de Treinamento: 1.5530275486885232\n",
            "Erro de Treinamento: 1.5525080111432583\n",
            "Erro de Treinamento: 1.5520100504794019\n",
            "Erro de Treinamento: 1.5515324955290937\n",
            "Erro de Treinamento: 1.5510741421516905\n",
            "Erro de Treinamento: 1.5506341634912695\n",
            "Erro de Treinamento: 1.5502111968841958\n",
            "Erro de Treinamento: 1.54980453912248\n",
            "Erro de Treinamento: 1.5494130006495943\n",
            "Erro de Treinamento: 1.549036166769393\n",
            "Erro de Treinamento: 1.5486729798164773\n",
            "Erro de Treinamento: 1.5483229730991608\n",
            "Erro de Treinamento: 1.5479852703023464\n",
            "Erro de Treinamento: 1.547659343227427\n",
            "Erro de Treinamento: 1.547344685869014\n",
            "Erro de Treinamento: 1.5470406894988202\n",
            "Erro de Treinamento: 1.5467468722069517\n",
            "Erro de Treinamento: 1.5464626658470073\n",
            "\n",
            "Treinamento Concluído.\n"
          ],
          "name": "stdout"
        }
      ]
    },
    {
      "cell_type": "markdown",
      "metadata": {
        "id": "CRpkvYqwHQb1"
      },
      "source": [
        "#<font color=\"Thistle\">Teste do Modelo e Redução de Dimensionalidade com PCA</font>\n",
        "Para testar o modelo, tudo que precisamos é dos pesos, em nosso exemplo W1 e W2. Mas visualizar os dados é desafiador, pois a dimensionalidade é alta e quanto maior o número de palavras do vocabulário, mais complicado.\n",
        "\n",
        "Uma alternativa, é reduzir a diemensionalidade dos dados. Convertemos todos os atributos em 2 componentes principais usando PCA (Principal Component Analysis) e com 2 componentes podemos visualizar os dados.\n",
        "\n",
        "Cada componentes principal nada mais é do que a junção matemática da informação em outras variáveis. O PCA é um algoritmo de Machine Learning por si mesmo, da categoria de aprendizagem não supervisionada.\n",
        "\n",
        "Vamos aplicar o PCA para visualizar os dados."
      ]
    },
    {
      "cell_type": "code",
      "metadata": {
        "id": "WjTmPhE5GtwZ"
      },
      "source": [
        "# cria o objeto para redução de dimensionalidade\n",
        "pca = PCA(n_components= 2)"
      ],
      "execution_count": 17,
      "outputs": []
    },
    {
      "cell_type": "code",
      "metadata": {
        "colab": {
          "base_uri": "https://localhost:8080/"
        },
        "id": "E4o_bq1HHq0V",
        "outputId": "f8544a4d-1cd8-4bd5-d126-d14030eb101f"
      },
      "source": [
        "# treina o modelo PCA\n",
        "pca.fit(W1.data.numpy().T)"
      ],
      "execution_count": 18,
      "outputs": [
        {
          "output_type": "execute_result",
          "data": {
            "text/plain": [
              "PCA(copy=True, iterated_power='auto', n_components=2, random_state=None,\n",
              "    svd_solver='auto', tol=0.0, whiten=False)"
            ]
          },
          "metadata": {
            "tags": []
          },
          "execution_count": 18
        }
      ]
    },
    {
      "cell_type": "code",
      "metadata": {
        "id": "FnQRfHMQH8ar"
      },
      "source": [
        "# calcula a projeção PCA para o plot\n",
        "proj = pca.transform(W1.data.numpy().T)"
      ],
      "execution_count": 19,
      "outputs": []
    },
    {
      "cell_type": "code",
      "metadata": {
        "colab": {
          "base_uri": "https://localhost:8080/",
          "height": 628
        },
        "id": "QNF0z9gOIRlT",
        "outputId": "f2d18ca2-1ed4-4ab5-b262-9d366bdebe08"
      },
      "source": [
        "# Plot\n",
        "ax = plot_pca_2d_projection(pca,\n",
        "                            W1.data.numpy().T,\n",
        "                            np.array(palavras),\n",
        "                            feature_labels = palavras,\n",
        "                            figsize = (16,10),\n",
        "                            text_fontsize = 12)\n",
        "\n",
        "# Legenda\n",
        "for i, txt in enumerate(palavras):\n",
        "    ax.annotate(txt, (proj[i,0], proj[i,1]), size = 15)\n"
      ],
      "execution_count": 20,
      "outputs": [
        {
          "output_type": "display_data",
          "data": {
            "image/png": "[encoded data removed]",
            "text/plain": [
              "<Figure size 1152x720 with 1 Axes>"
            ]
          },
          "metadata": {
            "tags": [],
            "needs_background": "light"
          }
        }
      ]
    },
    {
      "cell_type": "markdown",
      "metadata": {
        "id": "zfxlJGrOJH0G"
      },
      "source": [
        "Observe a legenda no gráfico acima! Palavras similares com base no contexto, estão com a \"bolinha\" com cores parecidas. No topo da lista temos países e cidades, depois pronomes e a palavra \"capital\", temos então homem, mulher, rainha e rei e por fim artigos e um verbo.\n",
        "\n",
        "Tudo isso foi aprendido pela rede com base no contexto, que nada mais é do que a distância de cosseno entre as embeddings, os vetores que representam as palavras.\n",
        "\n",
        "A visualização acima mostra que palavras que estão na mesma direção possui alguma similaridade, por exemplo \"Alemanha\" e \"Berlim\". Passe uma linha reta imaginária que \"corta\" as palavras \"Alemanha\" e \"Berlim\". Consegue? Se a resposta for sim, as palavras são similares. Abaixo terá outro exemplo.\n",
        "\n",
        "Vamos extrair as distâncias com base na pergunta:\n",
        "\n",
        "Espanha está para Madrid, assim como Alemanha está para ?\n",
        "\n",
        "Vamos perguntar ao modelo."
      ]
    },
    {
      "cell_type": "code",
      "metadata": {
        "id": "i9jTExNpIeNa"
      },
      "source": [
        "# Função para obter um vetor de palavras no peso W1 (esse é o contexto)\n",
        "def get_word_vector_v(word):\n",
        "    return W1[:, word2idx[word]].data.numpy()\n"
      ],
      "execution_count": 21,
      "outputs": []
    },
    {
      "cell_type": "code",
      "metadata": {
        "id": "wWQA5pNqJmXZ"
      },
      "source": [
        "# Função para obter um vetor de palavras no peso W2 (essa é a palavra central)\n",
        "def get_word_vector_u(word):\n",
        "    return W2[word2idx[word],:].data.numpy()\n"
      ],
      "execution_count": 22,
      "outputs": []
    },
    {
      "cell_type": "code",
      "metadata": {
        "id": "n-TR4qkrJzis"
      },
      "source": [
        "# Vamos obter os vetores das palavras\n",
        "espanha = 1 * get_word_vector_v('Espanha') + 1 * get_word_vector_u('Espanha')\n",
        "alemanha = 1 * get_word_vector_v('Alemanha') + 1 * get_word_vector_u('Alemanha')\n",
        "madrid = 1 * get_word_vector_v('Madrid') + 1 * get_word_vector_u('Madrid') \n"
      ],
      "execution_count": 23,
      "outputs": []
    },
    {
      "cell_type": "code",
      "metadata": {
        "id": "K74YXhEfJ_5W"
      },
      "source": [
        "# Resultado\n",
        "resultado = madrid - espanha + alemanha"
      ],
      "execution_count": 24,
      "outputs": []
    },
    {
      "cell_type": "code",
      "metadata": {
        "colab": {
          "base_uri": "https://localhost:8080/"
        },
        "id": "zJ8htLoNKMSZ",
        "outputId": "afa52d4e-9fc9-4897-b65a-5556146f5fc6"
      },
      "source": [
        "# Este é o resultado, ou seja, uma embedding que representa a palavra mais similar à palavra \"Alemanha\",\n",
        "# com base na similaridade (contexto) entre \"Polônia\" e \"Varsóvia\".\n",
        "resultado"
      ],
      "execution_count": 25,
      "outputs": [
        {
          "output_type": "execute_result",
          "data": {
            "text/plain": [
              "array([ 1.8882428 , -1.8212676 ,  1.3414304 , -1.0540638 , -2.0743103 ,\n",
              "        0.05316627,  0.7175113 ,  0.6317148 ,  1.8789866 , -1.1368148 ],\n",
              "      dtype=float32)"
            ]
          },
          "metadata": {
            "tags": []
          },
          "execution_count": 25
        }
      ]
    },
    {
      "cell_type": "code",
      "metadata": {
        "id": "KuHCS-hIKhcd"
      },
      "source": [
        "# Vamos extrair as distâncias de todas as outras palavras para a nossa palavra \"secreta\" que está\n",
        "# no vetor embedding chamado \"resultado\"\n",
        "# Usamos a função cosine() do SciPy para calcular as distâncias\n",
        "distancias = [(v, cosine(resultado, 1 * get_word_vector_u(v) + 1 * get_word_vector_v(v))) for v in palavras]\n"
      ],
      "execution_count": 26,
      "outputs": []
    },
    {
      "cell_type": "code",
      "metadata": {
        "colab": {
          "base_uri": "https://localhost:8080/"
        },
        "id": "JjEpg5g-KzhK",
        "outputId": "0334101e-fffa-4ba5-aedf-49ae0a496587"
      },
      "source": [
        "# visualiza as distancias\n",
        "distancias"
      ],
      "execution_count": 27,
      "outputs": [
        {
          "output_type": "execute_result",
          "data": {
            "text/plain": [
              "[('ele', 1.1787219792604446),\n",
              " ('é', 1.3881038427352905),\n",
              " ('um', 1.0506029278039932),\n",
              " ('rei', 0.9289370030164719),\n",
              " ('ela', 0.9503111019730568),\n",
              " ('uma', 0.9104681685566902),\n",
              " ('rainha', 1.0405895486474037),\n",
              " ('homem', 1.6095991730690002),\n",
              " ('mulher', 0.7519820928573608),\n",
              " ('Madrid', 0.4813191890716553),\n",
              " ('a', 1.5527369379997253),\n",
              " ('capital', 0.9840819519013166),\n",
              " ('da', 1.0327985845506191),\n",
              " ('Espanha', 1.7278605103492737),\n",
              " ('Berlim', 0.8619408756494522),\n",
              " ('Alemanha', 0.9273734167218208),\n",
              " ('Lisboa', 1.605421543121338),\n",
              " ('de', 0.7532189935445786),\n",
              " ('Portugal', 0.8831573948264122)]"
            ]
          },
          "metadata": {
            "tags": []
          },
          "execution_count": 27
        }
      ]
    },
    {
      "cell_type": "code",
      "metadata": {
        "id": "0-8vyQh-K4Rc"
      },
      "source": [
        "# Ordenando a lista de tuplas pelo segundo elemento da tupla\n",
        "distancias.sort(key= lambda tup: tup[1])"
      ],
      "execution_count": 28,
      "outputs": []
    },
    {
      "cell_type": "code",
      "metadata": {
        "colab": {
          "base_uri": "https://localhost:8080/"
        },
        "id": "OcPVBL8FLUJn",
        "outputId": "c34d8c93-da19-4b33-e0ba-2e09825b000e"
      },
      "source": [
        "distancias"
      ],
      "execution_count": 29,
      "outputs": [
        {
          "output_type": "execute_result",
          "data": {
            "text/plain": [
              "[('Madrid', 0.4813191890716553),\n",
              " ('mulher', 0.7519820928573608),\n",
              " ('de', 0.7532189935445786),\n",
              " ('Berlim', 0.8619408756494522),\n",
              " ('Portugal', 0.8831573948264122),\n",
              " ('uma', 0.9104681685566902),\n",
              " ('Alemanha', 0.9273734167218208),\n",
              " ('rei', 0.9289370030164719),\n",
              " ('ela', 0.9503111019730568),\n",
              " ('capital', 0.9840819519013166),\n",
              " ('da', 1.0327985845506191),\n",
              " ('rainha', 1.0405895486474037),\n",
              " ('um', 1.0506029278039932),\n",
              " ('ele', 1.1787219792604446),\n",
              " ('é', 1.3881038427352905),\n",
              " ('a', 1.5527369379997253),\n",
              " ('Lisboa', 1.605421543121338),\n",
              " ('homem', 1.6095991730690002),\n",
              " ('Espanha', 1.7278605103492737)]"
            ]
          },
          "metadata": {
            "tags": []
          },
          "execution_count": 29
        }
      ]
    },
    {
      "cell_type": "markdown",
      "metadata": {
        "id": "ycZcLUFDLtdC"
      },
      "source": [
        "O vetor \"resultado\" foi uma previsão do nosso modelo e as palavras \"Madrid\" e \"Berlim\" são as mais similares. Observe que \"Berlim\" é a palavra mais similar com base no conexto, uma vez que Madrid já foi usada em nossa fórmula.\n",
        "\n",
        "Imagine que um vetor (uma flecha) sai da origem do sistema de coordenadas (Honestidade = 0 e Experiência = 0, chamaremos de ponto O) e termina no ponto X. Este vetor é usado para localizar o ponto no nosso espaço de características. Não é diferente de simplesmente dizer que X possui H = 0.4 e E = 0.2, é apenas outra maneira de ver isso.\n",
        "\n"
      ]
    },
    {
      "cell_type": "markdown",
      "metadata": {
        "id": "dz2PaBcYMM8x"
      },
      "source": [
        "# Em que contexto aparece a palavra Lisboa?\n",
        "Aqui é como se estivessemos usando o modelo para uma previsão."
      ]
    },
    {
      "cell_type": "code",
      "metadata": {
        "colab": {
          "base_uri": "https://localhost:8080/"
        },
        "id": "TXFsqVWyLWG-",
        "outputId": "6b81396d-1a85-49e1-88ca-1afcf8ad8d2d"
      },
      "source": [
        "# Extrai o contexto\n",
        "context_to_predict = get_word_vector_v('Lisboa')\n",
        "\n",
        "# Variável com o contexto a prever\n",
        "hidden = Variable(torch.from_numpy(context_to_predict)).float()\n",
        "\n",
        "# Executa o modelo e extrai as probabilidades\n",
        "# (executar o modelo nada mais é do que multiplicar os novos dados de entrada pelos pesos aprendidos no treinamento)\n",
        "a = torch.matmul(W2, hidden)\n",
        "probs = F.softmax(a, dim = 0).data.numpy()\n",
        "\n",
        "# Imprime o resultado\n",
        "for context, prob in zip(palavras, probs):\n",
        "    print(f'{context}: {prob}')\n"
      ],
      "execution_count": 30,
      "outputs": [
        {
          "output_type": "stream",
          "text": [
            "ele: 0.00016214001516345888\n",
            "é: 0.4760536551475525\n",
            "um: 0.009503720328211784\n",
            "rei: 6.57345590298064e-05\n",
            "ela: 0.0035811029374599457\n",
            "uma: 0.0003836873220279813\n",
            "rainha: 0.003099314868450165\n",
            "homem: 0.008479798212647438\n",
            "mulher: 4.420884943101555e-05\n",
            "Madrid: 7.819833626854233e-06\n",
            "a: 0.46125853061676025\n",
            "capital: 0.005371751729398966\n",
            "da: 0.006410080939531326\n",
            "Espanha: 0.0057525006122887135\n",
            "Berlim: 0.0005791796138510108\n",
            "Alemanha: 0.0001633703213883564\n",
            "Lisboa: 0.00029596342938020825\n",
            "de: 0.0021264655515551567\n",
            "Portugal: 0.0166610237210989\n"
          ],
          "name": "stdout"
        }
      ]
    },
    {
      "cell_type": "markdown",
      "metadata": {
        "id": "ogI_DHcIM7_M"
      },
      "source": [
        "O contexto da palavra \"Lisboa\" é representado pelas palavras \"é\", \"a\", \"Portugal\".\n",
        "\n",
        "Nosso modelo não conseguiu aprender o contexto \"capital\". Quem sabe você consegue otimizar o treinamento do modelo e aumentar sua precisão.\n",
        "\n",
        "=> Este modelo pode ser melhorado....."
      ]
    }
  ]
}