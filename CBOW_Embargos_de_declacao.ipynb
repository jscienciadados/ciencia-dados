{
  "nbformat": 4,
  "nbformat_minor": 0,
  "metadata": {
    "colab": {
      "name": "CBOW-Embargos de declacao.ipynb",
      "provenance": [],
      "authorship_tag": "ABX9TyPFWDKRDmp0yL5n88Skvc9Z",
      "include_colab_link": true
    },
    "kernelspec": {
      "name": "python3",
      "display_name": "Python 3"
    },
    "language_info": {
      "name": "python"
    }
  },
  "cells": [
    {
      "cell_type": "markdown",
      "metadata": {
        "id": "view-in-github",
        "colab_type": "text"
      },
      "source": [
        "<a href=\"https://colab.research.google.com/github/jscienciadados/ciencia-dados/blob/main/CBOW_Embargos_de_declacao.ipynb\" target=\"_parent\"><img src=\"https://colab.research.google.com/assets/colab-badge.svg\" alt=\"Open In Colab\"/></a>"
      ]
    },
    {
      "cell_type": "markdown",
      "metadata": {
        "id": "9EKqtsbswltH"
      },
      "source": [
        "# Embargos de Declaração\n",
        "#<font color=\"Navy\">Processamento de Linguagem Natural</font>"
      ]
    },
    {
      "cell_type": "markdown",
      "metadata": {
        "id": "RU5dPq-bxCMZ"
      },
      "source": [
        "# Estudo de Caso:\n",
        "Integencia Artificial para Previsão de Sentenças em Embargos de Declaração"
      ]
    },
    {
      "cell_type": "code",
      "metadata": {
        "id": "_y5WtqfWwjnM"
      },
      "source": [
        "# Imports\n",
        "import torch\n",
        "import torch.nn as nn\n",
        "import numpy as np"
      ],
      "execution_count": 1,
      "outputs": []
    },
    {
      "cell_type": "markdown",
      "metadata": {
        "id": "ISlr7MHLx-S7"
      },
      "source": [
        "#<font color=\"SteelBlue\">Preparando os Dados</font>\n",
        "O texto abaixo é um exemplo de embargo de declaração. Embora o texto represente um embargo, dados críticos foram substituídos por informações genéricas, o que não compromete o objetivo do estudo de caso."
      ]
    },
    {
      "cell_type": "code",
      "metadata": {
        "id": "FcSgcyj1xt1x"
      },
      "source": [
        "# Texto de embargo de declaração\n",
        "embargo = \"\"\"O embargante sofreu o ajuizamento de ação de danos morais e materiais, cujo objeto é o reaver os\n",
        "valores pagos pelo sinal dado em um contrato de compra e venda de imóvel no qual não foi dado continuidade. Em 24\n",
        "de fevereiro de 2012, o Magistrado proferiu decisão de fls. 277 a 280, que condenou todas as demandadas\n",
        "solidariamente no seguinte teor: Diante de todo o exposto, com fundamento no art. 1234, I, do CPC/2015,\n",
        "julgo procedentes em parte os pedidos constantes na inicial, condenando solidariamente as demandadas, XPTO LTDA,\n",
        "BOB CAMARGO DE MORAES, a Pagarem título de indenização por danos morais, consoante fundamentação acima discorrida,\n",
        "o montante de R$ 1.500,00 (um mil e quinhentos reais), corrigidos monetariamente pelo INPC desde a data\n",
        "desta decisão, acrescidos de juros de 1% ao mês, a partir da citação; condeno ainda, à restituição do valor\n",
        "pago pelo demandante como sinal da entrada do imóvel, descontando apenas 20% (vinte por cento), referente às\n",
        "despesas, devendo incidir juros de 1% (um por cento) ao mês contados da citação e correção monetária pelo INPC a\n",
        "partir da sentença. Contudo, data venia, houve omissão e obscuridade na referida decisão, haja vista que a omissão\n",
        "se deu pela ausência dos julgamentos das preliminares (Necessidade de Perícia Técnica e a incompetência de\n",
        "Juizado Especial) proposta posteriormente em aditamento de contestação (Fls 251 a 254) para impugnar áudios\n",
        "juntados pelo embargado, autorizado a ser realizada pela Douta Magistrada em audiência de Conciliação,\n",
        "instrução e julgamento de fls 235 e 236, por ausência de intimação anterior para realizar a já tratada\n",
        "impugnação aos áudios anexados.\"\"\""
      ],
      "execution_count": 2,
      "outputs": []
    },
    {
      "cell_type": "code",
      "metadata": {
        "id": "7M0LY9odyqZd"
      },
      "source": [
        "# Limpeza do texto substituindo vírgulas e pontos por espaços e colocando as palavras em minúsculo\n",
        "embargo = embargo.replace(',','').replace('.','').lower().split()\n"
      ],
      "execution_count": 3,
      "outputs": []
    },
    {
      "cell_type": "code",
      "metadata": {
        "id": "NAjhATPGy8y8"
      },
      "source": [
        "# Criação do corpus com o texto acima\n",
        "corpus = set(embargo)"
      ],
      "execution_count": 4,
      "outputs": []
    },
    {
      "cell_type": "code",
      "metadata": {
        "colab": {
          "base_uri": "https://localhost:8080/"
        },
        "id": "bq_sEjMQzH7j",
        "outputId": "aa0a4e34-c6f6-4238-d2f1-9e25245aedce"
      },
      "source": [
        "corpus"
      ],
      "execution_count": 5,
      "outputs": [
        {
          "output_type": "execute_result",
          "data": {
            "text/plain": [
              "{'(fls',\n",
              " '(necessidade',\n",
              " '(um',\n",
              " '(vinte',\n",
              " '1%',\n",
              " '1234',\n",
              " '150000',\n",
              " '20%',\n",
              " '2012',\n",
              " '235',\n",
              " '236',\n",
              " '24',\n",
              " '251',\n",
              " '254)',\n",
              " '277',\n",
              " '280',\n",
              " 'a',\n",
              " 'acima',\n",
              " 'acrescidos',\n",
              " 'aditamento',\n",
              " 'ainda',\n",
              " 'ajuizamento',\n",
              " 'anexados',\n",
              " 'anterior',\n",
              " 'ao',\n",
              " 'aos',\n",
              " 'apenas',\n",
              " 'art',\n",
              " 'as',\n",
              " 'audiência',\n",
              " 'ausência',\n",
              " 'autorizado',\n",
              " 'ação',\n",
              " 'bob',\n",
              " 'camargo',\n",
              " 'cento)',\n",
              " 'citação',\n",
              " 'citação;',\n",
              " 'com',\n",
              " 'como',\n",
              " 'compra',\n",
              " 'conciliação',\n",
              " 'condenando',\n",
              " 'condeno',\n",
              " 'condenou',\n",
              " 'consoante',\n",
              " 'constantes',\n",
              " 'contados',\n",
              " 'contestação',\n",
              " 'continuidade',\n",
              " 'contrato',\n",
              " 'contudo',\n",
              " 'correção',\n",
              " 'corrigidos',\n",
              " 'cpc/2015',\n",
              " 'cujo',\n",
              " 'da',\n",
              " 'dado',\n",
              " 'danos',\n",
              " 'das',\n",
              " 'data',\n",
              " 'de',\n",
              " 'decisão',\n",
              " 'demandadas',\n",
              " 'demandante',\n",
              " 'descontando',\n",
              " 'desde',\n",
              " 'despesas',\n",
              " 'desta',\n",
              " 'deu',\n",
              " 'devendo',\n",
              " 'diante',\n",
              " 'discorrida',\n",
              " 'do',\n",
              " 'dos',\n",
              " 'douta',\n",
              " 'e',\n",
              " 'em',\n",
              " 'embargado',\n",
              " 'embargante',\n",
              " 'entrada',\n",
              " 'especial)',\n",
              " 'exposto',\n",
              " 'fevereiro',\n",
              " 'fls',\n",
              " 'foi',\n",
              " 'fundamentação',\n",
              " 'fundamento',\n",
              " 'haja',\n",
              " 'houve',\n",
              " 'i',\n",
              " 'impugnar',\n",
              " 'impugnação',\n",
              " 'imóvel',\n",
              " 'incidir',\n",
              " 'incompetência',\n",
              " 'indenização',\n",
              " 'inicial',\n",
              " 'inpc',\n",
              " 'instrução',\n",
              " 'intimação',\n",
              " 'juizado',\n",
              " 'julgamento',\n",
              " 'julgamentos',\n",
              " 'julgo',\n",
              " 'juntados',\n",
              " 'juros',\n",
              " 'já',\n",
              " 'ltda',\n",
              " 'magistrada',\n",
              " 'magistrado',\n",
              " 'materiais',\n",
              " 'mil',\n",
              " 'monetariamente',\n",
              " 'monetária',\n",
              " 'montante',\n",
              " 'moraes',\n",
              " 'morais',\n",
              " 'mês',\n",
              " 'na',\n",
              " 'no',\n",
              " 'não',\n",
              " 'o',\n",
              " 'objeto',\n",
              " 'obscuridade',\n",
              " 'omissão',\n",
              " 'os',\n",
              " 'pagarem',\n",
              " 'pago',\n",
              " 'pagos',\n",
              " 'para',\n",
              " 'parte',\n",
              " 'partir',\n",
              " 'pedidos',\n",
              " 'pela',\n",
              " 'pelo',\n",
              " 'perícia',\n",
              " 'por',\n",
              " 'posteriormente',\n",
              " 'preliminares',\n",
              " 'procedentes',\n",
              " 'proferiu',\n",
              " 'proposta',\n",
              " 'qual',\n",
              " 'que',\n",
              " 'quinhentos',\n",
              " 'r$',\n",
              " 'reais)',\n",
              " 'realizada',\n",
              " 'realizar',\n",
              " 'reaver',\n",
              " 'referente',\n",
              " 'referida',\n",
              " 'restituição',\n",
              " 'se',\n",
              " 'seguinte',\n",
              " 'sentença',\n",
              " 'ser',\n",
              " 'sinal',\n",
              " 'sofreu',\n",
              " 'solidariamente',\n",
              " 'teor:',\n",
              " 'todas',\n",
              " 'todo',\n",
              " 'tratada',\n",
              " 'técnica',\n",
              " 'título',\n",
              " 'um',\n",
              " 'valor',\n",
              " 'valores',\n",
              " 'venda',\n",
              " 'venia',\n",
              " 'vista',\n",
              " 'xpto',\n",
              " 'à',\n",
              " 'às',\n",
              " 'áudios',\n",
              " 'é'}"
            ]
          },
          "metadata": {
            "tags": []
          },
          "execution_count": 5
        }
      ]
    },
    {
      "cell_type": "code",
      "metadata": {
        "id": "OBsAU81FzJhH"
      },
      "source": [
        "#length\n",
        "corpus_length = len(corpus)"
      ],
      "execution_count": 6,
      "outputs": []
    },
    {
      "cell_type": "code",
      "metadata": {
        "id": "UItbAoX9zWC8"
      },
      "source": [
        "# Dicionario para TF-IDF\n",
        "dic_palavra = {}\n",
        "dic_inverso_palavra = {}"
      ],
      "execution_count": 7,
      "outputs": []
    },
    {
      "cell_type": "code",
      "metadata": {
        "id": "EyqbVJbhzmz2"
      },
      "source": [
        "# Loop pelo corpus para criar os dicionários\n",
        "for i, palavra in enumerate(corpus):\n",
        "    dic_palavra[palavra] = i\n",
        "    dic_inverso_palavra[i] = palavra\n"
      ],
      "execution_count": 8,
      "outputs": []
    },
    {
      "cell_type": "code",
      "metadata": {
        "id": "b7PqV4qZz1oY"
      },
      "source": [
        "# lista para receber os dados\n",
        "dados = []"
      ],
      "execution_count": 9,
      "outputs": []
    },
    {
      "cell_type": "code",
      "metadata": {
        "id": "1mScpFSPz7d5"
      },
      "source": [
        "# Loop pelo texto par extrair sentenças e palavras\n",
        "for i in range(2, len(embargo) - 2):\n",
        "    sentence = [embargo[i-2], embargo[i-1], embargo[i+1], embargo[i+2]]\n",
        "    target = embargo[i]\n",
        "    dados.append((sentence, target))"
      ],
      "execution_count": 10,
      "outputs": []
    },
    {
      "cell_type": "code",
      "metadata": {
        "colab": {
          "base_uri": "https://localhost:8080/"
        },
        "id": "SjiVMLA50ITF",
        "outputId": "cca12632-bb5b-4a1e-ce82-cc8a3bde80fa"
      },
      "source": [
        "# Visualiza os dados\n",
        "print(dados[3])"
      ],
      "execution_count": 11,
      "outputs": [
        {
          "output_type": "stream",
          "text": [
            "(['o', 'ajuizamento', 'ação', 'de'], 'de')\n"
          ],
          "name": "stdout"
        }
      ]
    },
    {
      "cell_type": "markdown",
      "metadata": {
        "id": "fJB4xeTh0oVD"
      },
      "source": [
        "**OBS** => As quatro palavras na lista serão os dados de entrada e a palavra fora, sera a variavel de saida."
      ]
    },
    {
      "cell_type": "markdown",
      "metadata": {
        "id": "d_TNvQw71Bee"
      },
      "source": [
        "#<font color=\"DarkSlateGray\">Construção do Modelo CBoW</font>"
      ]
    },
    {
      "cell_type": "code",
      "metadata": {
        "id": "MNs50Tb_0iXt"
      },
      "source": [
        "# definindo o comprimento de cada embedding\n",
        "embedding_length = 20"
      ],
      "execution_count": 12,
      "outputs": []
    },
    {
      "cell_type": "code",
      "metadata": {
        "id": "q9ieojLZ1cu4"
      },
      "source": [
        "# Classe para o modelo\n",
        "class CBoW(torch.nn.Module):\n",
        "\n",
        "    # Método construtor\n",
        "    def __init__(self, corpus_length, embedding_dim):\n",
        "        super(CBoW, self).__init__()\n",
        "       \n",
        "        # Camada de entrada do modelo para criação da embedding\n",
        "        self.embeddings = nn.Embedding(corpus_length, embedding_dim)\n",
        "\n",
        "        # Camadas lineares\n",
        "        self.linear1 = nn.Linear(embedding_dim, 64)\n",
        "        self.linear2 = nn.Linear(64, corpus_length)\n",
        "       \n",
        "        # Camadas de ativação\n",
        "        self.activation_function1 = nn.ReLU()\n",
        "        self.activation_function2 = nn.LogSoftmax(dim = -1)\n",
        "\n",
        "    # Passo (forward)\n",
        "    def forward(self, inputs):\n",
        "       \n",
        "        # Aqui definimos a ordem ds camadas da rede neural\n",
        "        embeds = sum(self.embeddings(inputs)).view(1,-1)\n",
        "        out = self.linear1(embeds)\n",
        "        out = self.activation_function1(out)\n",
        "        out = self.linear2(out)\n",
        "        out = self.activation_function2(out)\n",
        "        return out\n",
        "\n",
        "    # Obtém a word_emdedding\n",
        "    def get_word_emdedding(self, word):\n",
        "        word = torch.LongTensor([dic_palavra[word]])\n",
        "        return self.embeddings(word).view(1,-1)\n"
      ],
      "execution_count": 13,
      "outputs": []
    },
    {
      "cell_type": "code",
      "metadata": {
        "id": "deS-UJt01x4J"
      },
      "source": [
        "# Cria o modelo CBoW\n",
        "modelo = CBoW(corpus_length, embedding_length)"
      ],
      "execution_count": 14,
      "outputs": []
    },
    {
      "cell_type": "code",
      "metadata": {
        "id": "KJCH_WAz1_dN"
      },
      "source": [
        "# Função de custo\n",
        "loss_function = nn.NLLLoss()"
      ],
      "execution_count": 15,
      "outputs": []
    },
    {
      "cell_type": "code",
      "metadata": {
        "id": "73nwrFAg2LEs"
      },
      "source": [
        "# Otimizador do modelo (backpropagation)\n",
        "optimizer = torch.optim.SGD(modelo.parameters(), lr = 0.01)\n"
      ],
      "execution_count": 16,
      "outputs": []
    },
    {
      "cell_type": "code",
      "metadata": {
        "id": "Uv_st_TI2cq8"
      },
      "source": [
        "# Função para criar o vetor de sentenças, necessário para treinar o modelo\n",
        "def make_sentence_vector(sentence, word_dict):\n",
        "    idxs = [word_dict[w] for w in sentence]\n",
        "    return torch.tensor(idxs, dtype = torch.long)\n"
      ],
      "execution_count": 17,
      "outputs": []
    },
    {
      "cell_type": "code",
      "metadata": {
        "colab": {
          "base_uri": "https://localhost:8080/"
        },
        "id": "v3coEhTZ2hw3",
        "outputId": "55c3415f-85b1-435e-843d-6e81e9bcdd59"
      },
      "source": [
        "dic_palavra"
      ],
      "execution_count": 18,
      "outputs": [
        {
          "output_type": "execute_result",
          "data": {
            "text/plain": [
              "{'(fls': 74,\n",
              " '(necessidade': 21,\n",
              " '(um': 150,\n",
              " '(vinte': 29,\n",
              " '1%': 43,\n",
              " '1234': 22,\n",
              " '150000': 142,\n",
              " '20%': 154,\n",
              " '2012': 130,\n",
              " '235': 10,\n",
              " '236': 96,\n",
              " '24': 3,\n",
              " '251': 132,\n",
              " '254)': 5,\n",
              " '277': 42,\n",
              " '280': 47,\n",
              " 'a': 80,\n",
              " 'acima': 127,\n",
              " 'acrescidos': 107,\n",
              " 'aditamento': 68,\n",
              " 'ainda': 19,\n",
              " 'ajuizamento': 167,\n",
              " 'anexados': 40,\n",
              " 'anterior': 51,\n",
              " 'ao': 41,\n",
              " 'aos': 104,\n",
              " 'apenas': 111,\n",
              " 'art': 15,\n",
              " 'as': 137,\n",
              " 'audiência': 9,\n",
              " 'ausência': 136,\n",
              " 'autorizado': 110,\n",
              " 'ação': 75,\n",
              " 'bob': 76,\n",
              " 'camargo': 166,\n",
              " 'cento)': 103,\n",
              " 'citação': 109,\n",
              " 'citação;': 48,\n",
              " 'com': 148,\n",
              " 'como': 82,\n",
              " 'compra': 6,\n",
              " 'conciliação': 140,\n",
              " 'condenando': 131,\n",
              " 'condeno': 113,\n",
              " 'condenou': 60,\n",
              " 'consoante': 72,\n",
              " 'constantes': 153,\n",
              " 'contados': 32,\n",
              " 'contestação': 102,\n",
              " 'continuidade': 1,\n",
              " 'contrato': 120,\n",
              " 'contudo': 37,\n",
              " 'correção': 100,\n",
              " 'corrigidos': 38,\n",
              " 'cpc/2015': 73,\n",
              " 'cujo': 44,\n",
              " 'da': 152,\n",
              " 'dado': 147,\n",
              " 'danos': 16,\n",
              " 'das': 97,\n",
              " 'data': 175,\n",
              " 'de': 83,\n",
              " 'decisão': 117,\n",
              " 'demandadas': 57,\n",
              " 'demandante': 39,\n",
              " 'descontando': 134,\n",
              " 'desde': 129,\n",
              " 'despesas': 67,\n",
              " 'desta': 23,\n",
              " 'deu': 25,\n",
              " 'devendo': 28,\n",
              " 'diante': 172,\n",
              " 'discorrida': 98,\n",
              " 'do': 170,\n",
              " 'dos': 99,\n",
              " 'douta': 14,\n",
              " 'e': 20,\n",
              " 'em': 84,\n",
              " 'embargado': 123,\n",
              " 'embargante': 79,\n",
              " 'entrada': 122,\n",
              " 'especial)': 54,\n",
              " 'exposto': 36,\n",
              " 'fevereiro': 33,\n",
              " 'fls': 46,\n",
              " 'foi': 63,\n",
              " 'fundamentação': 141,\n",
              " 'fundamento': 135,\n",
              " 'haja': 143,\n",
              " 'houve': 171,\n",
              " 'i': 106,\n",
              " 'impugnar': 4,\n",
              " 'impugnação': 8,\n",
              " 'imóvel': 164,\n",
              " 'incidir': 159,\n",
              " 'incompetência': 139,\n",
              " 'indenização': 105,\n",
              " 'inicial': 163,\n",
              " 'inpc': 12,\n",
              " 'instrução': 125,\n",
              " 'intimação': 49,\n",
              " 'juizado': 176,\n",
              " 'julgamento': 81,\n",
              " 'julgamentos': 64,\n",
              " 'julgo': 53,\n",
              " 'juntados': 108,\n",
              " 'juros': 149,\n",
              " 'já': 124,\n",
              " 'ltda': 118,\n",
              " 'magistrada': 66,\n",
              " 'magistrado': 158,\n",
              " 'materiais': 35,\n",
              " 'mil': 94,\n",
              " 'monetariamente': 71,\n",
              " 'monetária': 92,\n",
              " 'montante': 70,\n",
              " 'moraes': 18,\n",
              " 'morais': 52,\n",
              " 'mês': 11,\n",
              " 'na': 7,\n",
              " 'no': 116,\n",
              " 'não': 27,\n",
              " 'o': 91,\n",
              " 'objeto': 128,\n",
              " 'obscuridade': 168,\n",
              " 'omissão': 56,\n",
              " 'os': 155,\n",
              " 'pagarem': 121,\n",
              " 'pago': 119,\n",
              " 'pagos': 59,\n",
              " 'para': 151,\n",
              " 'parte': 144,\n",
              " 'partir': 65,\n",
              " 'pedidos': 34,\n",
              " 'pela': 13,\n",
              " 'pelo': 0,\n",
              " 'perícia': 162,\n",
              " 'por': 169,\n",
              " 'posteriormente': 31,\n",
              " 'preliminares': 58,\n",
              " 'procedentes': 165,\n",
              " 'proferiu': 115,\n",
              " 'proposta': 88,\n",
              " 'qual': 50,\n",
              " 'que': 87,\n",
              " 'quinhentos': 156,\n",
              " 'r$': 133,\n",
              " 'reais)': 2,\n",
              " 'realizada': 145,\n",
              " 'realizar': 90,\n",
              " 'reaver': 112,\n",
              " 'referente': 26,\n",
              " 'referida': 138,\n",
              " 'restituição': 93,\n",
              " 'se': 86,\n",
              " 'seguinte': 177,\n",
              " 'sentença': 174,\n",
              " 'ser': 95,\n",
              " 'sinal': 62,\n",
              " 'sofreu': 173,\n",
              " 'solidariamente': 157,\n",
              " 'teor:': 61,\n",
              " 'todas': 30,\n",
              " 'todo': 24,\n",
              " 'tratada': 17,\n",
              " 'técnica': 160,\n",
              " 'título': 146,\n",
              " 'um': 161,\n",
              " 'valor': 89,\n",
              " 'valores': 45,\n",
              " 'venda': 114,\n",
              " 'venia': 101,\n",
              " 'vista': 126,\n",
              " 'xpto': 77,\n",
              " 'à': 55,\n",
              " 'às': 85,\n",
              " 'áudios': 69,\n",
              " 'é': 78}"
            ]
          },
          "metadata": {
            "tags": []
          },
          "execution_count": 18
        }
      ]
    },
    {
      "cell_type": "code",
      "metadata": {
        "colab": {
          "base_uri": "https://localhost:8080/"
        },
        "id": "XJqc-ygz2naA",
        "outputId": "b9045505-684f-42f0-eff8-8f03c1565d03"
      },
      "source": [
        "# O dicionário de palavras será convertido em um vetor de sentenças. Aqui um exemplo:\n",
        "print(make_sentence_vector(['pela','ausência','dos','julgamentos'], dic_palavra))\n"
      ],
      "execution_count": 19,
      "outputs": [
        {
          "output_type": "stream",
          "text": [
            "tensor([ 13, 136,  99,  64])\n"
          ],
          "name": "stdout"
        }
      ]
    },
    {
      "cell_type": "markdown",
      "metadata": {
        "id": "JI-8eiEf28Cr"
      },
      "source": [
        "#<font color=\"DarkGreen\">Treinamento do Modelo</font>"
      ]
    },
    {
      "cell_type": "code",
      "metadata": {
        "colab": {
          "base_uri": "https://localhost:8080/"
        },
        "id": "wupRDB7T25R3",
        "outputId": "a2e5c00d-3dd8-4e1f-f95d-670209ec43f7"
      },
      "source": [
        "# Loop por 150 passadas (epochs) de treinamento\n",
        "for epoch in range(150):\n",
        "   \n",
        "    # Inicia o erro da época com 0\n",
        "    epoch_loss = 0\n",
        "   \n",
        "    # Loop pelos dados de entrada (sentence) e saída (target)\n",
        "    for sentence, target in dados:\n",
        "       \n",
        "        # Inicializa os gradientes com zero\n",
        "        modelo.zero_grad()\n",
        "       \n",
        "        # Cria o vetor de sentença com os dados de entrada (que devem estar no dicionário de palavras)\n",
        "        sentence_vector = make_sentence_vector(sentence, dic_palavra)  \n",
        "       \n",
        "        # Usa o vetor para fazer previsões com o modelo e retorna as probabilidades\n",
        "        log_probs = modelo(sentence_vector)\n",
        "       \n",
        "        # Calcula o erro do modelo\n",
        "        loss = loss_function(log_probs, torch.tensor([dic_palavra[target]], dtype = torch.long))\n",
        "       \n",
        "        # Chama o método de backpropagation para calcular o gradiente da derivada\n",
        "        loss.backward()\n",
        "       \n",
        "        # Otimiza os pesos do modelo e segue para a próxima passada\n",
        "        # É aqui que o aprendizado acontece\n",
        "        optimizer.step()\n",
        "       \n",
        "        # Atualiza o erro da época\n",
        "        epoch_loss += loss.data\n",
        "       \n",
        "    # Imprime epoch e erro da epoch    \n",
        "    print('Epoch: ' + str(epoch) + ', Erro do Modelo: ' + str(epoch_loss.item()))\n"
      ],
      "execution_count": 20,
      "outputs": [
        {
          "output_type": "stream",
          "text": [
            "Epoch: 0, Erro do Modelo: 1353.9764404296875\n",
            "Epoch: 1, Erro do Modelo: 1228.389892578125\n",
            "Epoch: 2, Erro do Modelo: 1135.167236328125\n",
            "Epoch: 3, Erro do Modelo: 1046.96923828125\n",
            "Epoch: 4, Erro do Modelo: 954.7318725585938\n",
            "Epoch: 5, Erro do Modelo: 855.3926391601562\n",
            "Epoch: 6, Erro do Modelo: 748.75048828125\n",
            "Epoch: 7, Erro do Modelo: 638.1257934570312\n",
            "Epoch: 8, Erro do Modelo: 527.9646606445312\n",
            "Epoch: 9, Erro do Modelo: 424.32794189453125\n",
            "Epoch: 10, Erro do Modelo: 332.28973388671875\n",
            "Epoch: 11, Erro do Modelo: 253.50973510742188\n",
            "Epoch: 12, Erro do Modelo: 189.61276245117188\n",
            "Epoch: 13, Erro do Modelo: 139.90464782714844\n",
            "Epoch: 14, Erro do Modelo: 103.4542465209961\n",
            "Epoch: 15, Erro do Modelo: 77.75196075439453\n",
            "Epoch: 16, Erro do Modelo: 60.30677795410156\n",
            "Epoch: 17, Erro do Modelo: 47.98225784301758\n",
            "Epoch: 18, Erro do Modelo: 39.18935775756836\n",
            "Epoch: 19, Erro do Modelo: 32.67264938354492\n",
            "Epoch: 20, Erro do Modelo: 27.775829315185547\n",
            "Epoch: 21, Erro do Modelo: 24.081180572509766\n",
            "Epoch: 22, Erro do Modelo: 21.21780776977539\n",
            "Epoch: 23, Erro do Modelo: 18.96408462524414\n",
            "Epoch: 24, Erro do Modelo: 17.11655044555664\n",
            "Epoch: 25, Erro do Modelo: 15.58923625946045\n",
            "Epoch: 26, Erro do Modelo: 14.301838874816895\n",
            "Epoch: 27, Erro do Modelo: 13.197019577026367\n",
            "Epoch: 28, Erro do Modelo: 12.248316764831543\n",
            "Epoch: 29, Erro do Modelo: 11.419878005981445\n",
            "Epoch: 30, Erro do Modelo: 10.688617706298828\n",
            "Epoch: 31, Erro do Modelo: 10.046609878540039\n",
            "Epoch: 32, Erro do Modelo: 9.470041275024414\n",
            "Epoch: 33, Erro do Modelo: 8.955816268920898\n",
            "Epoch: 34, Erro do Modelo: 8.487513542175293\n",
            "Epoch: 35, Erro do Modelo: 8.067641258239746\n",
            "Epoch: 36, Erro do Modelo: 7.6834797859191895\n",
            "Epoch: 37, Erro do Modelo: 7.333261013031006\n",
            "Epoch: 38, Erro do Modelo: 7.011235237121582\n",
            "Epoch: 39, Erro do Modelo: 6.715590953826904\n",
            "Epoch: 40, Erro do Modelo: 6.443087577819824\n",
            "Epoch: 41, Erro do Modelo: 6.190411567687988\n",
            "Epoch: 42, Erro do Modelo: 5.9562458992004395\n",
            "Epoch: 43, Erro do Modelo: 5.7371673583984375\n",
            "Epoch: 44, Erro do Modelo: 5.534182071685791\n",
            "Epoch: 45, Erro do Modelo: 5.343569278717041\n",
            "Epoch: 46, Erro do Modelo: 5.1649885177612305\n",
            "Epoch: 47, Erro do Modelo: 4.997884750366211\n",
            "Epoch: 48, Erro do Modelo: 4.840249538421631\n",
            "Epoch: 49, Erro do Modelo: 4.692044258117676\n",
            "Epoch: 50, Erro do Modelo: 4.551794052124023\n",
            "Epoch: 51, Erro do Modelo: 4.419417381286621\n",
            "Epoch: 52, Erro do Modelo: 4.294203281402588\n",
            "Epoch: 53, Erro do Modelo: 4.175384998321533\n",
            "Epoch: 54, Erro do Modelo: 4.063013553619385\n",
            "Epoch: 55, Erro do Modelo: 3.9557650089263916\n",
            "Epoch: 56, Erro do Modelo: 3.8538618087768555\n",
            "Epoch: 57, Erro do Modelo: 3.7565317153930664\n",
            "Epoch: 58, Erro do Modelo: 3.6641664505004883\n",
            "Epoch: 59, Erro do Modelo: 3.57570219039917\n",
            "Epoch: 60, Erro do Modelo: 3.4916460514068604\n",
            "Epoch: 61, Erro do Modelo: 3.4107143878936768\n",
            "Epoch: 62, Erro do Modelo: 3.333402633666992\n",
            "Epoch: 63, Erro do Modelo: 3.2593939304351807\n",
            "Epoch: 64, Erro do Modelo: 3.1883468627929688\n",
            "Epoch: 65, Erro do Modelo: 3.120335340499878\n",
            "Epoch: 66, Erro do Modelo: 3.0547895431518555\n",
            "Epoch: 67, Erro do Modelo: 2.991928815841675\n",
            "Epoch: 68, Erro do Modelo: 2.9313712120056152\n",
            "Epoch: 69, Erro do Modelo: 2.873183488845825\n",
            "Epoch: 70, Erro do Modelo: 2.817183494567871\n",
            "Epoch: 71, Erro do Modelo: 2.7631242275238037\n",
            "Epoch: 72, Erro do Modelo: 2.710954427719116\n",
            "Epoch: 73, Erro do Modelo: 2.660611867904663\n",
            "Epoch: 74, Erro do Modelo: 2.6121034622192383\n",
            "Epoch: 75, Erro do Modelo: 2.5651321411132812\n",
            "Epoch: 76, Erro do Modelo: 2.5197818279266357\n",
            "Epoch: 77, Erro do Modelo: 2.475883960723877\n",
            "Epoch: 78, Erro do Modelo: 2.4334592819213867\n",
            "Epoch: 79, Erro do Modelo: 2.392418384552002\n",
            "Epoch: 80, Erro do Modelo: 2.3525311946868896\n",
            "Epoch: 81, Erro do Modelo: 2.313995838165283\n",
            "Epoch: 82, Erro do Modelo: 2.276592969894409\n",
            "Epoch: 83, Erro do Modelo: 2.2402069568634033\n",
            "Epoch: 84, Erro do Modelo: 2.205077648162842\n",
            "Epoch: 85, Erro do Modelo: 2.170886993408203\n",
            "Epoch: 86, Erro do Modelo: 2.137759208679199\n",
            "Epoch: 87, Erro do Modelo: 2.1054084300994873\n",
            "Epoch: 88, Erro do Modelo: 2.074131727218628\n",
            "Epoch: 89, Erro do Modelo: 2.0435731410980225\n",
            "Epoch: 90, Erro do Modelo: 2.0140159130096436\n",
            "Epoch: 91, Erro do Modelo: 1.9851051568984985\n",
            "Epoch: 92, Erro do Modelo: 1.9570739269256592\n",
            "Epoch: 93, Erro do Modelo: 1.929717779159546\n",
            "Epoch: 94, Erro do Modelo: 1.903101921081543\n",
            "Epoch: 95, Erro do Modelo: 1.8772163391113281\n",
            "Epoch: 96, Erro do Modelo: 1.8518285751342773\n",
            "Epoch: 97, Erro do Modelo: 1.8272002935409546\n",
            "Epoch: 98, Erro do Modelo: 1.8032056093215942\n",
            "Epoch: 99, Erro do Modelo: 1.7797937393188477\n",
            "Epoch: 100, Erro do Modelo: 1.756860375404358\n",
            "Epoch: 101, Erro do Modelo: 1.734515905380249\n",
            "Epoch: 102, Erro do Modelo: 1.7127307653427124\n",
            "Epoch: 103, Erro do Modelo: 1.6915366649627686\n",
            "Epoch: 104, Erro do Modelo: 1.670604944229126\n",
            "Epoch: 105, Erro do Modelo: 1.6503628492355347\n",
            "Epoch: 106, Erro do Modelo: 1.6304571628570557\n",
            "Epoch: 107, Erro do Modelo: 1.6110732555389404\n",
            "Epoch: 108, Erro do Modelo: 1.5920417308807373\n",
            "Epoch: 109, Erro do Modelo: 1.5734978914260864\n",
            "Epoch: 110, Erro do Modelo: 1.5553804636001587\n",
            "Epoch: 111, Erro do Modelo: 1.5375479459762573\n",
            "Epoch: 112, Erro do Modelo: 1.5202267169952393\n",
            "Epoch: 113, Erro do Modelo: 1.503172755241394\n",
            "Epoch: 114, Erro do Modelo: 1.4864723682403564\n",
            "Epoch: 115, Erro do Modelo: 1.4701602458953857\n",
            "Epoch: 116, Erro do Modelo: 1.454176902770996\n",
            "Epoch: 117, Erro do Modelo: 1.4385052919387817\n",
            "Epoch: 118, Erro do Modelo: 1.4231959581375122\n",
            "Epoch: 119, Erro do Modelo: 1.4081008434295654\n",
            "Epoch: 120, Erro do Modelo: 1.3933689594268799\n",
            "Epoch: 121, Erro do Modelo: 1.3788052797317505\n",
            "Epoch: 122, Erro do Modelo: 1.364734172821045\n",
            "Epoch: 123, Erro do Modelo: 1.3508292436599731\n",
            "Epoch: 124, Erro do Modelo: 1.3371295928955078\n",
            "Epoch: 125, Erro do Modelo: 1.3238027095794678\n",
            "Epoch: 126, Erro do Modelo: 1.310606837272644\n",
            "Epoch: 127, Erro do Modelo: 1.2977215051651\n",
            "Epoch: 128, Erro do Modelo: 1.2850525379180908\n",
            "Epoch: 129, Erro do Modelo: 1.2726532220840454\n",
            "Epoch: 130, Erro do Modelo: 1.2604355812072754\n",
            "Epoch: 131, Erro do Modelo: 1.2484279870986938\n",
            "Epoch: 132, Erro do Modelo: 1.2366725206375122\n",
            "Epoch: 133, Erro do Modelo: 1.2251160144805908\n",
            "Epoch: 134, Erro do Modelo: 1.2137401103973389\n",
            "Epoch: 135, Erro do Modelo: 1.2025843858718872\n",
            "Epoch: 136, Erro do Modelo: 1.1916172504425049\n",
            "Epoch: 137, Erro do Modelo: 1.1808141469955444\n",
            "Epoch: 138, Erro do Modelo: 1.1702120304107666\n",
            "Epoch: 139, Erro do Modelo: 1.159748911857605\n",
            "Epoch: 140, Erro do Modelo: 1.1495609283447266\n",
            "Epoch: 141, Erro do Modelo: 1.1394567489624023\n",
            "Epoch: 142, Erro do Modelo: 1.1295455694198608\n",
            "Epoch: 143, Erro do Modelo: 1.119762659072876\n",
            "Epoch: 144, Erro do Modelo: 1.1102029085159302\n",
            "Epoch: 145, Erro do Modelo: 1.1006968021392822\n",
            "Epoch: 146, Erro do Modelo: 1.0914524793624878\n",
            "Epoch: 147, Erro do Modelo: 1.0823112726211548\n",
            "Epoch: 148, Erro do Modelo: 1.0732911825180054\n",
            "Epoch: 149, Erro do Modelo: 1.0644190311431885\n"
          ],
          "name": "stdout"
        }
      ]
    },
    {
      "cell_type": "markdown",
      "metadata": {
        "id": "KK02DTeF31qp"
      },
      "source": [
        "#<font color=\"red\">=></font> Observe como o erro foi reduzido a cada passada, nitidamente o aprendizado ocorrendo. Vamos agora usar o modelo para fazer previsões."
      ]
    },
    {
      "cell_type": "code",
      "metadata": {
        "id": "na24vZiS3W2J"
      },
      "source": [
        "# Função para obter uma previsão\n",
        "def get_resultado_previsto(input, dic_inverso_palavra):\n",
        "    index = np.argmax(input)\n",
        "    return dic_inverso_palavra[index]\n"
      ],
      "execution_count": 21,
      "outputs": []
    },
    {
      "cell_type": "code",
      "metadata": {
        "id": "BWpJdbj94ZUg"
      },
      "source": [
        "# Função para prever sentenças (aplicamos aos novos dados o mesmo tratamento usado nos dados de treino)\n",
        "def preve_sentenca(sentence):\n",
        "   \n",
        "    # Dividimos a sentença com split\n",
        "    sentence_split = sentence.replace('.','').lower().split()\n",
        "   \n",
        "    # Criamos o vetor de sentença\n",
        "    sentence_vector = make_sentence_vector(sentence_split, dic_palavra)\n",
        "   \n",
        "    # Faz a previsão com o modelo\n",
        "    prediction_array = modelo(sentence_vector).data.numpy()\n",
        "   \n",
        "    # Print dos resultados\n",
        "    print('Palavras Anteriores: {}\\n'.format(sentence_split[:2]))\n",
        "    print('Palavra Prevista: {}\\n'.format(get_resultado_previsto(prediction_array[0], dic_inverso_palavra)))\n",
        "    print('Palavras Seguintes: {}\\n'.format(sentence_split[2:]))"
      ],
      "execution_count": 22,
      "outputs": []
    },
    {
      "cell_type": "markdown",
      "metadata": {
        "id": "7UQLFF2a5F6l"
      },
      "source": [
        "#<font color=\"Chocolate\">Previsões com o Modelo</font>\n",
        "Dentro da frase: \"ausência de intimação anterior para realizar\", vejamos se o modelo consegue prever a palavra.\n",
        "\n",
        "Vou omitir a palavra intimação e essa deve ser a palavra prevista pelo modelo. Vamos passar como dados de entrada as duas palavras anteriores e as duas palavras posteriores."
      ]
    },
    {
      "cell_type": "code",
      "metadata": {
        "colab": {
          "base_uri": "https://localhost:8080/"
        },
        "id": "fPwhH8k640G0",
        "outputId": "d7a0fe2c-eda5-4ce1-f6c8-4378450af451"
      },
      "source": [
        "# Previsão com o modelo\n",
        "preve_sentenca('ausência de anterior para')\n"
      ],
      "execution_count": 23,
      "outputs": [
        {
          "output_type": "stream",
          "text": [
            "Palavras Anteriores: ['ausência', 'de']\n",
            "\n",
            "Palavra Prevista: intimação\n",
            "\n",
            "Palavras Seguintes: ['anterior', 'para']\n",
            "\n"
          ],
          "name": "stdout"
        }
      ]
    },
    {
      "cell_type": "code",
      "metadata": {
        "colab": {
          "base_uri": "https://localhost:8080/"
        },
        "id": "-Cu8j0m95pXp",
        "outputId": "a230e358-3d90-4c95-e51f-e97de4e7b8a1"
      },
      "source": [
        "# Emdedding da palavra\n",
        "print(modelo.get_word_emdedding('intimação'))\n"
      ],
      "execution_count": 24,
      "outputs": [
        {
          "output_type": "stream",
          "text": [
            "tensor([[ 0.1381, -0.8328, -0.6479,  0.4492, -0.0958, -1.5677,  0.4467,  0.0566,\n",
            "         -1.0356, -1.6364, -0.7501, -0.2022, -1.8816,  0.8985,  1.0868, -0.9119,\n",
            "         -0.0781,  1.1288, -0.7877, -0.5345]], grad_fn=<ViewBackward>)\n"
          ],
          "name": "stdout"
        }
      ]
    },
    {
      "cell_type": "markdown",
      "metadata": {
        "id": "Xix54MpC6BNX"
      },
      "source": [
        "Perfeito! O modelo fez a previsão da sentença no Embargo de Declaração!  exemplo.\n",
        "\n",
        "Dentro da frase: **\"devendo incidir juros de 1%\"**, vejamos se o modelo consegue prever a palavra.\n",
        "\n",
        "Vou omitir a palavra **juros** e essa deve ser a palavra prevista pelo modelo. Vamos passar como dados de entrada as duas palavras anteriores e as duas palavras posteriores."
      ]
    },
    {
      "cell_type": "code",
      "metadata": {
        "colab": {
          "base_uri": "https://localhost:8080/"
        },
        "id": "flLtc9k-5wpO",
        "outputId": "be1a88e2-234c-4253-95f7-2e2a8ec81365"
      },
      "source": [
        "# Previsão com o modelo\n",
        "preve_sentenca('devendo incidir de 1%')\n"
      ],
      "execution_count": 25,
      "outputs": [
        {
          "output_type": "stream",
          "text": [
            "Palavras Anteriores: ['devendo', 'incidir']\n",
            "\n",
            "Palavra Prevista: juros\n",
            "\n",
            "Palavras Seguintes: ['de', '1%']\n",
            "\n"
          ],
          "name": "stdout"
        }
      ]
    },
    {
      "cell_type": "markdown",
      "metadata": {
        "id": "453Xh_eb6mK-"
      },
      "source": [
        "#<font color=\"red\">Perfeito!</font>\n",
        "O modelo fez a previsão da sentença no Embargo de Declaração."
      ]
    }
  ]
}