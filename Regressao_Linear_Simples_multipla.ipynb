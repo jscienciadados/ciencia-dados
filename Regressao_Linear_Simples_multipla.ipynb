{
  "nbformat": 4,
  "nbformat_minor": 0,
  "metadata": {
    "colab": {
      "name": "Regressao-Linear-Simples_multipla.ipynb",
      "provenance": []
    },
    "kernelspec": {
      "name": "python3",
      "display_name": "Python 3"
    },
    "language_info": {
      "name": "python"
    }
  },
  "cells": [
    {
      "cell_type": "markdown",
      "metadata": {
        "id": "Up8XYVFuunbO"
      },
      "source": [
        "#<font color=\"MediumOrchid\">Regressão Linear Simples</font>"
      ]
    },
    {
      "cell_type": "code",
      "metadata": {
        "id": "Fs2BxRnPueWz"
      },
      "source": [
        "# imports\n",
        "import pandas as pd\n",
        "import numpy as np\n",
        "import matplotlib.pyplot as plt\n",
        "from sklearn.linear_model import LinearRegression\n",
        "from yellowbrick.regressor import ResidualsPlot"
      ],
      "execution_count": 2,
      "outputs": []
    },
    {
      "cell_type": "code",
      "metadata": {
        "colab": {
          "base_uri": "https://localhost:8080/"
        },
        "id": "4_N8MlD2vC35",
        "outputId": "9e579d26-3955-4bcc-8475-0ad6e38082bf"
      },
      "source": [
        "# Dados\n",
        "base = pd.read_csv(\"dados/cars.csv\")\n",
        "base.shape"
      ],
      "execution_count": 5,
      "outputs": [
        {
          "output_type": "execute_result",
          "data": {
            "text/plain": [
              "(50, 3)"
            ]
          },
          "metadata": {
            "tags": []
          },
          "execution_count": 5
        }
      ]
    },
    {
      "cell_type": "code",
      "metadata": {
        "colab": {
          "base_uri": "https://localhost:8080/",
          "height": 204
        },
        "id": "BcGXW-6mwHJd",
        "outputId": "3ea5333e-b8ad-400d-fb41-3546cbbd39bc"
      },
      "source": [
        "base.head()"
      ],
      "execution_count": 6,
      "outputs": [
        {
          "output_type": "execute_result",
          "data": {
            "text/html": [
              "<div>\n",
              "<style scoped>\n",
              "    .dataframe tbody tr th:only-of-type {\n",
              "        vertical-align: middle;\n",
              "    }\n",
              "\n",
              "    .dataframe tbody tr th {\n",
              "        vertical-align: top;\n",
              "    }\n",
              "\n",
              "    .dataframe thead th {\n",
              "        text-align: right;\n",
              "    }\n",
              "</style>\n",
              "<table border=\"1\" class=\"dataframe\">\n",
              "  <thead>\n",
              "    <tr style=\"text-align: right;\">\n",
              "      <th></th>\n",
              "      <th>Unnamed: 0</th>\n",
              "      <th>speed</th>\n",
              "      <th>dist</th>\n",
              "    </tr>\n",
              "  </thead>\n",
              "  <tbody>\n",
              "    <tr>\n",
              "      <th>0</th>\n",
              "      <td>1</td>\n",
              "      <td>4</td>\n",
              "      <td>2</td>\n",
              "    </tr>\n",
              "    <tr>\n",
              "      <th>1</th>\n",
              "      <td>2</td>\n",
              "      <td>4</td>\n",
              "      <td>10</td>\n",
              "    </tr>\n",
              "    <tr>\n",
              "      <th>2</th>\n",
              "      <td>3</td>\n",
              "      <td>7</td>\n",
              "      <td>4</td>\n",
              "    </tr>\n",
              "    <tr>\n",
              "      <th>3</th>\n",
              "      <td>4</td>\n",
              "      <td>7</td>\n",
              "      <td>22</td>\n",
              "    </tr>\n",
              "    <tr>\n",
              "      <th>4</th>\n",
              "      <td>5</td>\n",
              "      <td>8</td>\n",
              "      <td>16</td>\n",
              "    </tr>\n",
              "  </tbody>\n",
              "</table>\n",
              "</div>"
            ],
            "text/plain": [
              "   Unnamed: 0  speed  dist\n",
              "0           1      4     2\n",
              "1           2      4    10\n",
              "2           3      7     4\n",
              "3           4      7    22\n",
              "4           5      8    16"
            ]
          },
          "metadata": {
            "tags": []
          },
          "execution_count": 6
        }
      ]
    },
    {
      "cell_type": "markdown",
      "metadata": {
        "id": "D3kNz4gXwgcm"
      },
      "source": [
        "Análise Exploratória "
      ]
    },
    {
      "cell_type": "code",
      "metadata": {
        "id": "FPbBLA8BwKSh"
      },
      "source": [
        "base = base.drop(['Unnamed: 0'], axis=1)"
      ],
      "execution_count": 7,
      "outputs": []
    },
    {
      "cell_type": "code",
      "metadata": {
        "colab": {
          "base_uri": "https://localhost:8080/",
          "height": 204
        },
        "id": "n2im1MDRwYy1",
        "outputId": "c6bbcbee-0ee6-43d3-fd1d-a235fcfaa0db"
      },
      "source": [
        "base.head()"
      ],
      "execution_count": 8,
      "outputs": [
        {
          "output_type": "execute_result",
          "data": {
            "text/html": [
              "<div>\n",
              "<style scoped>\n",
              "    .dataframe tbody tr th:only-of-type {\n",
              "        vertical-align: middle;\n",
              "    }\n",
              "\n",
              "    .dataframe tbody tr th {\n",
              "        vertical-align: top;\n",
              "    }\n",
              "\n",
              "    .dataframe thead th {\n",
              "        text-align: right;\n",
              "    }\n",
              "</style>\n",
              "<table border=\"1\" class=\"dataframe\">\n",
              "  <thead>\n",
              "    <tr style=\"text-align: right;\">\n",
              "      <th></th>\n",
              "      <th>speed</th>\n",
              "      <th>dist</th>\n",
              "    </tr>\n",
              "  </thead>\n",
              "  <tbody>\n",
              "    <tr>\n",
              "      <th>0</th>\n",
              "      <td>4</td>\n",
              "      <td>2</td>\n",
              "    </tr>\n",
              "    <tr>\n",
              "      <th>1</th>\n",
              "      <td>4</td>\n",
              "      <td>10</td>\n",
              "    </tr>\n",
              "    <tr>\n",
              "      <th>2</th>\n",
              "      <td>7</td>\n",
              "      <td>4</td>\n",
              "    </tr>\n",
              "    <tr>\n",
              "      <th>3</th>\n",
              "      <td>7</td>\n",
              "      <td>22</td>\n",
              "    </tr>\n",
              "    <tr>\n",
              "      <th>4</th>\n",
              "      <td>8</td>\n",
              "      <td>16</td>\n",
              "    </tr>\n",
              "  </tbody>\n",
              "</table>\n",
              "</div>"
            ],
            "text/plain": [
              "   speed  dist\n",
              "0      4     2\n",
              "1      4    10\n",
              "2      7     4\n",
              "3      7    22\n",
              "4      8    16"
            ]
          },
          "metadata": {
            "tags": []
          },
          "execution_count": 8
        }
      ]
    },
    {
      "cell_type": "markdown",
      "metadata": {
        "id": "UWc1k6gSwmqE"
      },
      "source": [
        "Definição das variaveis x e y x => distancia e a variavel independente e y => velocidade é a variavel dependente."
      ]
    },
    {
      "cell_type": "code",
      "metadata": {
        "id": "DJ9iPQtbwd6R"
      },
      "source": [
        "x = base.iloc[:, 1].values\n",
        "\n"
      ],
      "execution_count": 10,
      "outputs": []
    },
    {
      "cell_type": "code",
      "metadata": {
        "id": "BpLIPGwfxJbj"
      },
      "source": [
        "y = base.iloc[:, 0].values"
      ],
      "execution_count": 11,
      "outputs": []
    },
    {
      "cell_type": "code",
      "metadata": {
        "colab": {
          "base_uri": "https://localhost:8080/"
        },
        "id": "__lIcBR7xYrX",
        "outputId": "a2509948-db70-4631-bf94-24b89318ae61"
      },
      "source": [
        "x"
      ],
      "execution_count": 12,
      "outputs": [
        {
          "output_type": "execute_result",
          "data": {
            "text/plain": [
              "array([  2,  10,   4,  22,  16,  10,  18,  26,  34,  17,  28,  14,  20,\n",
              "        24,  28,  26,  34,  34,  46,  26,  36,  60,  80,  20,  26,  54,\n",
              "        32,  40,  32,  40,  50,  42,  56,  76,  84,  36,  46,  68,  32,\n",
              "        48,  52,  56,  64,  66,  54,  70,  92,  93, 120,  85])"
            ]
          },
          "metadata": {
            "tags": []
          },
          "execution_count": 12
        }
      ]
    },
    {
      "cell_type": "markdown",
      "metadata": {
        "id": "mh3cn0vixcGV"
      },
      "source": [
        "Correlação da variavel x e y"
      ]
    },
    {
      "cell_type": "code",
      "metadata": {
        "colab": {
          "base_uri": "https://localhost:8080/"
        },
        "id": "lJ5lDpm3xaGR",
        "outputId": "a52b01fc-2d3d-4fc5-d843-bd18500dccc5"
      },
      "source": [
        "correlacao = np.corrcoef(x,y)\n",
        "correlacao"
      ],
      "execution_count": 13,
      "outputs": [
        {
          "output_type": "execute_result",
          "data": {
            "text/plain": [
              "array([[1.       , 0.8068949],\n",
              "       [0.8068949, 1.       ]])"
            ]
          },
          "metadata": {
            "tags": []
          },
          "execution_count": 13
        }
      ]
    },
    {
      "cell_type": "markdown",
      "metadata": {
        "id": "CtUyV7eUxuIf"
      },
      "source": [
        "formato de matriz com uma coluna a mais"
      ]
    },
    {
      "cell_type": "code",
      "metadata": {
        "id": "tXl7pmB9xolW"
      },
      "source": [
        "x = x.reshape(-1,1)\n"
      ],
      "execution_count": 14,
      "outputs": []
    },
    {
      "cell_type": "markdown",
      "metadata": {
        "id": "dL_-bCnkx43A"
      },
      "source": [
        "Criação do modelo e treinamento => fit indica que o treinamento deve ser executado."
      ]
    },
    {
      "cell_type": "code",
      "metadata": {
        "colab": {
          "base_uri": "https://localhost:8080/"
        },
        "id": "u-KO2l7LyAg0",
        "outputId": "02d2c084-7757-44ee-d763-d085eda108ed"
      },
      "source": [
        "modelo = LinearRegression()\n",
        "modelo.fit(x,y)"
      ],
      "execution_count": 16,
      "outputs": [
        {
          "output_type": "execute_result",
          "data": {
            "text/plain": [
              "LinearRegression(copy_X=True, fit_intercept=True, n_jobs=None, normalize=False)"
            ]
          },
          "metadata": {
            "tags": []
          },
          "execution_count": 16
        }
      ]
    },
    {
      "cell_type": "markdown",
      "metadata": {
        "id": "LOfC4LjGyOmZ"
      },
      "source": [
        "Visualização do coeficientes"
      ]
    },
    {
      "cell_type": "code",
      "metadata": {
        "colab": {
          "base_uri": "https://localhost:8080/"
        },
        "id": "mYIXZhp3yND8",
        "outputId": "458a9c4d-10ec-4edd-d115-14924e110074"
      },
      "source": [
        "print(modelo.intercept_)\n",
        "print(modelo.coef_)"
      ],
      "execution_count": 17,
      "outputs": [
        {
          "output_type": "stream",
          "text": [
            "8.283905641787172\n",
            "[0.16556757]\n"
          ],
          "name": "stdout"
        }
      ]
    },
    {
      "cell_type": "markdown",
      "metadata": {
        "id": "3RfD882LytS3"
      },
      "source": [
        "Geração do grafico com os pontos reais e as previsões."
      ]
    },
    {
      "cell_type": "code",
      "metadata": {
        "colab": {
          "base_uri": "https://localhost:8080/",
          "height": 364
        },
        "id": "ZUHqTiC6ymh4",
        "outputId": "fdea8da3-28c0-4293-f81b-558da3865e5e"
      },
      "source": [
        "plt.scatter(x,y)\n",
        "plt.plot(x, modelo.predict(x), color = 'red')"
      ],
      "execution_count": 18,
      "outputs": [
        {
          "output_type": "execute_result",
          "data": {
            "text/plain": [
              "[<matplotlib.lines.Line2D at 0x7fd166619790>]"
            ]
          },
          "metadata": {
            "tags": []
          },
          "execution_count": 18
        },
        {
          "output_type": "display_data",
          "data": {
            "image/png": "[encoded data removed]",
            "text/plain": [
              "<Figure size 576x396 with 1 Axes>"
            ]
          },
          "metadata": {
            "tags": []
          }
        }
      ]
    },
    {
      "cell_type": "markdown",
      "metadata": {
        "id": "EjCDYTX60Vl_"
      },
      "source": [
        "#<font color=\"green\">Previsão</font>\n",
        "\n",
        "qual a velocidade se levou 22 pés para parar?"
      ]
    },
    {
      "cell_type": "code",
      "metadata": {
        "colab": {
          "base_uri": "https://localhost:8080/"
        },
        "id": "uyf9EtedzDLs",
        "outputId": "2ae272cb-7d82-4a60-e5bf-0dc8f668c141"
      },
      "source": [
        "modelo.intercept_ + modelo.coef_ * 22"
      ],
      "execution_count": 19,
      "outputs": [
        {
          "output_type": "execute_result",
          "data": {
            "text/plain": [
              "array([11.92639228])"
            ]
          },
          "metadata": {
            "tags": []
          },
          "execution_count": 19
        }
      ]
    },
    {
      "cell_type": "code",
      "metadata": {
        "colab": {
          "base_uri": "https://localhost:8080/"
        },
        "id": "bORKCb8-1GPI",
        "outputId": "9e7b952e-0ef6-47d1-ef6e-10532b8b2b1f"
      },
      "source": [
        "# previsao usando o predict\n",
        "modelo.predict([[22]])"
      ],
      "execution_count": 20,
      "outputs": [
        {
          "output_type": "execute_result",
          "data": {
            "text/plain": [
              "array([11.92639228])"
            ]
          },
          "metadata": {
            "tags": []
          },
          "execution_count": 20
        }
      ]
    },
    {
      "cell_type": "markdown",
      "metadata": {
        "id": "Oa31EePx1NQz"
      },
      "source": [
        "Grafico para visualizar os residuais"
      ]
    },
    {
      "cell_type": "code",
      "metadata": {
        "colab": {
          "base_uri": "https://localhost:8080/",
          "height": 376
        },
        "id": "EZe7R8gx1LOM",
        "outputId": "f79c1420-c6aa-482e-acf3-53f3b2da71fe"
      },
      "source": [
        "visualizador = ResidualsPlot(modelo)\n",
        "visualizador.fit(x,y)\n",
        "visualizador.poof()"
      ],
      "execution_count": 21,
      "outputs": [
        {
          "output_type": "display_data",
          "data": {
            "image/png": "[encoded data removed]",
            "text/plain": [
              "<Figure size 576x396 with 2 Axes>"
            ]
          },
          "metadata": {
            "tags": []
          }
        }
      ]
    },
    {
      "cell_type": "code",
      "metadata": {
        "id": "QzxtaTi-1bfL"
      },
      "source": [
        "import statsmodels.formula.api as sm "
      ],
      "execution_count": 22,
      "outputs": []
    },
    {
      "cell_type": "code",
      "metadata": {
        "colab": {
          "base_uri": "https://localhost:8080/",
          "height": 204
        },
        "id": "mc5dISz65bHL",
        "outputId": "4c42ea5b-dcea-4614-8f18-3c2567044091"
      },
      "source": [
        "carros = pd.read_csv(\"dados/mt_cars.csv\")\n",
        "carros.head()"
      ],
      "execution_count": 25,
      "outputs": [
        {
          "output_type": "execute_result",
          "data": {
            "text/html": [
              "<div>\n",
              "<style scoped>\n",
              "    .dataframe tbody tr th:only-of-type {\n",
              "        vertical-align: middle;\n",
              "    }\n",
              "\n",
              "    .dataframe tbody tr th {\n",
              "        vertical-align: top;\n",
              "    }\n",
              "\n",
              "    .dataframe thead th {\n",
              "        text-align: right;\n",
              "    }\n",
              "</style>\n",
              "<table border=\"1\" class=\"dataframe\">\n",
              "  <thead>\n",
              "    <tr style=\"text-align: right;\">\n",
              "      <th></th>\n",
              "      <th>Unnamed: 0</th>\n",
              "      <th>mpg</th>\n",
              "      <th>cyl</th>\n",
              "      <th>disp</th>\n",
              "      <th>hp</th>\n",
              "      <th>drat</th>\n",
              "      <th>wt</th>\n",
              "      <th>qsec</th>\n",
              "      <th>vs</th>\n",
              "      <th>am</th>\n",
              "      <th>gear</th>\n",
              "      <th>carb</th>\n",
              "    </tr>\n",
              "  </thead>\n",
              "  <tbody>\n",
              "    <tr>\n",
              "      <th>0</th>\n",
              "      <td>Mazda RX4</td>\n",
              "      <td>21.0</td>\n",
              "      <td>6</td>\n",
              "      <td>160.0</td>\n",
              "      <td>110</td>\n",
              "      <td>3.90</td>\n",
              "      <td>2.620</td>\n",
              "      <td>16.46</td>\n",
              "      <td>0</td>\n",
              "      <td>1</td>\n",
              "      <td>4</td>\n",
              "      <td>4</td>\n",
              "    </tr>\n",
              "    <tr>\n",
              "      <th>1</th>\n",
              "      <td>Mazda RX4 Wag</td>\n",
              "      <td>21.0</td>\n",
              "      <td>6</td>\n",
              "      <td>160.0</td>\n",
              "      <td>110</td>\n",
              "      <td>3.90</td>\n",
              "      <td>2.875</td>\n",
              "      <td>17.02</td>\n",
              "      <td>0</td>\n",
              "      <td>1</td>\n",
              "      <td>4</td>\n",
              "      <td>4</td>\n",
              "    </tr>\n",
              "    <tr>\n",
              "      <th>2</th>\n",
              "      <td>Datsun 710</td>\n",
              "      <td>22.8</td>\n",
              "      <td>4</td>\n",
              "      <td>108.0</td>\n",
              "      <td>93</td>\n",
              "      <td>3.85</td>\n",
              "      <td>2.320</td>\n",
              "      <td>18.61</td>\n",
              "      <td>1</td>\n",
              "      <td>1</td>\n",
              "      <td>4</td>\n",
              "      <td>1</td>\n",
              "    </tr>\n",
              "    <tr>\n",
              "      <th>3</th>\n",
              "      <td>Hornet 4 Drive</td>\n",
              "      <td>21.4</td>\n",
              "      <td>6</td>\n",
              "      <td>258.0</td>\n",
              "      <td>110</td>\n",
              "      <td>3.08</td>\n",
              "      <td>3.215</td>\n",
              "      <td>19.44</td>\n",
              "      <td>1</td>\n",
              "      <td>0</td>\n",
              "      <td>3</td>\n",
              "      <td>1</td>\n",
              "    </tr>\n",
              "    <tr>\n",
              "      <th>4</th>\n",
              "      <td>Hornet Sportabout</td>\n",
              "      <td>18.7</td>\n",
              "      <td>8</td>\n",
              "      <td>360.0</td>\n",
              "      <td>175</td>\n",
              "      <td>3.15</td>\n",
              "      <td>3.440</td>\n",
              "      <td>17.02</td>\n",
              "      <td>0</td>\n",
              "      <td>0</td>\n",
              "      <td>3</td>\n",
              "      <td>2</td>\n",
              "    </tr>\n",
              "  </tbody>\n",
              "</table>\n",
              "</div>"
            ],
            "text/plain": [
              "          Unnamed: 0   mpg  cyl   disp   hp  ...   qsec  vs  am  gear  carb\n",
              "0          Mazda RX4  21.0    6  160.0  110  ...  16.46   0   1     4     4\n",
              "1      Mazda RX4 Wag  21.0    6  160.0  110  ...  17.02   0   1     4     4\n",
              "2         Datsun 710  22.8    4  108.0   93  ...  18.61   1   1     4     1\n",
              "3     Hornet 4 Drive  21.4    6  258.0  110  ...  19.44   1   0     3     1\n",
              "4  Hornet Sportabout  18.7    8  360.0  175  ...  17.02   0   0     3     2\n",
              "\n",
              "[5 rows x 12 columns]"
            ]
          },
          "metadata": {
            "tags": []
          },
          "execution_count": 25
        }
      ]
    },
    {
      "cell_type": "code",
      "metadata": {
        "id": "MzPimNCz54NR"
      },
      "source": [
        "# excluir a coluna Unnamed: 0\n",
        "carros = carros.drop(['Unnamed: 0'], axis=1)"
      ],
      "execution_count": 27,
      "outputs": []
    },
    {
      "cell_type": "markdown",
      "metadata": {
        "id": "TBENMwgf6O-n"
      },
      "source": [
        "Criação das variaveis x e y: variavel independente e variavel dependente"
      ]
    },
    {
      "cell_type": "code",
      "metadata": {
        "id": "17IrEaUY6E46"
      },
      "source": [
        "X = carros.iloc[:, 2].values # => coluna disp\n",
        "y = carros.iloc[:, 0].values # => coluna mpg"
      ],
      "execution_count": 28,
      "outputs": []
    },
    {
      "cell_type": "markdown",
      "metadata": {
        "id": "1sGZC5vE7Db5"
      },
      "source": [
        "Correlação"
      ]
    },
    {
      "cell_type": "code",
      "metadata": {
        "colab": {
          "base_uri": "https://localhost:8080/"
        },
        "id": "NIIbGVgo7CKx",
        "outputId": "0840a335-89b4-4ca0-fb4a-829910922041"
      },
      "source": [
        "correlacao_mtcars = np.corrcoef(X, y)\n",
        "correlacao_mtcars"
      ],
      "execution_count": 29,
      "outputs": [
        {
          "output_type": "execute_result",
          "data": {
            "text/plain": [
              "array([[ 1.        , -0.84755138],\n",
              "       [-0.84755138,  1.        ]])"
            ]
          },
          "metadata": {
            "tags": []
          },
          "execution_count": 29
        }
      ]
    },
    {
      "cell_type": "markdown",
      "metadata": {
        "id": "LAQF4dXP7P1Q"
      },
      "source": [
        "Mudança do formato de x para o formato de matriz."
      ]
    },
    {
      "cell_type": "code",
      "metadata": {
        "id": "6aMK8w-P7Mia"
      },
      "source": [
        "X = X.reshape(-1,1)"
      ],
      "execution_count": 30,
      "outputs": []
    },
    {
      "cell_type": "markdown",
      "metadata": {
        "id": "rKFnPVVp7bMl"
      },
      "source": [
        "#<font color=\"orange\">Criação do modelo - treinamento e visualização dos coeficientes e do score do modelo</font>"
      ]
    },
    {
      "cell_type": "code",
      "metadata": {
        "colab": {
          "base_uri": "https://localhost:8080/"
        },
        "id": "lfapNpr87ZRs",
        "outputId": "974feb5d-4573-4023-b0d5-73a1d4793fea"
      },
      "source": [
        "mtcars_model = LinearRegression()\n",
        "mtcars_model.fit(X,y)"
      ],
      "execution_count": 32,
      "outputs": [
        {
          "output_type": "execute_result",
          "data": {
            "text/plain": [
              "LinearRegression(copy_X=True, fit_intercept=True, n_jobs=None, normalize=False)"
            ]
          },
          "metadata": {
            "tags": []
          },
          "execution_count": 32
        }
      ]
    },
    {
      "cell_type": "code",
      "metadata": {
        "colab": {
          "base_uri": "https://localhost:8080/"
        },
        "id": "U4RnvJxr8Jqg",
        "outputId": "08b15867-6266-4765-fc73-c9506896bf37"
      },
      "source": [
        "# Intercept\n",
        "print(mtcars_model.intercept_)\n",
        "# Inclinação\n",
        "print(mtcars_model.coef_)"
      ],
      "execution_count": 33,
      "outputs": [
        {
          "output_type": "stream",
          "text": [
            "29.599854756163946\n",
            "[-0.04121512]\n"
          ],
          "name": "stdout"
        }
      ]
    },
    {
      "cell_type": "markdown",
      "metadata": {
        "id": "cNqYXGI48aSN"
      },
      "source": [
        "Score R²"
      ]
    },
    {
      "cell_type": "code",
      "metadata": {
        "colab": {
          "base_uri": "https://localhost:8080/"
        },
        "id": "zH49v67Q8W5z",
        "outputId": "73a0ff5a-d030-4a6a-e93f-2422d1378aa1"
      },
      "source": [
        "mtcars_model.score(X,y)"
      ],
      "execution_count": 34,
      "outputs": [
        {
          "output_type": "execute_result",
          "data": {
            "text/plain": [
              "0.7183433404897299"
            ]
          },
          "metadata": {
            "tags": []
          },
          "execution_count": 34
        }
      ]
    },
    {
      "cell_type": "markdown",
      "metadata": {
        "id": "Xne253p89cZP"
      },
      "source": [
        "Gerando Previsões"
      ]
    },
    {
      "cell_type": "code",
      "metadata": {
        "colab": {
          "base_uri": "https://localhost:8080/"
        },
        "id": "xaf8iJZw8e5S",
        "outputId": "bb9c5d28-9db2-4ea2-d0d2-e02a6dfe7c2f"
      },
      "source": [
        "previsao = mtcars_model.predict(X)\n",
        "previsao"
      ],
      "execution_count": 36,
      "outputs": [
        {
          "output_type": "execute_result",
          "data": {
            "text/plain": [
              "array([23.00543556, 23.00543556, 25.1486218 , 18.96635381, 14.76241157,\n",
              "       20.32645276, 14.76241157, 23.55359666, 23.79676587, 22.69220065,\n",
              "       22.69220065, 18.23272467, 18.23272467, 18.23272467, 10.14631813,\n",
              "       10.64089957, 11.46520197, 26.35622482, 26.47987017, 26.66945973,\n",
              "       24.64991885, 16.49344661, 17.07045829, 15.17456277, 13.11380677,\n",
              "       26.34386028, 24.64167582, 25.68029685, 15.13334765, 23.62366236,\n",
              "       17.19410365, 24.61282524])"
            ]
          },
          "metadata": {
            "tags": []
          },
          "execution_count": 36
        }
      ]
    },
    {
      "cell_type": "markdown",
      "metadata": {
        "id": "IIhNGBH298ye"
      },
      "source": [
        "Criação do modelo, utilizando a biblioteca statsmodel\n"
      ]
    },
    {
      "cell_type": "code",
      "metadata": {
        "colab": {
          "base_uri": "https://localhost:8080/",
          "height": 444
        },
        "id": "jGixHmQd9oB7",
        "outputId": "f67003f8-e013-4ed6-a9af-c3d6217dfa5e"
      },
      "source": [
        "model_ajustado = sm.ols(formula= \"mpg ~ disp\", data= carros)\n",
        "model_treinado = model_ajustado.fit()\n",
        "model_treinado.summary()"
      ],
      "execution_count": 39,
      "outputs": [
        {
          "output_type": "execute_result",
          "data": {
            "text/html": [
              "<table class=\"simpletable\">\n",
              "<caption>OLS Regression Results</caption>\n",
              "<tr>\n",
              "  <th>Dep. Variable:</th>           <td>mpg</td>       <th>  R-squared:         </th> <td>   0.718</td>\n",
              "</tr>\n",
              "<tr>\n",
              "  <th>Model:</th>                   <td>OLS</td>       <th>  Adj. R-squared:    </th> <td>   0.709</td>\n",
              "</tr>\n",
              "<tr>\n",
              "  <th>Method:</th>             <td>Least Squares</td>  <th>  F-statistic:       </th> <td>   76.51</td>\n",
              "</tr>\n",
              "<tr>\n",
              "  <th>Date:</th>             <td>Thu, 29 Apr 2021</td> <th>  Prob (F-statistic):</th> <td>9.38e-10</td>\n",
              "</tr>\n",
              "<tr>\n",
              "  <th>Time:</th>                 <td>18:54:02</td>     <th>  Log-Likelihood:    </th> <td> -82.105</td>\n",
              "</tr>\n",
              "<tr>\n",
              "  <th>No. Observations:</th>      <td>    32</td>      <th>  AIC:               </th> <td>   168.2</td>\n",
              "</tr>\n",
              "<tr>\n",
              "  <th>Df Residuals:</th>          <td>    30</td>      <th>  BIC:               </th> <td>   171.1</td>\n",
              "</tr>\n",
              "<tr>\n",
              "  <th>Df Model:</th>              <td>     1</td>      <th>                     </th>     <td> </td>   \n",
              "</tr>\n",
              "<tr>\n",
              "  <th>Covariance Type:</th>      <td>nonrobust</td>    <th>                     </th>     <td> </td>   \n",
              "</tr>\n",
              "</table>\n",
              "<table class=\"simpletable\">\n",
              "<tr>\n",
              "      <td></td>         <th>coef</th>     <th>std err</th>      <th>t</th>      <th>P>|t|</th>  <th>[0.025</th>    <th>0.975]</th>  \n",
              "</tr>\n",
              "<tr>\n",
              "  <th>Intercept</th> <td>   29.5999</td> <td>    1.230</td> <td>   24.070</td> <td> 0.000</td> <td>   27.088</td> <td>   32.111</td>\n",
              "</tr>\n",
              "<tr>\n",
              "  <th>disp</th>      <td>   -0.0412</td> <td>    0.005</td> <td>   -8.747</td> <td> 0.000</td> <td>   -0.051</td> <td>   -0.032</td>\n",
              "</tr>\n",
              "</table>\n",
              "<table class=\"simpletable\">\n",
              "<tr>\n",
              "  <th>Omnibus:</th>       <td> 3.368</td> <th>  Durbin-Watson:     </th> <td>   1.250</td>\n",
              "</tr>\n",
              "<tr>\n",
              "  <th>Prob(Omnibus):</th> <td> 0.186</td> <th>  Jarque-Bera (JB):  </th> <td>   3.049</td>\n",
              "</tr>\n",
              "<tr>\n",
              "  <th>Skew:</th>          <td> 0.719</td> <th>  Prob(JB):          </th> <td>   0.218</td>\n",
              "</tr>\n",
              "<tr>\n",
              "  <th>Kurtosis:</th>      <td> 2.532</td> <th>  Cond. No.          </th> <td>    558.</td>\n",
              "</tr>\n",
              "</table><br/><br/>Warnings:<br/>[1] Standard Errors assume that the covariance matrix of the errors is correctly specified."
            ],
            "text/plain": [
              "<class 'statsmodels.iolib.summary.Summary'>\n",
              "\"\"\"\n",
              "                            OLS Regression Results                            \n",
              "==============================================================================\n",
              "Dep. Variable:                    mpg   R-squared:                       0.718\n",
              "Model:                            OLS   Adj. R-squared:                  0.709\n",
              "Method:                 Least Squares   F-statistic:                     76.51\n",
              "Date:                Thu, 29 Apr 2021   Prob (F-statistic):           9.38e-10\n",
              "Time:                        18:54:02   Log-Likelihood:                -82.105\n",
              "No. Observations:                  32   AIC:                             168.2\n",
              "Df Residuals:                      30   BIC:                             171.1\n",
              "Df Model:                           1                                         \n",
              "Covariance Type:            nonrobust                                         \n",
              "==============================================================================\n",
              "                 coef    std err          t      P>|t|      [0.025      0.975]\n",
              "------------------------------------------------------------------------------\n",
              "Intercept     29.5999      1.230     24.070      0.000      27.088      32.111\n",
              "disp          -0.0412      0.005     -8.747      0.000      -0.051      -0.032\n",
              "==============================================================================\n",
              "Omnibus:                        3.368   Durbin-Watson:                   1.250\n",
              "Prob(Omnibus):                  0.186   Jarque-Bera (JB):                3.049\n",
              "Skew:                           0.719   Prob(JB):                        0.218\n",
              "Kurtosis:                       2.532   Cond. No.                         558.\n",
              "==============================================================================\n",
              "\n",
              "Warnings:\n",
              "[1] Standard Errors assume that the covariance matrix of the errors is correctly specified.\n",
              "\"\"\""
            ]
          },
          "metadata": {
            "tags": []
          },
          "execution_count": 39
        }
      ]
    },
    {
      "cell_type": "code",
      "metadata": {
        "colab": {
          "base_uri": "https://localhost:8080/",
          "height": 367
        },
        "id": "1S4_FUuP-iGT",
        "outputId": "b328f8ef-c573-4e8f-cd9e-8dcb3992fb17"
      },
      "source": [
        "# Visualizando dos resultados\n",
        "plt.scatter(X, y)\n",
        "plt.plot(X, previsao, color = 'red')"
      ],
      "execution_count": 40,
      "outputs": [
        {
          "output_type": "execute_result",
          "data": {
            "text/plain": [
              "[<matplotlib.lines.Line2D at 0x7fd152592150>]"
            ]
          },
          "metadata": {
            "tags": []
          },
          "execution_count": 40
        },
        {
          "output_type": "display_data",
          "data": {
            "image/png": "[encoded data removed]",
            "text/plain": [
              "<Figure size 576x396 with 1 Axes>"
            ]
          },
          "metadata": {
            "tags": []
          }
        }
      ]
    },
    {
      "cell_type": "markdown",
      "metadata": {
        "id": "qlJmvmzL_K1G"
      },
      "source": [
        "Predict"
      ]
    },
    {
      "cell_type": "code",
      "metadata": {
        "colab": {
          "base_uri": "https://localhost:8080/"
        },
        "id": "F3lw1fzG_Gv8",
        "outputId": "67e99bb6-4035-433d-d8af-9d569d7d58a6"
      },
      "source": [
        "mtcars_model.predict([[200]])"
      ],
      "execution_count": 41,
      "outputs": [
        {
          "output_type": "execute_result",
          "data": {
            "text/plain": [
              "array([21.35683076])"
            ]
          },
          "metadata": {
            "tags": []
          },
          "execution_count": 41
        }
      ]
    },
    {
      "cell_type": "markdown",
      "metadata": {
        "id": "aZ0eszuo_5Li"
      },
      "source": [
        "# Regressão Linear Múltipla"
      ]
    },
    {
      "cell_type": "markdown",
      "metadata": {
        "id": "SQZHnaIwAB1A"
      },
      "source": [
        "Criação de novas variaveis X1 e y1 e novo modelo para comparação com o anterior\n",
        "3 variaveis independente para prever mpg: cyl --> disp --> hp"
      ]
    },
    {
      "cell_type": "code",
      "metadata": {
        "id": "vf3Rizu1_dEo"
      },
      "source": [
        "X1 = carros.iloc[:, 1:4].values\n",
        "y1 = carros.iloc[:, 0].values"
      ],
      "execution_count": 42,
      "outputs": []
    },
    {
      "cell_type": "code",
      "metadata": {
        "colab": {
          "base_uri": "https://localhost:8080/"
        },
        "id": "VpWKjgCQA9Io",
        "outputId": "aca2fcd8-8bad-43af-cfd7-4331e05dbd63"
      },
      "source": [
        "model_mult = LinearRegression()\n",
        "model_mult.fit(X1, y1)\n",
        "# score\n",
        "model_mult.score(X1, y1)"
      ],
      "execution_count": 45,
      "outputs": [
        {
          "output_type": "execute_result",
          "data": {
            "text/plain": [
              "0.7678877440928638"
            ]
          },
          "metadata": {
            "tags": []
          },
          "execution_count": 45
        }
      ]
    },
    {
      "cell_type": "markdown",
      "metadata": {
        "id": "fH_hEIuSBUeV"
      },
      "source": [
        "Criação do modelo ajustado com mais atributos \n",
        "\n",
        "Usando stats model"
      ]
    },
    {
      "cell_type": "code",
      "metadata": {
        "colab": {
          "base_uri": "https://localhost:8080/",
          "height": 520
        },
        "id": "Yayj14SFBO-p",
        "outputId": "37577488-34ea-4459-d6f7-dc94114346c9"
      },
      "source": [
        "model_ajust_mult = sm.ols(formula= 'mpg ~ cyl + disp + hp', data=carros)\n",
        "model_trein_mult = model_ajust_mult.fit()\n",
        "model_trein_mult.summary()"
      ],
      "execution_count": 48,
      "outputs": [
        {
          "output_type": "execute_result",
          "data": {
            "text/html": [
              "<table class=\"simpletable\">\n",
              "<caption>OLS Regression Results</caption>\n",
              "<tr>\n",
              "  <th>Dep. Variable:</th>           <td>mpg</td>       <th>  R-squared:         </th> <td>   0.768</td>\n",
              "</tr>\n",
              "<tr>\n",
              "  <th>Model:</th>                   <td>OLS</td>       <th>  Adj. R-squared:    </th> <td>   0.743</td>\n",
              "</tr>\n",
              "<tr>\n",
              "  <th>Method:</th>             <td>Least Squares</td>  <th>  F-statistic:       </th> <td>   30.88</td>\n",
              "</tr>\n",
              "<tr>\n",
              "  <th>Date:</th>             <td>Thu, 29 Apr 2021</td> <th>  Prob (F-statistic):</th> <td>5.05e-09</td>\n",
              "</tr>\n",
              "<tr>\n",
              "  <th>Time:</th>                 <td>19:09:51</td>     <th>  Log-Likelihood:    </th> <td> -79.009</td>\n",
              "</tr>\n",
              "<tr>\n",
              "  <th>No. Observations:</th>      <td>    32</td>      <th>  AIC:               </th> <td>   166.0</td>\n",
              "</tr>\n",
              "<tr>\n",
              "  <th>Df Residuals:</th>          <td>    28</td>      <th>  BIC:               </th> <td>   171.9</td>\n",
              "</tr>\n",
              "<tr>\n",
              "  <th>Df Model:</th>              <td>     3</td>      <th>                     </th>     <td> </td>   \n",
              "</tr>\n",
              "<tr>\n",
              "  <th>Covariance Type:</th>      <td>nonrobust</td>    <th>                     </th>     <td> </td>   \n",
              "</tr>\n",
              "</table>\n",
              "<table class=\"simpletable\">\n",
              "<tr>\n",
              "      <td></td>         <th>coef</th>     <th>std err</th>      <th>t</th>      <th>P>|t|</th>  <th>[0.025</th>    <th>0.975]</th>  \n",
              "</tr>\n",
              "<tr>\n",
              "  <th>Intercept</th> <td>   34.1849</td> <td>    2.591</td> <td>   13.195</td> <td> 0.000</td> <td>   28.878</td> <td>   39.492</td>\n",
              "</tr>\n",
              "<tr>\n",
              "  <th>cyl</th>       <td>   -1.2274</td> <td>    0.797</td> <td>   -1.540</td> <td> 0.135</td> <td>   -2.861</td> <td>    0.406</td>\n",
              "</tr>\n",
              "<tr>\n",
              "  <th>disp</th>      <td>   -0.0188</td> <td>    0.010</td> <td>   -1.811</td> <td> 0.081</td> <td>   -0.040</td> <td>    0.002</td>\n",
              "</tr>\n",
              "<tr>\n",
              "  <th>hp</th>        <td>   -0.0147</td> <td>    0.015</td> <td>   -1.002</td> <td> 0.325</td> <td>   -0.045</td> <td>    0.015</td>\n",
              "</tr>\n",
              "</table>\n",
              "<table class=\"simpletable\">\n",
              "<tr>\n",
              "  <th>Omnibus:</th>       <td> 2.942</td> <th>  Durbin-Watson:     </th> <td>   1.606</td>\n",
              "</tr>\n",
              "<tr>\n",
              "  <th>Prob(Omnibus):</th> <td> 0.230</td> <th>  Jarque-Bera (JB):  </th> <td>   2.558</td>\n",
              "</tr>\n",
              "<tr>\n",
              "  <th>Skew:</th>          <td> 0.675</td> <th>  Prob(JB):          </th> <td>   0.278</td>\n",
              "</tr>\n",
              "<tr>\n",
              "  <th>Kurtosis:</th>      <td> 2.692</td> <th>  Cond. No.          </th> <td>1.51e+03</td>\n",
              "</tr>\n",
              "</table><br/><br/>Warnings:<br/>[1] Standard Errors assume that the covariance matrix of the errors is correctly specified.<br/>[2] The condition number is large, 1.51e+03. This might indicate that there are<br/>strong multicollinearity or other numerical problems."
            ],
            "text/plain": [
              "<class 'statsmodels.iolib.summary.Summary'>\n",
              "\"\"\"\n",
              "                            OLS Regression Results                            \n",
              "==============================================================================\n",
              "Dep. Variable:                    mpg   R-squared:                       0.768\n",
              "Model:                            OLS   Adj. R-squared:                  0.743\n",
              "Method:                 Least Squares   F-statistic:                     30.88\n",
              "Date:                Thu, 29 Apr 2021   Prob (F-statistic):           5.05e-09\n",
              "Time:                        19:09:51   Log-Likelihood:                -79.009\n",
              "No. Observations:                  32   AIC:                             166.0\n",
              "Df Residuals:                      28   BIC:                             171.9\n",
              "Df Model:                           3                                         \n",
              "Covariance Type:            nonrobust                                         \n",
              "==============================================================================\n",
              "                 coef    std err          t      P>|t|      [0.025      0.975]\n",
              "------------------------------------------------------------------------------\n",
              "Intercept     34.1849      2.591     13.195      0.000      28.878      39.492\n",
              "cyl           -1.2274      0.797     -1.540      0.135      -2.861       0.406\n",
              "disp          -0.0188      0.010     -1.811      0.081      -0.040       0.002\n",
              "hp            -0.0147      0.015     -1.002      0.325      -0.045       0.015\n",
              "==============================================================================\n",
              "Omnibus:                        2.942   Durbin-Watson:                   1.606\n",
              "Prob(Omnibus):                  0.230   Jarque-Bera (JB):                2.558\n",
              "Skew:                           0.675   Prob(JB):                        0.278\n",
              "Kurtosis:                       2.692   Cond. No.                     1.51e+03\n",
              "==============================================================================\n",
              "\n",
              "Warnings:\n",
              "[1] Standard Errors assume that the covariance matrix of the errors is correctly specified.\n",
              "[2] The condition number is large, 1.51e+03. This might indicate that there are\n",
              "strong multicollinearity or other numerical problems.\n",
              "\"\"\""
            ]
          },
          "metadata": {
            "tags": []
          },
          "execution_count": 48
        }
      ]
    },
    {
      "cell_type": "markdown",
      "metadata": {
        "id": "TLtlN2HQDBLJ"
      },
      "source": [
        "Previsao de um novo registro"
      ]
    },
    {
      "cell_type": "code",
      "metadata": {
        "colab": {
          "base_uri": "https://localhost:8080/"
        },
        "id": "PNw_1Tt3CJ5n",
        "outputId": "8ba3f372-494b-4a74-bb82-98f2ba442334"
      },
      "source": [
        "novo = np.array([4, 200, 160])\n",
        "novo = novo.reshape(1, -1)\n",
        "model_mult.predict(novo)"
      ],
      "execution_count": 51,
      "outputs": [
        {
          "output_type": "execute_result",
          "data": {
            "text/plain": [
              "array([23.15892877])"
            ]
          },
          "metadata": {
            "tags": []
          },
          "execution_count": 51
        }
      ]
    },
    {
      "cell_type": "markdown",
      "metadata": {
        "id": "ly8rxYDmFO7c"
      },
      "source": [
        "#<font color=\"Maroon\">Regressão Logística</font>"
      ]
    },
    {
      "cell_type": "code",
      "metadata": {
        "id": "5EFTRr3iDc-1"
      },
      "source": [
        "from sklearn.linear_model import LogisticRegression"
      ],
      "execution_count": 52,
      "outputs": []
    },
    {
      "cell_type": "code",
      "metadata": {
        "colab": {
          "base_uri": "https://localhost:8080/",
          "height": 347
        },
        "id": "DXRlWRNiF3_r",
        "outputId": "aa2b50e9-93d7-4bab-a05b-563e70568a4e"
      },
      "source": [
        "# dados\n",
        "eleicao = pd.read_csv(\"dados/Eleicao.csv\", sep=\";\")\n",
        "plt.scatter(eleicao.DESPESAS, eleicao.SITUACAO)\n",
        "plt.show()"
      ],
      "execution_count": 55,
      "outputs": [
        {
          "output_type": "display_data",
          "data": {
            "image/png": "[encoded data removed]",
            "text/plain": [
              "<Figure size 576x396 with 1 Axes>"
            ]
          },
          "metadata": {
            "tags": []
          }
        }
      ]
    },
    {
      "cell_type": "markdown",
      "metadata": {
        "id": "e-_WCBgIGm0v"
      },
      "source": [
        "Descrição do conjunto de Dados - Estatística Básica"
      ]
    },
    {
      "cell_type": "code",
      "metadata": {
        "colab": {
          "base_uri": "https://localhost:8080/",
          "height": 297
        },
        "id": "AfQbuO4JGiHP",
        "outputId": "6ec03713-2ec1-4812-cac4-86f8d3e96e76"
      },
      "source": [
        "eleicao.describe()"
      ],
      "execution_count": 56,
      "outputs": [
        {
          "output_type": "execute_result",
          "data": {
            "text/html": [
              "<div>\n",
              "<style scoped>\n",
              "    .dataframe tbody tr th:only-of-type {\n",
              "        vertical-align: middle;\n",
              "    }\n",
              "\n",
              "    .dataframe tbody tr th {\n",
              "        vertical-align: top;\n",
              "    }\n",
              "\n",
              "    .dataframe thead th {\n",
              "        text-align: right;\n",
              "    }\n",
              "</style>\n",
              "<table border=\"1\" class=\"dataframe\">\n",
              "  <thead>\n",
              "    <tr style=\"text-align: right;\">\n",
              "      <th></th>\n",
              "      <th>SITUACAO</th>\n",
              "      <th>DESPESAS</th>\n",
              "    </tr>\n",
              "  </thead>\n",
              "  <tbody>\n",
              "    <tr>\n",
              "      <th>count</th>\n",
              "      <td>47.000000</td>\n",
              "      <td>47.000000</td>\n",
              "    </tr>\n",
              "    <tr>\n",
              "      <th>mean</th>\n",
              "      <td>0.510638</td>\n",
              "      <td>1085.744681</td>\n",
              "    </tr>\n",
              "    <tr>\n",
              "      <th>std</th>\n",
              "      <td>0.505291</td>\n",
              "      <td>870.968338</td>\n",
              "    </tr>\n",
              "    <tr>\n",
              "      <th>min</th>\n",
              "      <td>0.000000</td>\n",
              "      <td>10.000000</td>\n",
              "    </tr>\n",
              "    <tr>\n",
              "      <th>25%</th>\n",
              "      <td>0.000000</td>\n",
              "      <td>300.000000</td>\n",
              "    </tr>\n",
              "    <tr>\n",
              "      <th>50%</th>\n",
              "      <td>1.000000</td>\n",
              "      <td>800.000000</td>\n",
              "    </tr>\n",
              "    <tr>\n",
              "      <th>75%</th>\n",
              "      <td>1.000000</td>\n",
              "      <td>1700.000000</td>\n",
              "    </tr>\n",
              "    <tr>\n",
              "      <th>max</th>\n",
              "      <td>1.000000</td>\n",
              "      <td>3300.000000</td>\n",
              "    </tr>\n",
              "  </tbody>\n",
              "</table>\n",
              "</div>"
            ],
            "text/plain": [
              "        SITUACAO     DESPESAS\n",
              "count  47.000000    47.000000\n",
              "mean    0.510638  1085.744681\n",
              "std     0.505291   870.968338\n",
              "min     0.000000    10.000000\n",
              "25%     0.000000   300.000000\n",
              "50%     1.000000   800.000000\n",
              "75%     1.000000  1700.000000\n",
              "max     1.000000  3300.000000"
            ]
          },
          "metadata": {
            "tags": []
          },
          "execution_count": 56
        }
      ]
    },
    {
      "cell_type": "markdown",
      "metadata": {
        "id": "_8eLCxsgG9eH"
      },
      "source": [
        "Correlação entre o atributo Despesas e Situação"
      ]
    },
    {
      "cell_type": "code",
      "metadata": {
        "colab": {
          "base_uri": "https://localhost:8080/"
        },
        "id": "3cJlf76xG02x",
        "outputId": "a62966b9-2e4e-4935-ddf9-f21fc0b122f7"
      },
      "source": [
        "np.corrcoef(eleicao.DESPESAS, eleicao.SITUACAO)"
      ],
      "execution_count": 57,
      "outputs": [
        {
          "output_type": "execute_result",
          "data": {
            "text/plain": [
              "array([[1.        , 0.81218717],\n",
              "       [0.81218717, 1.        ]])"
            ]
          },
          "metadata": {
            "tags": []
          },
          "execution_count": 57
        }
      ]
    },
    {
      "cell_type": "markdown",
      "metadata": {
        "id": "HQvRx8TgHS9n"
      },
      "source": [
        "Criação das variaveis x e y (variavel independente e dependente)\n",
        "\n",
        "Transformação de x para o formato de matriz adicionando um novo eixo (newaxis)"
      ]
    },
    {
      "cell_type": "code",
      "metadata": {
        "id": "5vke_MRKHOga"
      },
      "source": [
        "X = eleicao.iloc[:, 2].values\n",
        "X = X[:, np.newaxis]\n",
        "y = eleicao.iloc[:, 1].values"
      ],
      "execution_count": 60,
      "outputs": []
    },
    {
      "cell_type": "code",
      "metadata": {
        "id": "HId-StnkIJ7E"
      },
      "source": [
        "#X"
      ],
      "execution_count": 62,
      "outputs": []
    },
    {
      "cell_type": "markdown",
      "metadata": {
        "id": "VFen1S9tIVRq"
      },
      "source": [
        "Criação do modelo - Treinamento e visualização dos coeficientes"
      ]
    },
    {
      "cell_type": "code",
      "metadata": {
        "colab": {
          "base_uri": "https://localhost:8080/"
        },
        "id": "cti9UYCeIMnZ",
        "outputId": "91df471a-9599-42dc-cda1-ae900496d4c2"
      },
      "source": [
        "logic = LogisticRegression()\n",
        "logic.fit(X,y)\n",
        "print(logic.coef_)\n",
        "print(logic.intercept_)"
      ],
      "execution_count": 65,
      "outputs": [
        {
          "output_type": "stream",
          "text": [
            "[[0.00498364]]\n",
            "[-4.60287217]\n"
          ],
          "name": "stdout"
        }
      ]
    },
    {
      "cell_type": "markdown",
      "metadata": {
        "id": "_VlIchzwJzR1"
      },
      "source": [
        "Visualizando Graficamente"
      ]
    },
    {
      "cell_type": "code",
      "metadata": {
        "colab": {
          "base_uri": "https://localhost:8080/",
          "height": 364
        },
        "id": "q_WMVI3QI_K_",
        "outputId": "6e7762b5-d84b-409d-f35b-d1a851e74c09"
      },
      "source": [
        "plt.scatter(X, y)\n",
        "# Geração de dados para gerar a função sigmoid\n",
        "X_teste = np.linspace(10, 3000, 100)\n",
        "# Implementando a função sigmoid\n",
        "def model(x):\n",
        "  return 1 / (1 + np.exp(-x))\n",
        "# Geração de previsoes (variavel r ) e visualização dos resultados\n",
        "r = model(X_teste * logic.coef_ + logic.intercept_).ravel()\n",
        "plt.plot(X_teste, r, color = 'red')  "
      ],
      "execution_count": 70,
      "outputs": [
        {
          "output_type": "execute_result",
          "data": {
            "text/plain": [
              "[<matplotlib.lines.Line2D at 0x7fd150233190>]"
            ]
          },
          "metadata": {
            "tags": []
          },
          "execution_count": 70
        },
        {
          "output_type": "display_data",
          "data": {
            "image/png": "[encoded data removed]",
            "text/plain": [
              "<Figure size 576x396 with 1 Axes>"
            ]
          },
          "metadata": {
            "tags": []
          }
        }
      ]
    },
    {
      "cell_type": "markdown",
      "metadata": {
        "id": "_HaM6mmjLjf-"
      },
      "source": [
        "Previsão de novos candidatos"
      ]
    },
    {
      "cell_type": "code",
      "metadata": {
        "id": "gvaJZabdLZjL"
      },
      "source": [
        "base_prever = pd.read_csv(\"dados/NovosCandidatos.csv\", sep=\";\")"
      ],
      "execution_count": 68,
      "outputs": []
    },
    {
      "cell_type": "code",
      "metadata": {
        "colab": {
          "base_uri": "https://localhost:8080/",
          "height": 266
        },
        "id": "xWnrtRBHMIzp",
        "outputId": "70565967-d665-4d14-911f-1b467514e1d5"
      },
      "source": [
        "base_prever"
      ],
      "execution_count": 69,
      "outputs": [
        {
          "output_type": "execute_result",
          "data": {
            "text/html": [
              "<div>\n",
              "<style scoped>\n",
              "    .dataframe tbody tr th:only-of-type {\n",
              "        vertical-align: middle;\n",
              "    }\n",
              "\n",
              "    .dataframe tbody tr th {\n",
              "        vertical-align: top;\n",
              "    }\n",
              "\n",
              "    .dataframe thead th {\n",
              "        text-align: right;\n",
              "    }\n",
              "</style>\n",
              "<table border=\"1\" class=\"dataframe\">\n",
              "  <thead>\n",
              "    <tr style=\"text-align: right;\">\n",
              "      <th></th>\n",
              "      <th>CANDIDATO</th>\n",
              "      <th>DESPESAS</th>\n",
              "    </tr>\n",
              "  </thead>\n",
              "  <tbody>\n",
              "    <tr>\n",
              "      <th>0</th>\n",
              "      <td>A</td>\n",
              "      <td>0</td>\n",
              "    </tr>\n",
              "    <tr>\n",
              "      <th>1</th>\n",
              "      <td>B</td>\n",
              "      <td>10</td>\n",
              "    </tr>\n",
              "    <tr>\n",
              "      <th>2</th>\n",
              "      <td>C</td>\n",
              "      <td>200</td>\n",
              "    </tr>\n",
              "    <tr>\n",
              "      <th>3</th>\n",
              "      <td>D</td>\n",
              "      <td>500</td>\n",
              "    </tr>\n",
              "    <tr>\n",
              "      <th>4</th>\n",
              "      <td>E</td>\n",
              "      <td>900</td>\n",
              "    </tr>\n",
              "    <tr>\n",
              "      <th>5</th>\n",
              "      <td>F</td>\n",
              "      <td>1500</td>\n",
              "    </tr>\n",
              "    <tr>\n",
              "      <th>6</th>\n",
              "      <td>G</td>\n",
              "      <td>3000</td>\n",
              "    </tr>\n",
              "  </tbody>\n",
              "</table>\n",
              "</div>"
            ],
            "text/plain": [
              "  CANDIDATO  DESPESAS\n",
              "0         A         0\n",
              "1         B        10\n",
              "2         C       200\n",
              "3         D       500\n",
              "4         E       900\n",
              "5         F      1500\n",
              "6         G      3000"
            ]
          },
          "metadata": {
            "tags": []
          },
          "execution_count": 69
        }
      ]
    },
    {
      "cell_type": "markdown",
      "metadata": {
        "id": "ZQV3Yu9hNok1"
      },
      "source": [
        "Mudança dos dados para o formato de matriz"
      ]
    },
    {
      "cell_type": "code",
      "metadata": {
        "id": "z1vd0p35MLmM"
      },
      "source": [
        "despesas = base_prever.iloc[:, 1].values\n",
        "despesas = despesas.reshape(-1, 1)\n"
      ],
      "execution_count": 74,
      "outputs": []
    },
    {
      "cell_type": "code",
      "metadata": {
        "colab": {
          "base_uri": "https://localhost:8080/"
        },
        "id": "hwP5J3C6OGna",
        "outputId": "4a790dbd-d7a5-4bf7-8ef5-24e34d794ada"
      },
      "source": [
        "previsoes_teste = logic.predict(despesas)\n",
        "previsoes_teste"
      ],
      "execution_count": 76,
      "outputs": [
        {
          "output_type": "execute_result",
          "data": {
            "text/plain": [
              "array([0, 0, 0, 0, 0, 1, 1])"
            ]
          },
          "metadata": {
            "tags": []
          },
          "execution_count": 76
        }
      ]
    },
    {
      "cell_type": "code",
      "metadata": {
        "colab": {
          "base_uri": "https://localhost:8080/"
        },
        "id": "-pRQZexMORAX",
        "outputId": "66fca00e-a1a1-482a-d3c1-127faf20a921"
      },
      "source": [
        "base_prever = np.column_stack((base_prever, previsoes_teste))\n",
        "base_prever"
      ],
      "execution_count": 78,
      "outputs": [
        {
          "output_type": "execute_result",
          "data": {
            "text/plain": [
              "array([['A', 0, 0, 0],\n",
              "       ['B', 10, 0, 0],\n",
              "       ['C', 200, 0, 0],\n",
              "       ['D', 500, 0, 0],\n",
              "       ['E', 900, 0, 0],\n",
              "       ['F', 1500, 1, 1],\n",
              "       ['G', 3000, 1, 1]], dtype=object)"
            ]
          },
          "metadata": {
            "tags": []
          },
          "execution_count": 78
        }
      ]
    },
    {
      "cell_type": "code",
      "metadata": {
        "id": "jzNe0dWHOwAs"
      },
      "source": [
        ""
      ],
      "execution_count": null,
      "outputs": []
    }
  ]
}