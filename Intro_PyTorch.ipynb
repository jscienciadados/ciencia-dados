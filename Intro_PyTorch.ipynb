{
  "nbformat": 4,
  "nbformat_minor": 0,
  "metadata": {
    "colab": {
      "name": "Intro-PyTorch.ipynb",
      "provenance": [],
      "authorship_tag": "ABX9TyONeLH0XKZAE2SPeMYEVRzA",
      "include_colab_link": true
    },
    "kernelspec": {
      "name": "python3",
      "display_name": "Python 3"
    },
    "language_info": {
      "name": "python"
    }
  },
  "cells": [
    {
      "cell_type": "markdown",
      "metadata": {
        "id": "view-in-github",
        "colab_type": "text"
      },
      "source": [
        "<a href=\"https://colab.research.google.com/github/jscienciadados/ciencia-dados/blob/main/Intro_PyTorch.ipynb\" target=\"_parent\"><img src=\"https://colab.research.google.com/assets/colab-badge.svg\" alt=\"Open In Colab\"/></a>"
      ]
    },
    {
      "cell_type": "markdown",
      "metadata": {
        "id": "Z6n67-4BeXx6"
      },
      "source": [
        "#<font color=\"Chocolate\">Processamento de Linguagem Natural</font>"
      ]
    },
    {
      "cell_type": "code",
      "metadata": {
        "id": "_ivgJ3a0eRP2"
      },
      "source": [
        "# Imports\n",
        "import numpy\n",
        "import torch\n",
        "import torchvision"
      ],
      "execution_count": 1,
      "outputs": []
    },
    {
      "cell_type": "markdown",
      "metadata": {
        "id": "4eXMff73fM-q"
      },
      "source": [
        "#Criando e Manipulando Tensores\n",
        "A razão pela qual usamos o Numpy em Machine Learning é que é muito mais rápido do que as listas Python na execução de operações de matriz.\n",
        "\n",
        "Por quê? Internamente, NumPy faz a maior parte do trabalho pesado em Linguagem C, que é muito mais veloz que Python.\n",
        "\n",
        "Mas, no caso de treinar redes neurais profundas (Deep Learning), os arrays NumPy levariam meses para treinar algumas das redes de ponta. É aqui que os tensores entram em cena. O PyTorch nos fornece uma estrutura de dados chamada Tensor, que é muito semelhante à matriz ND do NumPy. Mas, diferentemente do último, os tensores podem aproveitar os recursos de uma GPU para acelerar significativamente as operações com matrizes"
      ]
    },
    {
      "cell_type": "code",
      "metadata": {
        "colab": {
          "base_uri": "https://localhost:8080/"
        },
        "id": "0-3jZQ1oe7b3",
        "outputId": "5e82bca4-877e-4e6c-94a6-0fd123e88e0d"
      },
      "source": [
        "# Criando um tensor\n",
        "x = torch.tensor([1., 2.])\n",
        "print(x)"
      ],
      "execution_count": 2,
      "outputs": [
        {
          "output_type": "stream",
          "text": [
            "tensor([1., 2.])\n"
          ],
          "name": "stdout"
        }
      ]
    },
    {
      "cell_type": "code",
      "metadata": {
        "colab": {
          "base_uri": "https://localhost:8080/"
        },
        "id": "ee5BZ4QCfgMq",
        "outputId": "43923c77-7513-459d-9c44-297aca2b6b29"
      },
      "source": [
        "# shape\n",
        "print(x.shape)"
      ],
      "execution_count": 3,
      "outputs": [
        {
          "output_type": "stream",
          "text": [
            "torch.Size([2])\n"
          ],
          "name": "stdout"
        }
      ]
    },
    {
      "cell_type": "code",
      "metadata": {
        "id": "7cTacXsTfo1N"
      },
      "source": [
        "# Criando um tensor\n",
        "t = torch.tensor([[1,1,1,1],\n",
        "                  [2,2,2,2],\n",
        "                  [3,3,3,3]], dtype = torch.float32)\n"
      ],
      "execution_count": 4,
      "outputs": []
    },
    {
      "cell_type": "code",
      "metadata": {
        "colab": {
          "base_uri": "https://localhost:8080/"
        },
        "id": "xdBYDgWQf_yz",
        "outputId": "bcf615ac-fcd3-4afd-8637-9b5394949d67"
      },
      "source": [
        "# size\n",
        "t.size()"
      ],
      "execution_count": 5,
      "outputs": [
        {
          "output_type": "execute_result",
          "data": {
            "text/plain": [
              "torch.Size([3, 4])"
            ]
          },
          "metadata": {
            "tags": []
          },
          "execution_count": 5
        }
      ]
    },
    {
      "cell_type": "code",
      "metadata": {
        "colab": {
          "base_uri": "https://localhost:8080/"
        },
        "id": "7pD5JBicgFCL",
        "outputId": "ce8a12e8-493a-46bf-c855-900c4b9301ed"
      },
      "source": [
        "# shape\n",
        "t.shape"
      ],
      "execution_count": 6,
      "outputs": [
        {
          "output_type": "execute_result",
          "data": {
            "text/plain": [
              "torch.Size([3, 4])"
            ]
          },
          "metadata": {
            "tags": []
          },
          "execution_count": 6
        }
      ]
    },
    {
      "cell_type": "markdown",
      "metadata": {
        "id": "xemGv8G0ge8g"
      },
      "source": [
        "No PyTorch, o tamanho e a forma de um tensor significam a mesma coisa.\n",
        "\n",
        "Normalmente, depois de conhecermos a forma de um tensor, podemos deduzir algumas coisas. Primeiro, podemos deduzir o rank do tensor. O rank de um tensor é igual ao comprimento da forma do tensor."
      ]
    },
    {
      "cell_type": "code",
      "metadata": {
        "colab": {
          "base_uri": "https://localhost:8080/"
        },
        "id": "e7Cn8BdbgJ20",
        "outputId": "0eb46ea3-a69d-4fcf-b783-8ab2363df6b3"
      },
      "source": [
        "len(t.shape)"
      ],
      "execution_count": 7,
      "outputs": [
        {
          "output_type": "execute_result",
          "data": {
            "text/plain": [
              "2"
            ]
          },
          "metadata": {
            "tags": []
          },
          "execution_count": 7
        }
      ]
    },
    {
      "cell_type": "code",
      "metadata": {
        "colab": {
          "base_uri": "https://localhost:8080/"
        },
        "id": "vXXWGZ1EgmNL",
        "outputId": "242bcfc4-d191-4ed8-80bc-ed09f11be83f"
      },
      "source": [
        "len(x.shape)"
      ],
      "execution_count": 8,
      "outputs": [
        {
          "output_type": "execute_result",
          "data": {
            "text/plain": [
              "1"
            ]
          },
          "metadata": {
            "tags": []
          },
          "execution_count": 8
        }
      ]
    },
    {
      "cell_type": "markdown",
      "metadata": {
        "id": "B7hTlJvHg_eW"
      },
      "source": [
        "Também podemos deduzir o número de elementos contidos no tensor. O número de elementos dentro de um tensor (12 no nosso caso do tensor t e 2 no tensor x) é igual ao produto dos valores dos componentes da forma.\n"
      ]
    },
    {
      "cell_type": "code",
      "metadata": {
        "colab": {
          "base_uri": "https://localhost:8080/"
        },
        "id": "pWutsoMVgqvW",
        "outputId": "6f1bc860-cad6-40fe-ddb8-46d8c5347e92"
      },
      "source": [
        "torch.tensor(t.shape).prod()"
      ],
      "execution_count": 9,
      "outputs": [
        {
          "output_type": "execute_result",
          "data": {
            "text/plain": [
              "tensor(12)"
            ]
          },
          "metadata": {
            "tags": []
          },
          "execution_count": 9
        }
      ]
    },
    {
      "cell_type": "code",
      "metadata": {
        "colab": {
          "base_uri": "https://localhost:8080/"
        },
        "id": "nWf8-013hL4a",
        "outputId": "025b784b-2c96-4cd2-b450-4143a345f580"
      },
      "source": [
        "torch.tensor(x.shape).prod()"
      ],
      "execution_count": 10,
      "outputs": [
        {
          "output_type": "execute_result",
          "data": {
            "text/plain": [
              "tensor(2)"
            ]
          },
          "metadata": {
            "tags": []
          },
          "execution_count": 10
        }
      ]
    },
    {
      "cell_type": "code",
      "metadata": {
        "colab": {
          "base_uri": "https://localhost:8080/"
        },
        "id": "OB-rZAudhU04",
        "outputId": "f02dd69a-a897-486f-8dd8-602633030668"
      },
      "source": [
        "# retornando um elemento de um tensor\n",
        "z = torch.tensor([[1., 2.], [5., 3.], [0., 4.]])\n",
        "print(z)"
      ],
      "execution_count": 11,
      "outputs": [
        {
          "output_type": "stream",
          "text": [
            "tensor([[1., 2.],\n",
            "        [5., 3.],\n",
            "        [0., 4.]])\n"
          ],
          "name": "stdout"
        }
      ]
    },
    {
      "cell_type": "code",
      "metadata": {
        "colab": {
          "base_uri": "https://localhost:8080/"
        },
        "id": "iUp-NkBOhxUz",
        "outputId": "7ddd9ef6-d570-4e29-e595-a37cc483235e"
      },
      "source": [
        "# shape\n",
        "print(z.shape)"
      ],
      "execution_count": 12,
      "outputs": [
        {
          "output_type": "stream",
          "text": [
            "torch.Size([3, 2])\n"
          ],
          "name": "stdout"
        }
      ]
    },
    {
      "cell_type": "code",
      "metadata": {
        "colab": {
          "base_uri": "https://localhost:8080/"
        },
        "id": "YoA_OoQIh77G",
        "outputId": "a1bd9629-0219-4971-d12e-1c4853e8bf09"
      },
      "source": [
        "# retornando a primeira do tensor e a segunda coluna\n",
        "# => o retorno e no formato de tensor\n",
        "print(z[0][1])"
      ],
      "execution_count": 13,
      "outputs": [
        {
          "output_type": "stream",
          "text": [
            "tensor(2.)\n"
          ],
          "name": "stdout"
        }
      ]
    },
    {
      "cell_type": "code",
      "metadata": {
        "colab": {
          "base_uri": "https://localhost:8080/"
        },
        "id": "Id639ueViRVT",
        "outputId": "aae2f407-b0c9-4008-ea07-373fa6b395d8"
      },
      "source": [
        "# retornando a primeira linha e segunda coluna\n",
        "# => o retorno e no formato de escalar (apenas o valor)\n",
        "print(z[0][1].item())"
      ],
      "execution_count": 16,
      "outputs": [
        {
          "output_type": "stream",
          "text": [
            "2.0\n"
          ],
          "name": "stdout"
        }
      ]
    },
    {
      "cell_type": "markdown",
      "metadata": {
        "id": "SYh9ZrhVi0AK"
      },
      "source": [
        "Quando criamos tensores com valores randomicos, passamos apenas o numero de dimensoes."
      ]
    },
    {
      "cell_type": "code",
      "metadata": {
        "id": "76dkGub8iodg"
      },
      "source": [
        "input1 = torch.randn([1, 4, 4, 2])\n",
        "input2 = torch.rand(1, 4, 4, 2)"
      ],
      "execution_count": 17,
      "outputs": []
    },
    {
      "cell_type": "code",
      "metadata": {
        "colab": {
          "base_uri": "https://localhost:8080/"
        },
        "id": "n9xJK63ijSQ9",
        "outputId": "4f432906-7b14-4d28-df8f-81670ee41b8e"
      },
      "source": [
        "print(input1.shape)\n",
        "print(input2.shape)"
      ],
      "execution_count": 18,
      "outputs": [
        {
          "output_type": "stream",
          "text": [
            "torch.Size([1, 4, 4, 2])\n",
            "torch.Size([1, 4, 4, 2])\n"
          ],
          "name": "stdout"
        }
      ]
    },
    {
      "cell_type": "code",
      "metadata": {
        "colab": {
          "base_uri": "https://localhost:8080/"
        },
        "id": "t3rIdXRFjbys",
        "outputId": "03bbafa4-2a8c-48cd-beca-35bf7c45b636"
      },
      "source": [
        "len(input1.shape)"
      ],
      "execution_count": 19,
      "outputs": [
        {
          "output_type": "execute_result",
          "data": {
            "text/plain": [
              "4"
            ]
          },
          "metadata": {
            "tags": []
          },
          "execution_count": 19
        }
      ]
    },
    {
      "cell_type": "code",
      "metadata": {
        "colab": {
          "base_uri": "https://localhost:8080/"
        },
        "id": "CfwxZ3Mljnop",
        "outputId": "a1f04544-55da-4660-9147-5980263dbe9b"
      },
      "source": [
        "len(input2.shape)"
      ],
      "execution_count": 20,
      "outputs": [
        {
          "output_type": "execute_result",
          "data": {
            "text/plain": [
              "4"
            ]
          },
          "metadata": {
            "tags": []
          },
          "execution_count": 20
        }
      ]
    },
    {
      "cell_type": "code",
      "metadata": {
        "colab": {
          "base_uri": "https://localhost:8080/"
        },
        "id": "39XR0GuSjsXb",
        "outputId": "dba6dbbd-2e27-44a3-fb00-f1acbb2576c9"
      },
      "source": [
        "input1"
      ],
      "execution_count": 21,
      "outputs": [
        {
          "output_type": "execute_result",
          "data": {
            "text/plain": [
              "tensor([[[[-0.2812,  0.0985],\n",
              "          [ 0.8430, -0.5725],\n",
              "          [-0.6726, -0.4084],\n",
              "          [ 0.5604, -0.5086]],\n",
              "\n",
              "         [[ 0.0350, -0.5008],\n",
              "          [ 1.0064, -0.9489],\n",
              "          [-0.8252, -0.6984],\n",
              "          [-0.9657, -1.0319]],\n",
              "\n",
              "         [[-0.3088, -0.6868],\n",
              "          [-1.0448, -0.0854],\n",
              "          [-0.0951, -0.0201],\n",
              "          [ 0.4731,  0.4778]],\n",
              "\n",
              "         [[-0.2382, -0.3483],\n",
              "          [-0.5762, -0.5422],\n",
              "          [-0.2174, -0.4519],\n",
              "          [ 0.7859,  0.1755]]]])"
            ]
          },
          "metadata": {
            "tags": []
          },
          "execution_count": 21
        }
      ]
    },
    {
      "cell_type": "code",
      "metadata": {
        "colab": {
          "base_uri": "https://localhost:8080/"
        },
        "id": "rvT427n8juoB",
        "outputId": "7be480c6-ada0-4220-dcd4-414ca8d0da41"
      },
      "source": [
        "input2"
      ],
      "execution_count": 22,
      "outputs": [
        {
          "output_type": "execute_result",
          "data": {
            "text/plain": [
              "tensor([[[[0.8505, 0.4611],\n",
              "          [0.3485, 0.5756],\n",
              "          [0.8690, 0.1048],\n",
              "          [0.0654, 0.4697]],\n",
              "\n",
              "         [[0.0436, 0.9282],\n",
              "          [0.1168, 0.8148],\n",
              "          [0.7608, 0.3773],\n",
              "          [0.5025, 0.5486]],\n",
              "\n",
              "         [[0.9015, 0.1014],\n",
              "          [0.5783, 0.9526],\n",
              "          [0.0922, 0.0233],\n",
              "          [0.8503, 0.4601]],\n",
              "\n",
              "         [[0.3661, 0.6779],\n",
              "          [0.0264, 0.2693],\n",
              "          [0.2204, 0.4318],\n",
              "          [0.7275, 0.4968]]]])"
            ]
          },
          "metadata": {
            "tags": []
          },
          "execution_count": 22
        }
      ]
    },
    {
      "cell_type": "markdown",
      "metadata": {
        "id": "VDv9ltcxkrwe"
      },
      "source": [
        "Considere tensores como o número de listas que uma dimensão contém. Por exemplo, um tensor (1, 4, 4, 2) terá:\n",
        "\n",
        "1 lista contendo 4 elementos de 4 elementos de 2 elementos.\n",
        "\n",
        "A primeira dimensão pode conter 1 elemento.\n",
        "A segunda dimensão pode conter 4 elementos.\n",
        "A terceira dimensão pode conter 4 elementos.\n",
        "A quarta dimensão pode conter 2 elementos.\n",
        "\n"
      ]
    },
    {
      "cell_type": "markdown",
      "metadata": {
        "id": "YajqIUyllCQ-"
      },
      "source": [
        "# Array Numpy x Tensor Pytorch"
      ]
    },
    {
      "cell_type": "code",
      "metadata": {
        "id": "i9cG6PdcjzWS"
      },
      "source": [
        "# array numpy\n",
        "a = numpy.array(1)\n",
        "\n",
        "# tensor pytorch\n",
        "b = torch.tensor(1)"
      ],
      "execution_count": 23,
      "outputs": []
    },
    {
      "cell_type": "code",
      "metadata": {
        "colab": {
          "base_uri": "https://localhost:8080/"
        },
        "id": "JRq1oUbgleMu",
        "outputId": "566d0499-507a-4f8a-e278-3d1c4ac81db3"
      },
      "source": [
        "print(a)"
      ],
      "execution_count": 26,
      "outputs": [
        {
          "output_type": "stream",
          "text": [
            "1\n"
          ],
          "name": "stdout"
        }
      ]
    },
    {
      "cell_type": "code",
      "metadata": {
        "colab": {
          "base_uri": "https://localhost:8080/"
        },
        "id": "wy78iDNPlgpx",
        "outputId": "34705314-fa4e-499f-f553-23108071c083"
      },
      "source": [
        "print(b)"
      ],
      "execution_count": 27,
      "outputs": [
        {
          "output_type": "stream",
          "text": [
            "tensor(1)\n"
          ],
          "name": "stdout"
        }
      ]
    },
    {
      "cell_type": "markdown",
      "metadata": {
        "id": "-HCOggehlr1P"
      },
      "source": [
        "# Operações com Tensores"
      ]
    },
    {
      "cell_type": "code",
      "metadata": {
        "colab": {
          "base_uri": "https://localhost:8080/"
        },
        "id": "w0aMAnIylhoD",
        "outputId": "b9216e38-7069-4961-9136-bf6cb089676e"
      },
      "source": [
        "t1 = torch.tensor(12)\n",
        "t2 = torch.tensor(4)\n",
        "print(t1, t2)"
      ],
      "execution_count": 28,
      "outputs": [
        {
          "output_type": "stream",
          "text": [
            "tensor(12) tensor(4)\n"
          ],
          "name": "stdout"
        }
      ]
    },
    {
      "cell_type": "code",
      "metadata": {
        "colab": {
          "base_uri": "https://localhost:8080/"
        },
        "id": "-xAsyAYmmE9s",
        "outputId": "8e5cbbb7-bfd6-4b01-d70a-d3cac9ce4d59"
      },
      "source": [
        "# adição\n",
        "print(t1 + t2)"
      ],
      "execution_count": 29,
      "outputs": [
        {
          "output_type": "stream",
          "text": [
            "tensor(16)\n"
          ],
          "name": "stdout"
        }
      ]
    },
    {
      "cell_type": "code",
      "metadata": {
        "colab": {
          "base_uri": "https://localhost:8080/"
        },
        "id": "wuDoASCcmMTI",
        "outputId": "cc5342b4-d21d-420c-e943-876240c258c7"
      },
      "source": [
        "# subtração\n",
        "print(t1 - t2)"
      ],
      "execution_count": 30,
      "outputs": [
        {
          "output_type": "stream",
          "text": [
            "tensor(8)\n"
          ],
          "name": "stdout"
        }
      ]
    },
    {
      "cell_type": "code",
      "metadata": {
        "colab": {
          "base_uri": "https://localhost:8080/"
        },
        "id": "VCsGdp9gmTbA",
        "outputId": "9ee22858-3cba-4a8a-e4a1-85bafd654ede"
      },
      "source": [
        "# multiplicação\n",
        "print(t1 * t2)"
      ],
      "execution_count": 31,
      "outputs": [
        {
          "output_type": "stream",
          "text": [
            "tensor(48)\n"
          ],
          "name": "stdout"
        }
      ]
    },
    {
      "cell_type": "code",
      "metadata": {
        "colab": {
          "base_uri": "https://localhost:8080/"
        },
        "id": "z1R0I-ehmcoR",
        "outputId": "d20de007-0729-4eec-e0a5-7a7cbd7b5a81"
      },
      "source": [
        "# divisao inteira\n",
        "print(t1 // t2)"
      ],
      "execution_count": 32,
      "outputs": [
        {
          "output_type": "stream",
          "text": [
            "tensor(3)\n"
          ],
          "name": "stdout"
        }
      ]
    },
    {
      "cell_type": "markdown",
      "metadata": {
        "id": "LpdigJalmp2-"
      },
      "source": [
        "# Operações com Matrizes"
      ]
    },
    {
      "cell_type": "code",
      "metadata": {
        "colab": {
          "base_uri": "https://localhost:8080/"
        },
        "id": "ylXLflK_mmxD",
        "outputId": "b2251580-65a5-4bde-a6f5-38921081f3ee"
      },
      "source": [
        "# Matriz (tensor rank 2) de numeros randomicos\n",
        "t_rank2 = torch.randn(3,3)\n",
        "t_rank2"
      ],
      "execution_count": 33,
      "outputs": [
        {
          "output_type": "execute_result",
          "data": {
            "text/plain": [
              "tensor([[ 0.8112, -1.2626, -1.2074],\n",
              "        [ 0.2594, -1.1617,  0.7465],\n",
              "        [ 0.0231,  0.3564,  1.6515]])"
            ]
          },
          "metadata": {
            "tags": []
          },
          "execution_count": 33
        }
      ]
    },
    {
      "cell_type": "code",
      "metadata": {
        "colab": {
          "base_uri": "https://localhost:8080/"
        },
        "id": "4mmXJKcHm-Qs",
        "outputId": "041487ec-e614-41d5-e129-cad1c42c6936"
      },
      "source": [
        "# Matriz (tensor rank 3) de numeros randomicos\n",
        "t_rank3 = torch.randn(3,3,3)\n",
        "t_rank3"
      ],
      "execution_count": 34,
      "outputs": [
        {
          "output_type": "execute_result",
          "data": {
            "text/plain": [
              "tensor([[[-0.1779, -0.0139, -1.2895],\n",
              "         [-0.7263,  0.6996, -0.5358],\n",
              "         [-0.5732, -1.1095, -1.0504]],\n",
              "\n",
              "        [[-1.0786,  2.3047, -0.3387],\n",
              "         [-1.1668,  2.4797,  0.8755],\n",
              "         [-1.2804, -1.5035,  0.0771]],\n",
              "\n",
              "        [[ 0.6859, -2.1396,  2.3271],\n",
              "         [ 0.9114, -0.3985, -0.7990],\n",
              "         [-0.8055, -0.1240, -0.1962]]])"
            ]
          },
          "metadata": {
            "tags": []
          },
          "execution_count": 34
        }
      ]
    },
    {
      "cell_type": "code",
      "metadata": {
        "colab": {
          "base_uri": "https://localhost:8080/"
        },
        "id": "vR3NSni3nJYi",
        "outputId": "a088ccae-f0f3-4023-ce42-29b1db1b905e"
      },
      "source": [
        "# Matriz (tensor rank 4) de numeros randomicos\n",
        "t_rank4 = torch.randn(3,3,3,3)\n",
        "t_rank4"
      ],
      "execution_count": 35,
      "outputs": [
        {
          "output_type": "execute_result",
          "data": {
            "text/plain": [
              "tensor([[[[ 0.7753,  0.6558, -0.7547],\n",
              "          [-0.8158, -0.1098, -0.0419],\n",
              "          [ 0.1888,  0.5560, -0.0393]],\n",
              "\n",
              "         [[-1.3496, -0.5411, -0.5862],\n",
              "          [ 0.9584,  0.0465,  0.2297],\n",
              "          [-0.3593,  0.1726,  0.0532]],\n",
              "\n",
              "         [[-1.4583, -0.0269, -0.4688],\n",
              "          [ 0.1729,  0.0848,  1.6725],\n",
              "          [-0.1123,  1.4376,  0.0925]]],\n",
              "\n",
              "\n",
              "        [[[ 0.8647,  1.1068, -0.2153],\n",
              "          [-0.2594, -1.8747,  0.2091],\n",
              "          [ 0.6005, -1.4570, -2.4785]],\n",
              "\n",
              "         [[-0.4983,  2.1188, -0.6712],\n",
              "          [ 1.5221, -0.7542, -0.6154],\n",
              "          [-1.3048,  0.2373, -1.4217]],\n",
              "\n",
              "         [[ 0.4882,  0.6831, -0.1470],\n",
              "          [ 0.3909, -0.4671, -1.6125],\n",
              "          [-2.1376,  2.0037,  0.2779]]],\n",
              "\n",
              "\n",
              "        [[[ 0.0205,  0.2483,  2.6165],\n",
              "          [ 0.0349, -1.3809, -0.3062],\n",
              "          [-1.4140,  0.3276,  0.3564]],\n",
              "\n",
              "         [[ 1.8971,  0.4382,  0.1966],\n",
              "          [ 2.0422,  1.0593, -0.8319],\n",
              "          [ 0.7779,  0.1144,  0.7954]],\n",
              "\n",
              "         [[ 0.4197,  0.0028, -0.7776],\n",
              "          [ 0.8485, -1.2337, -1.7283],\n",
              "          [ 0.2008, -0.5998, -0.0309]]]])"
            ]
          },
          "metadata": {
            "tags": []
          },
          "execution_count": 35
        }
      ]
    },
    {
      "cell_type": "code",
      "metadata": {
        "id": "9XL2s8OGnQqY"
      },
      "source": [
        "# Multiplicação entre 2 tensores\n",
        "A = torch.tensor([[1, 2, 3], [4, 5, 6], [7, 8, 9]])\n",
        "B = torch.tensor([[9, 8, 7], [6, 5, 4], [3, 2, 1]])"
      ],
      "execution_count": 36,
      "outputs": []
    },
    {
      "cell_type": "code",
      "metadata": {
        "colab": {
          "base_uri": "https://localhost:8080/"
        },
        "id": "SUAu2i8png5w",
        "outputId": "1c100352-c229-4a4e-efeb-0b50a7dbc1fb"
      },
      "source": [
        "A"
      ],
      "execution_count": 37,
      "outputs": [
        {
          "output_type": "execute_result",
          "data": {
            "text/plain": [
              "tensor([[1, 2, 3],\n",
              "        [4, 5, 6],\n",
              "        [7, 8, 9]])"
            ]
          },
          "metadata": {
            "tags": []
          },
          "execution_count": 37
        }
      ]
    },
    {
      "cell_type": "code",
      "metadata": {
        "colab": {
          "base_uri": "https://localhost:8080/"
        },
        "id": "0N1amMO7njgJ",
        "outputId": "81a18fcf-51d6-4d28-eb39-589244a27557"
      },
      "source": [
        "B"
      ],
      "execution_count": 38,
      "outputs": [
        {
          "output_type": "execute_result",
          "data": {
            "text/plain": [
              "tensor([[9, 8, 7],\n",
              "        [6, 5, 4],\n",
              "        [3, 2, 1]])"
            ]
          },
          "metadata": {
            "tags": []
          },
          "execution_count": 38
        }
      ]
    },
    {
      "cell_type": "code",
      "metadata": {
        "id": "8MB2XB4Vnk_A"
      },
      "source": [
        "# mult.\n",
        "resultado1 = A * B"
      ],
      "execution_count": 39,
      "outputs": []
    },
    {
      "cell_type": "code",
      "metadata": {
        "colab": {
          "base_uri": "https://localhost:8080/"
        },
        "id": "EREtgCPhnuEy",
        "outputId": "42aac9e6-3095-4fb5-f0cd-55c1070ad6b0"
      },
      "source": [
        "print(resultado1)"
      ],
      "execution_count": 40,
      "outputs": [
        {
          "output_type": "stream",
          "text": [
            "tensor([[ 9, 16, 21],\n",
            "        [24, 25, 24],\n",
            "        [21, 16,  9]])\n"
          ],
          "name": "stdout"
        }
      ]
    },
    {
      "cell_type": "code",
      "metadata": {
        "id": "20YP6aHsnxWs"
      },
      "source": [
        "# matmul\n",
        "resultado2 = torch.matmul(A, B)"
      ],
      "execution_count": 41,
      "outputs": []
    },
    {
      "cell_type": "code",
      "metadata": {
        "colab": {
          "base_uri": "https://localhost:8080/"
        },
        "id": "Tcna_wwVoCgO",
        "outputId": "fba67454-0a5b-4bfc-c52f-3fbfa4214b3c"
      },
      "source": [
        "resultado2"
      ],
      "execution_count": 42,
      "outputs": [
        {
          "output_type": "execute_result",
          "data": {
            "text/plain": [
              "tensor([[ 30,  24,  18],\n",
              "        [ 84,  69,  54],\n",
              "        [138, 114,  90]])"
            ]
          },
          "metadata": {
            "tags": []
          },
          "execution_count": 42
        }
      ]
    },
    {
      "cell_type": "code",
      "metadata": {
        "id": "1Y_9ZhhNoEY-"
      },
      "source": [
        "resultado3 = torch.sum(A * B)"
      ],
      "execution_count": 43,
      "outputs": []
    },
    {
      "cell_type": "code",
      "metadata": {
        "colab": {
          "base_uri": "https://localhost:8080/"
        },
        "id": "NlN_nm5eoSNn",
        "outputId": "ca673b53-8e0e-4850-f742-faf8a970b905"
      },
      "source": [
        "resultado3"
      ],
      "execution_count": 44,
      "outputs": [
        {
          "output_type": "execute_result",
          "data": {
            "text/plain": [
              "tensor(165)"
            ]
          },
          "metadata": {
            "tags": []
          },
          "execution_count": 44
        }
      ]
    },
    {
      "cell_type": "code",
      "metadata": {
        "id": "J7x78JpVoT0D"
      },
      "source": [
        "AB1 = A.mm(B)\n",
        "# ou\n",
        "AB2 = torch.mm(A, B)\n",
        "# ou\n",
        "AB3 = torch.matmul(A, B)\n",
        "# Ou assim (Python 3.5+)\n",
        "AB4 = A @ B "
      ],
      "execution_count": 45,
      "outputs": []
    },
    {
      "cell_type": "code",
      "metadata": {
        "colab": {
          "base_uri": "https://localhost:8080/"
        },
        "id": "rbdF0QnnosEE",
        "outputId": "567597dc-3499-49cd-b9f2-a8a14d61670b"
      },
      "source": [
        "print(AB1)\n",
        "print(AB2)\n",
        "print(AB3)\n",
        "print(AB4)"
      ],
      "execution_count": 46,
      "outputs": [
        {
          "output_type": "stream",
          "text": [
            "tensor([[ 30,  24,  18],\n",
            "        [ 84,  69,  54],\n",
            "        [138, 114,  90]])\n",
            "tensor([[ 30,  24,  18],\n",
            "        [ 84,  69,  54],\n",
            "        [138, 114,  90]])\n",
            "tensor([[ 30,  24,  18],\n",
            "        [ 84,  69,  54],\n",
            "        [138, 114,  90]])\n",
            "tensor([[ 30,  24,  18],\n",
            "        [ 84,  69,  54],\n",
            "        [138, 114,  90]])\n"
          ],
          "name": "stdout"
        }
      ]
    },
    {
      "cell_type": "code",
      "metadata": {
        "colab": {
          "base_uri": "https://localhost:8080/"
        },
        "id": "NExFULfco6aF",
        "outputId": "46f071ee-77c1-4ad8-c770-03152e86a347"
      },
      "source": [
        "A @ B"
      ],
      "execution_count": 47,
      "outputs": [
        {
          "output_type": "execute_result",
          "data": {
            "text/plain": [
              "tensor([[ 30,  24,  18],\n",
              "        [ 84,  69,  54],\n",
              "        [138, 114,  90]])"
            ]
          },
          "metadata": {
            "tags": []
          },
          "execution_count": 47
        }
      ]
    },
    {
      "cell_type": "code",
      "metadata": {
        "id": "iYH9te4xpBgL"
      },
      "source": [
        "# Usando seed para iniciar 2 tensores com valores randômicos\n",
        "torch.manual_seed(42)\n",
        "a = torch.randn(3,3)\n",
        "b = torch.randn(3,3)\n"
      ],
      "execution_count": 48,
      "outputs": []
    },
    {
      "cell_type": "code",
      "metadata": {
        "colab": {
          "base_uri": "https://localhost:8080/"
        },
        "id": "Q2KpGt9OpR0G",
        "outputId": "8fa72931-577b-4905-c0d2-bb5ac14b4c66"
      },
      "source": [
        "# Adição de matrizes\n",
        "print(torch.add(a, b))"
      ],
      "execution_count": 49,
      "outputs": [
        {
          "output_type": "stream",
          "text": [
            "tensor([[ 0.6040,  0.6637,  1.0438],\n",
            "        [ 1.3406, -2.8127, -1.1753],\n",
            "        [ 3.1662,  0.6841,  1.2788]])\n"
          ],
          "name": "stdout"
        }
      ]
    },
    {
      "cell_type": "code",
      "metadata": {
        "colab": {
          "base_uri": "https://localhost:8080/"
        },
        "id": "23cK02R3pfJ0",
        "outputId": "c0158bac-efe6-4148-88b1-ea98325d44a7"
      },
      "source": [
        "# subtração\n",
        "print(torch.sub(a, b))"
      ],
      "execution_count": 50,
      "outputs": [
        {
          "output_type": "stream",
          "text": [
            "tensor([[ 0.0693, -0.4061, -0.5749],\n",
            "        [-0.8800,  0.5669,  0.8026],\n",
            "        [ 1.2502, -1.9601, -0.3555]])\n"
          ],
          "name": "stdout"
        }
      ]
    },
    {
      "cell_type": "code",
      "metadata": {
        "colab": {
          "base_uri": "https://localhost:8080/"
        },
        "id": "zqsxh3eQprk9",
        "outputId": "efa3568b-816f-4a80-da54-6f4c3a82b324"
      },
      "source": [
        "# multiplicação\n",
        "print(torch.mm(a, b))"
      ],
      "execution_count": 51,
      "outputs": [
        {
          "output_type": "stream",
          "text": [
            "tensor([[ 0.4576,  0.2724,  0.3367],\n",
            "        [-1.3636,  1.7743,  1.1446],\n",
            "        [ 0.3243,  2.8696,  2.7954]])\n"
          ],
          "name": "stdout"
        }
      ]
    },
    {
      "cell_type": "code",
      "metadata": {
        "colab": {
          "base_uri": "https://localhost:8080/"
        },
        "id": "BHV1YDxgp8-M",
        "outputId": "34551a31-ee1c-44b9-de1d-095508e50436"
      },
      "source": [
        "# divisao\n",
        "print(torch.div(a, b))"
      ],
      "execution_count": 52,
      "outputs": [
        {
          "output_type": "stream",
          "text": [
            "tensor([[ 1.2594,  0.2408,  0.2897],\n",
            "        [ 0.2075,  0.6645,  0.1884],\n",
            "        [ 2.3051, -0.4826,  0.5649]])\n"
          ],
          "name": "stdout"
        }
      ]
    },
    {
      "cell_type": "code",
      "metadata": {
        "colab": {
          "base_uri": "https://localhost:8080/"
        },
        "id": "B808KwLJqHae",
        "outputId": "67096b90-79dc-4a45-d266-6fc66bd88145"
      },
      "source": [
        "# original\n",
        "print(a, '\\n')\n",
        "\n",
        "# transposta\n",
        "torch.t(a)"
      ],
      "execution_count": 53,
      "outputs": [
        {
          "output_type": "stream",
          "text": [
            "tensor([[ 0.3367,  0.1288,  0.2345],\n",
            "        [ 0.2303, -1.1229, -0.1863],\n",
            "        [ 2.2082, -0.6380,  0.4617]]) \n",
            "\n"
          ],
          "name": "stdout"
        },
        {
          "output_type": "execute_result",
          "data": {
            "text/plain": [
              "tensor([[ 0.3367,  0.2303,  2.2082],\n",
              "        [ 0.1288, -1.1229, -0.6380],\n",
              "        [ 0.2345, -0.1863,  0.4617]])"
            ]
          },
          "metadata": {
            "tags": []
          },
          "execution_count": 53
        }
      ]
    },
    {
      "cell_type": "code",
      "metadata": {
        "id": "9M5lkDCAqWYi"
      },
      "source": [
        ""
      ],
      "execution_count": null,
      "outputs": []
    }
  ]
}