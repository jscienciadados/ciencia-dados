{
  "nbformat": 4,
  "nbformat_minor": 0,
  "metadata": {
    "colab": {
      "name": "DBSCAN.ipynb",
      "provenance": [],
      "authorship_tag": "ABX9TyOzFJNl6Di3BQWfgmyWyPjp",
      "include_colab_link": true
    },
    "kernelspec": {
      "name": "python3",
      "display_name": "Python 3"
    },
    "language_info": {
      "name": "python"
    }
  },
  "cells": [
    {
      "cell_type": "markdown",
      "metadata": {
        "id": "view-in-github",
        "colab_type": "text"
      },
      "source": [
        "<a href=\"https://colab.research.google.com/github/jscienciadados/ciencia-dados/blob/main/DBSCAN.ipynb\" target=\"_parent\"><img src=\"https://colab.research.google.com/assets/colab-badge.svg\" alt=\"Open In Colab\"/></a>"
      ]
    },
    {
      "cell_type": "markdown",
      "metadata": {
        "id": "v1-PWrf5rp2Q"
      },
      "source": [
        "# <font color = \"red\">DBSCAN</font>"
      ]
    },
    {
      "cell_type": "markdown",
      "metadata": {
        "id": "s9knv4MWr267"
      },
      "source": [
        "http://scikit-learn.org/stable/modules/generated/sklearn.cluster.DBSCAN.html\n",
        "\n",
        "DBSCAN (Density-Based Spatial Clustering of Applications with Noise) é um algoritmo de clustering popular usado como uma alternativa ao K-Means, em análise preditiva. Ele não requer que você defina o número de clusters. Mas em troca, você tem que ajustar dois outros parâmetros.\n",
        "\n",
        "O Agrupamento Espacial Baseado em Densidade de Aplicações com Ruído (DBSCAN) é um algoritmo de agrupamento de dados proposto por Martin Ester, Hans-Peter Kriegel, Jörg Sander e Xiaowei Xu em 1996. Trata-se de um algoritmo de agrupamento baseado em densidade: dado um conjunto de pontos em algum espaço, agrupa pontos que estão intimamente próximos (pontos com muitos vizinhos próximos), e marcando como outliers pontos que estão sozinhos em regiões de baixa densidade (vizinhos que estão muito longe). DBSCAN é um dos algoritmos de agrupamento mais comuns e também mais citados na literatura científica.\n",
        "\n",
        "Em 2014, o algoritmo foi premiado com o prêmio de teste de tempo na principal conferência de mineração de dados, KDD.\n",
        "\n",
        "A implementação do Scikit-Learn fornece um padrão para os parâmetros eps e min_samples, mas que geralmente devem ser ajustados. O parâmetro eps é a distância máxima entre dois pontos de dados a serem considerados na mesma vizinhança. O parâmetro min_samples é a quantidade mínima de pontos de dados em um bairro (neighborhood) a ser considerado um cluster.\n",
        "\n",
        "Uma vantagem do DBSCAN sobre o K-Means é que DBSCAN não é restrito a um número de conjuntos de clusters durante a inicialização. O algoritmo determinará um número de aglomerados com base na densidade de uma região. Tenha em mente, no entanto, que o algoritmo depende dos parâmetros eps e min_samples para descobrir qual a densidade de cada cluster."
      ]
    },
    {
      "cell_type": "markdown",
      "metadata": {
        "id": "z19_SqYQsnYd"
      },
      "source": [
        "# <hr>"
      ]
    },
    {
      "cell_type": "markdown",
      "metadata": {
        "id": "3jeG5QQEsjdm"
      },
      "source": [
        "Como o algoritmo DBSCAN tem um conceito interno de ruído, é comumente usado para detectar valores anómalos nos dados - por exemplo, atividade fraudulenta em cartões de crédito, e-commerce ou reivindicações de seguros.\n"
      ]
    },
    {
      "cell_type": "code",
      "metadata": {
        "id": "_vWrUD4yrjtU"
      },
      "source": [
        "# Imports\n",
        "import matplotlib.pyplot as plt\n",
        "from sklearn.cluster import DBSCAN\n",
        "from sklearn.datasets import make_moons\n",
        "%matplotlib inline"
      ],
      "execution_count": 1,
      "outputs": []
    },
    {
      "cell_type": "code",
      "metadata": {
        "colab": {
          "base_uri": "https://localhost:8080/",
          "height": 297
        },
        "id": "mCOLVVotsyCy",
        "outputId": "4b87e999-bf93-4e0f-b53e-51776c7ed3e9"
      },
      "source": [
        "# Gerando os dados\n",
        "X, y = make_moons(n_samples= 200, noise= 0.05, random_state= 0)\n",
        "plt.scatter(X[:,0], X[:,1])\n",
        "plt.tight_layout()\n",
        "plt.show()"
      ],
      "execution_count": 2,
      "outputs": [
        {
          "output_type": "display_data",
          "data": {
            "image/png": "[encoded data removed]",
            "text/plain": [
              "<Figure size 432x288 with 1 Axes>"
            ]
          },
          "metadata": {
            "tags": [],
            "needs_background": "light"
          }
        }
      ]
    },
    {
      "cell_type": "code",
      "metadata": {
        "id": "fs17Rk1BtYBd"
      },
      "source": [
        "# Construção do modelo\n",
        "modelo = DBSCAN(eps= 0.2, min_samples= 5, metric= 'euclidean')"
      ],
      "execution_count": 3,
      "outputs": []
    },
    {
      "cell_type": "markdown",
      "metadata": {
        "id": "1oDsyWA-t4sm"
      },
      "source": [
        "<font color = \"green\">Parâmetros do DBScan</font>\n",
        "\n",
        "eps, padrão = 0.5\n",
        "A distância máxima entre duas amostras para uma ser considerada como na vizinhança da outra. Este não é um limite máximo para as distâncias de pontos dentro de um cluster. Este é o parâmetro DBSCAN mais importante para escolher adequadamente seu conjunto de dados e função de distância.\n",
        "\n",
        "min_samples, padrão = 5\n",
        "O número de amostras (ou peso total) em uma vizinhança para um ponto a ser considerado como um ponto central. Isso inclui o próprio ponto."
      ]
    },
    {
      "cell_type": "code",
      "metadata": {
        "id": "e6747STctpab"
      },
      "source": [
        "# fit do modelo\n",
        "y_db = modelo.fit_predict(X)"
      ],
      "execution_count": 4,
      "outputs": []
    },
    {
      "cell_type": "code",
      "metadata": {
        "colab": {
          "base_uri": "https://localhost:8080/",
          "height": 297
        },
        "id": "TdqauQuLuXdw",
        "outputId": "d34adef9-c462-43f7-e876-459a4319aaed"
      },
      "source": [
        "# Plot\n",
        "plt.scatter(X[y_db==0,0], X[y_db==0,1], c = 'blue', marker = 'o', s = 40, label = 'Cluster 1')\n",
        "plt.scatter(X[y_db==1,0], X[y_db==1,1], c = 'red', marker = 's', s = 40, label = 'Cluster 2')\n",
        "plt.legend()\n",
        "plt.tight_layout()\n",
        "plt.show()"
      ],
      "execution_count": 5,
      "outputs": [
        {
          "output_type": "display_data",
          "data": {
            "image/png": "[encoded data removed]",
            "text/plain": [
              "<Figure size 432x288 with 1 Axes>"
            ]
          },
          "metadata": {
            "tags": [],
            "needs_background": "light"
          }
        }
      ]
    },
    {
      "cell_type": "markdown",
      "metadata": {
        "id": "3rmIYsvxuuCv"
      },
      "source": [
        "<font color =\"brawn\">DBSCAN com Dataset Iris</font>"
      ]
    },
    {
      "cell_type": "code",
      "metadata": {
        "id": "2Qodgqc9unZF"
      },
      "source": [
        "# Imports\n",
        "import matplotlib.pyplot as plt\n",
        "from sklearn.datasets import load_iris\n",
        "from sklearn.cluster import DBSCAN\n",
        "from sklearn.decomposition import PCA\n",
        "%matplotlib inline\n"
      ],
      "execution_count": 6,
      "outputs": []
    },
    {
      "cell_type": "code",
      "metadata": {
        "id": "8CR39uDulYlP"
      },
      "source": [
        "# Dataset \n",
        "iris = load_iris()"
      ],
      "execution_count": 7,
      "outputs": []
    },
    {
      "cell_type": "code",
      "metadata": {
        "id": "Df6K21-ZlfZh"
      },
      "source": [
        "# primeira versão do modelo\n",
        "dbscan_v1 = DBSCAN()"
      ],
      "execution_count": 8,
      "outputs": []
    },
    {
      "cell_type": "code",
      "metadata": {
        "colab": {
          "base_uri": "https://localhost:8080/"
        },
        "id": "XZf--xx0ltga",
        "outputId": "3137de53-a1b2-433a-b082-7e62cf4f3e69"
      },
      "source": [
        "# fit\n",
        "dbscan_v1.fit(iris.data)"
      ],
      "execution_count": 9,
      "outputs": [
        {
          "output_type": "execute_result",
          "data": {
            "text/plain": [
              "DBSCAN(algorithm='auto', eps=0.5, leaf_size=30, metric='euclidean',\n",
              "       metric_params=None, min_samples=5, n_jobs=None, p=None)"
            ]
          },
          "metadata": {
            "tags": []
          },
          "execution_count": 9
        }
      ]
    },
    {
      "cell_type": "code",
      "metadata": {
        "colab": {
          "base_uri": "https://localhost:8080/"
        },
        "id": "SjLwF_wIl2TJ",
        "outputId": "475438dc-6e91-40b7-d785-5cf57b338609"
      },
      "source": [
        "# labels\n",
        "dbscan_v1.labels_"
      ],
      "execution_count": 10,
      "outputs": [
        {
          "output_type": "execute_result",
          "data": {
            "text/plain": [
              "array([ 0,  0,  0,  0,  0,  0,  0,  0,  0,  0,  0,  0,  0,  0,  0,  0,  0,\n",
              "        0,  0,  0,  0,  0,  0,  0,  0,  0,  0,  0,  0,  0,  0,  0,  0,  0,\n",
              "        0,  0,  0,  0,  0,  0,  0, -1,  0,  0,  0,  0,  0,  0,  0,  0,  1,\n",
              "        1,  1,  1,  1,  1,  1, -1,  1,  1, -1,  1,  1,  1,  1,  1,  1,  1,\n",
              "       -1,  1,  1,  1,  1,  1,  1,  1,  1,  1,  1,  1,  1,  1,  1,  1,  1,\n",
              "        1,  1, -1,  1,  1,  1,  1,  1, -1,  1,  1,  1,  1, -1,  1,  1,  1,\n",
              "        1,  1,  1, -1, -1,  1, -1, -1,  1,  1,  1,  1,  1,  1,  1, -1, -1,\n",
              "        1,  1,  1, -1,  1,  1,  1,  1,  1,  1,  1,  1, -1,  1,  1, -1, -1,\n",
              "        1,  1,  1,  1,  1,  1,  1,  1,  1,  1,  1,  1,  1,  1])"
            ]
          },
          "metadata": {
            "tags": []
          },
          "execution_count": 10
        }
      ]
    },
    {
      "cell_type": "code",
      "metadata": {
        "id": "erhVsFBHl7rc"
      },
      "source": [
        "# Reduzindo a dimensionalidade\n",
        "pca = PCA(n_components= 2).fit(iris.data)\n",
        "pca_2d = pca.transform(iris.data)"
      ],
      "execution_count": 12,
      "outputs": []
    },
    {
      "cell_type": "code",
      "metadata": {
        "colab": {
          "base_uri": "https://localhost:8080/",
          "height": 281
        },
        "id": "UjwcdrlnmVt2",
        "outputId": "fd54c10b-3154-4c5f-989e-16099bf5c2ed"
      },
      "source": [
        "# Plot\n",
        "for i in range(0, pca_2d.shape[0]):\n",
        "    if dbscan_v1.labels_[i] == 0:\n",
        "        c1 = plt.scatter(pca_2d[i,0], pca_2d[i,1], c = 'r', marker = '+')\n",
        "    elif dbscan_v1.labels_[i] == 1:\n",
        "        c2 = plt.scatter(pca_2d[i,0], pca_2d[i,1], c = 'g', marker = 'o')\n",
        "    elif dbscan_v1.labels_[i] == -1:\n",
        "        c3 = plt.scatter(pca_2d[i,0], pca_2d[i,1], c = 'b', marker = '*')\n",
        "\n",
        "plt.legend([c1, c2, c3], ['Cluster 1', 'Cluster 2', 'Noise'])\n",
        "plt.title('DBSCAN Gerou 2 Clusters e Encontrou Noise')\n",
        "plt.show()"
      ],
      "execution_count": 13,
      "outputs": [
        {
          "output_type": "display_data",
          "data": {
            "image/png": "[encoded data removed]",
            "text/plain": [
              "<Figure size 432x288 with 1 Axes>"
            ]
          },
          "metadata": {
            "tags": [],
            "needs_background": "light"
          }
        }
      ]
    },
    {
      "cell_type": "code",
      "metadata": {
        "colab": {
          "base_uri": "https://localhost:8080/"
        },
        "id": "9p0911d0mkCl",
        "outputId": "2c8721fd-aa6f-4ff9-b53d-a265fdc793c3"
      },
      "source": [
        "# segunda versão do modelo\n",
        "dbscan_v2 = DBSCAN(eps= 0.8, min_samples= 4, metric= 'euclidean')\n",
        "dbscan_v2.fit(iris.data)"
      ],
      "execution_count": 15,
      "outputs": [
        {
          "output_type": "execute_result",
          "data": {
            "text/plain": [
              "DBSCAN(algorithm='auto', eps=0.8, leaf_size=30, metric='euclidean',\n",
              "       metric_params=None, min_samples=4, n_jobs=None, p=None)"
            ]
          },
          "metadata": {
            "tags": []
          },
          "execution_count": 15
        }
      ]
    },
    {
      "cell_type": "code",
      "metadata": {
        "colab": {
          "base_uri": "https://localhost:8080/",
          "height": 281
        },
        "id": "RdUCnpSCnBpD",
        "outputId": "63ebfd9f-552e-41ea-ac9d-278fee0b9b3b"
      },
      "source": [
        "# Plot\n",
        "for i in range(0, pca_2d.shape[0]):\n",
        "    if dbscan_v2.labels_[i] == 0:\n",
        "        c1 = plt.scatter(pca_2d[i,0], pca_2d[i,1], c = 'r', marker = '+')\n",
        "    elif dbscan_v2.labels_[i] == 1:\n",
        "        c2 = plt.scatter(pca_2d[i,0], pca_2d[i,1], c = 'g', marker = 'o')\n",
        "    elif dbscan_v2.labels_[i] == -1:\n",
        "        c3 = plt.scatter(pca_2d[i,0], pca_2d[i,1], c = 'b', marker = '*')\n",
        "\n",
        "plt.legend([c1, c2, c3], ['Cluster 1', 'Cluster 2', 'Noise'])\n",
        "plt.title('DBSCAN Gerou 2 Clusters e Encontrou Noise')\n",
        "plt.show()"
      ],
      "execution_count": 16,
      "outputs": [
        {
          "output_type": "display_data",
          "data": {
            "image/png": "[encoded data removed]",
            "text/plain": [
              "<Figure size 432x288 with 1 Axes>"
            ]
          },
          "metadata": {
            "tags": [],
            "needs_background": "light"
          }
        }
      ]
    },
    {
      "cell_type": "code",
      "metadata": {
        "id": "mKegYwZtnRdx"
      },
      "source": [
        ""
      ],
      "execution_count": null,
      "outputs": []
    }
  ]
}