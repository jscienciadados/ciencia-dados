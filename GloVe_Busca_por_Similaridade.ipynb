{
  "nbformat": 4,
  "nbformat_minor": 0,
  "metadata": {
    "colab": {
      "name": "GloVe - Busca por Similaridade.ipynb",
      "provenance": [],
      "authorship_tag": "ABX9TyNFcAO5NNV9nTP21KoOVzRh",
      "include_colab_link": true
    },
    "kernelspec": {
      "name": "python3",
      "display_name": "Python 3"
    },
    "language_info": {
      "name": "python"
    }
  },
  "cells": [
    {
      "cell_type": "markdown",
      "metadata": {
        "id": "view-in-github",
        "colab_type": "text"
      },
      "source": [
        "<a href=\"https://colab.research.google.com/github/jscienciadados/ciencia-dados/blob/main/GloVe_Busca_por_Similaridade.ipynb\" target=\"_parent\"><img src=\"https://colab.research.google.com/assets/colab-badge.svg\" alt=\"Open In Colab\"/></a>"
      ]
    },
    {
      "cell_type": "markdown",
      "metadata": {
        "id": "E1mGXEom2GlP"
      },
      "source": [
        "#<font color=\"blue\">Machine Learning</font>\n",
        "\n",
        "#<font color=\"DodgerBlue\">Processamento de Linguagem Natural</font>"
      ]
    },
    {
      "cell_type": "markdown",
      "metadata": {
        "id": "URLAx1-K2_4v"
      },
      "source": [
        "# Estudo de Caso - Buscador de Palavras em Texto por Similaridade"
      ]
    },
    {
      "cell_type": "code",
      "metadata": {
        "colab": {
          "base_uri": "https://localhost:8080/"
        },
        "id": "3_Pd4ftr0Uru",
        "outputId": "d13fe5e0-cc32-4322-d89d-8063c6b097f9"
      },
      "source": [
        "# Imports\n",
        "import torch\n",
        "import numpy as np\n",
        "import torch.nn as nn\n",
        "import torch.optim as optim\n",
        "import matplotlib\n",
        "import matplotlib.pyplot as plt\n",
        "from tqdm import tqdm\n",
        "from torch.autograd import Variable\n",
        "from nltk.tokenize import word_tokenize\n",
        "%matplotlib inline\n",
        "torch.manual_seed(1)"
      ],
      "execution_count": 1,
      "outputs": [
        {
          "output_type": "execute_result",
          "data": {
            "text/plain": [
              "<torch._C.Generator at 0x7f1d8466e7d0>"
            ]
          },
          "metadata": {
            "tags": []
          },
          "execution_count": 1
        }
      ]
    },
    {
      "cell_type": "code",
      "metadata": {
        "colab": {
          "base_uri": "https://localhost:8080/"
        },
        "id": "oe3Q7xA84Kba",
        "outputId": "d9642e7e-41f8-4c06-fcf0-4e624ee533dd"
      },
      "source": [
        "import nltk\n",
        "nltk.download('punkt')"
      ],
      "execution_count": 4,
      "outputs": [
        {
          "output_type": "stream",
          "text": [
            "[nltk_data] Downloading package punkt to /root/nltk_data...\n",
            "[nltk_data]   Unzipping tokenizers/punkt.zip.\n"
          ],
          "name": "stdout"
        },
        {
          "output_type": "execute_result",
          "data": {
            "text/plain": [
              "True"
            ]
          },
          "metadata": {
            "tags": []
          },
          "execution_count": 4
        }
      ]
    },
    {
      "cell_type": "markdown",
      "metadata": {
        "id": "jbUtnOa841vo"
      },
      "source": [
        "#Carregando e Processando os Dados\n",
        "Para este estudo de caso, usaremos o famoso texto de Isaac Asimov: The Last Question.\n",
        "\n",
        "http://users.ece.cmu.edu/~gamvrosi/thelastq.html\n",
        "\n",
        "Traduzimos o texto e usaremos para treinar o modelo GloVe e depois buscar palavras por similaridade. Recomendados a leitura do arquivo asimov.txt (usado na célula abaixo) antes de executar o restante do Jupyter Notebook"
      ]
    },
    {
      "cell_type": "code",
      "metadata": {
        "id": "B0NIvih14VMF"
      },
      "source": [
        "# Abre o arquivo para leitura e carrega na variavel arquivo_texto\n",
        "arquivo_texto = open('dados/asimov.txt', 'r')"
      ],
      "execution_count": 5,
      "outputs": []
    },
    {
      "cell_type": "code",
      "metadata": {
        "id": "G8E4L7sG6Ix_"
      },
      "source": [
        "# Converte as palavras para minusculo\n",
        "texto = arquivo_texto.read().lower()"
      ],
      "execution_count": 6,
      "outputs": []
    },
    {
      "cell_type": "code",
      "metadata": {
        "id": "1NY0dsTb6vxk"
      },
      "source": [
        "# Fecha o arquivo_texto\n",
        "arquivo_texto.close()"
      ],
      "execution_count": 7,
      "outputs": []
    },
    {
      "cell_type": "code",
      "metadata": {
        "id": "YG3_Haxf64uW"
      },
      "source": [
        "# Tokenização do texto \n",
        "texto_token = word_tokenize(texto)"
      ],
      "execution_count": 9,
      "outputs": []
    },
    {
      "cell_type": "code",
      "metadata": {
        "id": "IyFBKLoe7GN8"
      },
      "source": [
        "# Variavel para comprimento total dos tokens\n",
        "comp_tokens = len(texto_token)"
      ],
      "execution_count": 10,
      "outputs": []
    },
    {
      "cell_type": "code",
      "metadata": {
        "colab": {
          "base_uri": "https://localhost:8080/"
        },
        "id": "ZYjmpPGt7bnk",
        "outputId": "a847b654-6616-498c-f934-17b053807402"
      },
      "source": [
        "print(\"Número de Tokens: \", comp_tokens)"
      ],
      "execution_count": 11,
      "outputs": [
        {
          "output_type": "stream",
          "text": [
            "Número de Tokens:  5280\n"
          ],
          "name": "stdout"
        }
      ]
    },
    {
      "cell_type": "markdown",
      "metadata": {
        "id": "0UvPvZtp7ouP"
      },
      "source": [
        "#<font color=\"OrangeRed\">Criando Vocabulário</font>"
      ]
    },
    {
      "cell_type": "code",
      "metadata": {
        "colab": {
          "base_uri": "https://localhost:8080/"
        },
        "id": "ZWJte6c37koS",
        "outputId": "c785de34-5314-4172-c8c1-dfeae3d1bbaf"
      },
      "source": [
        "vocab = set(texto_token)\n",
        "vocab_size = len(vocab)\n",
        "print(\"Tamanho do Vocabulário: \", vocab_size)"
      ],
      "execution_count": 12,
      "outputs": [
        {
          "output_type": "stream",
          "text": [
            "Tamanho do Vocabulário:  1397\n"
          ],
          "name": "stdout"
        }
      ]
    },
    {
      "cell_type": "code",
      "metadata": {
        "colab": {
          "base_uri": "https://localhost:8080/"
        },
        "id": "bKezW0rV8ItI",
        "outputId": "83f8b170-79ff-4501-927e-87f6e69e46c2"
      },
      "source": [
        "# Dicionario para mapear as palavras aos indices\n",
        "palavra_indice = {palavra: i for i, palavra in enumerate(vocab)}\n",
        "palavra_indice"
      ],
      "execution_count": 13,
      "outputs": [
        {
          "output_type": "execute_result",
          "data": {
            "text/plain": [
              "{'resposta': 0,\n",
              " 'lado': 1,\n",
              " 'desajeitadas': 2,\n",
              " 'marte': 3,\n",
              " 'colegas': 4,\n",
              " 'sussurrou': 5,\n",
              " 'simples': 6,\n",
              " 'apagarem': 7,\n",
              " 'simplesmente': 8,\n",
              " 'reconstruir': 9,\n",
              " 'incrível': 10,\n",
              " 'incontável': 11,\n",
              " 'interestelar': 12,\n",
              " 'conseguiria': 13,\n",
              " 'que': 14,\n",
              " 'dedicado': 15,\n",
              " 'virtualmente': 16,\n",
              " 'globo': 17,\n",
              " 'fundir-se': 18,\n",
              " 'subterrâneas': 19,\n",
              " 'insuficientes.': 20,\n",
              " 'descansar': 21,\n",
              " 'computador': 22,\n",
              " 'extremidade': 23,\n",
              " 'suponho': 24,\n",
              " 'plano': 25,\n",
              " 'momentos': 26,\n",
              " 'seu': 27,\n",
              " 'maior': 28,\n",
              " 'vamos': 29,\n",
              " 'assim': 30,\n",
              " 'gelo': 31,\n",
              " 'geométrica': 32,\n",
              " 'jeito': 33,\n",
              " 'imortais': 34,\n",
              " 'proporções.': 35,\n",
              " 'nível': 36,\n",
              " 'com': 37,\n",
              " 'transformar': 38,\n",
              " 'alguma': 39,\n",
              " 'enormes': 40,\n",
              " 'progressão': 41,\n",
              " 'expandido': 42,\n",
              " 'fria': 43,\n",
              " 'existir': 44,\n",
              " 'componentes': 45,\n",
              " 'início': 46,\n",
              " 'terra.': 47,\n",
              " 'mãe': 48,\n",
              " 'restos': 49,\n",
              " 'merecer': 50,\n",
              " 'povoado.': 51,\n",
              " 'nem': 52,\n",
              " 'leve': 53,\n",
              " 'encheremos': 54,\n",
              " 'alexander': 55,\n",
              " 'bom': 56,\n",
              " 'resultado': 57,\n",
              " 'inserida': 58,\n",
              " 'velhas': 59,\n",
              " 'à': 60,\n",
              " 'solucionou': 61,\n",
              " 'definições': 62,\n",
              " 'dedos': 63,\n",
              " 'nunca': 64,\n",
              " 'planetários': 65,\n",
              " 'físico': 66,\n",
              " 'abrigava': 67,\n",
              " 'anjinhos': 68,\n",
              " 'paisagem': 69,\n",
              " 'serão': 70,\n",
              " 'limite': 71,\n",
              " 'berço': 72,\n",
              " 'creio': 73,\n",
              " 'lar.': 74,\n",
              " 'meu': 75,\n",
              " 'abrigar': 76,\n",
              " 'poupada': 77,\n",
              " 'muito': 78,\n",
              " 'murmurou': 79,\n",
              " 'suspensão': 80,\n",
              " 'levou': 81,\n",
              " 'saiba.': 82,\n",
              " 'além': 83,\n",
              " 'isso.': 84,\n",
              " 'poderoso': 85,\n",
              " 'se': 86,\n",
              " 'de': 87,\n",
              " 'planetas': 88,\n",
              " 'milhar': 89,\n",
              " 'tornou-se': 90,\n",
              " 'primeira': 91,\n",
              " 'desapontado': 92,\n",
              " 'parcos': 93,\n",
              " 'escapar': 94,\n",
              " 'menos': 95,\n",
              " 'tom': 96,\n",
              " 'interesse': 97,\n",
              " 'está': 98,\n",
              " 'protuberância': 99,\n",
              " 'pioneira': 100,\n",
              " 'tudo.': 101,\n",
              " 'símbolos': 102,\n",
              " 'queria': 103,\n",
              " 'remoto': 104,\n",
              " 'sabia': 105,\n",
              " 'pergunta.': 106,\n",
              " 'projetar': 107,\n",
              " 'permaneçam': 108,\n",
              " 'permanecem': 109,\n",
              " 'feito': 110,\n",
              " 'exasperada': 111,\n",
              " 'procurar': 112,\n",
              " 'sabemos': 113,\n",
              " 'traduziam': 114,\n",
              " 'porque': 115,\n",
              " 'já': 116,\n",
              " 'podiam': 117,\n",
              " 'trajetórias': 118,\n",
              " 'farei': 119,\n",
              " 'galáctico': 120,\n",
              " 'ajustavam': 121,\n",
              " 'conquistas.': 122,\n",
              " 'distante': 123,\n",
              " '%': 124,\n",
              " 'energia': 125,\n",
              " 'retornaram': 126,\n",
              " 'sustentar': 127,\n",
              " 'dentro': 128,\n",
              " 'ocupado': 129,\n",
              " 'iguais.': 130,\n",
              " 'insolúvel': 131,\n",
              " 'sério': 132,\n",
              " 'conhecido': 133,\n",
              " 'passagem': 134,\n",
              " 'benção': 135,\n",
              " 'mármore': 136,\n",
              " 'correlacionados': 137,\n",
              " 'técnicos': 138,\n",
              " 'experimentado': 139,\n",
              " 'cálculos': 140,\n",
              " 'o': 141,\n",
              " 'nada': 142,\n",
              " 'passou': 143,\n",
              " 'voltando': 144,\n",
              " 'necessárias': 145,\n",
              " 'bela': 146,\n",
              " 'deve': 147,\n",
              " 'era': 148,\n",
              " 'viagens': 149,\n",
              " 'intenção': 150,\n",
              " 'disponível': 151,\n",
              " 'estelar': 152,\n",
              " 'ficaremos': 153,\n",
              " 'úmidos': 154,\n",
              " 'tomado': 155,\n",
              " 'inteligência': 156,\n",
              " 'multivac': 157,\n",
              " 'acaba': 158,\n",
              " 'alcançou': 159,\n",
              " 'pelos': 160,\n",
              " 'elas': 161,\n",
              " 'visto': 162,\n",
              " 'chorar': 163,\n",
              " 'enfrentar': 164,\n",
              " 'mantendo': 165,\n",
              " 'galáxia': 166,\n",
              " 'mentes': 167,\n",
              " 'corresponderia': 168,\n",
              " 'eternamente.': 169,\n",
              " 'eles.': 170,\n",
              " 'outra.': 171,\n",
              " 'pois': 172,\n",
              " 'direito': 173,\n",
              " 'idéia': 174,\n",
              " 'aprender': 175,\n",
              " 'olhando': 176,\n",
              " 'morrer': 177,\n",
              " 'sentido': 178,\n",
              " 'mais': 179,\n",
              " 'juventude': 180,\n",
              " 'junto': 181,\n",
              " 'aconchegante': 182,\n",
              " 'ocasionalmente': 183,\n",
              " 'sozinha': 184,\n",
              " 'nós': 185,\n",
              " 'cuidar': 186,\n",
              " 'disse': 187,\n",
              " 'demais': 188,\n",
              " 'cujo': 189,\n",
              " 'vidas': 190,\n",
              " 'sentiríamos': 191,\n",
              " 'torna': 192,\n",
              " 'conseguiam': 193,\n",
              " 'conheciam': 194,\n",
              " 'movimentar': 195,\n",
              " 'acabadas': 196,\n",
              " 'década': 197,\n",
              " 'atenção': 198,\n",
              " 'ombros': 199,\n",
              " 'energética': 200,\n",
              " 'brilhar': 201,\n",
              " 'jerrodd': 202,\n",
              " 'vez': 203,\n",
              " 'durar': 204,\n",
              " 'corre': 205,\n",
              " 'maneira': 206,\n",
              " 'humano': 207,\n",
              " 'ambos': 208,\n",
              " 'teto': 209,\n",
              " 'sarcástico': 210,\n",
              " 'concebíveis.': 211,\n",
              " 'habitava': 212,\n",
              " 'dor': 213,\n",
              " 'programa': 214,\n",
              " 'pensamentos': 215,\n",
              " 'oceano': 216,\n",
              " 'incorruptível': 217,\n",
              " 'ora': 218,\n",
              " 'glória': 219,\n",
              " 'é': 220,\n",
              " '!': 221,\n",
              " 'ser': 222,\n",
              " 'irá': 223,\n",
              " 'acelerada': 224,\n",
              " 'quiséssemos': 225,\n",
              " 'gole': 226,\n",
              " 'continuar': 227,\n",
              " 'estar': 228,\n",
              " 'para': 229,\n",
              " 'chacoalhá-los': 230,\n",
              " 'apagar': 231,\n",
              " 'destino': 232,\n",
              " 'vá': 233,\n",
              " 'teremos': 234,\n",
              " 'quaisquer': 235,\n",
              " 'eram': 236,\n",
              " 'ah': 237,\n",
              " 'estrelas': 238,\n",
              " ';': 239,\n",
              " 'chegar': 240,\n",
              " 'entanto': 241,\n",
              " '2061': 242,\n",
              " 'negra': 243,\n",
              " 'raios': 244,\n",
              " 'ver': 245,\n",
              " 'no': 246,\n",
              " 'elevado': 247,\n",
              " 'assustadas': 248,\n",
              " 'quero': 249,\n",
              " 'tem': 250,\n",
              " 'meio': 251,\n",
              " 'poderá': 252,\n",
              " 'algumas': 253,\n",
              " 'dê': 254,\n",
              " 'corrigia-se': 255,\n",
              " 'todas': 256,\n",
              " 'delas': 257,\n",
              " 'porção': 258,\n",
              " 'cruzados': 259,\n",
              " 'penetrado': 260,\n",
              " 'olhou': 261,\n",
              " 'uniu-se': 262,\n",
              " 'sucessor': 263,\n",
              " 'imortalidade': 264,\n",
              " 'foram': 265,\n",
              " 'mim': 266,\n",
              " 'emaranhados': 267,\n",
              " 'através': 268,\n",
              " 'planejava': 269,\n",
              " 'estará': 270,\n",
              " 'levemente': 271,\n",
              " 'da': 272,\n",
              " 'refinamento': 273,\n",
              " 'linhas': 274,\n",
              " 'geral': 275,\n",
              " 'grupo': 276,\n",
              " 'reduzido': 277,\n",
              " 'todo': 278,\n",
              " 'do': 279,\n",
              " 'ligar': 280,\n",
              " 'pergunta': 281,\n",
              " 'inquiriu': 282,\n",
              " 'presença': 283,\n",
              " 'reconstituir': 284,\n",
              " '–': 285,\n",
              " 'expansão': 286,\n",
              " 'séculos': 287,\n",
              " 'exploração': 288,\n",
              " 'organizou': 289,\n",
              " 'gasto': 290,\n",
              " 'talvez': 291,\n",
              " 'contaremos': 292,\n",
              " 'gente': 293,\n",
              " 'galáxias': 294,\n",
              " 'obtidos': 295,\n",
              " 'devaneios': 296,\n",
              " 'hora': 297,\n",
              " 'realmente': 298,\n",
              " 'estou': 299,\n",
              " 'aconteça': 300,\n",
              " 'jerodettes': 301,\n",
              " 'turbilhões': 302,\n",
              " 'devem': 303,\n",
              " '”': 304,\n",
              " 'estalos': 305,\n",
              " 'necessidades': 306,\n",
              " 'podem': 307,\n",
              " 'fez': 308,\n",
              " 'décadas': 309,\n",
              " 'morta.': 310,\n",
              " 'próprio': 311,\n",
              " 'mapa': 312,\n",
              " 'fixou': 313,\n",
              " 'pareciam': 314,\n",
              " 'universal': 315,\n",
              " 'opacas': 316,\n",
              " 'houve': 317,\n",
              " 'leu': 318,\n",
              " '(': 319,\n",
              " 'forças': 320,\n",
              " 'estas': 321,\n",
              " 'únicos': 322,\n",
              " 'colocou': 323,\n",
              " 'cheguei': 324,\n",
              " 'preocuparmos': 325,\n",
              " 'existem': 326,\n",
              " 'apagariam': 327,\n",
              " 'relatório': 328,\n",
              " 'cama': 329,\n",
              " 'parte': 330,\n",
              " 'rede': 331,\n",
              " 'sob': 332,\n",
              " 'crianças.': 333,\n",
              " 'asperamente': 334,\n",
              " 'lembravam': 335,\n",
              " 'movida': 336,\n",
              " 'podemos': 337,\n",
              " 'alisando': 338,\n",
              " 'faltem': 339,\n",
              " 'robô': 340,\n",
              " 'concebíveis': 341,\n",
              " 'sala': 342,\n",
              " 'apenas': 343,\n",
              " 'aos': 344,\n",
              " 'complexo': 345,\n",
              " 'confidência': 346,\n",
              " 'mente': 347,\n",
              " 'pela': 348,\n",
              " 'nunca.': 349,\n",
              " 'bertram': 350,\n",
              " 'embaixo': 351,\n",
              " 'interrompeu': 352,\n",
              " '100': 353,\n",
              " 'assentava': 354,\n",
              " 'ritmo': 355,\n",
              " 'conectado': 356,\n",
              " 'processo': 357,\n",
              " 'luz': 358,\n",
              " 'lembra': 359,\n",
              " 'ajudou': 360,\n",
              " 'anos…': 361,\n",
              " 'guiar': 362,\n",
              " 'quatro': 363,\n",
              " 'ficando': 364,\n",
              " 'nova': 365,\n",
              " 'sabe': 366,\n",
              " 'apertaram': 367,\n",
              " 'lábios': 368,\n",
              " 'melodiosa': 369,\n",
              " 'enredar': 370,\n",
              " 'dobra': 371,\n",
              " 'silêncio': 372,\n",
              " 'assegurar': 373,\n",
              " 'lugar': 374,\n",
              " 'dia.': 375,\n",
              " 'algum': 376,\n",
              " 'descobriu': 377,\n",
              " 'agir': 378,\n",
              " 'verdade': 379,\n",
              " 'às': 380,\n",
              " 'material': 381,\n",
              " 'altos': 382,\n",
              " 'fizesse': 383,\n",
              " 'última': 384,\n",
              " 'acredita': 385,\n",
              " 'ajudar.': 386,\n",
              " 'derradeira': 387,\n",
              " 'guiada': 388,\n",
              " 'orbitando': 389,\n",
              " 'escuridão': 390,\n",
              " 'ii': 391,\n",
              " 'colete': 392,\n",
              " 'baixo': 393,\n",
              " 'preguiçosos': 394,\n",
              " 'receptores': 395,\n",
              " 'descansaram': 396,\n",
              " 'distantes': 397,\n",
              " 'claro': 398,\n",
              " 'tinha': 399,\n",
              " 'aparências': 400,\n",
              " 'coisas': 401,\n",
              " 'perplexo': 402,\n",
              " 'fim.': 403,\n",
              " 'cuidadosamente': 404,\n",
              " 'momentânea': 405,\n",
              " 'personagem': 406,\n",
              " 'tornavam-se': 407,\n",
              " 'mesmo': 408,\n",
              " 'diâmetro': 409,\n",
              " 'nadando': 410,\n",
              " 'trocar': 411,\n",
              " 'procurá-los': 412,\n",
              " 'conhecimento': 413,\n",
              " 'nervosamente': 414,\n",
              " 'eu': 415,\n",
              " 'hiperespaço': 416,\n",
              " 'abriga-se': 417,\n",
              " 'bilhões': 418,\n",
              " 'super': 419,\n",
              " 'jerrodette': 420,\n",
              " 'entropia': 421,\n",
              " 'direção': 422,\n",
              " 'vida.': 423,\n",
              " 'rápido': 424,\n",
              " 'morto': 425,\n",
              " 'bolso': 426,\n",
              " 'intervalo': 427,\n",
              " 'vinte': 428,\n",
              " 'mergulhou': 429,\n",
              " 'semelhante': 430,\n",
              " 'risadas': 431,\n",
              " 'deixou': 432,\n",
              " 'família': 433,\n",
              " 'pálidas': 434,\n",
              " 'preocupação': 435,\n",
              " 'esfumaçados': 436,\n",
              " 'trabalhando': 437,\n",
              " 'termos': 438,\n",
              " 'você.': 439,\n",
              " 'cercava-os': 440,\n",
              " 'quantidade': 441,\n",
              " 'conscientes': 442,\n",
              " 'viável': 443,\n",
              " 'lados': 444,\n",
              " 'agradecer': 445,\n",
              " 'capaz': 446,\n",
              " 'todos.': 447,\n",
              " 'na': 448,\n",
              " 'relaxar': 449,\n",
              " 'acerca': 450,\n",
              " 'solitário': 451,\n",
              " 'quanto': 452,\n",
              " 'encontrar-se': 453,\n",
              " 'bastante': 454,\n",
              " 'alavanca': 455,\n",
              " 'operações': 456,\n",
              " 'continuava': 457,\n",
              " 'calor': 458,\n",
              " 'espera': 459,\n",
              " 'pensando': 460,\n",
              " 'cinzas.': 461,\n",
              " 'suficientes': 462,\n",
              " 'ninguém': 463,\n",
              " 'olha': 464,\n",
              " 'seca': 465,\n",
              " 'confortáveis': 466,\n",
              " 'abriram': 467,\n",
              " 'branca.': 468,\n",
              " 'lentamente': 469,\n",
              " 'passo': 470,\n",
              " 'saber': 471,\n",
              " 'coletar': 472,\n",
              " 'problema': 473,\n",
              " 'momento': 474,\n",
              " 'adiar': 475,\n",
              " 'verdadeira': 476,\n",
              " 'embriagado': 477,\n",
              " 'entrou': 478,\n",
              " 'válvulas': 479,\n",
              " 'costas': 480,\n",
              " 'viagem': 481,\n",
              " 'próprias': 482,\n",
              " 'singular': 483,\n",
              " 'aguardar.': 484,\n",
              " 'funções': 485,\n",
              " 'como': 486,\n",
              " 'repente': 487,\n",
              " 'tanto': 488,\n",
              " 'fizera': 489,\n",
              " 'tinham': 490,\n",
              " 'possíveis': 491,\n",
              " 'infinito': 492,\n",
              " 'transformassem': 493,\n",
              " 'gritando': 494,\n",
              " 'aconteceu': 495,\n",
              " 'nisso': 496,\n",
              " 'faziam': 497,\n",
              " 'um': 498,\n",
              " 'frente': 499,\n",
              " 'viviam': 500,\n",
              " 'ano': 501,\n",
              " 'feixes': 502,\n",
              " ':': 503,\n",
              " 'pequenas': 504,\n",
              " 'vou.': 505,\n",
              " 'diretamente': 506,\n",
              " 'parece-me': 507,\n",
              " 'interessada': 508,\n",
              " 'pedaço': 509,\n",
              " 'tempo': 510,\n",
              " 'pararam': 511,\n",
              " 'humanos': 512,\n",
              " 'esta': 513,\n",
              " 'proporção': 514,\n",
              " 'viabilizado': 515,\n",
              " 'visor': 516,\n",
              " 'realizar': 517,\n",
              " 'movimentou': 518,\n",
              " 'garrafa': 519,\n",
              " 'tenho': 520,\n",
              " 'compartilhar': 521,\n",
              " 'guardava': 522,\n",
              " 'pálidos': 523,\n",
              " 'eficiência': 524,\n",
              " 'possa': 525,\n",
              " 'abarrotar': 526,\n",
              " 'i': 527,\n",
              " 'súbito': 528,\n",
              " 'neste': 529,\n",
              " 'certo': 530,\n",
              " 'chamados': 531,\n",
              " 'encher': 532,\n",
              " 'filha': 533,\n",
              " 'ridículo': 534,\n",
              " 'recuperá-la': 535,\n",
              " 'absoluto': 536,\n",
              " 'trêmulo': 537,\n",
              " 'jerrodine': 538,\n",
              " 'tenha': 539,\n",
              " 'nenhuma': 540,\n",
              " 'alimentava': 541,\n",
              " 'tomaria': 542,\n",
              " 'impedir': 543,\n",
              " 'pausa': 544,\n",
              " 'sóbrio': 545,\n",
              " 'tipo': 546,\n",
              " 'estes': 547,\n",
              " 'pra': 548,\n",
              " 'fecharam': 549,\n",
              " 'três': 550,\n",
              " 'pensando.': 551,\n",
              " 'recebido': 552,\n",
              " 'humanamente': 553,\n",
              " 'trate': 554,\n",
              " 'hiperespacial': 555,\n",
              " 'emendando': 556,\n",
              " 'ótima': 557,\n",
              " 'saltos': 558,\n",
              " 'tido': 559,\n",
              " 'microvac': 560,\n",
              " 'você': 561,\n",
              " 'estiver': 562,\n",
              " 'reservas': 563,\n",
              " 'possuía': 564,\n",
              " 'sequer': 565,\n",
              " 'feita': 566,\n",
              " 'conta': 567,\n",
              " 'mãos': 568,\n",
              " 'olhos': 569,\n",
              " 'apaguem.': 570,\n",
              " 'tomada': 571,\n",
              " 'correr': 572,\n",
              " 'ficariam': 573,\n",
              " 'anos.': 574,\n",
              " 'chamava': 575,\n",
              " 'parou': 576,\n",
              " 'vaga': 577,\n",
              " 'tomar-lhe': 578,\n",
              " 'acender': 579,\n",
              " 'precisa': 580,\n",
              " 'posso': 581,\n",
              " 'demanda': 582,\n",
              " 'depois': 583,\n",
              " 'anos': 584,\n",
              " 'receptor': 585,\n",
              " 'vinham': 586,\n",
              " 'prontamente': 587,\n",
              " 'parede': 588,\n",
              " 'finalmente': 589,\n",
              " 'começando': 590,\n",
              " 'pensar…': 591,\n",
              " 'contrariar': 592,\n",
              " 'importava': 593,\n",
              " 'utensílios': 594,\n",
              " 'fumaça': 595,\n",
              " 'matéria': 596,\n",
              " 'antigo': 597,\n",
              " 'bilhão': 598,\n",
              " 'desconhecido': 599,\n",
              " 'mal': 600,\n",
              " 'preocupa': 601,\n",
              " 'conseguiram': 602,\n",
              " 'fazê-lo': 603,\n",
              " 'interestelar.': 604,\n",
              " 'precisavam': 605,\n",
              " 'preocupar.': 606,\n",
              " 'pára': 607,\n",
              " 'boca': 608,\n",
              " 'acontecimento': 609,\n",
              " 'fornecidas': 610,\n",
              " 'estiverem': 611,\n",
              " 'onde': 612,\n",
              " 'força': 613,\n",
              " 'mil': 614,\n",
              " 'prime': 615,\n",
              " 'volume': 616,\n",
              " 'lá': 617,\n",
              " 'tempo.': 618,\n",
              " 'papel': 619,\n",
              " 'quietas': 620,\n",
              " 'gás': 621,\n",
              " 'dignidade': 622,\n",
              " 'tristeza': 623,\n",
              " 'hà': 624,\n",
              " 'fim': 625,\n",
              " 'gasta': 626,\n",
              " 'si': 627,\n",
              " 'predescessores': 628,\n",
              " 'brilhante': 629,\n",
              " 'quinze': 630,\n",
              " 'acumulou': 631,\n",
              " 'esvaindo-se': 632,\n",
              " 'lançou': 633,\n",
              " 'pés': 634,\n",
              " 'noção': 635,\n",
              " 'seguros': 636,\n",
              " 'quer': 637,\n",
              " 'cheia': 638,\n",
              " 'multidão': 639,\n",
              " 'esplendoroso': 640,\n",
              " 'surpreso': 641,\n",
              " 'antes': 642,\n",
              " ',': 643,\n",
              " 'permitindo': 644,\n",
              " 'agite-os': 645,\n",
              " 'perfeitos': 646,\n",
              " 'contando': 647,\n",
              " 'pálpebras': 648,\n",
              " 'eternamente': 649,\n",
              " 'abriu': 650,\n",
              " 'cósmico': 651,\n",
              " 'naves': 652,\n",
              " 'humanidade': 653,\n",
              " 'ano.': 654,\n",
              " 'finais': 655,\n",
              " 'indivíduos': 656,\n",
              " 'novo': 657,\n",
              " 'wun': 658,\n",
              " 'me': 659,\n",
              " 'lua': 660,\n",
              " '?': 661,\n",
              " 'são': 662,\n",
              " 'solar': 663,\n",
              " 'diferente.': 664,\n",
              " 'compartimentos': 665,\n",
              " 'molhada': 666,\n",
              " 'desertas': 667,\n",
              " 'agitada': 668,\n",
              " 'oh': 669,\n",
              " 'terão': 670,\n",
              " 'máximo': 671,\n",
              " 'encontravam': 672,\n",
              " 'voz': 673,\n",
              " 'ficaram': 674,\n",
              " 'tontura': 675,\n",
              " 'apesar': 676,\n",
              " 'desafio': 677,\n",
              " 'cuja': 678,\n",
              " 'fizeram': 679,\n",
              " 'aquietá-las.': 680,\n",
              " 'ponto': 681,\n",
              " 'satisfeito': 682,\n",
              " 'dissipado': 683,\n",
              " 'líquido': 684,\n",
              " 'ficassem': 685,\n",
              " 'dia': 686,\n",
              " 'computer': 687,\n",
              " 'original': 688,\n",
              " 'campo': 689,\n",
              " 'inglês': 690,\n",
              " 'perda': 691,\n",
              " 'individual': 692,\n",
              " 'tudo': 693,\n",
              " 'forma': 694,\n",
              " 'vida': 695,\n",
              " 'negativo': 696,\n",
              " 'vagarosamente': 697,\n",
              " 'precisamos': 698,\n",
              " 'semelhanças': 699,\n",
              " 'descaso': 700,\n",
              " 'abandonar': 701,\n",
              " 'lameth': 702,\n",
              " 'graça': 703,\n",
              " 'peça': 704,\n",
              " 'sou': 705,\n",
              " 'exemplo': 706,\n",
              " 'toda': 707,\n",
              " 'usinas': 708,\n",
              " 'brotou': 709,\n",
              " 'árvore': 710,\n",
              " 'dee': 711,\n",
              " 'chegamos': 712,\n",
              " 'crianças': 713,\n",
              " 'planeta': 714,\n",
              " 'atividade': 715,\n",
              " 'tamanho': 716,\n",
              " 'cem': 717,\n",
              " 'fusão': 718,\n",
              " 'fração': 719,\n",
              " 'agora': 720,\n",
              " 'pensou': 721,\n",
              " 'pudesse': 722,\n",
              " 'explorava': 723,\n",
              " 'haver': 724,\n",
              " 'fornecer': 725,\n",
              " 'fundiu-se': 726,\n",
              " 'cubos': 727,\n",
              " 'pessimista': 728,\n",
              " 'suas': 729,\n",
              " 'quantos': 730,\n",
              " 'juntas': 731,\n",
              " 'operavam': 732,\n",
              " 'erguiam-se': 733,\n",
              " 'lembrar': 734,\n",
              " 'sempre`.': 735,\n",
              " 'irão': 736,\n",
              " 'peso': 737,\n",
              " 'pensar': 738,\n",
              " 'após': 739,\n",
              " 'lógica': 740,\n",
              " 'cósmico.': 741,\n",
              " 'observava': 742,\n",
              " 'segundo': 743,\n",
              " 'esbanjadoras': 744,\n",
              " 'estão': 745,\n",
              " 'gigantes': 746,\n",
              " 'consistiam-se': 747,\n",
              " 'ficou': 748,\n",
              " 'aquela': 749,\n",
              " 'único': 750,\n",
              " 'pense': 751,\n",
              " 'entendi': 752,\n",
              " 'começaram': 753,\n",
              " 'profundas': 754,\n",
              " 'migração': 755,\n",
              " 'dispensou': 756,\n",
              " 'afinal': 757,\n",
              " 'bebida': 758,\n",
              " 'procura': 759,\n",
              " 'eventualmente': 760,\n",
              " 'perdeu-se': 761,\n",
              " 'dedo': 762,\n",
              " 'pode': 763,\n",
              " 'por': 764,\n",
              " 'passos': 765,\n",
              " 'permitido': 766,\n",
              " 'homens': 767,\n",
              " 'chance': 768,\n",
              " 'ruidosa': 769,\n",
              " 'ouvimos': 770,\n",
              " 'àquela': 771,\n",
              " 'enterrado': 772,\n",
              " 'teoria': 773,\n",
              " 'sub': 774,\n",
              " 'melhor': 775,\n",
              " 'ia': 776,\n",
              " 'luminosa': 777,\n",
              " 'hesitei': 778,\n",
              " 'aumentar': 779,\n",
              " 'devemos': 780,\n",
              " 'permanece': 781,\n",
              " 'agitava': 782,\n",
              " 'planetário': 783,\n",
              " 'consome': 784,\n",
              " 'servia': 785,\n",
              " 'trilhão': 786,\n",
              " 'perguntar': 787,\n",
              " 'mais.': 788,\n",
              " 'especial': 789,\n",
              " 'vj-23x': 790,\n",
              " 'juntar': 791,\n",
              " 'particular': 792,\n",
              " 'demorou': 793,\n",
              " 'fosse': 794,\n",
              " 'colocar': 795,\n",
              " 'vênus': 796,\n",
              " 'acabado.': 797,\n",
              " 'mostrou': 798,\n",
              " 'milhão': 799,\n",
              " 'ouviu': 800,\n",
              " 'universo': 801,\n",
              " 'completamente': 802,\n",
              " 'vazio': 803,\n",
              " 'impressas': 804,\n",
              " 'envelhecimento': 805,\n",
              " 'incomodado': 806,\n",
              " 'implementadas': 807,\n",
              " 'famílias': 808,\n",
              " 'iriam.': 809,\n",
              " 'mundos': 810,\n",
              " 'paralisou': 811,\n",
              " 'quadradas': 812,\n",
              " 'subutilizado': 813,\n",
              " 'recursos': 814,\n",
              " 'passado': 815,\n",
              " 'som': 816,\n",
              " 'consigo': 817,\n",
              " 'pelo': 818,\n",
              " 'nas': 819,\n",
              " 'alimentavam': 820,\n",
              " 'então': 821,\n",
              " 'mundo': 822,\n",
              " 'costumava': 823,\n",
              " 'jerrodete': 824,\n",
              " 'curioso.': 825,\n",
              " 'outra': 826,\n",
              " 'a': 827,\n",
              " 'durante': 828,\n",
              " 'viu': 829,\n",
              " 'deixe': 830,\n",
              " 'sentiu-se': 831,\n",
              " 'imortal': 832,\n",
              " 'sistema': 833,\n",
              " 'prontificou': 834,\n",
              " 'ter': 835,\n",
              " 'primitivo': 836,\n",
              " 'conseguir': 837,\n",
              " 'restará': 838,\n",
              " 'tridimensional': 839,\n",
              " 'geração': 840,\n",
              " 'aproveitamos': 841,\n",
              " 'ajustava-se': 842,\n",
              " 'necessária': 843,\n",
              " 'aguardar': 844,\n",
              " 'título': 845,\n",
              " 'extremamente': 846,\n",
              " 'retirou': 847,\n",
              " 'identidade': 848,\n",
              " 'zee': 849,\n",
              " 'este': 850,\n",
              " 'várias': 851,\n",
              " 'escolhido': 852,\n",
              " 'os': 853,\n",
              " 'derreter': 854,\n",
              " 'cabelo': 855,\n",
              " 'apagaram': 856,\n",
              " 'curiosidade': 857,\n",
              " 'palavra': 858,\n",
              " 'centenas': 859,\n",
              " 'máquina': 860,\n",
              " 'computação': 861,\n",
              " 'silenciassem': 862,\n",
              " 'fundo': 863,\n",
              " 'certamente': 864,\n",
              " 'viver': 865,\n",
              " 'luzes': 866,\n",
              " 'reflexiva': 867,\n",
              " 'aposta': 868,\n",
              " 'populações': 869,\n",
              " 'infinidade': 870,\n",
              " 'porções': 871,\n",
              " 'apreciavam': 872,\n",
              " 'palavras': 873,\n",
              " 'ocupada': 874,\n",
              " 'distância': 875,\n",
              " 'convertida': 876,\n",
              " ')': 877,\n",
              " 'há': 878,\n",
              " 'espécie': 879,\n",
              " 'máximo.': 880,\n",
              " 'limitados': 881,\n",
              " 'corpo': 882,\n",
              " 'sozinho': 883,\n",
              " 'fica': 884,\n",
              " 'final': 885,\n",
              " 'conhecimentos': 886,\n",
              " 'solucionadas': 887,\n",
              " 'duvido': 888,\n",
              " 'suspirou': 889,\n",
              " 'eternidade': 890,\n",
              " 'população': 891,\n",
              " 'morrendo': 892,\n",
              " 'calmamente': 893,\n",
              " 'origem': 894,\n",
              " 'haverá': 895,\n",
              " 'chuva': 896,\n",
              " 'significativa.': 897,\n",
              " 'dois': 898,\n",
              " 'quem': 899,\n",
              " 'controle': 900,\n",
              " 'suficiente': 901,\n",
              " 'acabar': 902,\n",
              " 'trilhões': 903,\n",
              " 'sem': 904,\n",
              " 'soltou-se': 905,\n",
              " 'monstruosas': 906,\n",
              " 'estação': 907,\n",
              " 'rarefeita': 908,\n",
              " 'fato': 909,\n",
              " 'abrigando': 910,\n",
              " 'daquele': 911,\n",
              " 'precisava': 912,\n",
              " 'partir': 913,\n",
              " 'foi': 914,\n",
              " 'utilização': 915,\n",
              " 'perdendo': 916,\n",
              " 'qual': 917,\n",
              " 'ondas': 918,\n",
              " 'televisor': 919,\n",
              " 'integral': 920,\n",
              " 'evitada': 921,\n",
              " 'definição': 922,\n",
              " 'controlada': 923,\n",
              " 'dava': 924,\n",
              " 'difusos': 925,\n",
              " 'benéfico': 926,\n",
              " 'ainda': 927,\n",
              " 'aleatoriamente': 928,\n",
              " 'maio': 929,\n",
              " 'morte': 930,\n",
              " 'finas': 931,\n",
              " 'observando': 932,\n",
              " 'única': 933,\n",
              " 'boa': 934,\n",
              " 'estações': 935,\n",
              " 'duas.': 936,\n",
              " 'vai': 937,\n",
              " 'reverter': 938,\n",
              " 'fulgurante': 939,\n",
              " 'cúbicas': 940,\n",
              " 'manhã': 941,\n",
              " 'conectou': 942,\n",
              " 'pilhas.': 943,\n",
              " 'existe': 944,\n",
              " 'ligava-se': 945,\n",
              " 'submésons': 946,\n",
              " 'respiração': 947,\n",
              " 'circuitos': 948,\n",
              " 'raça': 949,\n",
              " 'função': 950,\n",
              " 'praticamente': 951,\n",
              " 'preocupem': 952,\n",
              " 'incomodá-lo': 953,\n",
              " 'polegadas': 954,\n",
              " 'combustível': 955,\n",
              " 'segurar': 956,\n",
              " 'letras': 957,\n",
              " 'devíamos': 958,\n",
              " 'também': 959,\n",
              " 'morreram': 960,\n",
              " 'apagam': 961,\n",
              " 'história': 962,\n",
              " 'capturada': 963,\n",
              " 'robozinho': 964,\n",
              " 'espaços': 965,\n",
              " 'expandiu-se': 966,\n",
              " 'morrendo.': 967,\n",
              " 'partiremos': 968,\n",
              " 'resta': 969,\n",
              " 'querida': 970,\n",
              " 'cujos': 971,\n",
              " 'feliz': 972,\n",
              " 'infinitamente': 973,\n",
              " 'mesa': 974,\n",
              " 'gritar': 975,\n",
              " 'duram': 976,\n",
              " 'entender': 977,\n",
              " 'brancas': 978,\n",
              " 'circunstâncias': 979,\n",
              " 'destruídas': 980,\n",
              " 'questões': 981,\n",
              " 'descansando': 982,\n",
              " 'construir': 983,\n",
              " 'presentes': 984,\n",
              " 'sol': 985,\n",
              " 'lupov': 986,\n",
              " 'metade': 987,\n",
              " 'tubo': 988,\n",
              " 'jazia': 989,\n",
              " 'faziam-se': 990,\n",
              " 'adequada': 991,\n",
              " 'superficialmente': 992,\n",
              " 'fez-se': 993,\n",
              " 'tantos': 994,\n",
              " 'princípio': 995,\n",
              " 'idade': 996,\n",
              " 'consciência': 997,\n",
              " 'tornou': 998,\n",
              " 'automatic': 999,\n",
              " ...}"
            ]
          },
          "metadata": {
            "tags": []
          },
          "execution_count": 13
        }
      ]
    },
    {
      "cell_type": "code",
      "metadata": {
        "colab": {
          "base_uri": "https://localhost:8080/"
        },
        "id": "gX2oOPO98mXc",
        "outputId": "98b8387e-44a1-481f-fcc8-627b1dab669a"
      },
      "source": [
        "# Dicionario para mapear os indices as palavras\n",
        "indice_palavra = {i: palavra for i, palavra in enumerate(vocab)}\n",
        "indice_palavra"
      ],
      "execution_count": 14,
      "outputs": [
        {
          "output_type": "execute_result",
          "data": {
            "text/plain": [
              "{0: 'resposta',\n",
              " 1: 'lado',\n",
              " 2: 'desajeitadas',\n",
              " 3: 'marte',\n",
              " 4: 'colegas',\n",
              " 5: 'sussurrou',\n",
              " 6: 'simples',\n",
              " 7: 'apagarem',\n",
              " 8: 'simplesmente',\n",
              " 9: 'reconstruir',\n",
              " 10: 'incrível',\n",
              " 11: 'incontável',\n",
              " 12: 'interestelar',\n",
              " 13: 'conseguiria',\n",
              " 14: 'que',\n",
              " 15: 'dedicado',\n",
              " 16: 'virtualmente',\n",
              " 17: 'globo',\n",
              " 18: 'fundir-se',\n",
              " 19: 'subterrâneas',\n",
              " 20: 'insuficientes.',\n",
              " 21: 'descansar',\n",
              " 22: 'computador',\n",
              " 23: 'extremidade',\n",
              " 24: 'suponho',\n",
              " 25: 'plano',\n",
              " 26: 'momentos',\n",
              " 27: 'seu',\n",
              " 28: 'maior',\n",
              " 29: 'vamos',\n",
              " 30: 'assim',\n",
              " 31: 'gelo',\n",
              " 32: 'geométrica',\n",
              " 33: 'jeito',\n",
              " 34: 'imortais',\n",
              " 35: 'proporções.',\n",
              " 36: 'nível',\n",
              " 37: 'com',\n",
              " 38: 'transformar',\n",
              " 39: 'alguma',\n",
              " 40: 'enormes',\n",
              " 41: 'progressão',\n",
              " 42: 'expandido',\n",
              " 43: 'fria',\n",
              " 44: 'existir',\n",
              " 45: 'componentes',\n",
              " 46: 'início',\n",
              " 47: 'terra.',\n",
              " 48: 'mãe',\n",
              " 49: 'restos',\n",
              " 50: 'merecer',\n",
              " 51: 'povoado.',\n",
              " 52: 'nem',\n",
              " 53: 'leve',\n",
              " 54: 'encheremos',\n",
              " 55: 'alexander',\n",
              " 56: 'bom',\n",
              " 57: 'resultado',\n",
              " 58: 'inserida',\n",
              " 59: 'velhas',\n",
              " 60: 'à',\n",
              " 61: 'solucionou',\n",
              " 62: 'definições',\n",
              " 63: 'dedos',\n",
              " 64: 'nunca',\n",
              " 65: 'planetários',\n",
              " 66: 'físico',\n",
              " 67: 'abrigava',\n",
              " 68: 'anjinhos',\n",
              " 69: 'paisagem',\n",
              " 70: 'serão',\n",
              " 71: 'limite',\n",
              " 72: 'berço',\n",
              " 73: 'creio',\n",
              " 74: 'lar.',\n",
              " 75: 'meu',\n",
              " 76: 'abrigar',\n",
              " 77: 'poupada',\n",
              " 78: 'muito',\n",
              " 79: 'murmurou',\n",
              " 80: 'suspensão',\n",
              " 81: 'levou',\n",
              " 82: 'saiba.',\n",
              " 83: 'além',\n",
              " 84: 'isso.',\n",
              " 85: 'poderoso',\n",
              " 86: 'se',\n",
              " 87: 'de',\n",
              " 88: 'planetas',\n",
              " 89: 'milhar',\n",
              " 90: 'tornou-se',\n",
              " 91: 'primeira',\n",
              " 92: 'desapontado',\n",
              " 93: 'parcos',\n",
              " 94: 'escapar',\n",
              " 95: 'menos',\n",
              " 96: 'tom',\n",
              " 97: 'interesse',\n",
              " 98: 'está',\n",
              " 99: 'protuberância',\n",
              " 100: 'pioneira',\n",
              " 101: 'tudo.',\n",
              " 102: 'símbolos',\n",
              " 103: 'queria',\n",
              " 104: 'remoto',\n",
              " 105: 'sabia',\n",
              " 106: 'pergunta.',\n",
              " 107: 'projetar',\n",
              " 108: 'permaneçam',\n",
              " 109: 'permanecem',\n",
              " 110: 'feito',\n",
              " 111: 'exasperada',\n",
              " 112: 'procurar',\n",
              " 113: 'sabemos',\n",
              " 114: 'traduziam',\n",
              " 115: 'porque',\n",
              " 116: 'já',\n",
              " 117: 'podiam',\n",
              " 118: 'trajetórias',\n",
              " 119: 'farei',\n",
              " 120: 'galáctico',\n",
              " 121: 'ajustavam',\n",
              " 122: 'conquistas.',\n",
              " 123: 'distante',\n",
              " 124: '%',\n",
              " 125: 'energia',\n",
              " 126: 'retornaram',\n",
              " 127: 'sustentar',\n",
              " 128: 'dentro',\n",
              " 129: 'ocupado',\n",
              " 130: 'iguais.',\n",
              " 131: 'insolúvel',\n",
              " 132: 'sério',\n",
              " 133: 'conhecido',\n",
              " 134: 'passagem',\n",
              " 135: 'benção',\n",
              " 136: 'mármore',\n",
              " 137: 'correlacionados',\n",
              " 138: 'técnicos',\n",
              " 139: 'experimentado',\n",
              " 140: 'cálculos',\n",
              " 141: 'o',\n",
              " 142: 'nada',\n",
              " 143: 'passou',\n",
              " 144: 'voltando',\n",
              " 145: 'necessárias',\n",
              " 146: 'bela',\n",
              " 147: 'deve',\n",
              " 148: 'era',\n",
              " 149: 'viagens',\n",
              " 150: 'intenção',\n",
              " 151: 'disponível',\n",
              " 152: 'estelar',\n",
              " 153: 'ficaremos',\n",
              " 154: 'úmidos',\n",
              " 155: 'tomado',\n",
              " 156: 'inteligência',\n",
              " 157: 'multivac',\n",
              " 158: 'acaba',\n",
              " 159: 'alcançou',\n",
              " 160: 'pelos',\n",
              " 161: 'elas',\n",
              " 162: 'visto',\n",
              " 163: 'chorar',\n",
              " 164: 'enfrentar',\n",
              " 165: 'mantendo',\n",
              " 166: 'galáxia',\n",
              " 167: 'mentes',\n",
              " 168: 'corresponderia',\n",
              " 169: 'eternamente.',\n",
              " 170: 'eles.',\n",
              " 171: 'outra.',\n",
              " 172: 'pois',\n",
              " 173: 'direito',\n",
              " 174: 'idéia',\n",
              " 175: 'aprender',\n",
              " 176: 'olhando',\n",
              " 177: 'morrer',\n",
              " 178: 'sentido',\n",
              " 179: 'mais',\n",
              " 180: 'juventude',\n",
              " 181: 'junto',\n",
              " 182: 'aconchegante',\n",
              " 183: 'ocasionalmente',\n",
              " 184: 'sozinha',\n",
              " 185: 'nós',\n",
              " 186: 'cuidar',\n",
              " 187: 'disse',\n",
              " 188: 'demais',\n",
              " 189: 'cujo',\n",
              " 190: 'vidas',\n",
              " 191: 'sentiríamos',\n",
              " 192: 'torna',\n",
              " 193: 'conseguiam',\n",
              " 194: 'conheciam',\n",
              " 195: 'movimentar',\n",
              " 196: 'acabadas',\n",
              " 197: 'década',\n",
              " 198: 'atenção',\n",
              " 199: 'ombros',\n",
              " 200: 'energética',\n",
              " 201: 'brilhar',\n",
              " 202: 'jerrodd',\n",
              " 203: 'vez',\n",
              " 204: 'durar',\n",
              " 205: 'corre',\n",
              " 206: 'maneira',\n",
              " 207: 'humano',\n",
              " 208: 'ambos',\n",
              " 209: 'teto',\n",
              " 210: 'sarcástico',\n",
              " 211: 'concebíveis.',\n",
              " 212: 'habitava',\n",
              " 213: 'dor',\n",
              " 214: 'programa',\n",
              " 215: 'pensamentos',\n",
              " 216: 'oceano',\n",
              " 217: 'incorruptível',\n",
              " 218: 'ora',\n",
              " 219: 'glória',\n",
              " 220: 'é',\n",
              " 221: '!',\n",
              " 222: 'ser',\n",
              " 223: 'irá',\n",
              " 224: 'acelerada',\n",
              " 225: 'quiséssemos',\n",
              " 226: 'gole',\n",
              " 227: 'continuar',\n",
              " 228: 'estar',\n",
              " 229: 'para',\n",
              " 230: 'chacoalhá-los',\n",
              " 231: 'apagar',\n",
              " 232: 'destino',\n",
              " 233: 'vá',\n",
              " 234: 'teremos',\n",
              " 235: 'quaisquer',\n",
              " 236: 'eram',\n",
              " 237: 'ah',\n",
              " 238: 'estrelas',\n",
              " 239: ';',\n",
              " 240: 'chegar',\n",
              " 241: 'entanto',\n",
              " 242: '2061',\n",
              " 243: 'negra',\n",
              " 244: 'raios',\n",
              " 245: 'ver',\n",
              " 246: 'no',\n",
              " 247: 'elevado',\n",
              " 248: 'assustadas',\n",
              " 249: 'quero',\n",
              " 250: 'tem',\n",
              " 251: 'meio',\n",
              " 252: 'poderá',\n",
              " 253: 'algumas',\n",
              " 254: 'dê',\n",
              " 255: 'corrigia-se',\n",
              " 256: 'todas',\n",
              " 257: 'delas',\n",
              " 258: 'porção',\n",
              " 259: 'cruzados',\n",
              " 260: 'penetrado',\n",
              " 261: 'olhou',\n",
              " 262: 'uniu-se',\n",
              " 263: 'sucessor',\n",
              " 264: 'imortalidade',\n",
              " 265: 'foram',\n",
              " 266: 'mim',\n",
              " 267: 'emaranhados',\n",
              " 268: 'através',\n",
              " 269: 'planejava',\n",
              " 270: 'estará',\n",
              " 271: 'levemente',\n",
              " 272: 'da',\n",
              " 273: 'refinamento',\n",
              " 274: 'linhas',\n",
              " 275: 'geral',\n",
              " 276: 'grupo',\n",
              " 277: 'reduzido',\n",
              " 278: 'todo',\n",
              " 279: 'do',\n",
              " 280: 'ligar',\n",
              " 281: 'pergunta',\n",
              " 282: 'inquiriu',\n",
              " 283: 'presença',\n",
              " 284: 'reconstituir',\n",
              " 285: '–',\n",
              " 286: 'expansão',\n",
              " 287: 'séculos',\n",
              " 288: 'exploração',\n",
              " 289: 'organizou',\n",
              " 290: 'gasto',\n",
              " 291: 'talvez',\n",
              " 292: 'contaremos',\n",
              " 293: 'gente',\n",
              " 294: 'galáxias',\n",
              " 295: 'obtidos',\n",
              " 296: 'devaneios',\n",
              " 297: 'hora',\n",
              " 298: 'realmente',\n",
              " 299: 'estou',\n",
              " 300: 'aconteça',\n",
              " 301: 'jerodettes',\n",
              " 302: 'turbilhões',\n",
              " 303: 'devem',\n",
              " 304: '”',\n",
              " 305: 'estalos',\n",
              " 306: 'necessidades',\n",
              " 307: 'podem',\n",
              " 308: 'fez',\n",
              " 309: 'décadas',\n",
              " 310: 'morta.',\n",
              " 311: 'próprio',\n",
              " 312: 'mapa',\n",
              " 313: 'fixou',\n",
              " 314: 'pareciam',\n",
              " 315: 'universal',\n",
              " 316: 'opacas',\n",
              " 317: 'houve',\n",
              " 318: 'leu',\n",
              " 319: '(',\n",
              " 320: 'forças',\n",
              " 321: 'estas',\n",
              " 322: 'únicos',\n",
              " 323: 'colocou',\n",
              " 324: 'cheguei',\n",
              " 325: 'preocuparmos',\n",
              " 326: 'existem',\n",
              " 327: 'apagariam',\n",
              " 328: 'relatório',\n",
              " 329: 'cama',\n",
              " 330: 'parte',\n",
              " 331: 'rede',\n",
              " 332: 'sob',\n",
              " 333: 'crianças.',\n",
              " 334: 'asperamente',\n",
              " 335: 'lembravam',\n",
              " 336: 'movida',\n",
              " 337: 'podemos',\n",
              " 338: 'alisando',\n",
              " 339: 'faltem',\n",
              " 340: 'robô',\n",
              " 341: 'concebíveis',\n",
              " 342: 'sala',\n",
              " 343: 'apenas',\n",
              " 344: 'aos',\n",
              " 345: 'complexo',\n",
              " 346: 'confidência',\n",
              " 347: 'mente',\n",
              " 348: 'pela',\n",
              " 349: 'nunca.',\n",
              " 350: 'bertram',\n",
              " 351: 'embaixo',\n",
              " 352: 'interrompeu',\n",
              " 353: '100',\n",
              " 354: 'assentava',\n",
              " 355: 'ritmo',\n",
              " 356: 'conectado',\n",
              " 357: 'processo',\n",
              " 358: 'luz',\n",
              " 359: 'lembra',\n",
              " 360: 'ajudou',\n",
              " 361: 'anos…',\n",
              " 362: 'guiar',\n",
              " 363: 'quatro',\n",
              " 364: 'ficando',\n",
              " 365: 'nova',\n",
              " 366: 'sabe',\n",
              " 367: 'apertaram',\n",
              " 368: 'lábios',\n",
              " 369: 'melodiosa',\n",
              " 370: 'enredar',\n",
              " 371: 'dobra',\n",
              " 372: 'silêncio',\n",
              " 373: 'assegurar',\n",
              " 374: 'lugar',\n",
              " 375: 'dia.',\n",
              " 376: 'algum',\n",
              " 377: 'descobriu',\n",
              " 378: 'agir',\n",
              " 379: 'verdade',\n",
              " 380: 'às',\n",
              " 381: 'material',\n",
              " 382: 'altos',\n",
              " 383: 'fizesse',\n",
              " 384: 'última',\n",
              " 385: 'acredita',\n",
              " 386: 'ajudar.',\n",
              " 387: 'derradeira',\n",
              " 388: 'guiada',\n",
              " 389: 'orbitando',\n",
              " 390: 'escuridão',\n",
              " 391: 'ii',\n",
              " 392: 'colete',\n",
              " 393: 'baixo',\n",
              " 394: 'preguiçosos',\n",
              " 395: 'receptores',\n",
              " 396: 'descansaram',\n",
              " 397: 'distantes',\n",
              " 398: 'claro',\n",
              " 399: 'tinha',\n",
              " 400: 'aparências',\n",
              " 401: 'coisas',\n",
              " 402: 'perplexo',\n",
              " 403: 'fim.',\n",
              " 404: 'cuidadosamente',\n",
              " 405: 'momentânea',\n",
              " 406: 'personagem',\n",
              " 407: 'tornavam-se',\n",
              " 408: 'mesmo',\n",
              " 409: 'diâmetro',\n",
              " 410: 'nadando',\n",
              " 411: 'trocar',\n",
              " 412: 'procurá-los',\n",
              " 413: 'conhecimento',\n",
              " 414: 'nervosamente',\n",
              " 415: 'eu',\n",
              " 416: 'hiperespaço',\n",
              " 417: 'abriga-se',\n",
              " 418: 'bilhões',\n",
              " 419: 'super',\n",
              " 420: 'jerrodette',\n",
              " 421: 'entropia',\n",
              " 422: 'direção',\n",
              " 423: 'vida.',\n",
              " 424: 'rápido',\n",
              " 425: 'morto',\n",
              " 426: 'bolso',\n",
              " 427: 'intervalo',\n",
              " 428: 'vinte',\n",
              " 429: 'mergulhou',\n",
              " 430: 'semelhante',\n",
              " 431: 'risadas',\n",
              " 432: 'deixou',\n",
              " 433: 'família',\n",
              " 434: 'pálidas',\n",
              " 435: 'preocupação',\n",
              " 436: 'esfumaçados',\n",
              " 437: 'trabalhando',\n",
              " 438: 'termos',\n",
              " 439: 'você.',\n",
              " 440: 'cercava-os',\n",
              " 441: 'quantidade',\n",
              " 442: 'conscientes',\n",
              " 443: 'viável',\n",
              " 444: 'lados',\n",
              " 445: 'agradecer',\n",
              " 446: 'capaz',\n",
              " 447: 'todos.',\n",
              " 448: 'na',\n",
              " 449: 'relaxar',\n",
              " 450: 'acerca',\n",
              " 451: 'solitário',\n",
              " 452: 'quanto',\n",
              " 453: 'encontrar-se',\n",
              " 454: 'bastante',\n",
              " 455: 'alavanca',\n",
              " 456: 'operações',\n",
              " 457: 'continuava',\n",
              " 458: 'calor',\n",
              " 459: 'espera',\n",
              " 460: 'pensando',\n",
              " 461: 'cinzas.',\n",
              " 462: 'suficientes',\n",
              " 463: 'ninguém',\n",
              " 464: 'olha',\n",
              " 465: 'seca',\n",
              " 466: 'confortáveis',\n",
              " 467: 'abriram',\n",
              " 468: 'branca.',\n",
              " 469: 'lentamente',\n",
              " 470: 'passo',\n",
              " 471: 'saber',\n",
              " 472: 'coletar',\n",
              " 473: 'problema',\n",
              " 474: 'momento',\n",
              " 475: 'adiar',\n",
              " 476: 'verdadeira',\n",
              " 477: 'embriagado',\n",
              " 478: 'entrou',\n",
              " 479: 'válvulas',\n",
              " 480: 'costas',\n",
              " 481: 'viagem',\n",
              " 482: 'próprias',\n",
              " 483: 'singular',\n",
              " 484: 'aguardar.',\n",
              " 485: 'funções',\n",
              " 486: 'como',\n",
              " 487: 'repente',\n",
              " 488: 'tanto',\n",
              " 489: 'fizera',\n",
              " 490: 'tinham',\n",
              " 491: 'possíveis',\n",
              " 492: 'infinito',\n",
              " 493: 'transformassem',\n",
              " 494: 'gritando',\n",
              " 495: 'aconteceu',\n",
              " 496: 'nisso',\n",
              " 497: 'faziam',\n",
              " 498: 'um',\n",
              " 499: 'frente',\n",
              " 500: 'viviam',\n",
              " 501: 'ano',\n",
              " 502: 'feixes',\n",
              " 503: ':',\n",
              " 504: 'pequenas',\n",
              " 505: 'vou.',\n",
              " 506: 'diretamente',\n",
              " 507: 'parece-me',\n",
              " 508: 'interessada',\n",
              " 509: 'pedaço',\n",
              " 510: 'tempo',\n",
              " 511: 'pararam',\n",
              " 512: 'humanos',\n",
              " 513: 'esta',\n",
              " 514: 'proporção',\n",
              " 515: 'viabilizado',\n",
              " 516: 'visor',\n",
              " 517: 'realizar',\n",
              " 518: 'movimentou',\n",
              " 519: 'garrafa',\n",
              " 520: 'tenho',\n",
              " 521: 'compartilhar',\n",
              " 522: 'guardava',\n",
              " 523: 'pálidos',\n",
              " 524: 'eficiência',\n",
              " 525: 'possa',\n",
              " 526: 'abarrotar',\n",
              " 527: 'i',\n",
              " 528: 'súbito',\n",
              " 529: 'neste',\n",
              " 530: 'certo',\n",
              " 531: 'chamados',\n",
              " 532: 'encher',\n",
              " 533: 'filha',\n",
              " 534: 'ridículo',\n",
              " 535: 'recuperá-la',\n",
              " 536: 'absoluto',\n",
              " 537: 'trêmulo',\n",
              " 538: 'jerrodine',\n",
              " 539: 'tenha',\n",
              " 540: 'nenhuma',\n",
              " 541: 'alimentava',\n",
              " 542: 'tomaria',\n",
              " 543: 'impedir',\n",
              " 544: 'pausa',\n",
              " 545: 'sóbrio',\n",
              " 546: 'tipo',\n",
              " 547: 'estes',\n",
              " 548: 'pra',\n",
              " 549: 'fecharam',\n",
              " 550: 'três',\n",
              " 551: 'pensando.',\n",
              " 552: 'recebido',\n",
              " 553: 'humanamente',\n",
              " 554: 'trate',\n",
              " 555: 'hiperespacial',\n",
              " 556: 'emendando',\n",
              " 557: 'ótima',\n",
              " 558: 'saltos',\n",
              " 559: 'tido',\n",
              " 560: 'microvac',\n",
              " 561: 'você',\n",
              " 562: 'estiver',\n",
              " 563: 'reservas',\n",
              " 564: 'possuía',\n",
              " 565: 'sequer',\n",
              " 566: 'feita',\n",
              " 567: 'conta',\n",
              " 568: 'mãos',\n",
              " 569: 'olhos',\n",
              " 570: 'apaguem.',\n",
              " 571: 'tomada',\n",
              " 572: 'correr',\n",
              " 573: 'ficariam',\n",
              " 574: 'anos.',\n",
              " 575: 'chamava',\n",
              " 576: 'parou',\n",
              " 577: 'vaga',\n",
              " 578: 'tomar-lhe',\n",
              " 579: 'acender',\n",
              " 580: 'precisa',\n",
              " 581: 'posso',\n",
              " 582: 'demanda',\n",
              " 583: 'depois',\n",
              " 584: 'anos',\n",
              " 585: 'receptor',\n",
              " 586: 'vinham',\n",
              " 587: 'prontamente',\n",
              " 588: 'parede',\n",
              " 589: 'finalmente',\n",
              " 590: 'começando',\n",
              " 591: 'pensar…',\n",
              " 592: 'contrariar',\n",
              " 593: 'importava',\n",
              " 594: 'utensílios',\n",
              " 595: 'fumaça',\n",
              " 596: 'matéria',\n",
              " 597: 'antigo',\n",
              " 598: 'bilhão',\n",
              " 599: 'desconhecido',\n",
              " 600: 'mal',\n",
              " 601: 'preocupa',\n",
              " 602: 'conseguiram',\n",
              " 603: 'fazê-lo',\n",
              " 604: 'interestelar.',\n",
              " 605: 'precisavam',\n",
              " 606: 'preocupar.',\n",
              " 607: 'pára',\n",
              " 608: 'boca',\n",
              " 609: 'acontecimento',\n",
              " 610: 'fornecidas',\n",
              " 611: 'estiverem',\n",
              " 612: 'onde',\n",
              " 613: 'força',\n",
              " 614: 'mil',\n",
              " 615: 'prime',\n",
              " 616: 'volume',\n",
              " 617: 'lá',\n",
              " 618: 'tempo.',\n",
              " 619: 'papel',\n",
              " 620: 'quietas',\n",
              " 621: 'gás',\n",
              " 622: 'dignidade',\n",
              " 623: 'tristeza',\n",
              " 624: 'hà',\n",
              " 625: 'fim',\n",
              " 626: 'gasta',\n",
              " 627: 'si',\n",
              " 628: 'predescessores',\n",
              " 629: 'brilhante',\n",
              " 630: 'quinze',\n",
              " 631: 'acumulou',\n",
              " 632: 'esvaindo-se',\n",
              " 633: 'lançou',\n",
              " 634: 'pés',\n",
              " 635: 'noção',\n",
              " 636: 'seguros',\n",
              " 637: 'quer',\n",
              " 638: 'cheia',\n",
              " 639: 'multidão',\n",
              " 640: 'esplendoroso',\n",
              " 641: 'surpreso',\n",
              " 642: 'antes',\n",
              " 643: ',',\n",
              " 644: 'permitindo',\n",
              " 645: 'agite-os',\n",
              " 646: 'perfeitos',\n",
              " 647: 'contando',\n",
              " 648: 'pálpebras',\n",
              " 649: 'eternamente',\n",
              " 650: 'abriu',\n",
              " 651: 'cósmico',\n",
              " 652: 'naves',\n",
              " 653: 'humanidade',\n",
              " 654: 'ano.',\n",
              " 655: 'finais',\n",
              " 656: 'indivíduos',\n",
              " 657: 'novo',\n",
              " 658: 'wun',\n",
              " 659: 'me',\n",
              " 660: 'lua',\n",
              " 661: '?',\n",
              " 662: 'são',\n",
              " 663: 'solar',\n",
              " 664: 'diferente.',\n",
              " 665: 'compartimentos',\n",
              " 666: 'molhada',\n",
              " 667: 'desertas',\n",
              " 668: 'agitada',\n",
              " 669: 'oh',\n",
              " 670: 'terão',\n",
              " 671: 'máximo',\n",
              " 672: 'encontravam',\n",
              " 673: 'voz',\n",
              " 674: 'ficaram',\n",
              " 675: 'tontura',\n",
              " 676: 'apesar',\n",
              " 677: 'desafio',\n",
              " 678: 'cuja',\n",
              " 679: 'fizeram',\n",
              " 680: 'aquietá-las.',\n",
              " 681: 'ponto',\n",
              " 682: 'satisfeito',\n",
              " 683: 'dissipado',\n",
              " 684: 'líquido',\n",
              " 685: 'ficassem',\n",
              " 686: 'dia',\n",
              " 687: 'computer',\n",
              " 688: 'original',\n",
              " 689: 'campo',\n",
              " 690: 'inglês',\n",
              " 691: 'perda',\n",
              " 692: 'individual',\n",
              " 693: 'tudo',\n",
              " 694: 'forma',\n",
              " 695: 'vida',\n",
              " 696: 'negativo',\n",
              " 697: 'vagarosamente',\n",
              " 698: 'precisamos',\n",
              " 699: 'semelhanças',\n",
              " 700: 'descaso',\n",
              " 701: 'abandonar',\n",
              " 702: 'lameth',\n",
              " 703: 'graça',\n",
              " 704: 'peça',\n",
              " 705: 'sou',\n",
              " 706: 'exemplo',\n",
              " 707: 'toda',\n",
              " 708: 'usinas',\n",
              " 709: 'brotou',\n",
              " 710: 'árvore',\n",
              " 711: 'dee',\n",
              " 712: 'chegamos',\n",
              " 713: 'crianças',\n",
              " 714: 'planeta',\n",
              " 715: 'atividade',\n",
              " 716: 'tamanho',\n",
              " 717: 'cem',\n",
              " 718: 'fusão',\n",
              " 719: 'fração',\n",
              " 720: 'agora',\n",
              " 721: 'pensou',\n",
              " 722: 'pudesse',\n",
              " 723: 'explorava',\n",
              " 724: 'haver',\n",
              " 725: 'fornecer',\n",
              " 726: 'fundiu-se',\n",
              " 727: 'cubos',\n",
              " 728: 'pessimista',\n",
              " 729: 'suas',\n",
              " 730: 'quantos',\n",
              " 731: 'juntas',\n",
              " 732: 'operavam',\n",
              " 733: 'erguiam-se',\n",
              " 734: 'lembrar',\n",
              " 735: 'sempre`.',\n",
              " 736: 'irão',\n",
              " 737: 'peso',\n",
              " 738: 'pensar',\n",
              " 739: 'após',\n",
              " 740: 'lógica',\n",
              " 741: 'cósmico.',\n",
              " 742: 'observava',\n",
              " 743: 'segundo',\n",
              " 744: 'esbanjadoras',\n",
              " 745: 'estão',\n",
              " 746: 'gigantes',\n",
              " 747: 'consistiam-se',\n",
              " 748: 'ficou',\n",
              " 749: 'aquela',\n",
              " 750: 'único',\n",
              " 751: 'pense',\n",
              " 752: 'entendi',\n",
              " 753: 'começaram',\n",
              " 754: 'profundas',\n",
              " 755: 'migração',\n",
              " 756: 'dispensou',\n",
              " 757: 'afinal',\n",
              " 758: 'bebida',\n",
              " 759: 'procura',\n",
              " 760: 'eventualmente',\n",
              " 761: 'perdeu-se',\n",
              " 762: 'dedo',\n",
              " 763: 'pode',\n",
              " 764: 'por',\n",
              " 765: 'passos',\n",
              " 766: 'permitido',\n",
              " 767: 'homens',\n",
              " 768: 'chance',\n",
              " 769: 'ruidosa',\n",
              " 770: 'ouvimos',\n",
              " 771: 'àquela',\n",
              " 772: 'enterrado',\n",
              " 773: 'teoria',\n",
              " 774: 'sub',\n",
              " 775: 'melhor',\n",
              " 776: 'ia',\n",
              " 777: 'luminosa',\n",
              " 778: 'hesitei',\n",
              " 779: 'aumentar',\n",
              " 780: 'devemos',\n",
              " 781: 'permanece',\n",
              " 782: 'agitava',\n",
              " 783: 'planetário',\n",
              " 784: 'consome',\n",
              " 785: 'servia',\n",
              " 786: 'trilhão',\n",
              " 787: 'perguntar',\n",
              " 788: 'mais.',\n",
              " 789: 'especial',\n",
              " 790: 'vj-23x',\n",
              " 791: 'juntar',\n",
              " 792: 'particular',\n",
              " 793: 'demorou',\n",
              " 794: 'fosse',\n",
              " 795: 'colocar',\n",
              " 796: 'vênus',\n",
              " 797: 'acabado.',\n",
              " 798: 'mostrou',\n",
              " 799: 'milhão',\n",
              " 800: 'ouviu',\n",
              " 801: 'universo',\n",
              " 802: 'completamente',\n",
              " 803: 'vazio',\n",
              " 804: 'impressas',\n",
              " 805: 'envelhecimento',\n",
              " 806: 'incomodado',\n",
              " 807: 'implementadas',\n",
              " 808: 'famílias',\n",
              " 809: 'iriam.',\n",
              " 810: 'mundos',\n",
              " 811: 'paralisou',\n",
              " 812: 'quadradas',\n",
              " 813: 'subutilizado',\n",
              " 814: 'recursos',\n",
              " 815: 'passado',\n",
              " 816: 'som',\n",
              " 817: 'consigo',\n",
              " 818: 'pelo',\n",
              " 819: 'nas',\n",
              " 820: 'alimentavam',\n",
              " 821: 'então',\n",
              " 822: 'mundo',\n",
              " 823: 'costumava',\n",
              " 824: 'jerrodete',\n",
              " 825: 'curioso.',\n",
              " 826: 'outra',\n",
              " 827: 'a',\n",
              " 828: 'durante',\n",
              " 829: 'viu',\n",
              " 830: 'deixe',\n",
              " 831: 'sentiu-se',\n",
              " 832: 'imortal',\n",
              " 833: 'sistema',\n",
              " 834: 'prontificou',\n",
              " 835: 'ter',\n",
              " 836: 'primitivo',\n",
              " 837: 'conseguir',\n",
              " 838: 'restará',\n",
              " 839: 'tridimensional',\n",
              " 840: 'geração',\n",
              " 841: 'aproveitamos',\n",
              " 842: 'ajustava-se',\n",
              " 843: 'necessária',\n",
              " 844: 'aguardar',\n",
              " 845: 'título',\n",
              " 846: 'extremamente',\n",
              " 847: 'retirou',\n",
              " 848: 'identidade',\n",
              " 849: 'zee',\n",
              " 850: 'este',\n",
              " 851: 'várias',\n",
              " 852: 'escolhido',\n",
              " 853: 'os',\n",
              " 854: 'derreter',\n",
              " 855: 'cabelo',\n",
              " 856: 'apagaram',\n",
              " 857: 'curiosidade',\n",
              " 858: 'palavra',\n",
              " 859: 'centenas',\n",
              " 860: 'máquina',\n",
              " 861: 'computação',\n",
              " 862: 'silenciassem',\n",
              " 863: 'fundo',\n",
              " 864: 'certamente',\n",
              " 865: 'viver',\n",
              " 866: 'luzes',\n",
              " 867: 'reflexiva',\n",
              " 868: 'aposta',\n",
              " 869: 'populações',\n",
              " 870: 'infinidade',\n",
              " 871: 'porções',\n",
              " 872: 'apreciavam',\n",
              " 873: 'palavras',\n",
              " 874: 'ocupada',\n",
              " 875: 'distância',\n",
              " 876: 'convertida',\n",
              " 877: ')',\n",
              " 878: 'há',\n",
              " 879: 'espécie',\n",
              " 880: 'máximo.',\n",
              " 881: 'limitados',\n",
              " 882: 'corpo',\n",
              " 883: 'sozinho',\n",
              " 884: 'fica',\n",
              " 885: 'final',\n",
              " 886: 'conhecimentos',\n",
              " 887: 'solucionadas',\n",
              " 888: 'duvido',\n",
              " 889: 'suspirou',\n",
              " 890: 'eternidade',\n",
              " 891: 'população',\n",
              " 892: 'morrendo',\n",
              " 893: 'calmamente',\n",
              " 894: 'origem',\n",
              " 895: 'haverá',\n",
              " 896: 'chuva',\n",
              " 897: 'significativa.',\n",
              " 898: 'dois',\n",
              " 899: 'quem',\n",
              " 900: 'controle',\n",
              " 901: 'suficiente',\n",
              " 902: 'acabar',\n",
              " 903: 'trilhões',\n",
              " 904: 'sem',\n",
              " 905: 'soltou-se',\n",
              " 906: 'monstruosas',\n",
              " 907: 'estação',\n",
              " 908: 'rarefeita',\n",
              " 909: 'fato',\n",
              " 910: 'abrigando',\n",
              " 911: 'daquele',\n",
              " 912: 'precisava',\n",
              " 913: 'partir',\n",
              " 914: 'foi',\n",
              " 915: 'utilização',\n",
              " 916: 'perdendo',\n",
              " 917: 'qual',\n",
              " 918: 'ondas',\n",
              " 919: 'televisor',\n",
              " 920: 'integral',\n",
              " 921: 'evitada',\n",
              " 922: 'definição',\n",
              " 923: 'controlada',\n",
              " 924: 'dava',\n",
              " 925: 'difusos',\n",
              " 926: 'benéfico',\n",
              " 927: 'ainda',\n",
              " 928: 'aleatoriamente',\n",
              " 929: 'maio',\n",
              " 930: 'morte',\n",
              " 931: 'finas',\n",
              " 932: 'observando',\n",
              " 933: 'única',\n",
              " 934: 'boa',\n",
              " 935: 'estações',\n",
              " 936: 'duas.',\n",
              " 937: 'vai',\n",
              " 938: 'reverter',\n",
              " 939: 'fulgurante',\n",
              " 940: 'cúbicas',\n",
              " 941: 'manhã',\n",
              " 942: 'conectou',\n",
              " 943: 'pilhas.',\n",
              " 944: 'existe',\n",
              " 945: 'ligava-se',\n",
              " 946: 'submésons',\n",
              " 947: 'respiração',\n",
              " 948: 'circuitos',\n",
              " 949: 'raça',\n",
              " 950: 'função',\n",
              " 951: 'praticamente',\n",
              " 952: 'preocupem',\n",
              " 953: 'incomodá-lo',\n",
              " 954: 'polegadas',\n",
              " 955: 'combustível',\n",
              " 956: 'segurar',\n",
              " 957: 'letras',\n",
              " 958: 'devíamos',\n",
              " 959: 'também',\n",
              " 960: 'morreram',\n",
              " 961: 'apagam',\n",
              " 962: 'história',\n",
              " 963: 'capturada',\n",
              " 964: 'robozinho',\n",
              " 965: 'espaços',\n",
              " 966: 'expandiu-se',\n",
              " 967: 'morrendo.',\n",
              " 968: 'partiremos',\n",
              " 969: 'resta',\n",
              " 970: 'querida',\n",
              " 971: 'cujos',\n",
              " 972: 'feliz',\n",
              " 973: 'infinitamente',\n",
              " 974: 'mesa',\n",
              " 975: 'gritar',\n",
              " 976: 'duram',\n",
              " 977: 'entender',\n",
              " 978: 'brancas',\n",
              " 979: 'circunstâncias',\n",
              " 980: 'destruídas',\n",
              " 981: 'questões',\n",
              " 982: 'descansando',\n",
              " 983: 'construir',\n",
              " 984: 'presentes',\n",
              " 985: 'sol',\n",
              " 986: 'lupov',\n",
              " 987: 'metade',\n",
              " 988: 'tubo',\n",
              " 989: 'jazia',\n",
              " 990: 'faziam-se',\n",
              " 991: 'adequada',\n",
              " 992: 'superficialmente',\n",
              " 993: 'fez-se',\n",
              " 994: 'tantos',\n",
              " 995: 'princípio',\n",
              " 996: 'idade',\n",
              " 997: 'consciência',\n",
              " 998: 'tornou',\n",
              " 999: 'automatic',\n",
              " ...}"
            ]
          },
          "metadata": {
            "tags": []
          },
          "execution_count": 14
        }
      ]
    },
    {
      "cell_type": "markdown",
      "metadata": {
        "id": "LvEaiYzQ9Y1Q"
      },
      "source": [
        "Salvo indicações em contrario, usamos um contexto de dez palavras a esquerda e dez palavras a direita."
      ]
    },
    {
      "cell_type": "code",
      "metadata": {
        "id": "BBaj81zb9FAH"
      },
      "source": [
        "CONTEXT_SIZE = 10"
      ],
      "execution_count": 15,
      "outputs": []
    },
    {
      "cell_type": "code",
      "metadata": {
        "colab": {
          "base_uri": "https://localhost:8080/"
        },
        "id": "TUfHgKM-9qny",
        "outputId": "f92a9864-7ce8-465b-a8d3-1e6220401cf9"
      },
      "source": [
        "# Matriz de co-ocorrencia preenchida com zeros\n",
        "co_occ_mat = np.zeros((vocab_size, vocab_size))\n",
        "co_occ_mat"
      ],
      "execution_count": 16,
      "outputs": [
        {
          "output_type": "execute_result",
          "data": {
            "text/plain": [
              "array([[0., 0., 0., ..., 0., 0., 0.],\n",
              "       [0., 0., 0., ..., 0., 0., 0.],\n",
              "       [0., 0., 0., ..., 0., 0., 0.],\n",
              "       ...,\n",
              "       [0., 0., 0., ..., 0., 0., 0.],\n",
              "       [0., 0., 0., ..., 0., 0., 0.],\n",
              "       [0., 0., 0., ..., 0., 0., 0.]])"
            ]
          },
          "metadata": {
            "tags": []
          },
          "execution_count": 16
        }
      ]
    },
    {
      "cell_type": "markdown",
      "metadata": {
        "id": "7ZfXHgLg-GiS"
      },
      "source": [
        "Agora percorremos os dicionarios de mapeamento criados anteriormente e preenchemos a matriz de co-ocorrencia."
      ]
    },
    {
      "cell_type": "code",
      "metadata": {
        "id": "Thm1eYvu-DdG"
      },
      "source": [
        "# Loop externo por todo comprimento do vocabulário\n",
        "for i in range(comp_tokens):\n",
        "   \n",
        "    # Loop interno pelo tamanho do contexto\n",
        "    for dist in range(1, CONTEXT_SIZE + 1):\n",
        "       \n",
        "        # Obtém o índice do token\n",
        "        ix = palavra_indice[texto_token[i]]\n",
        "       \n",
        "        # Se a palara estiver à esquerda, inserimos à esquerda na matriz de co-ocorrência\n",
        "        if i - dist > 0:\n",
        "            left_ix = palavra_indice[texto_token[i - dist]]\n",
        "            co_occ_mat[ix, left_ix] += 1.0 / dist\n",
        "           \n",
        "        # Se a palara estiver à direita, inserimos à direita na matriz de co-ocorrência\n",
        "        if i + dist < len(texto_token):\n",
        "            right_ix = palavra_indice[texto_token[i + dist]]\n",
        "            co_occ_mat[ix, right_ix] += 1.0 / dist\n"
      ],
      "execution_count": 17,
      "outputs": []
    },
    {
      "cell_type": "code",
      "metadata": {
        "colab": {
          "base_uri": "https://localhost:8080/"
        },
        "id": "pEfM8lhK-nMi",
        "outputId": "b429e7ef-c9a8-4e0c-f264-62536de9af9f"
      },
      "source": [
        "co_occ_mat"
      ],
      "execution_count": 18,
      "outputs": [
        {
          "output_type": "execute_result",
          "data": {
            "text/plain": [
              "array([[ 0.25      ,  0.        ,  0.        , ...,  0.        ,\n",
              "         0.1       ,  3.21111111],\n",
              "       [ 0.        ,  0.        ,  0.        , ...,  0.        ,\n",
              "         0.        ,  0.64285714],\n",
              "       [ 0.        ,  0.        ,  0.        , ...,  0.        ,\n",
              "         0.        ,  0.33333333],\n",
              "       ...,\n",
              "       [ 0.        ,  0.        ,  0.        , ...,  0.        ,\n",
              "         0.        ,  1.        ],\n",
              "       [ 0.1       ,  0.        ,  0.        , ...,  0.        ,\n",
              "         0.        ,  0.        ],\n",
              "       [ 3.21111111,  0.64285714,  0.33333333, ...,  1.        ,\n",
              "         0.        , 17.91984127]])"
            ]
          },
          "metadata": {
            "tags": []
          },
          "execution_count": 18
        }
      ]
    },
    {
      "cell_type": "code",
      "metadata": {
        "id": "o1xuCjw9-plX"
      },
      "source": [
        "# Transposta da matriz de co-ocorrências\n",
        "# Retorna um array 2-D com uma linha para cada elemento não-zero\n",
        "co_occs = np.transpose(np.nonzero(co_occ_mat))\n"
      ],
      "execution_count": 19,
      "outputs": []
    },
    {
      "cell_type": "code",
      "metadata": {
        "colab": {
          "base_uri": "https://localhost:8080/"
        },
        "id": "yhDqHmfV-4fG",
        "outputId": "ec73b61d-e4ef-4f52-8e7d-0bee1da29474"
      },
      "source": [
        "# Print\n",
        "print(\"Shape da Matriz de Co-ocorrencia:\", co_occ_mat.shape)"
      ],
      "execution_count": 20,
      "outputs": [
        {
          "output_type": "stream",
          "text": [
            "Shape da Matriz de Co-ocorrencia: (1397, 1397)\n"
          ],
          "name": "stdout"
        }
      ]
    },
    {
      "cell_type": "code",
      "metadata": {
        "colab": {
          "base_uri": "https://localhost:8080/"
        },
        "id": "FiQiAune_E0X",
        "outputId": "3c499fdd-2d5d-4e63-974a-c061494b7255"
      },
      "source": [
        "print(\"Matriz de Co-ocorrencia não-zero:\\n\", co_occs)"
      ],
      "execution_count": 21,
      "outputs": [
        {
          "output_type": "stream",
          "text": [
            "Matriz de Co-ocorrencia não-zero:\n",
            " [[   0    0]\n",
            " [   0   22]\n",
            " [   0   37]\n",
            " ...\n",
            " [1396 1393]\n",
            " [1396 1394]\n",
            " [1396 1396]]\n"
          ],
          "name": "stdout"
        }
      ]
    },
    {
      "cell_type": "markdown",
      "metadata": {
        "id": "UfI4J4AU_avY"
      },
      "source": [
        "#<font color=\"SlateGray4\">Criando o Modelo</font>"
      ]
    },
    {
      "cell_type": "code",
      "metadata": {
        "id": "xbHlJt_B_Vqw"
      },
      "source": [
        "# Tamanho da embedding\n",
        "EMBEDDING_SIZE = 50\n"
      ],
      "execution_count": 22,
      "outputs": []
    },
    {
      "cell_type": "code",
      "metadata": {
        "id": "SPO17O9wAAnm"
      },
      "source": [
        "# Hiperparâmetros\n",
        "X_MAX = 100\n",
        "ALPHA = 0.75\n",
        "BATCH_SIZE = 32\n",
        "LEARNING_RATE = 0.05\n",
        "EPOCHS = 200\n"
      ],
      "execution_count": 23,
      "outputs": []
    },
    {
      "cell_type": "code",
      "metadata": {
        "id": "XKJ0IenEAFWz"
      },
      "source": [
        " #Classe para o modelo\n",
        "class Glove(nn.Module):\n",
        "\n",
        "    # Método construtor\n",
        "    def __init__(self, vocab_size, comat, embedding_size, x_max, alpha):\n",
        "        super(Glove, self).__init__()\n",
        "       \n",
        "        # Matriz de embeddings com as palavras centrais\n",
        "        self.embedding_V = nn.Embedding(vocab_size, embedding_size)\n",
        "       \n",
        "        # Matriz de embeddings com as palavras de contexto\n",
        "        self.embedding_U = nn.Embedding(vocab_size, embedding_size)\n",
        "\n",
        "        # Bias\n",
        "        self.v_bias = nn.Embedding(vocab_size, 1)\n",
        "        self.u_bias = nn.Embedding(vocab_size, 1)\n",
        "       \n",
        "        # Inicializa os parâmtetros (pesos que a rede aprende durante o treinamento)\n",
        "        for params in self.parameters():\n",
        "            nn.init.uniform_(params, a = -0.5, b = 0.5)\n",
        "           \n",
        "        # Define os hiperparâmetros (que controlam o treinamento)\n",
        "        self.x_max = x_max\n",
        "        self.alpha = alpha\n",
        "        self.comat = comat\n",
        "   \n",
        "    # Função de forward\n",
        "    def forward(self, center_word_lookup, context_word_lookup):\n",
        "       \n",
        "        # Matrizes embedding de pesos para centro e contexto\n",
        "        center_embed = self.embedding_V(center_word_lookup)\n",
        "        target_embed = self.embedding_U(context_word_lookup)\n",
        "\n",
        "        # Matrizes embedding de bias para centro e contexto\n",
        "        center_bias = self.v_bias(center_word_lookup).squeeze(1)\n",
        "        target_bias = self.u_bias(context_word_lookup).squeeze(1)\n",
        "\n",
        "        # Elementos da matriz de co-ocorrência\n",
        "        co_occurrences = torch.tensor([self.comat[center_word_lookup[i].item(), context_word_lookup[i].item()]\n",
        "                                       for i in range(BATCH_SIZE)])\n",
        "       \n",
        "        # Carrega os pesos\n",
        "        weights = torch.tensor([self.weight_fn(var) for var in co_occurrences])\n",
        "\n",
        "        # Funçã de perda\n",
        "        loss = torch.sum(torch.pow((torch.sum(center_embed * target_embed, dim = 1)\n",
        "            + center_bias + target_bias) - torch.log(co_occurrences), 2) * weights)\n",
        "       \n",
        "        return loss\n",
        "       \n",
        "    # Definição do peso\n",
        "    def weight_fn(self, x):\n",
        "        if x < self.x_max:\n",
        "            return (x / self.x_max) ** self.alpha\n",
        "        return 1\n",
        "       \n",
        "    # Soma de V e U como nossos vetores de palavras\n",
        "    def embeddings(self):\n",
        "        return self.embedding_V.weight.data + self.embedding_U.weight.data\n"
      ],
      "execution_count": 25,
      "outputs": []
    },
    {
      "cell_type": "code",
      "metadata": {
        "id": "HXux4NqfAZFg"
      },
      "source": [
        "# Função para gerar um bacth de palavras\n",
        "def gera_batch(model, batch_size = BATCH_SIZE):\n",
        "   \n",
        "    # Extrai uma amostra\n",
        "    sample = np.random.choice(np.arange(len(co_occs)), size = batch_size, replace = False)\n",
        "   \n",
        "    # Listas de vetores\n",
        "    v_vecs_ix, u_vecs_ix = [], []\n",
        "   \n",
        "    # Loop pela amostra para gerar os vetores\n",
        "    for chosen in sample:\n",
        "        ind = tuple(co_occs[chosen])  \n",
        "       \n",
        "        lookup_ix_v = ind[0]\n",
        "        lookup_ix_u = ind[1]\n",
        "       \n",
        "        v_vecs_ix.append(lookup_ix_v)\n",
        "        u_vecs_ix.append(lookup_ix_u)\n",
        "       \n",
        "    return torch.tensor(v_vecs_ix), torch.tensor(u_vecs_ix)"
      ],
      "execution_count": 26,
      "outputs": []
    },
    {
      "cell_type": "markdown",
      "metadata": {
        "id": "k7Wqso38A3tw"
      },
      "source": [
        "#<font color=\"Brown1\">Treinamento do Modelo</font>"
      ]
    },
    {
      "cell_type": "code",
      "metadata": {
        "id": "aXP1SqpzA1EM"
      },
      "source": [
        "# Função para o treinamento\n",
        "def treina_glove(comat):\n",
        "   \n",
        "    # Lista para os erros\n",
        "    losses = []\n",
        "   \n",
        "    # Cria o modelo Glove\n",
        "    model = Glove(vocab_size, comat, embedding_size = EMBEDDING_SIZE, x_max = X_MAX, alpha = ALPHA)\n",
        "   \n",
        "    # Otimizador\n",
        "    optimizer = optim.Adagrad(model.parameters(), lr = LEARNING_RATE)\n",
        "   \n",
        "    # Loop pelo número de épocas\n",
        "    for epoch in range(EPOCHS):\n",
        "       \n",
        "        # Erro total\n",
        "        total_loss = 0\n",
        "       \n",
        "        # Número de bacthes\n",
        "        num_batches = int(len(texto_token) / BATCH_SIZE)\n",
        "       \n",
        "        # Loop pelos batches\n",
        "        for batch in tqdm(range(num_batches)):\n",
        "           \n",
        "            # Zera os gradientes do modelo\n",
        "            model.zero_grad()\n",
        "           \n",
        "            # Obtém o bacth de dados\n",
        "            data = gera_batch(model, BATCH_SIZE)\n",
        "           \n",
        "            # Calcula o erro\n",
        "            loss = model(*data)\n",
        "           \n",
        "            # Executa o backpropagation\n",
        "            loss.backward()\n",
        "           \n",
        "            # Otimiza os pesos (aqui é onde ocorre o aprendizado)\n",
        "            optimizer.step()\n",
        "           \n",
        "            # Erro total para a epoch\n",
        "            total_loss += loss.item()\n",
        "           \n",
        "        # Erros do modelo\n",
        "        losses.append(total_loss)\n",
        "       \n",
        "        # Print da epoch e erro médio do modelo\n",
        "        print('Epoch : %d, Erro Médio : %.02f' % (epoch, np.mean(losses)))\n",
        "       \n",
        "    return model, losses \n"
      ],
      "execution_count": 27,
      "outputs": []
    },
    {
      "cell_type": "code",
      "metadata": {
        "colab": {
          "base_uri": "https://localhost:8080/"
        },
        "id": "YcTiK85IBYJj",
        "outputId": "f728f3cf-5bb1-4adf-d188-c7c007b12db3"
      },
      "source": [
        "# Executa a função de treinamento e retorna o modelo e os erros\n",
        "model, losses = treina_glove(co_occ_mat)"
      ],
      "execution_count": 28,
      "outputs": [
        {
          "output_type": "stream",
          "text": [
            "100%|██████████| 165/165 [00:01<00:00, 159.76it/s]\n",
            " 13%|█▎        | 21/165 [00:00<00:00, 205.89it/s]"
          ],
          "name": "stderr"
        },
        {
          "output_type": "stream",
          "text": [
            "Epoch : 0, Erro Médio : 222.38\n"
          ],
          "name": "stdout"
        },
        {
          "output_type": "stream",
          "text": [
            "100%|██████████| 165/165 [00:00<00:00, 221.01it/s]\n",
            " 15%|█▌        | 25/165 [00:00<00:00, 243.99it/s]"
          ],
          "name": "stderr"
        },
        {
          "output_type": "stream",
          "text": [
            "Epoch : 1, Erro Médio : 193.19\n"
          ],
          "name": "stdout"
        },
        {
          "output_type": "stream",
          "text": [
            "100%|██████████| 165/165 [00:00<00:00, 234.44it/s]\n",
            " 15%|█▍        | 24/165 [00:00<00:00, 236.01it/s]"
          ],
          "name": "stderr"
        },
        {
          "output_type": "stream",
          "text": [
            "Epoch : 2, Erro Médio : 187.00\n"
          ],
          "name": "stdout"
        },
        {
          "output_type": "stream",
          "text": [
            "100%|██████████| 165/165 [00:00<00:00, 224.29it/s]\n",
            " 15%|█▌        | 25/165 [00:00<00:00, 243.02it/s]"
          ],
          "name": "stderr"
        },
        {
          "output_type": "stream",
          "text": [
            "Epoch : 3, Erro Médio : 176.34\n"
          ],
          "name": "stdout"
        },
        {
          "output_type": "stream",
          "text": [
            "100%|██████████| 165/165 [00:00<00:00, 231.37it/s]\n",
            " 15%|█▍        | 24/165 [00:00<00:00, 236.55it/s]"
          ],
          "name": "stderr"
        },
        {
          "output_type": "stream",
          "text": [
            "Epoch : 4, Erro Médio : 175.58\n"
          ],
          "name": "stdout"
        },
        {
          "output_type": "stream",
          "text": [
            "100%|██████████| 165/165 [00:00<00:00, 222.07it/s]\n",
            " 13%|█▎        | 21/165 [00:00<00:00, 209.87it/s]"
          ],
          "name": "stderr"
        },
        {
          "output_type": "stream",
          "text": [
            "Epoch : 5, Erro Médio : 169.27\n"
          ],
          "name": "stdout"
        },
        {
          "output_type": "stream",
          "text": [
            "100%|██████████| 165/165 [00:00<00:00, 224.12it/s]\n",
            " 15%|█▍        | 24/165 [00:00<00:00, 234.38it/s]"
          ],
          "name": "stderr"
        },
        {
          "output_type": "stream",
          "text": [
            "Epoch : 6, Erro Médio : 162.83\n"
          ],
          "name": "stdout"
        },
        {
          "output_type": "stream",
          "text": [
            "100%|██████████| 165/165 [00:00<00:00, 228.40it/s]\n",
            " 13%|█▎        | 21/165 [00:00<00:00, 209.74it/s]"
          ],
          "name": "stderr"
        },
        {
          "output_type": "stream",
          "text": [
            "Epoch : 7, Erro Médio : 158.25\n"
          ],
          "name": "stdout"
        },
        {
          "output_type": "stream",
          "text": [
            "100%|██████████| 165/165 [00:00<00:00, 226.41it/s]\n",
            " 15%|█▍        | 24/165 [00:00<00:00, 238.35it/s]"
          ],
          "name": "stderr"
        },
        {
          "output_type": "stream",
          "text": [
            "Epoch : 8, Erro Médio : 153.34\n"
          ],
          "name": "stdout"
        },
        {
          "output_type": "stream",
          "text": [
            "100%|██████████| 165/165 [00:00<00:00, 233.82it/s]\n",
            " 14%|█▍        | 23/165 [00:00<00:00, 221.98it/s]"
          ],
          "name": "stderr"
        },
        {
          "output_type": "stream",
          "text": [
            "Epoch : 9, Erro Médio : 149.92\n"
          ],
          "name": "stdout"
        },
        {
          "output_type": "stream",
          "text": [
            "100%|██████████| 165/165 [00:00<00:00, 223.69it/s]\n",
            " 15%|█▍        | 24/165 [00:00<00:00, 236.20it/s]"
          ],
          "name": "stderr"
        },
        {
          "output_type": "stream",
          "text": [
            "Epoch : 10, Erro Médio : 148.13\n"
          ],
          "name": "stdout"
        },
        {
          "output_type": "stream",
          "text": [
            "100%|██████████| 165/165 [00:00<00:00, 235.04it/s]\n",
            " 15%|█▌        | 25/165 [00:00<00:00, 248.07it/s]"
          ],
          "name": "stderr"
        },
        {
          "output_type": "stream",
          "text": [
            "Epoch : 11, Erro Médio : 145.52\n"
          ],
          "name": "stdout"
        },
        {
          "output_type": "stream",
          "text": [
            "100%|██████████| 165/165 [00:00<00:00, 237.91it/s]\n",
            " 14%|█▍        | 23/165 [00:00<00:00, 224.61it/s]"
          ],
          "name": "stderr"
        },
        {
          "output_type": "stream",
          "text": [
            "Epoch : 12, Erro Médio : 141.24\n"
          ],
          "name": "stdout"
        },
        {
          "output_type": "stream",
          "text": [
            "100%|██████████| 165/165 [00:00<00:00, 227.05it/s]\n",
            " 15%|█▍        | 24/165 [00:00<00:00, 235.50it/s]"
          ],
          "name": "stderr"
        },
        {
          "output_type": "stream",
          "text": [
            "Epoch : 13, Erro Médio : 138.21\n"
          ],
          "name": "stdout"
        },
        {
          "output_type": "stream",
          "text": [
            "100%|██████████| 165/165 [00:00<00:00, 240.22it/s]\n",
            " 15%|█▌        | 25/165 [00:00<00:00, 244.20it/s]"
          ],
          "name": "stderr"
        },
        {
          "output_type": "stream",
          "text": [
            "Epoch : 14, Erro Médio : 135.30\n"
          ],
          "name": "stdout"
        },
        {
          "output_type": "stream",
          "text": [
            "100%|██████████| 165/165 [00:00<00:00, 235.21it/s]\n",
            " 15%|█▌        | 25/165 [00:00<00:00, 241.02it/s]"
          ],
          "name": "stderr"
        },
        {
          "output_type": "stream",
          "text": [
            "Epoch : 15, Erro Médio : 132.42\n"
          ],
          "name": "stdout"
        },
        {
          "output_type": "stream",
          "text": [
            "100%|██████████| 165/165 [00:00<00:00, 227.80it/s]\n",
            " 15%|█▍        | 24/165 [00:00<00:00, 235.63it/s]"
          ],
          "name": "stderr"
        },
        {
          "output_type": "stream",
          "text": [
            "Epoch : 16, Erro Médio : 129.33\n"
          ],
          "name": "stdout"
        },
        {
          "output_type": "stream",
          "text": [
            "100%|██████████| 165/165 [00:00<00:00, 230.49it/s]\n",
            " 14%|█▍        | 23/165 [00:00<00:00, 229.32it/s]"
          ],
          "name": "stderr"
        },
        {
          "output_type": "stream",
          "text": [
            "Epoch : 17, Erro Médio : 126.40\n"
          ],
          "name": "stdout"
        },
        {
          "output_type": "stream",
          "text": [
            "100%|██████████| 165/165 [00:00<00:00, 233.64it/s]\n",
            " 15%|█▍        | 24/165 [00:00<00:00, 238.79it/s]"
          ],
          "name": "stderr"
        },
        {
          "output_type": "stream",
          "text": [
            "Epoch : 18, Erro Médio : 124.03\n"
          ],
          "name": "stdout"
        },
        {
          "output_type": "stream",
          "text": [
            "100%|██████████| 165/165 [00:00<00:00, 227.30it/s]\n",
            " 14%|█▍        | 23/165 [00:00<00:00, 229.25it/s]"
          ],
          "name": "stderr"
        },
        {
          "output_type": "stream",
          "text": [
            "Epoch : 19, Erro Médio : 121.33\n"
          ],
          "name": "stdout"
        },
        {
          "output_type": "stream",
          "text": [
            "100%|██████████| 165/165 [00:00<00:00, 225.50it/s]\n",
            " 15%|█▍        | 24/165 [00:00<00:00, 233.04it/s]"
          ],
          "name": "stderr"
        },
        {
          "output_type": "stream",
          "text": [
            "Epoch : 20, Erro Médio : 118.77\n"
          ],
          "name": "stdout"
        },
        {
          "output_type": "stream",
          "text": [
            "100%|██████████| 165/165 [00:00<00:00, 236.34it/s]\n",
            " 13%|█▎        | 22/165 [00:00<00:00, 214.38it/s]"
          ],
          "name": "stderr"
        },
        {
          "output_type": "stream",
          "text": [
            "Epoch : 21, Erro Médio : 116.34\n"
          ],
          "name": "stdout"
        },
        {
          "output_type": "stream",
          "text": [
            "100%|██████████| 165/165 [00:00<00:00, 227.40it/s]\n",
            " 15%|█▍        | 24/165 [00:00<00:00, 237.80it/s]"
          ],
          "name": "stderr"
        },
        {
          "output_type": "stream",
          "text": [
            "Epoch : 22, Erro Médio : 114.34\n"
          ],
          "name": "stdout"
        },
        {
          "output_type": "stream",
          "text": [
            "100%|██████████| 165/165 [00:00<00:00, 234.52it/s]\n",
            " 13%|█▎        | 22/165 [00:00<00:00, 218.14it/s]"
          ],
          "name": "stderr"
        },
        {
          "output_type": "stream",
          "text": [
            "Epoch : 23, Erro Médio : 112.48\n"
          ],
          "name": "stdout"
        },
        {
          "output_type": "stream",
          "text": [
            "100%|██████████| 165/165 [00:00<00:00, 224.35it/s]\n",
            " 15%|█▌        | 25/165 [00:00<00:00, 243.26it/s]"
          ],
          "name": "stderr"
        },
        {
          "output_type": "stream",
          "text": [
            "Epoch : 24, Erro Médio : 110.37\n"
          ],
          "name": "stdout"
        },
        {
          "output_type": "stream",
          "text": [
            "100%|██████████| 165/165 [00:00<00:00, 225.55it/s]\n",
            " 15%|█▌        | 25/165 [00:00<00:00, 243.97it/s]"
          ],
          "name": "stderr"
        },
        {
          "output_type": "stream",
          "text": [
            "Epoch : 25, Erro Médio : 108.52\n"
          ],
          "name": "stdout"
        },
        {
          "output_type": "stream",
          "text": [
            "100%|██████████| 165/165 [00:00<00:00, 227.59it/s]\n",
            " 15%|█▍        | 24/165 [00:00<00:00, 237.74it/s]"
          ],
          "name": "stderr"
        },
        {
          "output_type": "stream",
          "text": [
            "Epoch : 26, Erro Médio : 106.65\n"
          ],
          "name": "stdout"
        },
        {
          "output_type": "stream",
          "text": [
            "100%|██████████| 165/165 [00:00<00:00, 227.12it/s]\n",
            " 13%|█▎        | 22/165 [00:00<00:00, 217.84it/s]"
          ],
          "name": "stderr"
        },
        {
          "output_type": "stream",
          "text": [
            "Epoch : 27, Erro Médio : 104.73\n"
          ],
          "name": "stdout"
        },
        {
          "output_type": "stream",
          "text": [
            "100%|██████████| 165/165 [00:00<00:00, 224.35it/s]\n",
            " 15%|█▌        | 25/165 [00:00<00:00, 241.14it/s]"
          ],
          "name": "stderr"
        },
        {
          "output_type": "stream",
          "text": [
            "Epoch : 28, Erro Médio : 103.03\n"
          ],
          "name": "stdout"
        },
        {
          "output_type": "stream",
          "text": [
            "100%|██████████| 165/165 [00:00<00:00, 231.58it/s]\n",
            " 14%|█▍        | 23/165 [00:00<00:00, 226.97it/s]"
          ],
          "name": "stderr"
        },
        {
          "output_type": "stream",
          "text": [
            "Epoch : 29, Erro Médio : 101.41\n"
          ],
          "name": "stdout"
        },
        {
          "output_type": "stream",
          "text": [
            "100%|██████████| 165/165 [00:00<00:00, 226.34it/s]\n",
            " 14%|█▍        | 23/165 [00:00<00:00, 227.63it/s]"
          ],
          "name": "stderr"
        },
        {
          "output_type": "stream",
          "text": [
            "Epoch : 30, Erro Médio : 99.78\n"
          ],
          "name": "stdout"
        },
        {
          "output_type": "stream",
          "text": [
            "100%|██████████| 165/165 [00:00<00:00, 224.27it/s]\n",
            " 14%|█▍        | 23/165 [00:00<00:00, 224.41it/s]"
          ],
          "name": "stderr"
        },
        {
          "output_type": "stream",
          "text": [
            "Epoch : 31, Erro Médio : 98.20\n"
          ],
          "name": "stdout"
        },
        {
          "output_type": "stream",
          "text": [
            "100%|██████████| 165/165 [00:00<00:00, 225.05it/s]\n",
            " 13%|█▎        | 21/165 [00:00<00:00, 206.86it/s]"
          ],
          "name": "stderr"
        },
        {
          "output_type": "stream",
          "text": [
            "Epoch : 32, Erro Médio : 96.66\n"
          ],
          "name": "stdout"
        },
        {
          "output_type": "stream",
          "text": [
            "100%|██████████| 165/165 [00:00<00:00, 220.06it/s]\n",
            " 14%|█▍        | 23/165 [00:00<00:00, 229.92it/s]"
          ],
          "name": "stderr"
        },
        {
          "output_type": "stream",
          "text": [
            "Epoch : 33, Erro Médio : 95.31\n"
          ],
          "name": "stdout"
        },
        {
          "output_type": "stream",
          "text": [
            "100%|██████████| 165/165 [00:00<00:00, 222.95it/s]\n",
            " 13%|█▎        | 22/165 [00:00<00:00, 215.88it/s]"
          ],
          "name": "stderr"
        },
        {
          "output_type": "stream",
          "text": [
            "Epoch : 34, Erro Médio : 93.93\n"
          ],
          "name": "stdout"
        },
        {
          "output_type": "stream",
          "text": [
            "100%|██████████| 165/165 [00:00<00:00, 223.09it/s]\n",
            " 15%|█▍        | 24/165 [00:00<00:00, 239.80it/s]"
          ],
          "name": "stderr"
        },
        {
          "output_type": "stream",
          "text": [
            "Epoch : 35, Erro Médio : 92.56\n"
          ],
          "name": "stdout"
        },
        {
          "output_type": "stream",
          "text": [
            "100%|██████████| 165/165 [00:00<00:00, 233.20it/s]\n",
            " 14%|█▍        | 23/165 [00:00<00:00, 227.57it/s]"
          ],
          "name": "stderr"
        },
        {
          "output_type": "stream",
          "text": [
            "Epoch : 36, Erro Médio : 91.24\n"
          ],
          "name": "stdout"
        },
        {
          "output_type": "stream",
          "text": [
            "100%|██████████| 165/165 [00:00<00:00, 220.25it/s]\n",
            " 15%|█▌        | 25/165 [00:00<00:00, 242.58it/s]"
          ],
          "name": "stderr"
        },
        {
          "output_type": "stream",
          "text": [
            "Epoch : 37, Erro Médio : 90.05\n"
          ],
          "name": "stdout"
        },
        {
          "output_type": "stream",
          "text": [
            "100%|██████████| 165/165 [00:00<00:00, 225.25it/s]\n",
            " 13%|█▎        | 22/165 [00:00<00:00, 217.56it/s]"
          ],
          "name": "stderr"
        },
        {
          "output_type": "stream",
          "text": [
            "Epoch : 38, Erro Médio : 88.86\n"
          ],
          "name": "stdout"
        },
        {
          "output_type": "stream",
          "text": [
            "100%|██████████| 165/165 [00:00<00:00, 221.09it/s]\n",
            " 15%|█▌        | 25/165 [00:00<00:00, 242.06it/s]"
          ],
          "name": "stderr"
        },
        {
          "output_type": "stream",
          "text": [
            "Epoch : 39, Erro Médio : 87.69\n"
          ],
          "name": "stdout"
        },
        {
          "output_type": "stream",
          "text": [
            "100%|██████████| 165/165 [00:00<00:00, 234.39it/s]\n",
            " 13%|█▎        | 22/165 [00:00<00:00, 211.53it/s]"
          ],
          "name": "stderr"
        },
        {
          "output_type": "stream",
          "text": [
            "Epoch : 40, Erro Médio : 86.54\n"
          ],
          "name": "stdout"
        },
        {
          "output_type": "stream",
          "text": [
            "100%|██████████| 165/165 [00:00<00:00, 233.58it/s]\n",
            " 15%|█▌        | 25/165 [00:00<00:00, 248.63it/s]"
          ],
          "name": "stderr"
        },
        {
          "output_type": "stream",
          "text": [
            "Epoch : 41, Erro Médio : 85.42\n"
          ],
          "name": "stdout"
        },
        {
          "output_type": "stream",
          "text": [
            "100%|██████████| 165/165 [00:00<00:00, 236.03it/s]\n",
            " 13%|█▎        | 21/165 [00:00<00:00, 205.80it/s]"
          ],
          "name": "stderr"
        },
        {
          "output_type": "stream",
          "text": [
            "Epoch : 42, Erro Médio : 84.44\n"
          ],
          "name": "stdout"
        },
        {
          "output_type": "stream",
          "text": [
            "100%|██████████| 165/165 [00:00<00:00, 232.98it/s]\n",
            " 14%|█▍        | 23/165 [00:00<00:00, 229.45it/s]"
          ],
          "name": "stderr"
        },
        {
          "output_type": "stream",
          "text": [
            "Epoch : 43, Erro Médio : 83.46\n"
          ],
          "name": "stdout"
        },
        {
          "output_type": "stream",
          "text": [
            "100%|██████████| 165/165 [00:00<00:00, 228.01it/s]\n",
            " 15%|█▌        | 25/165 [00:00<00:00, 245.86it/s]"
          ],
          "name": "stderr"
        },
        {
          "output_type": "stream",
          "text": [
            "Epoch : 44, Erro Médio : 82.45\n"
          ],
          "name": "stdout"
        },
        {
          "output_type": "stream",
          "text": [
            "100%|██████████| 165/165 [00:00<00:00, 236.17it/s]\n",
            " 15%|█▍        | 24/165 [00:00<00:00, 238.55it/s]"
          ],
          "name": "stderr"
        },
        {
          "output_type": "stream",
          "text": [
            "Epoch : 45, Erro Médio : 81.55\n"
          ],
          "name": "stdout"
        },
        {
          "output_type": "stream",
          "text": [
            "100%|██████████| 165/165 [00:00<00:00, 228.25it/s]\n",
            " 13%|█▎        | 22/165 [00:00<00:00, 215.88it/s]"
          ],
          "name": "stderr"
        },
        {
          "output_type": "stream",
          "text": [
            "Epoch : 46, Erro Médio : 80.62\n"
          ],
          "name": "stdout"
        },
        {
          "output_type": "stream",
          "text": [
            "100%|██████████| 165/165 [00:00<00:00, 229.41it/s]\n",
            " 15%|█▌        | 25/165 [00:00<00:00, 243.36it/s]"
          ],
          "name": "stderr"
        },
        {
          "output_type": "stream",
          "text": [
            "Epoch : 47, Erro Médio : 79.68\n"
          ],
          "name": "stdout"
        },
        {
          "output_type": "stream",
          "text": [
            "100%|██████████| 165/165 [00:00<00:00, 232.74it/s]\n",
            " 14%|█▍        | 23/165 [00:00<00:00, 226.66it/s]"
          ],
          "name": "stderr"
        },
        {
          "output_type": "stream",
          "text": [
            "Epoch : 48, Erro Médio : 78.87\n"
          ],
          "name": "stdout"
        },
        {
          "output_type": "stream",
          "text": [
            "100%|██████████| 165/165 [00:00<00:00, 224.34it/s]\n",
            " 13%|█▎        | 22/165 [00:00<00:00, 219.69it/s]"
          ],
          "name": "stderr"
        },
        {
          "output_type": "stream",
          "text": [
            "Epoch : 49, Erro Médio : 78.04\n"
          ],
          "name": "stdout"
        },
        {
          "output_type": "stream",
          "text": [
            "100%|██████████| 165/165 [00:00<00:00, 228.65it/s]\n",
            " 14%|█▍        | 23/165 [00:00<00:00, 223.62it/s]"
          ],
          "name": "stderr"
        },
        {
          "output_type": "stream",
          "text": [
            "Epoch : 50, Erro Médio : 77.22\n"
          ],
          "name": "stdout"
        },
        {
          "output_type": "stream",
          "text": [
            "100%|██████████| 165/165 [00:00<00:00, 225.06it/s]\n",
            " 15%|█▌        | 25/165 [00:00<00:00, 245.06it/s]"
          ],
          "name": "stderr"
        },
        {
          "output_type": "stream",
          "text": [
            "Epoch : 51, Erro Médio : 76.40\n"
          ],
          "name": "stdout"
        },
        {
          "output_type": "stream",
          "text": [
            "100%|██████████| 165/165 [00:00<00:00, 234.03it/s]\n",
            " 16%|█▌        | 26/165 [00:00<00:00, 256.63it/s]"
          ],
          "name": "stderr"
        },
        {
          "output_type": "stream",
          "text": [
            "Epoch : 52, Erro Médio : 75.64\n"
          ],
          "name": "stdout"
        },
        {
          "output_type": "stream",
          "text": [
            "100%|██████████| 165/165 [00:00<00:00, 238.52it/s]\n",
            " 13%|█▎        | 22/165 [00:00<00:00, 216.20it/s]"
          ],
          "name": "stderr"
        },
        {
          "output_type": "stream",
          "text": [
            "Epoch : 53, Erro Médio : 74.90\n"
          ],
          "name": "stdout"
        },
        {
          "output_type": "stream",
          "text": [
            "100%|██████████| 165/165 [00:00<00:00, 235.61it/s]\n",
            " 15%|█▌        | 25/165 [00:00<00:00, 248.49it/s]"
          ],
          "name": "stderr"
        },
        {
          "output_type": "stream",
          "text": [
            "Epoch : 54, Erro Médio : 74.17\n"
          ],
          "name": "stdout"
        },
        {
          "output_type": "stream",
          "text": [
            "100%|██████████| 165/165 [00:00<00:00, 235.38it/s]\n",
            " 15%|█▌        | 25/165 [00:00<00:00, 241.42it/s]"
          ],
          "name": "stderr"
        },
        {
          "output_type": "stream",
          "text": [
            "Epoch : 55, Erro Médio : 73.43\n"
          ],
          "name": "stdout"
        },
        {
          "output_type": "stream",
          "text": [
            "100%|██████████| 165/165 [00:00<00:00, 238.94it/s]\n",
            " 15%|█▌        | 25/165 [00:00<00:00, 242.66it/s]"
          ],
          "name": "stderr"
        },
        {
          "output_type": "stream",
          "text": [
            "Epoch : 56, Erro Médio : 72.72\n"
          ],
          "name": "stdout"
        },
        {
          "output_type": "stream",
          "text": [
            "100%|██████████| 165/165 [00:00<00:00, 232.87it/s]\n",
            " 15%|█▌        | 25/165 [00:00<00:00, 245.24it/s]"
          ],
          "name": "stderr"
        },
        {
          "output_type": "stream",
          "text": [
            "Epoch : 57, Erro Médio : 72.02\n"
          ],
          "name": "stdout"
        },
        {
          "output_type": "stream",
          "text": [
            "100%|██████████| 165/165 [00:00<00:00, 234.94it/s]\n",
            " 15%|█▌        | 25/165 [00:00<00:00, 247.99it/s]"
          ],
          "name": "stderr"
        },
        {
          "output_type": "stream",
          "text": [
            "Epoch : 58, Erro Médio : 71.36\n"
          ],
          "name": "stdout"
        },
        {
          "output_type": "stream",
          "text": [
            "100%|██████████| 165/165 [00:00<00:00, 236.57it/s]\n",
            " 15%|█▌        | 25/165 [00:00<00:00, 242.33it/s]"
          ],
          "name": "stderr"
        },
        {
          "output_type": "stream",
          "text": [
            "Epoch : 59, Erro Médio : 70.71\n"
          ],
          "name": "stdout"
        },
        {
          "output_type": "stream",
          "text": [
            "100%|██████████| 165/165 [00:00<00:00, 234.31it/s]\n",
            " 14%|█▍        | 23/165 [00:00<00:00, 229.64it/s]"
          ],
          "name": "stderr"
        },
        {
          "output_type": "stream",
          "text": [
            "Epoch : 60, Erro Médio : 70.05\n"
          ],
          "name": "stdout"
        },
        {
          "output_type": "stream",
          "text": [
            "100%|██████████| 165/165 [00:00<00:00, 229.52it/s]\n",
            " 13%|█▎        | 22/165 [00:00<00:00, 219.64it/s]"
          ],
          "name": "stderr"
        },
        {
          "output_type": "stream",
          "text": [
            "Epoch : 61, Erro Médio : 69.44\n"
          ],
          "name": "stdout"
        },
        {
          "output_type": "stream",
          "text": [
            "100%|██████████| 165/165 [00:00<00:00, 223.32it/s]\n",
            " 15%|█▌        | 25/165 [00:00<00:00, 244.38it/s]"
          ],
          "name": "stderr"
        },
        {
          "output_type": "stream",
          "text": [
            "Epoch : 62, Erro Médio : 68.79\n"
          ],
          "name": "stdout"
        },
        {
          "output_type": "stream",
          "text": [
            "100%|██████████| 165/165 [00:00<00:00, 224.26it/s]\n",
            " 14%|█▍        | 23/165 [00:00<00:00, 226.76it/s]"
          ],
          "name": "stderr"
        },
        {
          "output_type": "stream",
          "text": [
            "Epoch : 63, Erro Médio : 68.18\n"
          ],
          "name": "stdout"
        },
        {
          "output_type": "stream",
          "text": [
            "100%|██████████| 165/165 [00:00<00:00, 225.06it/s]\n",
            " 15%|█▍        | 24/165 [00:00<00:00, 236.88it/s]"
          ],
          "name": "stderr"
        },
        {
          "output_type": "stream",
          "text": [
            "Epoch : 64, Erro Médio : 67.59\n"
          ],
          "name": "stdout"
        },
        {
          "output_type": "stream",
          "text": [
            "100%|██████████| 165/165 [00:00<00:00, 222.99it/s]\n",
            " 15%|█▌        | 25/165 [00:00<00:00, 245.10it/s]"
          ],
          "name": "stderr"
        },
        {
          "output_type": "stream",
          "text": [
            "Epoch : 65, Erro Médio : 67.01\n"
          ],
          "name": "stdout"
        },
        {
          "output_type": "stream",
          "text": [
            "100%|██████████| 165/165 [00:00<00:00, 232.01it/s]\n",
            " 15%|█▍        | 24/165 [00:00<00:00, 232.30it/s]"
          ],
          "name": "stderr"
        },
        {
          "output_type": "stream",
          "text": [
            "Epoch : 66, Erro Médio : 66.44\n"
          ],
          "name": "stdout"
        },
        {
          "output_type": "stream",
          "text": [
            "100%|██████████| 165/165 [00:00<00:00, 218.82it/s]\n",
            " 13%|█▎        | 22/165 [00:00<00:00, 219.89it/s]"
          ],
          "name": "stderr"
        },
        {
          "output_type": "stream",
          "text": [
            "Epoch : 67, Erro Médio : 65.91\n"
          ],
          "name": "stdout"
        },
        {
          "output_type": "stream",
          "text": [
            "100%|██████████| 165/165 [00:00<00:00, 226.09it/s]\n",
            " 15%|█▍        | 24/165 [00:00<00:00, 238.96it/s]"
          ],
          "name": "stderr"
        },
        {
          "output_type": "stream",
          "text": [
            "Epoch : 68, Erro Médio : 65.35\n"
          ],
          "name": "stdout"
        },
        {
          "output_type": "stream",
          "text": [
            "100%|██████████| 165/165 [00:00<00:00, 231.96it/s]\n",
            " 15%|█▌        | 25/165 [00:00<00:00, 246.17it/s]"
          ],
          "name": "stderr"
        },
        {
          "output_type": "stream",
          "text": [
            "Epoch : 69, Erro Médio : 64.85\n"
          ],
          "name": "stdout"
        },
        {
          "output_type": "stream",
          "text": [
            "100%|██████████| 165/165 [00:00<00:00, 235.95it/s]\n",
            " 15%|█▌        | 25/165 [00:00<00:00, 249.91it/s]"
          ],
          "name": "stderr"
        },
        {
          "output_type": "stream",
          "text": [
            "Epoch : 70, Erro Médio : 64.35\n"
          ],
          "name": "stdout"
        },
        {
          "output_type": "stream",
          "text": [
            "100%|██████████| 165/165 [00:00<00:00, 238.82it/s]\n",
            " 15%|█▍        | 24/165 [00:00<00:00, 232.79it/s]"
          ],
          "name": "stderr"
        },
        {
          "output_type": "stream",
          "text": [
            "Epoch : 71, Erro Médio : 63.83\n"
          ],
          "name": "stdout"
        },
        {
          "output_type": "stream",
          "text": [
            "100%|██████████| 165/165 [00:00<00:00, 230.73it/s]\n",
            " 15%|█▌        | 25/165 [00:00<00:00, 246.76it/s]"
          ],
          "name": "stderr"
        },
        {
          "output_type": "stream",
          "text": [
            "Epoch : 72, Erro Médio : 63.33\n"
          ],
          "name": "stdout"
        },
        {
          "output_type": "stream",
          "text": [
            "100%|██████████| 165/165 [00:00<00:00, 227.71it/s]\n",
            " 15%|█▍        | 24/165 [00:00<00:00, 239.42it/s]"
          ],
          "name": "stderr"
        },
        {
          "output_type": "stream",
          "text": [
            "Epoch : 73, Erro Médio : 62.83\n"
          ],
          "name": "stdout"
        },
        {
          "output_type": "stream",
          "text": [
            "100%|██████████| 165/165 [00:00<00:00, 233.56it/s]\n",
            " 14%|█▍        | 23/165 [00:00<00:00, 222.25it/s]"
          ],
          "name": "stderr"
        },
        {
          "output_type": "stream",
          "text": [
            "Epoch : 74, Erro Médio : 62.35\n"
          ],
          "name": "stdout"
        },
        {
          "output_type": "stream",
          "text": [
            "100%|██████████| 165/165 [00:00<00:00, 231.06it/s]\n",
            " 13%|█▎        | 22/165 [00:00<00:00, 219.18it/s]"
          ],
          "name": "stderr"
        },
        {
          "output_type": "stream",
          "text": [
            "Epoch : 75, Erro Médio : 61.88\n"
          ],
          "name": "stdout"
        },
        {
          "output_type": "stream",
          "text": [
            "100%|██████████| 165/165 [00:00<00:00, 228.79it/s]\n",
            " 16%|█▌        | 26/165 [00:00<00:00, 250.82it/s]"
          ],
          "name": "stderr"
        },
        {
          "output_type": "stream",
          "text": [
            "Epoch : 76, Erro Médio : 61.42\n"
          ],
          "name": "stdout"
        },
        {
          "output_type": "stream",
          "text": [
            "100%|██████████| 165/165 [00:00<00:00, 233.15it/s]\n",
            " 14%|█▍        | 23/165 [00:00<00:00, 229.18it/s]"
          ],
          "name": "stderr"
        },
        {
          "output_type": "stream",
          "text": [
            "Epoch : 77, Erro Médio : 60.96\n"
          ],
          "name": "stdout"
        },
        {
          "output_type": "stream",
          "text": [
            "100%|██████████| 165/165 [00:00<00:00, 229.51it/s]\n",
            " 15%|█▍        | 24/165 [00:00<00:00, 237.03it/s]"
          ],
          "name": "stderr"
        },
        {
          "output_type": "stream",
          "text": [
            "Epoch : 78, Erro Médio : 60.51\n"
          ],
          "name": "stdout"
        },
        {
          "output_type": "stream",
          "text": [
            "100%|██████████| 165/165 [00:00<00:00, 226.86it/s]\n",
            " 15%|█▌        | 25/165 [00:00<00:00, 244.83it/s]"
          ],
          "name": "stderr"
        },
        {
          "output_type": "stream",
          "text": [
            "Epoch : 79, Erro Médio : 60.06\n"
          ],
          "name": "stdout"
        },
        {
          "output_type": "stream",
          "text": [
            "100%|██████████| 165/165 [00:00<00:00, 233.76it/s]\n",
            " 14%|█▍        | 23/165 [00:00<00:00, 227.85it/s]"
          ],
          "name": "stderr"
        },
        {
          "output_type": "stream",
          "text": [
            "Epoch : 80, Erro Médio : 59.62\n"
          ],
          "name": "stdout"
        },
        {
          "output_type": "stream",
          "text": [
            "100%|██████████| 165/165 [00:00<00:00, 224.87it/s]\n",
            " 14%|█▍        | 23/165 [00:00<00:00, 225.82it/s]"
          ],
          "name": "stderr"
        },
        {
          "output_type": "stream",
          "text": [
            "Epoch : 81, Erro Médio : 59.22\n"
          ],
          "name": "stdout"
        },
        {
          "output_type": "stream",
          "text": [
            "100%|██████████| 165/165 [00:00<00:00, 226.51it/s]\n",
            " 13%|█▎        | 21/165 [00:00<00:00, 205.57it/s]"
          ],
          "name": "stderr"
        },
        {
          "output_type": "stream",
          "text": [
            "Epoch : 82, Erro Médio : 58.81\n"
          ],
          "name": "stdout"
        },
        {
          "output_type": "stream",
          "text": [
            "100%|██████████| 165/165 [00:00<00:00, 223.04it/s]\n",
            " 15%|█▌        | 25/165 [00:00<00:00, 248.38it/s]"
          ],
          "name": "stderr"
        },
        {
          "output_type": "stream",
          "text": [
            "Epoch : 83, Erro Médio : 58.41\n"
          ],
          "name": "stdout"
        },
        {
          "output_type": "stream",
          "text": [
            "100%|██████████| 165/165 [00:00<00:00, 229.38it/s]\n",
            " 15%|█▌        | 25/165 [00:00<00:00, 243.21it/s]"
          ],
          "name": "stderr"
        },
        {
          "output_type": "stream",
          "text": [
            "Epoch : 84, Erro Médio : 58.02\n"
          ],
          "name": "stdout"
        },
        {
          "output_type": "stream",
          "text": [
            "100%|██████████| 165/165 [00:00<00:00, 233.16it/s]\n",
            " 13%|█▎        | 22/165 [00:00<00:00, 217.10it/s]"
          ],
          "name": "stderr"
        },
        {
          "output_type": "stream",
          "text": [
            "Epoch : 85, Erro Médio : 57.62\n"
          ],
          "name": "stdout"
        },
        {
          "output_type": "stream",
          "text": [
            "100%|██████████| 165/165 [00:00<00:00, 232.68it/s]\n",
            " 15%|█▍        | 24/165 [00:00<00:00, 235.16it/s]"
          ],
          "name": "stderr"
        },
        {
          "output_type": "stream",
          "text": [
            "Epoch : 86, Erro Médio : 57.25\n"
          ],
          "name": "stdout"
        },
        {
          "output_type": "stream",
          "text": [
            "100%|██████████| 165/165 [00:00<00:00, 225.40it/s]\n",
            " 15%|█▍        | 24/165 [00:00<00:00, 219.68it/s]"
          ],
          "name": "stderr"
        },
        {
          "output_type": "stream",
          "text": [
            "Epoch : 87, Erro Médio : 56.87\n"
          ],
          "name": "stdout"
        },
        {
          "output_type": "stream",
          "text": [
            "100%|██████████| 165/165 [00:00<00:00, 227.97it/s]\n",
            " 13%|█▎        | 21/165 [00:00<00:00, 206.71it/s]"
          ],
          "name": "stderr"
        },
        {
          "output_type": "stream",
          "text": [
            "Epoch : 88, Erro Médio : 56.49\n"
          ],
          "name": "stdout"
        },
        {
          "output_type": "stream",
          "text": [
            "100%|██████████| 165/165 [00:00<00:00, 222.84it/s]\n",
            " 15%|█▌        | 25/165 [00:00<00:00, 245.01it/s]"
          ],
          "name": "stderr"
        },
        {
          "output_type": "stream",
          "text": [
            "Epoch : 89, Erro Médio : 56.13\n"
          ],
          "name": "stdout"
        },
        {
          "output_type": "stream",
          "text": [
            "100%|██████████| 165/165 [00:00<00:00, 233.05it/s]\n",
            " 15%|█▍        | 24/165 [00:00<00:00, 235.53it/s]"
          ],
          "name": "stderr"
        },
        {
          "output_type": "stream",
          "text": [
            "Epoch : 90, Erro Médio : 55.78\n"
          ],
          "name": "stdout"
        },
        {
          "output_type": "stream",
          "text": [
            "100%|██████████| 165/165 [00:00<00:00, 230.22it/s]\n",
            " 14%|█▍        | 23/165 [00:00<00:00, 221.91it/s]"
          ],
          "name": "stderr"
        },
        {
          "output_type": "stream",
          "text": [
            "Epoch : 91, Erro Médio : 55.43\n"
          ],
          "name": "stdout"
        },
        {
          "output_type": "stream",
          "text": [
            "100%|██████████| 165/165 [00:00<00:00, 232.27it/s]\n",
            " 14%|█▍        | 23/165 [00:00<00:00, 229.16it/s]"
          ],
          "name": "stderr"
        },
        {
          "output_type": "stream",
          "text": [
            "Epoch : 92, Erro Médio : 55.09\n"
          ],
          "name": "stdout"
        },
        {
          "output_type": "stream",
          "text": [
            "100%|██████████| 165/165 [00:00<00:00, 225.67it/s]\n",
            " 14%|█▍        | 23/165 [00:00<00:00, 221.51it/s]"
          ],
          "name": "stderr"
        },
        {
          "output_type": "stream",
          "text": [
            "Epoch : 93, Erro Médio : 54.75\n"
          ],
          "name": "stdout"
        },
        {
          "output_type": "stream",
          "text": [
            "100%|██████████| 165/165 [00:00<00:00, 229.93it/s]\n",
            " 15%|█▍        | 24/165 [00:00<00:00, 233.08it/s]"
          ],
          "name": "stderr"
        },
        {
          "output_type": "stream",
          "text": [
            "Epoch : 94, Erro Médio : 54.42\n"
          ],
          "name": "stdout"
        },
        {
          "output_type": "stream",
          "text": [
            "100%|██████████| 165/165 [00:00<00:00, 221.88it/s]\n",
            " 15%|█▍        | 24/165 [00:00<00:00, 237.07it/s]"
          ],
          "name": "stderr"
        },
        {
          "output_type": "stream",
          "text": [
            "Epoch : 95, Erro Médio : 54.08\n"
          ],
          "name": "stdout"
        },
        {
          "output_type": "stream",
          "text": [
            "100%|██████████| 165/165 [00:00<00:00, 231.24it/s]\n",
            " 14%|█▍        | 23/165 [00:00<00:00, 222.14it/s]"
          ],
          "name": "stderr"
        },
        {
          "output_type": "stream",
          "text": [
            "Epoch : 96, Erro Médio : 53.76\n"
          ],
          "name": "stdout"
        },
        {
          "output_type": "stream",
          "text": [
            "100%|██████████| 165/165 [00:00<00:00, 229.05it/s]\n",
            " 15%|█▍        | 24/165 [00:00<00:00, 238.11it/s]"
          ],
          "name": "stderr"
        },
        {
          "output_type": "stream",
          "text": [
            "Epoch : 97, Erro Médio : 53.44\n"
          ],
          "name": "stdout"
        },
        {
          "output_type": "stream",
          "text": [
            "100%|██████████| 165/165 [00:00<00:00, 237.67it/s]\n",
            " 15%|█▌        | 25/165 [00:00<00:00, 247.75it/s]"
          ],
          "name": "stderr"
        },
        {
          "output_type": "stream",
          "text": [
            "Epoch : 98, Erro Médio : 53.12\n"
          ],
          "name": "stdout"
        },
        {
          "output_type": "stream",
          "text": [
            "100%|██████████| 165/165 [00:00<00:00, 239.15it/s]\n",
            " 15%|█▍        | 24/165 [00:00<00:00, 230.73it/s]"
          ],
          "name": "stderr"
        },
        {
          "output_type": "stream",
          "text": [
            "Epoch : 99, Erro Médio : 52.80\n"
          ],
          "name": "stdout"
        },
        {
          "output_type": "stream",
          "text": [
            "100%|██████████| 165/165 [00:00<00:00, 231.61it/s]\n",
            " 14%|█▍        | 23/165 [00:00<00:00, 224.22it/s]"
          ],
          "name": "stderr"
        },
        {
          "output_type": "stream",
          "text": [
            "Epoch : 100, Erro Médio : 52.50\n"
          ],
          "name": "stdout"
        },
        {
          "output_type": "stream",
          "text": [
            "100%|██████████| 165/165 [00:00<00:00, 234.33it/s]\n",
            " 15%|█▌        | 25/165 [00:00<00:00, 242.22it/s]"
          ],
          "name": "stderr"
        },
        {
          "output_type": "stream",
          "text": [
            "Epoch : 101, Erro Médio : 52.20\n"
          ],
          "name": "stdout"
        },
        {
          "output_type": "stream",
          "text": [
            "100%|██████████| 165/165 [00:00<00:00, 235.28it/s]\n",
            " 13%|█▎        | 22/165 [00:00<00:00, 219.56it/s]"
          ],
          "name": "stderr"
        },
        {
          "output_type": "stream",
          "text": [
            "Epoch : 102, Erro Médio : 51.90\n"
          ],
          "name": "stdout"
        },
        {
          "output_type": "stream",
          "text": [
            "100%|██████████| 165/165 [00:00<00:00, 223.60it/s]\n",
            " 15%|█▌        | 25/165 [00:00<00:00, 242.00it/s]"
          ],
          "name": "stderr"
        },
        {
          "output_type": "stream",
          "text": [
            "Epoch : 103, Erro Médio : 51.60\n"
          ],
          "name": "stdout"
        },
        {
          "output_type": "stream",
          "text": [
            "100%|██████████| 165/165 [00:00<00:00, 237.84it/s]\n",
            " 15%|█▍        | 24/165 [00:00<00:00, 237.72it/s]"
          ],
          "name": "stderr"
        },
        {
          "output_type": "stream",
          "text": [
            "Epoch : 104, Erro Médio : 51.31\n"
          ],
          "name": "stdout"
        },
        {
          "output_type": "stream",
          "text": [
            "100%|██████████| 165/165 [00:00<00:00, 226.14it/s]\n",
            " 13%|█▎        | 21/165 [00:00<00:00, 203.03it/s]"
          ],
          "name": "stderr"
        },
        {
          "output_type": "stream",
          "text": [
            "Epoch : 105, Erro Médio : 51.03\n"
          ],
          "name": "stdout"
        },
        {
          "output_type": "stream",
          "text": [
            "100%|██████████| 165/165 [00:00<00:00, 225.20it/s]\n",
            " 14%|█▍        | 23/165 [00:00<00:00, 223.64it/s]"
          ],
          "name": "stderr"
        },
        {
          "output_type": "stream",
          "text": [
            "Epoch : 106, Erro Médio : 50.75\n"
          ],
          "name": "stdout"
        },
        {
          "output_type": "stream",
          "text": [
            "100%|██████████| 165/165 [00:00<00:00, 223.81it/s]\n",
            " 15%|█▍        | 24/165 [00:00<00:00, 234.06it/s]"
          ],
          "name": "stderr"
        },
        {
          "output_type": "stream",
          "text": [
            "Epoch : 107, Erro Médio : 50.47\n"
          ],
          "name": "stdout"
        },
        {
          "output_type": "stream",
          "text": [
            "100%|██████████| 165/165 [00:00<00:00, 225.62it/s]\n",
            " 15%|█▍        | 24/165 [00:00<00:00, 236.85it/s]"
          ],
          "name": "stderr"
        },
        {
          "output_type": "stream",
          "text": [
            "Epoch : 108, Erro Médio : 50.20\n"
          ],
          "name": "stdout"
        },
        {
          "output_type": "stream",
          "text": [
            "100%|██████████| 165/165 [00:00<00:00, 232.71it/s]\n",
            " 12%|█▏        | 20/165 [00:00<00:00, 195.26it/s]"
          ],
          "name": "stderr"
        },
        {
          "output_type": "stream",
          "text": [
            "Epoch : 109, Erro Médio : 49.92\n"
          ],
          "name": "stdout"
        },
        {
          "output_type": "stream",
          "text": [
            "100%|██████████| 165/165 [00:00<00:00, 229.12it/s]\n",
            " 16%|█▌        | 26/165 [00:00<00:00, 249.08it/s]"
          ],
          "name": "stderr"
        },
        {
          "output_type": "stream",
          "text": [
            "Epoch : 110, Erro Médio : 49.65\n"
          ],
          "name": "stdout"
        },
        {
          "output_type": "stream",
          "text": [
            "100%|██████████| 165/165 [00:00<00:00, 232.33it/s]\n",
            " 14%|█▍        | 23/165 [00:00<00:00, 229.55it/s]"
          ],
          "name": "stderr"
        },
        {
          "output_type": "stream",
          "text": [
            "Epoch : 111, Erro Médio : 49.39\n"
          ],
          "name": "stdout"
        },
        {
          "output_type": "stream",
          "text": [
            "100%|██████████| 165/165 [00:00<00:00, 233.86it/s]\n",
            " 15%|█▌        | 25/165 [00:00<00:00, 242.23it/s]"
          ],
          "name": "stderr"
        },
        {
          "output_type": "stream",
          "text": [
            "Epoch : 112, Erro Médio : 49.13\n"
          ],
          "name": "stdout"
        },
        {
          "output_type": "stream",
          "text": [
            "100%|██████████| 165/165 [00:00<00:00, 231.31it/s]\n",
            " 15%|█▌        | 25/165 [00:00<00:00, 242.82it/s]"
          ],
          "name": "stderr"
        },
        {
          "output_type": "stream",
          "text": [
            "Epoch : 113, Erro Médio : 48.87\n"
          ],
          "name": "stdout"
        },
        {
          "output_type": "stream",
          "text": [
            "100%|██████████| 165/165 [00:00<00:00, 231.47it/s]\n",
            " 15%|█▌        | 25/165 [00:00<00:00, 243.37it/s]"
          ],
          "name": "stderr"
        },
        {
          "output_type": "stream",
          "text": [
            "Epoch : 114, Erro Médio : 48.62\n"
          ],
          "name": "stdout"
        },
        {
          "output_type": "stream",
          "text": [
            "100%|██████████| 165/165 [00:00<00:00, 231.15it/s]\n",
            " 14%|█▍        | 23/165 [00:00<00:00, 226.42it/s]"
          ],
          "name": "stderr"
        },
        {
          "output_type": "stream",
          "text": [
            "Epoch : 115, Erro Médio : 48.37\n"
          ],
          "name": "stdout"
        },
        {
          "output_type": "stream",
          "text": [
            "100%|██████████| 165/165 [00:00<00:00, 226.79it/s]\n",
            " 12%|█▏        | 20/165 [00:00<00:00, 195.49it/s]"
          ],
          "name": "stderr"
        },
        {
          "output_type": "stream",
          "text": [
            "Epoch : 116, Erro Médio : 48.12\n"
          ],
          "name": "stdout"
        },
        {
          "output_type": "stream",
          "text": [
            "100%|██████████| 165/165 [00:00<00:00, 215.67it/s]\n",
            " 14%|█▍        | 23/165 [00:00<00:00, 228.46it/s]"
          ],
          "name": "stderr"
        },
        {
          "output_type": "stream",
          "text": [
            "Epoch : 117, Erro Médio : 47.87\n"
          ],
          "name": "stdout"
        },
        {
          "output_type": "stream",
          "text": [
            "100%|██████████| 165/165 [00:00<00:00, 224.73it/s]\n",
            " 15%|█▌        | 25/165 [00:00<00:00, 245.58it/s]"
          ],
          "name": "stderr"
        },
        {
          "output_type": "stream",
          "text": [
            "Epoch : 118, Erro Médio : 47.63\n"
          ],
          "name": "stdout"
        },
        {
          "output_type": "stream",
          "text": [
            "100%|██████████| 165/165 [00:00<00:00, 220.62it/s]\n",
            " 15%|█▍        | 24/165 [00:00<00:00, 236.63it/s]"
          ],
          "name": "stderr"
        },
        {
          "output_type": "stream",
          "text": [
            "Epoch : 119, Erro Médio : 47.38\n"
          ],
          "name": "stdout"
        },
        {
          "output_type": "stream",
          "text": [
            "100%|██████████| 165/165 [00:00<00:00, 234.55it/s]\n",
            " 14%|█▍        | 23/165 [00:00<00:00, 221.05it/s]"
          ],
          "name": "stderr"
        },
        {
          "output_type": "stream",
          "text": [
            "Epoch : 120, Erro Médio : 47.15\n"
          ],
          "name": "stdout"
        },
        {
          "output_type": "stream",
          "text": [
            "100%|██████████| 165/165 [00:00<00:00, 232.18it/s]\n",
            " 14%|█▍        | 23/165 [00:00<00:00, 222.39it/s]"
          ],
          "name": "stderr"
        },
        {
          "output_type": "stream",
          "text": [
            "Epoch : 121, Erro Médio : 46.92\n"
          ],
          "name": "stdout"
        },
        {
          "output_type": "stream",
          "text": [
            "100%|██████████| 165/165 [00:00<00:00, 226.05it/s]\n",
            " 14%|█▍        | 23/165 [00:00<00:00, 224.86it/s]"
          ],
          "name": "stderr"
        },
        {
          "output_type": "stream",
          "text": [
            "Epoch : 122, Erro Médio : 46.69\n"
          ],
          "name": "stdout"
        },
        {
          "output_type": "stream",
          "text": [
            "100%|██████████| 165/165 [00:00<00:00, 227.73it/s]\n",
            " 13%|█▎        | 22/165 [00:00<00:00, 215.09it/s]"
          ],
          "name": "stderr"
        },
        {
          "output_type": "stream",
          "text": [
            "Epoch : 123, Erro Médio : 46.46\n"
          ],
          "name": "stdout"
        },
        {
          "output_type": "stream",
          "text": [
            "100%|██████████| 165/165 [00:00<00:00, 227.53it/s]\n",
            " 14%|█▍        | 23/165 [00:00<00:00, 222.38it/s]"
          ],
          "name": "stderr"
        },
        {
          "output_type": "stream",
          "text": [
            "Epoch : 124, Erro Médio : 46.24\n"
          ],
          "name": "stdout"
        },
        {
          "output_type": "stream",
          "text": [
            "100%|██████████| 165/165 [00:00<00:00, 222.07it/s]\n",
            " 14%|█▍        | 23/165 [00:00<00:00, 228.60it/s]"
          ],
          "name": "stderr"
        },
        {
          "output_type": "stream",
          "text": [
            "Epoch : 125, Erro Médio : 46.01\n"
          ],
          "name": "stdout"
        },
        {
          "output_type": "stream",
          "text": [
            "100%|██████████| 165/165 [00:00<00:00, 223.57it/s]\n",
            " 15%|█▍        | 24/165 [00:00<00:00, 234.62it/s]"
          ],
          "name": "stderr"
        },
        {
          "output_type": "stream",
          "text": [
            "Epoch : 126, Erro Médio : 45.79\n"
          ],
          "name": "stdout"
        },
        {
          "output_type": "stream",
          "text": [
            "100%|██████████| 165/165 [00:00<00:00, 232.27it/s]\n",
            " 15%|█▍        | 24/165 [00:00<00:00, 232.75it/s]"
          ],
          "name": "stderr"
        },
        {
          "output_type": "stream",
          "text": [
            "Epoch : 127, Erro Médio : 45.57\n"
          ],
          "name": "stdout"
        },
        {
          "output_type": "stream",
          "text": [
            "100%|██████████| 165/165 [00:00<00:00, 225.26it/s]\n",
            " 14%|█▍        | 23/165 [00:00<00:00, 223.91it/s]"
          ],
          "name": "stderr"
        },
        {
          "output_type": "stream",
          "text": [
            "Epoch : 128, Erro Médio : 45.36\n"
          ],
          "name": "stdout"
        },
        {
          "output_type": "stream",
          "text": [
            "100%|██████████| 165/165 [00:00<00:00, 216.06it/s]\n",
            " 15%|█▌        | 25/165 [00:00<00:00, 241.38it/s]"
          ],
          "name": "stderr"
        },
        {
          "output_type": "stream",
          "text": [
            "Epoch : 129, Erro Médio : 45.15\n"
          ],
          "name": "stdout"
        },
        {
          "output_type": "stream",
          "text": [
            "100%|██████████| 165/165 [00:00<00:00, 226.17it/s]\n",
            " 14%|█▍        | 23/165 [00:00<00:00, 226.01it/s]"
          ],
          "name": "stderr"
        },
        {
          "output_type": "stream",
          "text": [
            "Epoch : 130, Erro Médio : 44.93\n"
          ],
          "name": "stdout"
        },
        {
          "output_type": "stream",
          "text": [
            "100%|██████████| 165/165 [00:00<00:00, 219.89it/s]\n",
            " 15%|█▍        | 24/165 [00:00<00:00, 232.61it/s]"
          ],
          "name": "stderr"
        },
        {
          "output_type": "stream",
          "text": [
            "Epoch : 131, Erro Médio : 44.73\n"
          ],
          "name": "stdout"
        },
        {
          "output_type": "stream",
          "text": [
            "100%|██████████| 165/165 [00:00<00:00, 230.37it/s]\n",
            " 14%|█▍        | 23/165 [00:00<00:00, 228.61it/s]"
          ],
          "name": "stderr"
        },
        {
          "output_type": "stream",
          "text": [
            "Epoch : 132, Erro Médio : 44.52\n"
          ],
          "name": "stdout"
        },
        {
          "output_type": "stream",
          "text": [
            "100%|██████████| 165/165 [00:00<00:00, 221.61it/s]\n",
            " 15%|█▌        | 25/165 [00:00<00:00, 242.10it/s]"
          ],
          "name": "stderr"
        },
        {
          "output_type": "stream",
          "text": [
            "Epoch : 133, Erro Médio : 44.31\n"
          ],
          "name": "stdout"
        },
        {
          "output_type": "stream",
          "text": [
            "100%|██████████| 165/165 [00:00<00:00, 222.58it/s]\n",
            " 14%|█▍        | 23/165 [00:00<00:00, 229.79it/s]"
          ],
          "name": "stderr"
        },
        {
          "output_type": "stream",
          "text": [
            "Epoch : 134, Erro Médio : 44.11\n"
          ],
          "name": "stdout"
        },
        {
          "output_type": "stream",
          "text": [
            "100%|██████████| 165/165 [00:00<00:00, 226.46it/s]\n",
            " 15%|█▍        | 24/165 [00:00<00:00, 232.74it/s]"
          ],
          "name": "stderr"
        },
        {
          "output_type": "stream",
          "text": [
            "Epoch : 135, Erro Médio : 43.91\n"
          ],
          "name": "stdout"
        },
        {
          "output_type": "stream",
          "text": [
            "100%|██████████| 165/165 [00:00<00:00, 232.45it/s]\n",
            " 13%|█▎        | 22/165 [00:00<00:00, 217.56it/s]"
          ],
          "name": "stderr"
        },
        {
          "output_type": "stream",
          "text": [
            "Epoch : 136, Erro Médio : 43.71\n"
          ],
          "name": "stdout"
        },
        {
          "output_type": "stream",
          "text": [
            "100%|██████████| 165/165 [00:00<00:00, 222.73it/s]\n",
            " 15%|█▌        | 25/165 [00:00<00:00, 244.46it/s]"
          ],
          "name": "stderr"
        },
        {
          "output_type": "stream",
          "text": [
            "Epoch : 137, Erro Médio : 43.52\n"
          ],
          "name": "stdout"
        },
        {
          "output_type": "stream",
          "text": [
            "100%|██████████| 165/165 [00:00<00:00, 229.37it/s]\n",
            " 15%|█▍        | 24/165 [00:00<00:00, 237.78it/s]"
          ],
          "name": "stderr"
        },
        {
          "output_type": "stream",
          "text": [
            "Epoch : 138, Erro Médio : 43.32\n"
          ],
          "name": "stdout"
        },
        {
          "output_type": "stream",
          "text": [
            "100%|██████████| 165/165 [00:00<00:00, 234.56it/s]\n",
            " 14%|█▍        | 23/165 [00:00<00:00, 226.72it/s]"
          ],
          "name": "stderr"
        },
        {
          "output_type": "stream",
          "text": [
            "Epoch : 139, Erro Médio : 43.13\n"
          ],
          "name": "stdout"
        },
        {
          "output_type": "stream",
          "text": [
            "100%|██████████| 165/165 [00:00<00:00, 227.74it/s]\n",
            " 15%|█▍        | 24/165 [00:00<00:00, 230.89it/s]"
          ],
          "name": "stderr"
        },
        {
          "output_type": "stream",
          "text": [
            "Epoch : 140, Erro Médio : 42.94\n"
          ],
          "name": "stdout"
        },
        {
          "output_type": "stream",
          "text": [
            "100%|██████████| 165/165 [00:00<00:00, 224.61it/s]\n",
            " 14%|█▍        | 23/165 [00:00<00:00, 229.18it/s]"
          ],
          "name": "stderr"
        },
        {
          "output_type": "stream",
          "text": [
            "Epoch : 141, Erro Médio : 42.75\n"
          ],
          "name": "stdout"
        },
        {
          "output_type": "stream",
          "text": [
            "100%|██████████| 165/165 [00:00<00:00, 231.24it/s]\n",
            " 15%|█▍        | 24/165 [00:00<00:00, 231.19it/s]"
          ],
          "name": "stderr"
        },
        {
          "output_type": "stream",
          "text": [
            "Epoch : 142, Erro Médio : 42.57\n"
          ],
          "name": "stdout"
        },
        {
          "output_type": "stream",
          "text": [
            "100%|██████████| 165/165 [00:00<00:00, 226.39it/s]\n",
            " 15%|█▍        | 24/165 [00:00<00:00, 230.92it/s]"
          ],
          "name": "stderr"
        },
        {
          "output_type": "stream",
          "text": [
            "Epoch : 143, Erro Médio : 42.39\n"
          ],
          "name": "stdout"
        },
        {
          "output_type": "stream",
          "text": [
            "100%|██████████| 165/165 [00:00<00:00, 224.07it/s]\n",
            " 15%|█▍        | 24/165 [00:00<00:00, 239.19it/s]"
          ],
          "name": "stderr"
        },
        {
          "output_type": "stream",
          "text": [
            "Epoch : 144, Erro Médio : 42.21\n"
          ],
          "name": "stdout"
        },
        {
          "output_type": "stream",
          "text": [
            "100%|██████████| 165/165 [00:00<00:00, 221.88it/s]\n",
            " 15%|█▍        | 24/165 [00:00<00:00, 233.85it/s]"
          ],
          "name": "stderr"
        },
        {
          "output_type": "stream",
          "text": [
            "Epoch : 145, Erro Médio : 42.02\n"
          ],
          "name": "stdout"
        },
        {
          "output_type": "stream",
          "text": [
            "100%|██████████| 165/165 [00:00<00:00, 225.18it/s]\n",
            " 15%|█▍        | 24/165 [00:00<00:00, 228.14it/s]"
          ],
          "name": "stderr"
        },
        {
          "output_type": "stream",
          "text": [
            "Epoch : 146, Erro Médio : 41.84\n"
          ],
          "name": "stdout"
        },
        {
          "output_type": "stream",
          "text": [
            "100%|██████████| 165/165 [00:00<00:00, 222.95it/s]\n",
            " 15%|█▌        | 25/165 [00:00<00:00, 245.73it/s]"
          ],
          "name": "stderr"
        },
        {
          "output_type": "stream",
          "text": [
            "Epoch : 147, Erro Médio : 41.66\n"
          ],
          "name": "stdout"
        },
        {
          "output_type": "stream",
          "text": [
            "100%|██████████| 165/165 [00:00<00:00, 227.09it/s]\n",
            " 15%|█▍        | 24/165 [00:00<00:00, 238.99it/s]"
          ],
          "name": "stderr"
        },
        {
          "output_type": "stream",
          "text": [
            "Epoch : 148, Erro Médio : 41.49\n"
          ],
          "name": "stdout"
        },
        {
          "output_type": "stream",
          "text": [
            "100%|██████████| 165/165 [00:00<00:00, 222.16it/s]\n",
            " 15%|█▍        | 24/165 [00:00<00:00, 230.79it/s]"
          ],
          "name": "stderr"
        },
        {
          "output_type": "stream",
          "text": [
            "Epoch : 149, Erro Médio : 41.32\n"
          ],
          "name": "stdout"
        },
        {
          "output_type": "stream",
          "text": [
            "100%|██████████| 165/165 [00:00<00:00, 234.17it/s]\n",
            " 13%|█▎        | 22/165 [00:00<00:00, 217.01it/s]"
          ],
          "name": "stderr"
        },
        {
          "output_type": "stream",
          "text": [
            "Epoch : 150, Erro Médio : 41.15\n"
          ],
          "name": "stdout"
        },
        {
          "output_type": "stream",
          "text": [
            "100%|██████████| 165/165 [00:00<00:00, 225.68it/s]\n",
            " 14%|█▍        | 23/165 [00:00<00:00, 226.15it/s]"
          ],
          "name": "stderr"
        },
        {
          "output_type": "stream",
          "text": [
            "Epoch : 151, Erro Médio : 40.98\n"
          ],
          "name": "stdout"
        },
        {
          "output_type": "stream",
          "text": [
            "100%|██████████| 165/165 [00:00<00:00, 220.07it/s]\n",
            " 14%|█▍        | 23/165 [00:00<00:00, 221.03it/s]"
          ],
          "name": "stderr"
        },
        {
          "output_type": "stream",
          "text": [
            "Epoch : 152, Erro Médio : 40.82\n"
          ],
          "name": "stdout"
        },
        {
          "output_type": "stream",
          "text": [
            "100%|██████████| 165/165 [00:00<00:00, 224.17it/s]\n",
            " 13%|█▎        | 21/165 [00:00<00:00, 204.63it/s]"
          ],
          "name": "stderr"
        },
        {
          "output_type": "stream",
          "text": [
            "Epoch : 153, Erro Médio : 40.65\n"
          ],
          "name": "stdout"
        },
        {
          "output_type": "stream",
          "text": [
            "100%|██████████| 165/165 [00:00<00:00, 231.18it/s]\n",
            " 13%|█▎        | 21/165 [00:00<00:00, 208.21it/s]"
          ],
          "name": "stderr"
        },
        {
          "output_type": "stream",
          "text": [
            "Epoch : 154, Erro Médio : 40.48\n"
          ],
          "name": "stdout"
        },
        {
          "output_type": "stream",
          "text": [
            "100%|██████████| 165/165 [00:00<00:00, 228.18it/s]\n",
            " 15%|█▍        | 24/165 [00:00<00:00, 233.45it/s]"
          ],
          "name": "stderr"
        },
        {
          "output_type": "stream",
          "text": [
            "Epoch : 155, Erro Médio : 40.32\n"
          ],
          "name": "stdout"
        },
        {
          "output_type": "stream",
          "text": [
            "100%|██████████| 165/165 [00:00<00:00, 227.26it/s]\n",
            " 13%|█▎        | 22/165 [00:00<00:00, 213.69it/s]"
          ],
          "name": "stderr"
        },
        {
          "output_type": "stream",
          "text": [
            "Epoch : 156, Erro Médio : 40.16\n"
          ],
          "name": "stdout"
        },
        {
          "output_type": "stream",
          "text": [
            "100%|██████████| 165/165 [00:00<00:00, 222.26it/s]\n",
            " 14%|█▍        | 23/165 [00:00<00:00, 224.68it/s]"
          ],
          "name": "stderr"
        },
        {
          "output_type": "stream",
          "text": [
            "Epoch : 157, Erro Médio : 40.00\n"
          ],
          "name": "stdout"
        },
        {
          "output_type": "stream",
          "text": [
            "100%|██████████| 165/165 [00:00<00:00, 228.61it/s]\n",
            " 15%|█▌        | 25/165 [00:00<00:00, 243.31it/s]"
          ],
          "name": "stderr"
        },
        {
          "output_type": "stream",
          "text": [
            "Epoch : 158, Erro Médio : 39.85\n"
          ],
          "name": "stdout"
        },
        {
          "output_type": "stream",
          "text": [
            "100%|██████████| 165/165 [00:00<00:00, 224.72it/s]\n",
            " 13%|█▎        | 21/165 [00:00<00:00, 204.46it/s]"
          ],
          "name": "stderr"
        },
        {
          "output_type": "stream",
          "text": [
            "Epoch : 159, Erro Médio : 39.69\n"
          ],
          "name": "stdout"
        },
        {
          "output_type": "stream",
          "text": [
            "100%|██████████| 165/165 [00:00<00:00, 219.51it/s]\n",
            " 15%|█▍        | 24/165 [00:00<00:00, 234.39it/s]"
          ],
          "name": "stderr"
        },
        {
          "output_type": "stream",
          "text": [
            "Epoch : 160, Erro Médio : 39.54\n"
          ],
          "name": "stdout"
        },
        {
          "output_type": "stream",
          "text": [
            "100%|██████████| 165/165 [00:00<00:00, 221.67it/s]\n",
            " 14%|█▍        | 23/165 [00:00<00:00, 227.81it/s]"
          ],
          "name": "stderr"
        },
        {
          "output_type": "stream",
          "text": [
            "Epoch : 161, Erro Médio : 39.38\n"
          ],
          "name": "stdout"
        },
        {
          "output_type": "stream",
          "text": [
            "100%|██████████| 165/165 [00:00<00:00, 224.05it/s]\n",
            " 15%|█▌        | 25/165 [00:00<00:00, 241.97it/s]"
          ],
          "name": "stderr"
        },
        {
          "output_type": "stream",
          "text": [
            "Epoch : 162, Erro Médio : 39.23\n"
          ],
          "name": "stdout"
        },
        {
          "output_type": "stream",
          "text": [
            "100%|██████████| 165/165 [00:00<00:00, 227.04it/s]\n",
            " 14%|█▍        | 23/165 [00:00<00:00, 225.29it/s]"
          ],
          "name": "stderr"
        },
        {
          "output_type": "stream",
          "text": [
            "Epoch : 163, Erro Médio : 39.08\n"
          ],
          "name": "stdout"
        },
        {
          "output_type": "stream",
          "text": [
            "100%|██████████| 165/165 [00:00<00:00, 224.82it/s]\n",
            " 12%|█▏        | 20/165 [00:00<00:00, 199.54it/s]"
          ],
          "name": "stderr"
        },
        {
          "output_type": "stream",
          "text": [
            "Epoch : 164, Erro Médio : 38.93\n"
          ],
          "name": "stdout"
        },
        {
          "output_type": "stream",
          "text": [
            "100%|██████████| 165/165 [00:00<00:00, 227.20it/s]\n",
            " 13%|█▎        | 21/165 [00:00<00:00, 209.95it/s]"
          ],
          "name": "stderr"
        },
        {
          "output_type": "stream",
          "text": [
            "Epoch : 165, Erro Médio : 38.78\n"
          ],
          "name": "stdout"
        },
        {
          "output_type": "stream",
          "text": [
            "100%|██████████| 165/165 [00:00<00:00, 219.74it/s]\n",
            " 14%|█▍        | 23/165 [00:00<00:00, 226.91it/s]"
          ],
          "name": "stderr"
        },
        {
          "output_type": "stream",
          "text": [
            "Epoch : 166, Erro Médio : 38.63\n"
          ],
          "name": "stdout"
        },
        {
          "output_type": "stream",
          "text": [
            "100%|██████████| 165/165 [00:00<00:00, 224.34it/s]\n",
            " 15%|█▍        | 24/165 [00:00<00:00, 238.18it/s]"
          ],
          "name": "stderr"
        },
        {
          "output_type": "stream",
          "text": [
            "Epoch : 167, Erro Médio : 38.49\n"
          ],
          "name": "stdout"
        },
        {
          "output_type": "stream",
          "text": [
            "100%|██████████| 165/165 [00:00<00:00, 236.30it/s]\n",
            " 15%|█▌        | 25/165 [00:00<00:00, 244.03it/s]"
          ],
          "name": "stderr"
        },
        {
          "output_type": "stream",
          "text": [
            "Epoch : 168, Erro Médio : 38.35\n"
          ],
          "name": "stdout"
        },
        {
          "output_type": "stream",
          "text": [
            "100%|██████████| 165/165 [00:00<00:00, 229.67it/s]\n",
            " 14%|█▍        | 23/165 [00:00<00:00, 223.63it/s]"
          ],
          "name": "stderr"
        },
        {
          "output_type": "stream",
          "text": [
            "Epoch : 169, Erro Médio : 38.20\n"
          ],
          "name": "stdout"
        },
        {
          "output_type": "stream",
          "text": [
            "100%|██████████| 165/165 [00:00<00:00, 226.12it/s]\n",
            " 14%|█▍        | 23/165 [00:00<00:00, 226.45it/s]"
          ],
          "name": "stderr"
        },
        {
          "output_type": "stream",
          "text": [
            "Epoch : 170, Erro Médio : 38.06\n"
          ],
          "name": "stdout"
        },
        {
          "output_type": "stream",
          "text": [
            "100%|██████████| 165/165 [00:00<00:00, 227.05it/s]\n",
            " 15%|█▍        | 24/165 [00:00<00:00, 235.55it/s]"
          ],
          "name": "stderr"
        },
        {
          "output_type": "stream",
          "text": [
            "Epoch : 171, Erro Médio : 37.92\n"
          ],
          "name": "stdout"
        },
        {
          "output_type": "stream",
          "text": [
            "100%|██████████| 165/165 [00:00<00:00, 225.55it/s]\n",
            " 12%|█▏        | 19/165 [00:00<00:00, 183.86it/s]"
          ],
          "name": "stderr"
        },
        {
          "output_type": "stream",
          "text": [
            "Epoch : 172, Erro Médio : 37.78\n"
          ],
          "name": "stdout"
        },
        {
          "output_type": "stream",
          "text": [
            "100%|██████████| 165/165 [00:00<00:00, 217.87it/s]\n",
            " 15%|█▍        | 24/165 [00:00<00:00, 231.76it/s]"
          ],
          "name": "stderr"
        },
        {
          "output_type": "stream",
          "text": [
            "Epoch : 173, Erro Médio : 37.64\n"
          ],
          "name": "stdout"
        },
        {
          "output_type": "stream",
          "text": [
            "100%|██████████| 165/165 [00:00<00:00, 223.50it/s]\n",
            " 14%|█▍        | 23/165 [00:00<00:00, 223.91it/s]"
          ],
          "name": "stderr"
        },
        {
          "output_type": "stream",
          "text": [
            "Epoch : 174, Erro Médio : 37.51\n"
          ],
          "name": "stdout"
        },
        {
          "output_type": "stream",
          "text": [
            "100%|██████████| 165/165 [00:00<00:00, 231.96it/s]\n",
            " 13%|█▎        | 22/165 [00:00<00:00, 217.15it/s]"
          ],
          "name": "stderr"
        },
        {
          "output_type": "stream",
          "text": [
            "Epoch : 175, Erro Médio : 37.37\n"
          ],
          "name": "stdout"
        },
        {
          "output_type": "stream",
          "text": [
            "100%|██████████| 165/165 [00:00<00:00, 226.03it/s]\n",
            " 14%|█▍        | 23/165 [00:00<00:00, 225.22it/s]"
          ],
          "name": "stderr"
        },
        {
          "output_type": "stream",
          "text": [
            "Epoch : 176, Erro Médio : 37.23\n"
          ],
          "name": "stdout"
        },
        {
          "output_type": "stream",
          "text": [
            "100%|██████████| 165/165 [00:00<00:00, 219.02it/s]\n",
            " 15%|█▍        | 24/165 [00:00<00:00, 235.88it/s]"
          ],
          "name": "stderr"
        },
        {
          "output_type": "stream",
          "text": [
            "Epoch : 177, Erro Médio : 37.10\n"
          ],
          "name": "stdout"
        },
        {
          "output_type": "stream",
          "text": [
            "100%|██████████| 165/165 [00:00<00:00, 220.24it/s]\n",
            " 14%|█▍        | 23/165 [00:00<00:00, 220.47it/s]"
          ],
          "name": "stderr"
        },
        {
          "output_type": "stream",
          "text": [
            "Epoch : 178, Erro Médio : 36.97\n"
          ],
          "name": "stdout"
        },
        {
          "output_type": "stream",
          "text": [
            "100%|██████████| 165/165 [00:00<00:00, 227.40it/s]\n",
            " 13%|█▎        | 21/165 [00:00<00:00, 207.51it/s]"
          ],
          "name": "stderr"
        },
        {
          "output_type": "stream",
          "text": [
            "Epoch : 179, Erro Médio : 36.83\n"
          ],
          "name": "stdout"
        },
        {
          "output_type": "stream",
          "text": [
            "100%|██████████| 165/165 [00:00<00:00, 217.36it/s]\n",
            " 13%|█▎        | 22/165 [00:00<00:00, 213.77it/s]"
          ],
          "name": "stderr"
        },
        {
          "output_type": "stream",
          "text": [
            "Epoch : 180, Erro Médio : 36.71\n"
          ],
          "name": "stdout"
        },
        {
          "output_type": "stream",
          "text": [
            "100%|██████████| 165/165 [00:00<00:00, 223.76it/s]\n",
            " 15%|█▍        | 24/165 [00:00<00:00, 239.98it/s]"
          ],
          "name": "stderr"
        },
        {
          "output_type": "stream",
          "text": [
            "Epoch : 181, Erro Médio : 36.58\n"
          ],
          "name": "stdout"
        },
        {
          "output_type": "stream",
          "text": [
            "100%|██████████| 165/165 [00:00<00:00, 225.93it/s]\n",
            " 13%|█▎        | 22/165 [00:00<00:00, 216.32it/s]"
          ],
          "name": "stderr"
        },
        {
          "output_type": "stream",
          "text": [
            "Epoch : 182, Erro Médio : 36.45\n"
          ],
          "name": "stdout"
        },
        {
          "output_type": "stream",
          "text": [
            "100%|██████████| 165/165 [00:00<00:00, 229.92it/s]\n",
            " 15%|█▍        | 24/165 [00:00<00:00, 236.04it/s]"
          ],
          "name": "stderr"
        },
        {
          "output_type": "stream",
          "text": [
            "Epoch : 183, Erro Médio : 36.32\n"
          ],
          "name": "stdout"
        },
        {
          "output_type": "stream",
          "text": [
            "100%|██████████| 165/165 [00:00<00:00, 227.17it/s]\n",
            " 14%|█▍        | 23/165 [00:00<00:00, 222.87it/s]"
          ],
          "name": "stderr"
        },
        {
          "output_type": "stream",
          "text": [
            "Epoch : 184, Erro Médio : 36.20\n"
          ],
          "name": "stdout"
        },
        {
          "output_type": "stream",
          "text": [
            "100%|██████████| 165/165 [00:00<00:00, 229.33it/s]\n",
            " 14%|█▍        | 23/165 [00:00<00:00, 225.16it/s]"
          ],
          "name": "stderr"
        },
        {
          "output_type": "stream",
          "text": [
            "Epoch : 185, Erro Médio : 36.07\n"
          ],
          "name": "stdout"
        },
        {
          "output_type": "stream",
          "text": [
            "100%|██████████| 165/165 [00:00<00:00, 227.19it/s]\n",
            " 14%|█▍        | 23/165 [00:00<00:00, 228.38it/s]"
          ],
          "name": "stderr"
        },
        {
          "output_type": "stream",
          "text": [
            "Epoch : 186, Erro Médio : 35.94\n"
          ],
          "name": "stdout"
        },
        {
          "output_type": "stream",
          "text": [
            "100%|██████████| 165/165 [00:00<00:00, 219.84it/s]\n",
            " 14%|█▍        | 23/165 [00:00<00:00, 224.59it/s]"
          ],
          "name": "stderr"
        },
        {
          "output_type": "stream",
          "text": [
            "Epoch : 187, Erro Médio : 35.82\n"
          ],
          "name": "stdout"
        },
        {
          "output_type": "stream",
          "text": [
            "100%|██████████| 165/165 [00:00<00:00, 221.51it/s]\n",
            " 14%|█▍        | 23/165 [00:00<00:00, 224.32it/s]"
          ],
          "name": "stderr"
        },
        {
          "output_type": "stream",
          "text": [
            "Epoch : 188, Erro Médio : 35.70\n"
          ],
          "name": "stdout"
        },
        {
          "output_type": "stream",
          "text": [
            "100%|██████████| 165/165 [00:00<00:00, 221.40it/s]\n",
            " 13%|█▎        | 22/165 [00:00<00:00, 217.43it/s]"
          ],
          "name": "stderr"
        },
        {
          "output_type": "stream",
          "text": [
            "Epoch : 189, Erro Médio : 35.58\n"
          ],
          "name": "stdout"
        },
        {
          "output_type": "stream",
          "text": [
            "100%|██████████| 165/165 [00:00<00:00, 223.80it/s]\n",
            " 12%|█▏        | 20/165 [00:00<00:00, 196.50it/s]"
          ],
          "name": "stderr"
        },
        {
          "output_type": "stream",
          "text": [
            "Epoch : 190, Erro Médio : 35.46\n"
          ],
          "name": "stdout"
        },
        {
          "output_type": "stream",
          "text": [
            "100%|██████████| 165/165 [00:00<00:00, 219.25it/s]\n",
            " 14%|█▍        | 23/165 [00:00<00:00, 226.41it/s]"
          ],
          "name": "stderr"
        },
        {
          "output_type": "stream",
          "text": [
            "Epoch : 191, Erro Médio : 35.34\n"
          ],
          "name": "stdout"
        },
        {
          "output_type": "stream",
          "text": [
            "100%|██████████| 165/165 [00:00<00:00, 223.07it/s]\n",
            " 14%|█▍        | 23/165 [00:00<00:00, 226.80it/s]"
          ],
          "name": "stderr"
        },
        {
          "output_type": "stream",
          "text": [
            "Epoch : 192, Erro Médio : 35.22\n"
          ],
          "name": "stdout"
        },
        {
          "output_type": "stream",
          "text": [
            "100%|██████████| 165/165 [00:00<00:00, 215.85it/s]\n",
            " 13%|█▎        | 22/165 [00:00<00:00, 214.97it/s]"
          ],
          "name": "stderr"
        },
        {
          "output_type": "stream",
          "text": [
            "Epoch : 193, Erro Médio : 35.10\n"
          ],
          "name": "stdout"
        },
        {
          "output_type": "stream",
          "text": [
            "100%|██████████| 165/165 [00:00<00:00, 223.06it/s]\n",
            " 15%|█▍        | 24/165 [00:00<00:00, 226.13it/s]"
          ],
          "name": "stderr"
        },
        {
          "output_type": "stream",
          "text": [
            "Epoch : 194, Erro Médio : 34.99\n"
          ],
          "name": "stdout"
        },
        {
          "output_type": "stream",
          "text": [
            "100%|██████████| 165/165 [00:00<00:00, 222.73it/s]\n",
            " 15%|█▍        | 24/165 [00:00<00:00, 230.10it/s]"
          ],
          "name": "stderr"
        },
        {
          "output_type": "stream",
          "text": [
            "Epoch : 195, Erro Médio : 34.87\n"
          ],
          "name": "stdout"
        },
        {
          "output_type": "stream",
          "text": [
            "100%|██████████| 165/165 [00:00<00:00, 221.48it/s]\n",
            " 15%|█▍        | 24/165 [00:00<00:00, 231.35it/s]"
          ],
          "name": "stderr"
        },
        {
          "output_type": "stream",
          "text": [
            "Epoch : 196, Erro Médio : 34.76\n"
          ],
          "name": "stdout"
        },
        {
          "output_type": "stream",
          "text": [
            "100%|██████████| 165/165 [00:00<00:00, 226.09it/s]\n",
            " 13%|█▎        | 21/165 [00:00<00:00, 201.99it/s]"
          ],
          "name": "stderr"
        },
        {
          "output_type": "stream",
          "text": [
            "Epoch : 197, Erro Médio : 34.64\n"
          ],
          "name": "stdout"
        },
        {
          "output_type": "stream",
          "text": [
            "100%|██████████| 165/165 [00:00<00:00, 218.56it/s]\n",
            " 15%|█▌        | 25/165 [00:00<00:00, 242.99it/s]"
          ],
          "name": "stderr"
        },
        {
          "output_type": "stream",
          "text": [
            "Epoch : 198, Erro Médio : 34.53\n"
          ],
          "name": "stdout"
        },
        {
          "output_type": "stream",
          "text": [
            "100%|██████████| 165/165 [00:00<00:00, 227.67it/s]"
          ],
          "name": "stderr"
        },
        {
          "output_type": "stream",
          "text": [
            "Epoch : 199, Erro Médio : 34.42\n"
          ],
          "name": "stdout"
        },
        {
          "output_type": "stream",
          "text": [
            "\n"
          ],
          "name": "stderr"
        }
      ]
    },
    {
      "cell_type": "code",
      "metadata": {
        "id": "ihJFBycKBnpE"
      },
      "source": [
        "# Função para o plot do erro durante o treinamento\n",
        "def plot_loss(losses, title):\n",
        "    plt.plot(range(len(losses)), losses)\n",
        "    plt.xlabel('Epoch')\n",
        "    plt.ylabel('Erro')\n",
        "    plt.title(title)\n",
        "    plt.figure()\n"
      ],
      "execution_count": 29,
      "outputs": []
    },
    {
      "cell_type": "code",
      "metadata": {
        "colab": {
          "base_uri": "https://localhost:8080/",
          "height": 312
        },
        "id": "AORLzgXUCVJx",
        "outputId": "a4979569-9c31-48ea-ef47-76ffec18dfb0"
      },
      "source": [
        "# plot\n",
        "plot_loss(losses, \"Erro de Treinamento do Modelo GloVe\")"
      ],
      "execution_count": 30,
      "outputs": [
        {
          "output_type": "display_data",
          "data": {
            "image/png": "[encoded data removed]",
            "text/plain": [
              "<Figure size 432x288 with 1 Axes>"
            ]
          },
          "metadata": {
            "tags": [],
            "needs_background": "light"
          }
        },
        {
          "output_type": "display_data",
          "data": {
            "text/plain": [
              "<Figure size 432x288 with 0 Axes>"
            ]
          },
          "metadata": {
            "tags": []
          }
        }
      ]
    },
    {
      "cell_type": "markdown",
      "metadata": {
        "id": "nkBzP7CGCsXe"
      },
      "source": [
        "#<font color=\"Goldenrod4\">Testando o Modelo:</font> Similaridade de Palavras, analogias de palavras."
      ]
    },
    {
      "cell_type": "code",
      "metadata": {
        "id": "fR_n2qfXCnD2"
      },
      "source": [
        "# Função que retorna a embedding de uma palavra\n",
        "def get_palavra(palavra, modelo, word_to_ix):\n",
        "    return model.embeddings()[word_to_ix[palavra]]\n"
      ],
      "execution_count": 31,
      "outputs": []
    },
    {
      "cell_type": "code",
      "metadata": {
        "id": "yx5eo_CfDmLa"
      },
      "source": [
        "# Função para busca a palavra mais próxima\n",
        "def busca_palavra_similaridade(vec, word_to_ix, n = 10):\n",
        "    all_dists = [(w, torch.dist(vec, get_palavra(w, model, palavra_indice))) for w in palavra_indice]\n",
        "    return sorted(all_dists, key = lambda t: t[1])[:n]\n"
      ],
      "execution_count": 32,
      "outputs": []
    },
    {
      "cell_type": "code",
      "metadata": {
        "colab": {
          "base_uri": "https://localhost:8080/"
        },
        "id": "Q8YdMq1uDrPj",
        "outputId": "ee395e9c-1dd7-41a0-d21b-ae50dea3e515"
      },
      "source": [
        "# Gerando o vetor (embedding) de uma palavra\n",
        "vector = get_palavra(\"espaço\", model, palavra_indice)\n",
        "print(vector)\n"
      ],
      "execution_count": 33,
      "outputs": [
        {
          "output_type": "stream",
          "text": [
            "tensor([ 0.4385,  0.1841, -0.3503, -0.1503,  0.2263,  0.6643, -0.4738, -0.6454,\n",
            "         0.0336, -0.1935, -0.7061, -0.0109,  0.4718, -0.5739, -0.6569,  0.2102,\n",
            "         0.2255,  0.7213, -0.0828,  0.3808,  0.6658, -0.0894, -0.2688,  0.1979,\n",
            "         0.6250, -0.0094, -0.0996,  0.2365, -0.3256, -0.2984, -0.2787,  0.6225,\n",
            "        -0.1995,  0.8981,  0.8536,  0.1051,  0.0221, -0.0979,  0.4577, -0.3899,\n",
            "        -0.0971,  0.2307, -0.1333, -0.8423,  0.0232, -0.1860, -0.4197,  0.1423,\n",
            "         0.3534, -0.3444])\n"
          ],
          "name": "stdout"
        }
      ]
    },
    {
      "cell_type": "code",
      "metadata": {
        "colab": {
          "base_uri": "https://localhost:8080/"
        },
        "id": "bCuxR4EwDwL0",
        "outputId": "f10ee6c2-2039-49d5-e7f6-7f4d3d1b5979"
      },
      "source": [
        "# Busca palavra similares a palavra  \"espaço\"\n",
        "busca_palavra_similaridade(vector, palavra_indice)"
      ],
      "execution_count": 34,
      "outputs": [
        {
          "output_type": "execute_result",
          "data": {
            "text/plain": [
              "[('espaço', tensor(0.)),\n",
              " ('mil', tensor(3.3305)),\n",
              " ('mais', tensor(3.4054)),\n",
              " ('o', tensor(3.4518)),\n",
              " ('viagem', tensor(3.4598)),\n",
              " ('todo', tensor(3.4741)),\n",
              " ('universo', tensor(3.5311)),\n",
              " ('luminosa', tensor(3.5523)),\n",
              " ('sua', tensor(3.5692)),\n",
              " ('este', tensor(3.5721))]"
            ]
          },
          "metadata": {
            "tags": []
          },
          "execution_count": 34
        }
      ]
    },
    {
      "cell_type": "markdown",
      "metadata": {
        "id": "ibCwKkRcEg2-"
      },
      "source": [
        "Observe que a palavra \"espaço\" tem 0 de distância para si mesma. A próxima palavra mais parecida com \"espaço\" é \"universo\" e assim por diante. Quanto menor a distância, mais parecida a palavra. Lembrando que a busca por similaridade é feita com as embeddings treinadas com o modelo GloVe."
      ]
    },
    {
      "cell_type": "code",
      "metadata": {
        "colab": {
          "base_uri": "https://localhost:8080/"
        },
        "id": "k5qtBNOFEDN2",
        "outputId": "324cd908-3518-425f-bb41-347f3f3346a0"
      },
      "source": [
        "# Gerando o vetor (embedding) de uma palavra\n",
        "vector = get_palavra(\"solar\", model, palavra_indice)\n",
        "print(vector)"
      ],
      "execution_count": 35,
      "outputs": [
        {
          "output_type": "stream",
          "text": [
            "tensor([-0.3972,  0.1274, -0.4164,  0.5387, -0.7994, -0.0805,  0.4485,  0.8058,\n",
            "        -0.6733,  0.1873, -0.4290, -0.1014, -0.4303,  0.2757, -0.2514, -0.2224,\n",
            "        -0.1183, -0.1058,  0.0336, -0.7615, -0.1999, -0.0399, -1.6824,  0.3879,\n",
            "        -0.4529,  0.0739, -0.0425, -0.2764,  0.0568, -0.1749,  0.0356, -0.3682,\n",
            "        -0.7740, -0.7534,  0.5319,  0.3135, -0.1275,  0.5878,  0.1794, -1.1659,\n",
            "        -0.5796, -0.8526,  0.3383, -0.2131,  0.0187,  0.2018,  0.0903, -0.1483,\n",
            "         1.2885, -0.1279])\n"
          ],
          "name": "stdout"
        }
      ]
    },
    {
      "cell_type": "code",
      "metadata": {
        "colab": {
          "base_uri": "https://localhost:8080/"
        },
        "id": "or8XgvuAEuMq",
        "outputId": "e52f6a74-8975-4c3c-a4b8-7e30d31abfa0"
      },
      "source": [
        "# busca as palavras similares a palavra \"solar\"\n",
        "busca_palavra_similaridade(vector, palavra_indice)"
      ],
      "execution_count": 36,
      "outputs": [
        {
          "output_type": "execute_result",
          "data": {
            "text/plain": [
              "[('solar', tensor(0.)),\n",
              " ('energia', tensor(2.8767)),\n",
              " ('muitos', tensor(3.3140)),\n",
              " ('símbolos', tensor(3.7385)),\n",
              " ('mentes', tensor(3.7503)),\n",
              " ('grande', tensor(3.7612)),\n",
              " ('alguma', tensor(3.7824)),\n",
              " ('fria', tensor(3.8930)),\n",
              " ('computação', tensor(3.9057)),\n",
              " ('por', tensor(3.9394))]"
            ]
          },
          "metadata": {
            "tags": []
          },
          "execution_count": 36
        }
      ]
    },
    {
      "cell_type": "markdown",
      "metadata": {
        "id": "LPfhKVM3FQop"
      },
      "source": [
        "A distância da palavra \"solar\" para si mesma é 0 e a palavra com maior similaridade é \"energia\" o que faz todo sentido se você leu o texto do Asimov usado para treinar o modelo.\n"
      ]
    },
    {
      "cell_type": "markdown",
      "metadata": {
        "id": "c4JggH1JFTfP"
      },
      "source": [
        "#Analogia\n",
        "\n"
      ]
    },
    {
      "cell_type": "code",
      "metadata": {
        "id": "uRqiKss_E7et"
      },
      "source": [
        "# Função para busca de palavra por analogia\n",
        "def busca_analogia(p1, p2, p3, n = 5, filtro = True):\n",
        "   \n",
        "    # Print\n",
        "    print('\\n[%s : %s :: %s : ?]' % (p1, p2, p3))\n",
        "   \n",
        "    # p2 - p1 + p3 = p4\n",
        "    closest_words = busca_palavra_similaridade(get_palavra(p2, model, palavra_indice) -\n",
        "                                               get_palavra(p1, model, palavra_indice) +\n",
        "                                               get_palavra(p3, model, palavra_indice),\n",
        "                                               palavra_indice)\n",
        "   \n",
        "    # Vamos excluir as 3 palavras passadas como parâmetro\n",
        "    if filtro:\n",
        "        closest_words = [t for t in closest_words if t[0] not in [p1, p2, p3]]\n",
        "       \n",
        "    for tuple in closest_words[:n]:\n",
        "        print('(%.4f) %s' % (tuple[1], tuple[0]))\n"
      ],
      "execution_count": 37,
      "outputs": []
    },
    {
      "cell_type": "code",
      "metadata": {
        "colab": {
          "base_uri": "https://localhost:8080/"
        },
        "id": "7tMvCCO0GI1s",
        "outputId": "74fb94d3-045b-494b-ad26-b44381e30330"
      },
      "source": [
        "# Busca por analogia\n",
        "busca_analogia(\"família\", \"crianças\", \"humano\")\n"
      ],
      "execution_count": 39,
      "outputs": [
        {
          "output_type": "stream",
          "text": [
            "\n",
            "[família : crianças :: humano : ?]\n",
            "(5.0360) aconteça\n",
            "(5.2082) explosão\n",
            "(5.2853) super\n",
            "(5.3284) solitário\n",
            "(5.4924) colidirse\n"
          ],
          "name": "stdout"
        }
      ]
    },
    {
      "cell_type": "markdown",
      "metadata": {
        "id": "r52PbF7iG9nx"
      },
      "source": [
        "#<font color=\"IndianRed1\">Conclusão</font>\n",
        "E aí estão as palavras que melhor se encaixam na quarta palavra, de acordo com nosso modelo.\n",
        "\n",
        "Quanto maior a distância, menor a similaridade! Treine o modelo com seus próprios textos e experimente a busca por similaridade."
      ]
    },
    {
      "cell_type": "code",
      "metadata": {
        "id": "hyibdkWqGVa4"
      },
      "source": [
        ""
      ],
      "execution_count": null,
      "outputs": []
    }
  ]
}