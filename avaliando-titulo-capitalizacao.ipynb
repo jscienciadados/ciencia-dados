{
  "nbformat": 4,
  "nbformat_minor": 0,
  "metadata": {
    "kernelspec": {
      "display_name": "Python 3",
      "language": "python",
      "name": "python3"
    },
    "language_info": {
      "codemirror_mode": {
        "name": "ipython",
        "version": 3
      },
      "file_extension": ".py",
      "mimetype": "text/x-python",
      "name": "python",
      "nbconvert_exporter": "python",
      "pygments_lexer": "ipython3",
      "version": "3.6.4"
    },
    "colab": {
      "name": "ciencia_de_dados.ipynb",
      "provenance": [],
      "include_colab_link": true
    }
  },
  "cells": [
    {
      "cell_type": "markdown",
      "metadata": {
        "id": "view-in-github",
        "colab_type": "text"
      },
      "source": [
        "<a href=\"https://colab.research.google.com/github/jscienciadados/ciencia-dados/blob/main/avaliando-titulo-capitalizacao.ipynb\" target=\"_parent\"><img src=\"https://colab.research.google.com/assets/colab-badge.svg\" alt=\"Open In Colab\"/></a>"
      ]
    },
    {
      "cell_type": "code",
      "metadata": {
        "_cell_guid": "b1076dfc-b9ad-4769-8c92-a6c4dae69d19",
        "_uuid": "8f2839f25d086af736a60e9eeb907d3b93b6e0e5",
        "id": "AfAkNZ4_nYsS"
      },
      "source": [
        "import numpy as np \n",
        "import pandas as pd \n",
        "import seaborn as sns\n",
        "import matplotlib.pyplot as plt"
      ],
      "execution_count": null,
      "outputs": []
    },
    {
      "cell_type": "markdown",
      "metadata": {
        "id": "UNoeirPYNH5S"
      },
      "source": [
        "# Conhecendo o Dataset"
      ]
    },
    {
      "cell_type": "code",
      "metadata": {
        "id": "3Ib5WhCwREci"
      },
      "source": [
        "df = pd.read_csv('train.csv', index_col='id')"
      ],
      "execution_count": null,
      "outputs": []
    },
    {
      "cell_type": "code",
      "metadata": {
        "id": "CXiMNFObREmN"
      },
      "source": [
        "df.head(5)"
      ],
      "execution_count": null,
      "outputs": []
    },
    {
      "cell_type": "code",
      "metadata": {
        "id": "2gOGfDkVVm_0"
      },
      "source": [
        "df.info()"
      ],
      "execution_count": null,
      "outputs": []
    },
    {
      "cell_type": "code",
      "metadata": {
        "id": "D9LPPI0VVnFO"
      },
      "source": [
        "df.describe(include='object')"
      ],
      "execution_count": null,
      "outputs": []
    },
    {
      "cell_type": "code",
      "metadata": {
        "id": "dB9nGZN2Y4h2"
      },
      "source": [
        "plt.figure(figsize=(15,5))\n",
        "sns.countplot(data=df, x='job')\n",
        "plt.ylabel('Contagem')\n",
        "plt.show()"
      ],
      "execution_count": null,
      "outputs": []
    },
    {
      "cell_type": "code",
      "metadata": {
        "id": "jdAmboUwag5q"
      },
      "source": [
        "sns.barplot(data=df, x='marital', y='age', hue='y')\n",
        "plt.show()"
      ],
      "execution_count": null,
      "outputs": []
    },
    {
      "cell_type": "code",
      "metadata": {
        "id": "vrCvI_M-VnJF"
      },
      "source": [
        "sns.figsize=(15, 5) \n",
        "sns.catplot(data=df, x='y', y='campaign', aspect=8/6, height=8);"
      ],
      "execution_count": null,
      "outputs": []
    },
    {
      "cell_type": "code",
      "metadata": {
        "id": "BEA8VC3Vhh7Q"
      },
      "source": [
        "df[df.y == 'yes'].describe()"
      ],
      "execution_count": null,
      "outputs": []
    },
    {
      "cell_type": "code",
      "metadata": {
        "id": "nyHdMQkEREtg"
      },
      "source": [
        "plt.figure(figsize=(15,5))\n",
        "sns.scatterplot(x='age', y='duration', data=df, hue='y')\n",
        "plt.show()"
      ],
      "execution_count": null,
      "outputs": []
    },
    {
      "cell_type": "markdown",
      "metadata": {
        "id": "FPVLTTYQRXBI"
      },
      "source": [
        "# Modelando"
      ]
    },
    {
      "cell_type": "code",
      "metadata": {
        "id": "nb345GIeREx6"
      },
      "source": [
        "from sklearn.preprocessing import MinMaxScaler, StandardScaler\n",
        "from sklearn.model_selection import train_test_split\n",
        "from sklearn.ensemble import RandomForestClassifier\n",
        "from sklearn.naive_bayes import CategoricalNB\n",
        "from sklearn.neighbors import KNeighborsClassifier\n",
        "from sklearn.pipeline import make_pipeline\n",
        "from sklearn.model_selection import GridSearchCV\n",
        "from sklearn.externals import joblib\n",
        "from sklearn import metrics"
      ],
      "execution_count": null,
      "outputs": []
    },
    {
      "cell_type": "code",
      "metadata": {
        "id": "STykNWB7oArY"
      },
      "source": [
        "# codificaçãão One-hot (mas não  vamos usar no modelo)\n",
        "pd.get_dummies(df, columns=['job'])"
      ],
      "execution_count": null,
      "outputs": []
    },
    {
      "cell_type": "code",
      "metadata": {
        "id": "YMLF9atxNGQg"
      },
      "source": [
        "#Transforma as categorias em números\n",
        "for c in df.columns[df.dtypes == object]: # df.dtypes == 'object'\n",
        "    df[c] = df[c].astype('category')"
      ],
      "execution_count": null,
      "outputs": []
    },
    {
      "cell_type": "code",
      "metadata": {
        "id": "nJFwrbjIrkaL"
      },
      "source": [
        "df.education.cat.reorder_categories(['illiterate', 'basic.4y', 'basic.6y', 'basic.9y', 'high.school', \n",
        "       'professional.course', 'university.degree'], ordered=True, inplace=True)"
      ],
      "execution_count": null,
      "outputs": []
    },
    {
      "cell_type": "code",
      "metadata": {
        "id": "AlLnX1x0qVpa"
      },
      "source": [
        ""
      ],
      "execution_count": null,
      "outputs": []
    },
    {
      "cell_type": "code",
      "metadata": {
        "id": "NAd2OBvUtIHY"
      },
      "source": [
        "#Transforma as categorias em números\n",
        "for c in df.columns[df.dtypes == 'category']: # df.dtypes == 'object'\n",
        "    df[c] = df[c].cat.codes"
      ],
      "execution_count": null,
      "outputs": []
    },
    {
      "cell_type": "code",
      "metadata": {
        "id": "a2NwUdqutqI0"
      },
      "source": [
        "df.head()"
      ],
      "execution_count": null,
      "outputs": []
    },
    {
      "cell_type": "code",
      "metadata": {
        "id": "ufnZAln3py_y"
      },
      "source": [
        "y = df.y\n",
        "X = df.drop('y', axis=1)"
      ],
      "execution_count": null,
      "outputs": []
    },
    {
      "cell_type": "code",
      "metadata": {
        "id": "LcpPw3eYw28_"
      },
      "source": [
        "X_train, X_test, y_train, y_test = train_test_split(X, y, test_size=0.15, random_state=42, shuffle=True, stratify=y)"
      ],
      "execution_count": null,
      "outputs": []
    },
    {
      "cell_type": "code",
      "metadata": {
        "id": "PbODjDrHxZrG"
      },
      "source": [
        "X_train.shape, X_test.shape, y_train.shape, y_test.shape "
      ],
      "execution_count": null,
      "outputs": []
    },
    {
      "cell_type": "code",
      "metadata": {
        "id": "_hgN414Rzj7X"
      },
      "source": [
        "# vericando a divisão\n",
        "sum(y_train)/len(y_train), sum(y_test)/len(y_test)"
      ],
      "execution_count": null,
      "outputs": []
    },
    {
      "cell_type": "code",
      "metadata": {
        "id": "6n6XvE1pLUvu"
      },
      "source": [
        "# Normalizar os dados\n",
        "scaler = MinMaxScaler()\n",
        "X_norm = scaler.fit_transform(X)"
      ],
      "execution_count": null,
      "outputs": []
    },
    {
      "cell_type": "code",
      "metadata": {
        "id": "jTHRkA1_MY5N"
      },
      "source": [
        "df_norm = pd.DataFrame(X_norm, columns=df.columns.drop('y'))"
      ],
      "execution_count": null,
      "outputs": []
    },
    {
      "cell_type": "code",
      "metadata": {
        "id": "qGOZ1fO5MeVI"
      },
      "source": [
        "df_norm.head()"
      ],
      "execution_count": null,
      "outputs": []
    },
    {
      "cell_type": "code",
      "metadata": {
        "id": "KdDukhjrNOdN"
      },
      "source": [
        "knn_class = KNeighborsClassifier()\n",
        "knn_class.fit(X_train, y_train)"
      ],
      "execution_count": null,
      "outputs": []
    },
    {
      "cell_type": "code",
      "metadata": {
        "id": "dbw6vcuwTo09"
      },
      "source": [
        "y_pred = knn_class.predict(X_test)"
      ],
      "execution_count": null,
      "outputs": []
    },
    {
      "cell_type": "code",
      "metadata": {
        "id": "CLLqzLLw3q4c"
      },
      "source": [
        "print(metrics.classification_report(y_test, y_pred))"
      ],
      "execution_count": null,
      "outputs": []
    },
    {
      "cell_type": "markdown",
      "metadata": {
        "id": "y-uyfi_I4ymP"
      },
      "source": [
        "# Submetendo pro Kaggle"
      ]
    },
    {
      "cell_type": "code",
      "metadata": {
        "id": "aIyAR1Ma42yQ"
      },
      "source": [
        "aval = pd.read_csv('test.csv', index_col='id')\n",
        "sub =  pd.read_csv('sample.csv', index_col='id')"
      ],
      "execution_count": null,
      "outputs": []
    },
    {
      "cell_type": "code",
      "metadata": {
        "id": "QY65wP-r48Yj"
      },
      "source": [
        "for c in aval.columns[aval.dtypes == object]: # df.dtypes == 'object'\n",
        "    aval[c] = aval[c].astype('category')"
      ],
      "execution_count": null,
      "outputs": []
    },
    {
      "cell_type": "code",
      "metadata": {
        "id": "KPnMyvLo48if"
      },
      "source": [
        "aval.education.cat.reorder_categories(['illiterate', 'basic.4y', 'basic.6y', 'basic.9y', 'high.school', \n",
        "       'professional.course', 'university.degree'], ordered=True, inplace=True)"
      ],
      "execution_count": null,
      "outputs": []
    },
    {
      "cell_type": "code",
      "metadata": {
        "id": "bCQx0gIG48na"
      },
      "source": [
        "#Transforma as categorias em números\n",
        "for c in aval.columns[aval.dtypes == 'category']: # df.dtypes == 'object'\n",
        "    aval[c] = aval[c].cat.codes"
      ],
      "execution_count": null,
      "outputs": []
    },
    {
      "cell_type": "code",
      "metadata": {
        "id": "E8x_MXc16Mri"
      },
      "source": [
        "aval.head()"
      ],
      "execution_count": null,
      "outputs": []
    },
    {
      "cell_type": "code",
      "metadata": {
        "id": "x3fZSxTm48s8"
      },
      "source": [
        "X_aval = scaler.fit_transform(aval.values)"
      ],
      "execution_count": null,
      "outputs": []
    },
    {
      "cell_type": "code",
      "metadata": {
        "id": "COmojJfM6o-u"
      },
      "source": [
        "aval_norm = pd.DataFrame(X_aval, columns=aval.columns)"
      ],
      "execution_count": null,
      "outputs": []
    },
    {
      "cell_type": "code",
      "metadata": {
        "id": "AIRbtQhv62Qd"
      },
      "source": [
        "aval_norm.head()"
      ],
      "execution_count": null,
      "outputs": []
    },
    {
      "cell_type": "code",
      "metadata": {
        "id": "JAWsbHWW53Zg"
      },
      "source": [
        "y_aval = knn_class.predict(X_aval)"
      ],
      "execution_count": null,
      "outputs": []
    },
    {
      "cell_type": "code",
      "metadata": {
        "id": "LR3Z9ZqA53nt"
      },
      "source": [
        "sub.y = pd.Series(y_aval)"
      ],
      "execution_count": null,
      "outputs": []
    },
    {
      "cell_type": "code",
      "metadata": {
        "id": "0qzQqqHo7hCq"
      },
      "source": [
        "sub.head()"
      ],
      "execution_count": null,
      "outputs": []
    },
    {
      "cell_type": "code",
      "metadata": {
        "id": "zzS_LSPg7q4-"
      },
      "source": [
        "sub.to_csv('submission.csv')"
      ],
      "execution_count": null,
      "outputs": []
    },
    {
      "cell_type": "markdown",
      "metadata": {
        "id": "oEk9qUG_43KV"
      },
      "source": [
        "# Random Forest"
      ]
    },
    {
      "cell_type": "code",
      "metadata": {
        "id": "NCkTern-T6IH"
      },
      "source": [
        "#Visualização do conjunto de treino\n",
        "X.head()"
      ],
      "execution_count": null,
      "outputs": []
    },
    {
      "cell_type": "code",
      "metadata": {
        "id": "T_CTlDsVT9rA"
      },
      "source": [
        "#pipeline para realizar os k-folds no conjunto de treino\n",
        "pipeline = make_pipeline(StandardScaler(), \n",
        "                         RandomForestClassifier(n_estimators=200))\n",
        "#grid de Hiperparâmetros para serem testados\n",
        "hyperparameters = { 'randomforestclassifier__max_features' : ['auto', None, 'log2'],\n",
        "                  'randomforestclassifier__max_depth': [None, 3, 1]}\n",
        "# Grid para k-fold de 10 dobras\n",
        "clf = GridSearchCV(pipeline, hyperparameters, cv=10)"
      ],
      "execution_count": null,
      "outputs": []
    },
    {
      "cell_type": "code",
      "metadata": {
        "id": "kTFyfJnXT-aw"
      },
      "source": [
        "%%time\n",
        "#Ajusta o modelo aos dados de treino\n",
        "model=clf.fit(X,y)"
      ],
      "execution_count": null,
      "outputs": []
    },
    {
      "cell_type": "code",
      "metadata": {
        "id": "jit7o7n1UMh4"
      },
      "source": [
        "p = model.predict(test)"
      ],
      "execution_count": null,
      "outputs": []
    },
    {
      "cell_type": "code",
      "metadata": {
        "id": "WssM8vjzUaCe"
      },
      "source": [
        "#vizualização dos dados a serem submetidos\n",
        "#sample.y= p\n",
        "#sample.to_csv(\"~/submission.csv\",index=False)\n",
        "#sample.head()"
      ],
      "execution_count": null,
      "outputs": []
    },
    {
      "cell_type": "markdown",
      "metadata": {
        "id": "NKaLT2F9E3R8"
      },
      "source": [
        "# Métricas de avaliação"
      ]
    },
    {
      "cell_type": "code",
      "metadata": {
        "id": "73yb4cV6E2qM"
      },
      "source": [
        "solution = pd.read_csv('solution.csv').y\n",
        "naive = pd.read_csv('allzeros.csv').y\n",
        "rf = pd.read_csv('random_forest.csv').y"
      ],
      "execution_count": null,
      "outputs": []
    },
    {
      "cell_type": "code",
      "metadata": {
        "id": "4iQc6v90Gg4I"
      },
      "source": [
        "# F1 de cada categoria\n",
        "metrics.f1_score(solution, naive, pos_label=0), metrics.f1_score(solution, naive, pos_label=1)"
      ],
      "execution_count": null,
      "outputs": []
    },
    {
      "cell_type": "code",
      "metadata": {
        "id": "h5YMsC73JBEF"
      },
      "source": [
        "metrics.f1_score(solution, naive, average=None)"
      ],
      "execution_count": null,
      "outputs": []
    },
    {
      "cell_type": "code",
      "metadata": {
        "id": "zbH5SgOHFPQo"
      },
      "source": [
        "metrics.f1_score(solution, naive, average='micro'), metrics.f1_score(solution, naive, average='macro')"
      ],
      "execution_count": null,
      "outputs": []
    },
    {
      "cell_type": "code",
      "metadata": {
        "id": "5k7jPwsDFPTP"
      },
      "source": [
        "metrics.accuracy_score(solution,naive)"
      ],
      "execution_count": null,
      "outputs": []
    },
    {
      "cell_type": "code",
      "metadata": {
        "id": "VU_NQajLFPV9"
      },
      "source": [
        "metrics.precision_score(solution, naive, average=None), metrics.recall_score(solution, naive, average=None)"
      ],
      "execution_count": null,
      "outputs": []
    },
    {
      "cell_type": "code",
      "metadata": {
        "id": "BMQgWdqeFPYX"
      },
      "source": [
        "metrics.precision_recall_fscore_support(solution, naive)"
      ],
      "execution_count": null,
      "outputs": []
    },
    {
      "cell_type": "code",
      "metadata": {
        "id": "AX3YpkaDFPdp"
      },
      "source": [
        "print(metrics.classification_report(solution, rf))"
      ],
      "execution_count": null,
      "outputs": []
    }
  ]
}